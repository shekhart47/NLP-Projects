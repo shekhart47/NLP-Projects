{
 "cells": [
  {
   "cell_type": "code",
   "execution_count": 1,
   "metadata": {},
   "outputs": [
    {
     "name": "stderr",
     "output_type": "stream",
     "text": [
      "Using TensorFlow backend.\n"
     ]
    },
    {
     "name": "stdout",
     "output_type": "stream",
     "text": [
      "WARNING:tensorflow:From /home/ubuntu/anaconda3/envs/tensorflow_p36/lib/python3.6/site-packages/tensorflow_core/__init__.py:1467: The name tf.estimator.inputs is deprecated. Please use tf.compat.v1.estimator.inputs instead.\n",
      "\n"
     ]
    }
   ],
   "source": [
    "import pandas as pd\n",
    "import numpy as np\n",
    "import re\n",
    "import string\n",
    "from pickle import dump\n",
    "from keras.utils import to_categorical\n",
    "from keras.utils.vis_utils import plot_model\n",
    "from keras.models import Sequential\n",
    "from keras.layers import Dense\n",
    "from keras.layers import LSTM\n",
    "from keras.models import load_model\n",
    "from keras.utils import to_categorical\n",
    "from keras.preprocessing.sequence import pad_sequences"
   ]
  },
  {
   "cell_type": "code",
   "execution_count": 2,
   "metadata": {},
   "outputs": [],
   "source": [
    "def load_doc(filename):\n",
    "    file = open(filename, 'r')\n",
    "    data = file.read()\n",
    "    file.close()\n",
    "    return data"
   ]
  },
  {
   "cell_type": "code",
   "execution_count": 3,
   "metadata": {},
   "outputs": [],
   "source": [
    "def clean_doc(doc):\n",
    "    tokens = doc.split()\n",
    "    \n",
    "#     re_punct = re.compile('[%s]'%re.escape(string.punctuation))\n",
    "    \n",
    "#     cleaned_text = [re_punct.sub('',w) for w in tokens]\n",
    "    \n",
    "#     cleaned_text = [word.lower() for word in cleaned_text]\n",
    "    \n",
    "    return ' '.join(tokens)"
   ]
  },
  {
   "cell_type": "code",
   "execution_count": 4,
   "metadata": {},
   "outputs": [],
   "source": [
    "data = load_doc('rhyme.txt')"
   ]
  },
  {
   "cell_type": "code",
   "execution_count": 5,
   "metadata": {},
   "outputs": [
    {
     "data": {
      "text/plain": [
       "\"Sing a song of sixpence,\\nA pocket full of rye.\\nFour and twenty blackbirds, Baked in a pie. \\nWhen the pie was opened The birds began to sing; Wasn't that a dainty dish, To set before the king. \\nThe king was in his counting house, Counting out his money;\\nThe queen was in the parlour, Eating bread and honey. \\nThe maid was in the garden, Hanging out the clothes, When down came a blackbird And pecked off her nose. \\n\\n\""
      ]
     },
     "execution_count": 5,
     "metadata": {},
     "output_type": "execute_result"
    }
   ],
   "source": [
    "data"
   ]
  },
  {
   "cell_type": "code",
   "execution_count": 6,
   "metadata": {},
   "outputs": [],
   "source": [
    "raw_text = clean_doc(data)"
   ]
  },
  {
   "cell_type": "code",
   "execution_count": 7,
   "metadata": {},
   "outputs": [],
   "source": [
    "def prepare_sequences(length, raw_text):\n",
    "    sequences = []\n",
    "    for i in range(length, len(raw_text)):\n",
    "        sequence = raw_text[i-length : i+1]\n",
    "        sequences.append(sequence)\n",
    "    return sequences"
   ]
  },
  {
   "cell_type": "code",
   "execution_count": 8,
   "metadata": {},
   "outputs": [],
   "source": [
    "length = 10\n",
    "sequences = prepare_sequences(length, raw_text)"
   ]
  },
  {
   "cell_type": "code",
   "execution_count": 9,
   "metadata": {},
   "outputs": [
    {
     "name": "stdout",
     "output_type": "stream",
     "text": [
      "Length Of Sequences :  399\n"
     ]
    }
   ],
   "source": [
    "print(\"Length Of Sequences : \", len(sequences))"
   ]
  },
  {
   "cell_type": "code",
   "execution_count": 10,
   "metadata": {},
   "outputs": [],
   "source": [
    "def save_list(filename, sequences):\n",
    "    data = '\\n'.join(sequences)\n",
    "    file = open(filename,'w')\n",
    "    file.write(data)\n",
    "    file.close()"
   ]
  },
  {
   "cell_type": "code",
   "execution_count": 11,
   "metadata": {},
   "outputs": [],
   "source": [
    "save_list('char_sequences.txt', sequences)"
   ]
  },
  {
   "cell_type": "markdown",
   "metadata": {},
   "source": [
    "# Train Language Model"
   ]
  },
  {
   "cell_type": "markdown",
   "metadata": {},
   "source": [
    "### Load Data"
   ]
  },
  {
   "cell_type": "code",
   "execution_count": 12,
   "metadata": {},
   "outputs": [],
   "source": [
    "raw_data = load_doc('char_sequences.txt')\n",
    "lines = raw_data.split('\\n')"
   ]
  },
  {
   "cell_type": "markdown",
   "metadata": {},
   "source": [
    "### Encoding"
   ]
  },
  {
   "cell_type": "code",
   "execution_count": 13,
   "metadata": {},
   "outputs": [],
   "source": [
    "chars = sorted(list(set(raw_data)))"
   ]
  },
  {
   "cell_type": "code",
   "execution_count": 14,
   "metadata": {},
   "outputs": [],
   "source": [
    "mapping = dict()\n",
    "for i,c in enumerate(chars):\n",
    "    mapping[c] = i"
   ]
  },
  {
   "cell_type": "code",
   "execution_count": 15,
   "metadata": {},
   "outputs": [],
   "source": [
    "sequences = []\n",
    "for line in lines:\n",
    "    encoded_sequence = [mapping[char] for char in line]\n",
    "    sequences.append(encoded_sequence)"
   ]
  },
  {
   "cell_type": "code",
   "execution_count": 16,
   "metadata": {},
   "outputs": [
    {
     "data": {
      "text/plain": [
       "38"
      ]
     },
     "execution_count": 16,
     "metadata": {},
     "output_type": "execute_result"
    }
   ],
   "source": [
    "vocabulary_size = len(mapping)\n",
    "vocabulary_size"
   ]
  },
  {
   "cell_type": "code",
   "execution_count": 17,
   "metadata": {},
   "outputs": [],
   "source": [
    "sequences = np.array(sequences)\n",
    "X,y = sequences[:,:-1], sequences[:,-1]"
   ]
  },
  {
   "cell_type": "code",
   "execution_count": 18,
   "metadata": {},
   "outputs": [
    {
     "name": "stdout",
     "output_type": "stream",
     "text": [
      "(399, 10)\n"
     ]
    }
   ],
   "source": [
    "print(X.shape)"
   ]
  },
  {
   "cell_type": "code",
   "execution_count": 19,
   "metadata": {},
   "outputs": [
    {
     "name": "stdout",
     "output_type": "stream",
     "text": [
      "(399, 10)\n"
     ]
    }
   ],
   "source": [
    "print(X.shape)"
   ]
  },
  {
   "cell_type": "code",
   "execution_count": 20,
   "metadata": {},
   "outputs": [
    {
     "data": {
      "text/plain": [
       "array([12, 23, 27, 21,  1, 15,  1, 32, 28, 27])"
      ]
     },
     "execution_count": 20,
     "metadata": {},
     "output_type": "execute_result"
    }
   ],
   "source": [
    "X[0]"
   ]
  },
  {
   "cell_type": "code",
   "execution_count": 21,
   "metadata": {},
   "outputs": [],
   "source": [
    "sequences = [to_categorical(item, num_classes = vocabulary_size) for item in X]\n",
    "X = np.array(sequences)"
   ]
  },
  {
   "cell_type": "code",
   "execution_count": 22,
   "metadata": {},
   "outputs": [
    {
     "data": {
      "text/plain": [
       "(399, 10, 38)"
      ]
     },
     "execution_count": 22,
     "metadata": {},
     "output_type": "execute_result"
    }
   ],
   "source": [
    "X.shape"
   ]
  },
  {
   "cell_type": "code",
   "execution_count": 23,
   "metadata": {},
   "outputs": [],
   "source": [
    "y = np.array(to_categorical(y, num_classes= vocabulary_size))"
   ]
  },
  {
   "cell_type": "code",
   "execution_count": 24,
   "metadata": {},
   "outputs": [
    {
     "data": {
      "text/plain": [
       "array([[0., 0., 0., ..., 0., 0., 0.],\n",
       "       [0., 1., 0., ..., 0., 0., 0.],\n",
       "       [0., 0., 0., ..., 0., 0., 0.],\n",
       "       ...,\n",
       "       [0., 0., 0., ..., 0., 0., 0.],\n",
       "       [0., 0., 0., ..., 0., 0., 0.],\n",
       "       [0., 0., 0., ..., 0., 0., 0.]], dtype=float32)"
      ]
     },
     "execution_count": 24,
     "metadata": {},
     "output_type": "execute_result"
    }
   ],
   "source": [
    "y"
   ]
  },
  {
   "cell_type": "code",
   "execution_count": 25,
   "metadata": {},
   "outputs": [
    {
     "data": {
      "text/plain": [
       "38"
      ]
     },
     "execution_count": 25,
     "metadata": {},
     "output_type": "execute_result"
    }
   ],
   "source": [
    "X.shape[2]"
   ]
  },
  {
   "cell_type": "code",
   "execution_count": 26,
   "metadata": {},
   "outputs": [],
   "source": [
    "def make_model(X, vocabulary_size):\n",
    "    model = Sequential()\n",
    "    model.add(LSTM(75, input_shape = (X.shape[1], X.shape[2]), activation = 'relu'))\n",
    "    model.add(Dense(vocabulary_size,activation = 'softmax' ))\n",
    "    model.compile(loss = 'categorical_crossentropy', metrics = ['accuracy'], optimizer = 'adam')\n",
    "    return model"
   ]
  },
  {
   "cell_type": "code",
   "execution_count": 35,
   "metadata": {},
   "outputs": [],
   "source": [
    "model = make_model(X, vocabulary_size)"
   ]
  },
  {
   "cell_type": "code",
   "execution_count": 36,
   "metadata": {
    "scrolled": false
   },
   "outputs": [
    {
     "name": "stdout",
     "output_type": "stream",
     "text": [
      "_________________________________________________________________\n",
      "Layer (type)                 Output Shape              Param #   \n",
      "=================================================================\n",
      "lstm_2 (LSTM)                (None, 75)                34200     \n",
      "_________________________________________________________________\n",
      "dense_2 (Dense)              (None, 38)                2888      \n",
      "=================================================================\n",
      "Total params: 37,088\n",
      "Trainable params: 37,088\n",
      "Non-trainable params: 0\n",
      "_________________________________________________________________\n"
     ]
    }
   ],
   "source": [
    "model.summary()"
   ]
  },
  {
   "cell_type": "markdown",
   "metadata": {},
   "source": [
    "### model was run AWS EC2"
   ]
  },
  {
   "cell_type": "code",
   "execution_count": 37,
   "metadata": {
    "scrolled": true
   },
   "outputs": [
    {
     "name": "stdout",
     "output_type": "stream",
     "text": [
      "Epoch 1/100\n",
      " - 2s - loss: 3.6057 - acc: 0.1529\n",
      "Epoch 2/100\n",
      " - 0s - loss: 3.5165 - acc: 0.1830\n",
      "Epoch 3/100\n",
      " - 0s - loss: 3.2307 - acc: 0.1905\n",
      "Epoch 4/100\n",
      " - 0s - loss: 3.0644 - acc: 0.1905\n",
      "Epoch 5/100\n",
      " - 0s - loss: 3.0255 - acc: 0.1905\n",
      "Epoch 6/100\n",
      " - 0s - loss: 3.0121 - acc: 0.1905\n",
      "Epoch 7/100\n",
      " - 0s - loss: 2.9991 - acc: 0.1905\n",
      "Epoch 8/100\n",
      " - 0s - loss: 2.9625 - acc: 0.1905\n",
      "Epoch 9/100\n",
      " - 0s - loss: 2.9462 - acc: 0.1905\n",
      "Epoch 10/100\n",
      " - 0s - loss: 2.9278 - acc: 0.1905\n",
      "Epoch 11/100\n",
      " - 0s - loss: 2.9079 - acc: 0.1905\n",
      "Epoch 12/100\n",
      " - 0s - loss: 2.8910 - acc: 0.1905\n",
      "Epoch 13/100\n",
      " - 0s - loss: 2.8754 - acc: 0.1905\n",
      "Epoch 14/100\n",
      " - 0s - loss: 2.8539 - acc: 0.1905\n",
      "Epoch 15/100\n",
      " - 0s - loss: 2.8257 - acc: 0.2080\n",
      "Epoch 16/100\n",
      " - 0s - loss: 2.7877 - acc: 0.2306\n",
      "Epoch 17/100\n",
      " - 0s - loss: 2.7725 - acc: 0.1980\n",
      "Epoch 18/100\n",
      " - 0s - loss: 2.7431 - acc: 0.2807\n",
      "Epoch 19/100\n",
      " - 0s - loss: 2.7884 - acc: 0.2581\n",
      "Epoch 20/100\n",
      " - 0s - loss: 2.7012 - acc: 0.2481\n",
      "Epoch 21/100\n",
      " - 0s - loss: 2.6138 - acc: 0.2782\n",
      "Epoch 22/100\n",
      " - 0s - loss: 2.5970 - acc: 0.3008\n",
      "Epoch 23/100\n",
      " - 0s - loss: 2.5316 - acc: 0.3133\n",
      "Epoch 24/100\n",
      " - 0s - loss: 2.4781 - acc: 0.3383\n",
      "Epoch 25/100\n",
      " - 0s - loss: 2.4411 - acc: 0.3383\n",
      "Epoch 26/100\n",
      " - 0s - loss: 2.4091 - acc: 0.3183\n",
      "Epoch 27/100\n",
      " - 0s - loss: 2.3555 - acc: 0.3459\n",
      "Epoch 28/100\n",
      " - 0s - loss: 2.2645 - acc: 0.3559\n",
      "Epoch 29/100\n",
      " - 0s - loss: 2.1812 - acc: 0.3734\n",
      "Epoch 30/100\n",
      " - 0s - loss: 2.1076 - acc: 0.4010\n",
      "Epoch 31/100\n",
      " - 0s - loss: 2.1123 - acc: 0.4060\n",
      "Epoch 32/100\n",
      " - 0s - loss: 2.0166 - acc: 0.3885\n",
      "Epoch 33/100\n",
      " - 0s - loss: 2.0094 - acc: 0.4361\n",
      "Epoch 34/100\n",
      " - 0s - loss: 1.9630 - acc: 0.4311\n",
      "Epoch 35/100\n",
      " - 0s - loss: 1.9828 - acc: 0.4336\n",
      "Epoch 36/100\n",
      " - 0s - loss: 1.8966 - acc: 0.4461\n",
      "Epoch 37/100\n",
      " - 0s - loss: 1.8469 - acc: 0.4687\n",
      "Epoch 38/100\n",
      " - 0s - loss: 1.7937 - acc: 0.4637\n",
      "Epoch 39/100\n",
      " - 0s - loss: 1.6778 - acc: 0.4887\n",
      "Epoch 40/100\n",
      " - 0s - loss: 1.6712 - acc: 0.5188\n",
      "Epoch 41/100\n",
      " - 0s - loss: 1.6762 - acc: 0.5063\n",
      "Epoch 42/100\n",
      " - 0s - loss: 1.6499 - acc: 0.5138\n",
      "Epoch 43/100\n",
      " - 0s - loss: 1.5588 - acc: 0.5414\n",
      "Epoch 44/100\n",
      " - 0s - loss: 1.5667 - acc: 0.5414\n",
      "Epoch 45/100\n",
      " - 0s - loss: 1.5433 - acc: 0.5163\n",
      "Epoch 46/100\n",
      " - 0s - loss: 1.4157 - acc: 0.5915\n",
      "Epoch 47/100\n",
      " - 0s - loss: 1.3932 - acc: 0.5514\n",
      "Epoch 48/100\n",
      " - 0s - loss: 1.3709 - acc: 0.5664\n",
      "Epoch 49/100\n",
      " - 0s - loss: 1.2750 - acc: 0.6065\n",
      "Epoch 50/100\n",
      " - 0s - loss: 1.2844 - acc: 0.5840\n",
      "Epoch 51/100\n",
      " - 0s - loss: 1.2195 - acc: 0.6040\n",
      "Epoch 52/100\n",
      " - 0s - loss: 1.2240 - acc: 0.6291\n",
      "Epoch 53/100\n",
      " - 0s - loss: 1.1859 - acc: 0.6266\n",
      "Epoch 54/100\n",
      " - 0s - loss: 1.2793 - acc: 0.6065\n",
      "Epoch 55/100\n",
      " - 0s - loss: 1.2028 - acc: 0.6015\n",
      "Epoch 56/100\n",
      " - 0s - loss: 1.0860 - acc: 0.6491\n",
      "Epoch 57/100\n",
      " - 0s - loss: 1.0403 - acc: 0.6767\n",
      "Epoch 58/100\n",
      " - 0s - loss: 1.0741 - acc: 0.6466\n",
      "Epoch 59/100\n",
      " - 0s - loss: 0.9725 - acc: 0.6742\n",
      "Epoch 60/100\n",
      " - 0s - loss: 0.9130 - acc: 0.7168\n",
      "Epoch 61/100\n",
      " - 0s - loss: 0.8737 - acc: 0.7243\n",
      "Epoch 62/100\n",
      " - 0s - loss: 0.8673 - acc: 0.7268\n",
      "Epoch 63/100\n",
      " - 0s - loss: 0.8773 - acc: 0.7068\n",
      "Epoch 64/100\n",
      " - 0s - loss: 0.7873 - acc: 0.7619\n",
      "Epoch 65/100\n",
      " - 0s - loss: 0.7384 - acc: 0.7794\n",
      "Epoch 66/100\n",
      " - 0s - loss: 0.7075 - acc: 0.7594\n",
      "Epoch 67/100\n",
      " - 0s - loss: 0.6966 - acc: 0.7794\n",
      "Epoch 68/100\n",
      " - 0s - loss: 0.7273 - acc: 0.7594\n",
      "Epoch 69/100\n",
      " - 0s - loss: 0.6544 - acc: 0.8145\n",
      "Epoch 70/100\n",
      " - 0s - loss: 0.6366 - acc: 0.7920\n",
      "Epoch 71/100\n",
      " - 0s - loss: 0.6849 - acc: 0.8045\n",
      "Epoch 72/100\n",
      " - 0s - loss: 0.6003 - acc: 0.8145\n",
      "Epoch 73/100\n",
      " - 0s - loss: 0.5691 - acc: 0.8371\n",
      "Epoch 74/100\n",
      " - 0s - loss: 0.5822 - acc: 0.8271\n",
      "Epoch 75/100\n",
      " - 0s - loss: 0.5506 - acc: 0.8195\n",
      "Epoch 76/100\n",
      " - 0s - loss: 0.5066 - acc: 0.8346\n",
      "Epoch 77/100\n",
      " - 0s - loss: 0.6254 - acc: 0.8095\n",
      "Epoch 78/100\n",
      " - 0s - loss: 0.6047 - acc: 0.8221\n",
      "Epoch 79/100\n",
      " - 0s - loss: 0.4497 - acc: 0.8697\n",
      "Epoch 80/100\n",
      " - 0s - loss: 0.3843 - acc: 0.8872\n",
      "Epoch 81/100\n",
      " - 0s - loss: 0.3450 - acc: 0.8972\n",
      "Epoch 82/100\n",
      " - 0s - loss: 0.3462 - acc: 0.9123\n",
      "Epoch 83/100\n",
      " - 0s - loss: 0.2963 - acc: 0.9198\n",
      "Epoch 84/100\n",
      " - 0s - loss: 0.3365 - acc: 0.8897\n",
      "Epoch 85/100\n",
      " - 0s - loss: 0.4396 - acc: 0.8697\n",
      "Epoch 86/100\n",
      " - 0s - loss: 0.3194 - acc: 0.9273\n",
      "Epoch 87/100\n",
      " - 0s - loss: 0.2721 - acc: 0.9323\n",
      "Epoch 88/100\n",
      " - 0s - loss: 0.2779 - acc: 0.9348\n",
      "Epoch 89/100\n",
      " - 0s - loss: 0.2575 - acc: 0.9123\n",
      "Epoch 90/100\n",
      " - 0s - loss: 0.2254 - acc: 0.9348\n",
      "Epoch 91/100\n",
      " - 0s - loss: 0.2000 - acc: 0.9549\n",
      "Epoch 92/100\n",
      " - 0s - loss: 0.2102 - acc: 0.9574\n",
      "Epoch 93/100\n",
      " - 0s - loss: 0.2215 - acc: 0.9398\n",
      "Epoch 94/100\n",
      " - 0s - loss: 0.1779 - acc: 0.9549\n",
      "Epoch 95/100\n",
      " - 0s - loss: 0.1325 - acc: 0.9825\n",
      "Epoch 96/100\n",
      " - 0s - loss: 0.2669 - acc: 0.9298\n",
      "Epoch 97/100\n",
      " - 0s - loss: 0.2938 - acc: 0.9123\n",
      "Epoch 98/100\n",
      " - 0s - loss: 0.2553 - acc: 0.9173\n",
      "Epoch 99/100\n",
      " - 0s - loss: 0.1822 - acc: 0.9524\n",
      "Epoch 100/100\n",
      " - 0s - loss: 0.1604 - acc: 0.9599\n"
     ]
    },
    {
     "data": {
      "text/plain": [
       "<keras.callbacks.History at 0x7f34d403b358>"
      ]
     },
     "execution_count": 37,
     "metadata": {},
     "output_type": "execute_result"
    }
   ],
   "source": [
    "model.fit(X,y, epochs = 100, verbose = 2)"
   ]
  },
  {
   "cell_type": "code",
   "execution_count": 38,
   "metadata": {},
   "outputs": [],
   "source": [
    "def make_text(sequence_length, seed_text, char_length, mapping, model):\n",
    "    out_char = ''\n",
    "    in_text = seed_text\n",
    "    for _ in range(char_length):\n",
    "        \n",
    "        encoded = [mapping[char] for char in in_text]\n",
    "        \n",
    "        \n",
    "        encoded = pad_sequences([encoded], maxlen = sequence_length, padding= 'pre')\n",
    "        \n",
    "        \n",
    "        encoded = np.array(to_categorical(encoded, num_classes= len(mapping)))\n",
    "        \n",
    "        y_hat = model.predict_classes(encoded, verbose = 0)\n",
    "        \n",
    "        for char,index in mapping.items():\n",
    "            if index == y_hat:\n",
    "                out_char = char\n",
    "                break\n",
    "        in_text += out_char\n",
    "    return in_text"
   ]
  },
  {
   "cell_type": "code",
   "execution_count": 39,
   "metadata": {},
   "outputs": [
    {
     "name": "stdout",
     "output_type": "stream",
     "text": [
      "sing a song of sixpence, A poc\n"
     ]
    }
   ],
   "source": [
    "print(make_text(10, 'sing a son', 20, mapping, model))"
   ]
  },
  {
   "cell_type": "code",
   "execution_count": 40,
   "metadata": {},
   "outputs": [
    {
     "name": "stdout",
     "output_type": "stream",
     "text": [
      "king was in his counting house\n"
     ]
    }
   ],
   "source": [
    "print(make_text(10, 'king was i', 20, mapping, model))"
   ]
  }
 ],
 "metadata": {
  "kernelspec": {
   "display_name": "Python 3",
   "language": "python",
   "name": "python3"
  },
  "language_info": {
   "codemirror_mode": {
    "name": "ipython",
    "version": 3
   },
   "file_extension": ".py",
   "mimetype": "text/x-python",
   "name": "python",
   "nbconvert_exporter": "python",
   "pygments_lexer": "ipython3",
   "version": "3.7.6"
  }
 },
 "nbformat": 4,
 "nbformat_minor": 4
}
