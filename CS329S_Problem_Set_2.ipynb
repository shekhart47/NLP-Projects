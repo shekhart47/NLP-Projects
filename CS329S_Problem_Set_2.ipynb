{
  "nbformat": 4,
  "nbformat_minor": 0,
  "metadata": {
    "colab": {
      "name": "CS329S_Problem_Set_2.ipynb",
      "provenance": [],
      "collapsed_sections": [],
      "toc_visible": true,
      "machine_shape": "hm",
      "include_colab_link": true
    },
    "kernelspec": {
      "name": "python3",
      "display_name": "Python 3"
    },
    "accelerator": "GPU",
    "widgets": {
      "application/vnd.jupyter.widget-state+json": {
        "b437785bcdd44e69896137bb80fb71bb": {
          "model_module": "@jupyter-widgets/controls",
          "model_name": "HBoxModel",
          "model_module_version": "1.5.0",
          "state": {
            "_view_name": "HBoxView",
            "_dom_classes": [],
            "_model_name": "HBoxModel",
            "_view_module": "@jupyter-widgets/controls",
            "_model_module_version": "1.5.0",
            "_view_count": null,
            "_view_module_version": "1.5.0",
            "box_style": "",
            "layout": "IPY_MODEL_55b8e45ff96c4388a994b07f740e003c",
            "_model_module": "@jupyter-widgets/controls",
            "children": [
              "IPY_MODEL_69f7c39f62a54ec381c6b31f6fee19df",
              "IPY_MODEL_0ccca00c4d2a42e98f4fdf9415b7c73c",
              "IPY_MODEL_d7a6a54fe5524caaa2a1ac5668ebdb25"
            ]
          }
        },
        "55b8e45ff96c4388a994b07f740e003c": {
          "model_module": "@jupyter-widgets/base",
          "model_name": "LayoutModel",
          "model_module_version": "1.2.0",
          "state": {
            "_view_name": "LayoutView",
            "grid_template_rows": null,
            "right": null,
            "justify_content": null,
            "_view_module": "@jupyter-widgets/base",
            "overflow": null,
            "_model_module_version": "1.2.0",
            "_view_count": null,
            "flex_flow": null,
            "width": null,
            "min_width": null,
            "border": null,
            "align_items": null,
            "bottom": null,
            "_model_module": "@jupyter-widgets/base",
            "top": null,
            "grid_column": null,
            "overflow_y": null,
            "overflow_x": null,
            "grid_auto_flow": null,
            "grid_area": null,
            "grid_template_columns": null,
            "flex": null,
            "_model_name": "LayoutModel",
            "justify_items": null,
            "grid_row": null,
            "max_height": null,
            "align_content": null,
            "visibility": null,
            "align_self": null,
            "height": null,
            "min_height": null,
            "padding": null,
            "grid_auto_rows": null,
            "grid_gap": null,
            "max_width": null,
            "order": null,
            "_view_module_version": "1.2.0",
            "grid_template_areas": null,
            "object_position": null,
            "object_fit": null,
            "grid_auto_columns": null,
            "margin": null,
            "display": null,
            "left": null
          }
        },
        "69f7c39f62a54ec381c6b31f6fee19df": {
          "model_module": "@jupyter-widgets/controls",
          "model_name": "HTMLModel",
          "model_module_version": "1.5.0",
          "state": {
            "_view_name": "HTMLView",
            "style": "IPY_MODEL_14638445efb04ac8a700e4d34400e8d8",
            "_dom_classes": [],
            "description": "",
            "_model_name": "HTMLModel",
            "placeholder": "​",
            "_view_module": "@jupyter-widgets/controls",
            "_model_module_version": "1.5.0",
            "value": "Downloading: ",
            "_view_count": null,
            "_view_module_version": "1.5.0",
            "description_tooltip": null,
            "_model_module": "@jupyter-widgets/controls",
            "layout": "IPY_MODEL_f6b8bd2261894b1cb08d0c501a2d0656"
          }
        },
        "0ccca00c4d2a42e98f4fdf9415b7c73c": {
          "model_module": "@jupyter-widgets/controls",
          "model_name": "FloatProgressModel",
          "model_module_version": "1.5.0",
          "state": {
            "_view_name": "ProgressView",
            "style": "IPY_MODEL_add2942959154cfbb0f12e7986b86775",
            "_dom_classes": [],
            "description": "",
            "_model_name": "FloatProgressModel",
            "bar_style": "success",
            "max": 1789,
            "_view_module": "@jupyter-widgets/controls",
            "_model_module_version": "1.5.0",
            "value": 1789,
            "_view_count": null,
            "_view_module_version": "1.5.0",
            "orientation": "horizontal",
            "min": 0,
            "description_tooltip": null,
            "_model_module": "@jupyter-widgets/controls",
            "layout": "IPY_MODEL_c278a04fcbb34cbc85b7da824d5a994c"
          }
        },
        "d7a6a54fe5524caaa2a1ac5668ebdb25": {
          "model_module": "@jupyter-widgets/controls",
          "model_name": "HTMLModel",
          "model_module_version": "1.5.0",
          "state": {
            "_view_name": "HTMLView",
            "style": "IPY_MODEL_d8535ca93def4d5781b81b313799879e",
            "_dom_classes": [],
            "description": "",
            "_model_name": "HTMLModel",
            "placeholder": "​",
            "_view_module": "@jupyter-widgets/controls",
            "_model_module_version": "1.5.0",
            "value": " 4.31k/? [00:00&lt;00:00, 71.9kB/s]",
            "_view_count": null,
            "_view_module_version": "1.5.0",
            "description_tooltip": null,
            "_model_module": "@jupyter-widgets/controls",
            "layout": "IPY_MODEL_09228fff495a4ea4955d64436664fac9"
          }
        },
        "14638445efb04ac8a700e4d34400e8d8": {
          "model_module": "@jupyter-widgets/controls",
          "model_name": "DescriptionStyleModel",
          "model_module_version": "1.5.0",
          "state": {
            "_view_name": "StyleView",
            "_model_name": "DescriptionStyleModel",
            "description_width": "",
            "_view_module": "@jupyter-widgets/base",
            "_model_module_version": "1.5.0",
            "_view_count": null,
            "_view_module_version": "1.2.0",
            "_model_module": "@jupyter-widgets/controls"
          }
        },
        "f6b8bd2261894b1cb08d0c501a2d0656": {
          "model_module": "@jupyter-widgets/base",
          "model_name": "LayoutModel",
          "model_module_version": "1.2.0",
          "state": {
            "_view_name": "LayoutView",
            "grid_template_rows": null,
            "right": null,
            "justify_content": null,
            "_view_module": "@jupyter-widgets/base",
            "overflow": null,
            "_model_module_version": "1.2.0",
            "_view_count": null,
            "flex_flow": null,
            "width": null,
            "min_width": null,
            "border": null,
            "align_items": null,
            "bottom": null,
            "_model_module": "@jupyter-widgets/base",
            "top": null,
            "grid_column": null,
            "overflow_y": null,
            "overflow_x": null,
            "grid_auto_flow": null,
            "grid_area": null,
            "grid_template_columns": null,
            "flex": null,
            "_model_name": "LayoutModel",
            "justify_items": null,
            "grid_row": null,
            "max_height": null,
            "align_content": null,
            "visibility": null,
            "align_self": null,
            "height": null,
            "min_height": null,
            "padding": null,
            "grid_auto_rows": null,
            "grid_gap": null,
            "max_width": null,
            "order": null,
            "_view_module_version": "1.2.0",
            "grid_template_areas": null,
            "object_position": null,
            "object_fit": null,
            "grid_auto_columns": null,
            "margin": null,
            "display": null,
            "left": null
          }
        },
        "add2942959154cfbb0f12e7986b86775": {
          "model_module": "@jupyter-widgets/controls",
          "model_name": "ProgressStyleModel",
          "model_module_version": "1.5.0",
          "state": {
            "_view_name": "StyleView",
            "_model_name": "ProgressStyleModel",
            "description_width": "",
            "_view_module": "@jupyter-widgets/base",
            "_model_module_version": "1.5.0",
            "_view_count": null,
            "_view_module_version": "1.2.0",
            "bar_color": null,
            "_model_module": "@jupyter-widgets/controls"
          }
        },
        "c278a04fcbb34cbc85b7da824d5a994c": {
          "model_module": "@jupyter-widgets/base",
          "model_name": "LayoutModel",
          "model_module_version": "1.2.0",
          "state": {
            "_view_name": "LayoutView",
            "grid_template_rows": null,
            "right": null,
            "justify_content": null,
            "_view_module": "@jupyter-widgets/base",
            "overflow": null,
            "_model_module_version": "1.2.0",
            "_view_count": null,
            "flex_flow": null,
            "width": null,
            "min_width": null,
            "border": null,
            "align_items": null,
            "bottom": null,
            "_model_module": "@jupyter-widgets/base",
            "top": null,
            "grid_column": null,
            "overflow_y": null,
            "overflow_x": null,
            "grid_auto_flow": null,
            "grid_area": null,
            "grid_template_columns": null,
            "flex": null,
            "_model_name": "LayoutModel",
            "justify_items": null,
            "grid_row": null,
            "max_height": null,
            "align_content": null,
            "visibility": null,
            "align_self": null,
            "height": null,
            "min_height": null,
            "padding": null,
            "grid_auto_rows": null,
            "grid_gap": null,
            "max_width": null,
            "order": null,
            "_view_module_version": "1.2.0",
            "grid_template_areas": null,
            "object_position": null,
            "object_fit": null,
            "grid_auto_columns": null,
            "margin": null,
            "display": null,
            "left": null
          }
        },
        "d8535ca93def4d5781b81b313799879e": {
          "model_module": "@jupyter-widgets/controls",
          "model_name": "DescriptionStyleModel",
          "model_module_version": "1.5.0",
          "state": {
            "_view_name": "StyleView",
            "_model_name": "DescriptionStyleModel",
            "description_width": "",
            "_view_module": "@jupyter-widgets/base",
            "_model_module_version": "1.5.0",
            "_view_count": null,
            "_view_module_version": "1.2.0",
            "_model_module": "@jupyter-widgets/controls"
          }
        },
        "09228fff495a4ea4955d64436664fac9": {
          "model_module": "@jupyter-widgets/base",
          "model_name": "LayoutModel",
          "model_module_version": "1.2.0",
          "state": {
            "_view_name": "LayoutView",
            "grid_template_rows": null,
            "right": null,
            "justify_content": null,
            "_view_module": "@jupyter-widgets/base",
            "overflow": null,
            "_model_module_version": "1.2.0",
            "_view_count": null,
            "flex_flow": null,
            "width": null,
            "min_width": null,
            "border": null,
            "align_items": null,
            "bottom": null,
            "_model_module": "@jupyter-widgets/base",
            "top": null,
            "grid_column": null,
            "overflow_y": null,
            "overflow_x": null,
            "grid_auto_flow": null,
            "grid_area": null,
            "grid_template_columns": null,
            "flex": null,
            "_model_name": "LayoutModel",
            "justify_items": null,
            "grid_row": null,
            "max_height": null,
            "align_content": null,
            "visibility": null,
            "align_self": null,
            "height": null,
            "min_height": null,
            "padding": null,
            "grid_auto_rows": null,
            "grid_gap": null,
            "max_width": null,
            "order": null,
            "_view_module_version": "1.2.0",
            "grid_template_areas": null,
            "object_position": null,
            "object_fit": null,
            "grid_auto_columns": null,
            "margin": null,
            "display": null,
            "left": null
          }
        },
        "669a2bea904249569a9311abf62e0ee0": {
          "model_module": "@jupyter-widgets/controls",
          "model_name": "HBoxModel",
          "model_module_version": "1.5.0",
          "state": {
            "_view_name": "HBoxView",
            "_dom_classes": [],
            "_model_name": "HBoxModel",
            "_view_module": "@jupyter-widgets/controls",
            "_model_module_version": "1.5.0",
            "_view_count": null,
            "_view_module_version": "1.5.0",
            "box_style": "",
            "layout": "IPY_MODEL_0b9587c02bf043ac854f4527c2393e7b",
            "_model_module": "@jupyter-widgets/controls",
            "children": [
              "IPY_MODEL_694566f9ad654ecdb229584b7bb460b1",
              "IPY_MODEL_510755cf526748ce80118fd48c69e6bc",
              "IPY_MODEL_3c4baf0c951541cda7d3980105dd43ee"
            ]
          }
        },
        "0b9587c02bf043ac854f4527c2393e7b": {
          "model_module": "@jupyter-widgets/base",
          "model_name": "LayoutModel",
          "model_module_version": "1.2.0",
          "state": {
            "_view_name": "LayoutView",
            "grid_template_rows": null,
            "right": null,
            "justify_content": null,
            "_view_module": "@jupyter-widgets/base",
            "overflow": null,
            "_model_module_version": "1.2.0",
            "_view_count": null,
            "flex_flow": null,
            "width": null,
            "min_width": null,
            "border": null,
            "align_items": null,
            "bottom": null,
            "_model_module": "@jupyter-widgets/base",
            "top": null,
            "grid_column": null,
            "overflow_y": null,
            "overflow_x": null,
            "grid_auto_flow": null,
            "grid_area": null,
            "grid_template_columns": null,
            "flex": null,
            "_model_name": "LayoutModel",
            "justify_items": null,
            "grid_row": null,
            "max_height": null,
            "align_content": null,
            "visibility": null,
            "align_self": null,
            "height": null,
            "min_height": null,
            "padding": null,
            "grid_auto_rows": null,
            "grid_gap": null,
            "max_width": null,
            "order": null,
            "_view_module_version": "1.2.0",
            "grid_template_areas": null,
            "object_position": null,
            "object_fit": null,
            "grid_auto_columns": null,
            "margin": null,
            "display": null,
            "left": null
          }
        },
        "694566f9ad654ecdb229584b7bb460b1": {
          "model_module": "@jupyter-widgets/controls",
          "model_name": "HTMLModel",
          "model_module_version": "1.5.0",
          "state": {
            "_view_name": "HTMLView",
            "style": "IPY_MODEL_cfe3e9ea66ad43b2abdae6df16a2fd51",
            "_dom_classes": [],
            "description": "",
            "_model_name": "HTMLModel",
            "placeholder": "​",
            "_view_module": "@jupyter-widgets/controls",
            "_model_module_version": "1.5.0",
            "value": "Downloading: ",
            "_view_count": null,
            "_view_module_version": "1.5.0",
            "description_tooltip": null,
            "_model_module": "@jupyter-widgets/controls",
            "layout": "IPY_MODEL_3fc25762d8ab4ba0b8969616f7da4141"
          }
        },
        "510755cf526748ce80118fd48c69e6bc": {
          "model_module": "@jupyter-widgets/controls",
          "model_name": "FloatProgressModel",
          "model_module_version": "1.5.0",
          "state": {
            "_view_name": "ProgressView",
            "style": "IPY_MODEL_6df74f3f1907473d851a215448c424e4",
            "_dom_classes": [],
            "description": "",
            "_model_name": "FloatProgressModel",
            "bar_style": "success",
            "max": 1054,
            "_view_module": "@jupyter-widgets/controls",
            "_model_module_version": "1.5.0",
            "value": 1054,
            "_view_count": null,
            "_view_module_version": "1.5.0",
            "orientation": "horizontal",
            "min": 0,
            "description_tooltip": null,
            "_model_module": "@jupyter-widgets/controls",
            "layout": "IPY_MODEL_95bff2373f6940b6ab4df73ee70be8f6"
          }
        },
        "3c4baf0c951541cda7d3980105dd43ee": {
          "model_module": "@jupyter-widgets/controls",
          "model_name": "HTMLModel",
          "model_module_version": "1.5.0",
          "state": {
            "_view_name": "HTMLView",
            "style": "IPY_MODEL_b419cd940b1b42fe8a56e9320dfbce56",
            "_dom_classes": [],
            "description": "",
            "_model_name": "HTMLModel",
            "placeholder": "​",
            "_view_module": "@jupyter-widgets/controls",
            "_model_module_version": "1.5.0",
            "value": " 2.17k/? [00:00&lt;00:00, 46.7kB/s]",
            "_view_count": null,
            "_view_module_version": "1.5.0",
            "description_tooltip": null,
            "_model_module": "@jupyter-widgets/controls",
            "layout": "IPY_MODEL_bdbf589c965a473e92ed65b79a2114df"
          }
        },
        "cfe3e9ea66ad43b2abdae6df16a2fd51": {
          "model_module": "@jupyter-widgets/controls",
          "model_name": "DescriptionStyleModel",
          "model_module_version": "1.5.0",
          "state": {
            "_view_name": "StyleView",
            "_model_name": "DescriptionStyleModel",
            "description_width": "",
            "_view_module": "@jupyter-widgets/base",
            "_model_module_version": "1.5.0",
            "_view_count": null,
            "_view_module_version": "1.2.0",
            "_model_module": "@jupyter-widgets/controls"
          }
        },
        "3fc25762d8ab4ba0b8969616f7da4141": {
          "model_module": "@jupyter-widgets/base",
          "model_name": "LayoutModel",
          "model_module_version": "1.2.0",
          "state": {
            "_view_name": "LayoutView",
            "grid_template_rows": null,
            "right": null,
            "justify_content": null,
            "_view_module": "@jupyter-widgets/base",
            "overflow": null,
            "_model_module_version": "1.2.0",
            "_view_count": null,
            "flex_flow": null,
            "width": null,
            "min_width": null,
            "border": null,
            "align_items": null,
            "bottom": null,
            "_model_module": "@jupyter-widgets/base",
            "top": null,
            "grid_column": null,
            "overflow_y": null,
            "overflow_x": null,
            "grid_auto_flow": null,
            "grid_area": null,
            "grid_template_columns": null,
            "flex": null,
            "_model_name": "LayoutModel",
            "justify_items": null,
            "grid_row": null,
            "max_height": null,
            "align_content": null,
            "visibility": null,
            "align_self": null,
            "height": null,
            "min_height": null,
            "padding": null,
            "grid_auto_rows": null,
            "grid_gap": null,
            "max_width": null,
            "order": null,
            "_view_module_version": "1.2.0",
            "grid_template_areas": null,
            "object_position": null,
            "object_fit": null,
            "grid_auto_columns": null,
            "margin": null,
            "display": null,
            "left": null
          }
        },
        "6df74f3f1907473d851a215448c424e4": {
          "model_module": "@jupyter-widgets/controls",
          "model_name": "ProgressStyleModel",
          "model_module_version": "1.5.0",
          "state": {
            "_view_name": "StyleView",
            "_model_name": "ProgressStyleModel",
            "description_width": "",
            "_view_module": "@jupyter-widgets/base",
            "_model_module_version": "1.5.0",
            "_view_count": null,
            "_view_module_version": "1.2.0",
            "bar_color": null,
            "_model_module": "@jupyter-widgets/controls"
          }
        },
        "95bff2373f6940b6ab4df73ee70be8f6": {
          "model_module": "@jupyter-widgets/base",
          "model_name": "LayoutModel",
          "model_module_version": "1.2.0",
          "state": {
            "_view_name": "LayoutView",
            "grid_template_rows": null,
            "right": null,
            "justify_content": null,
            "_view_module": "@jupyter-widgets/base",
            "overflow": null,
            "_model_module_version": "1.2.0",
            "_view_count": null,
            "flex_flow": null,
            "width": null,
            "min_width": null,
            "border": null,
            "align_items": null,
            "bottom": null,
            "_model_module": "@jupyter-widgets/base",
            "top": null,
            "grid_column": null,
            "overflow_y": null,
            "overflow_x": null,
            "grid_auto_flow": null,
            "grid_area": null,
            "grid_template_columns": null,
            "flex": null,
            "_model_name": "LayoutModel",
            "justify_items": null,
            "grid_row": null,
            "max_height": null,
            "align_content": null,
            "visibility": null,
            "align_self": null,
            "height": null,
            "min_height": null,
            "padding": null,
            "grid_auto_rows": null,
            "grid_gap": null,
            "max_width": null,
            "order": null,
            "_view_module_version": "1.2.0",
            "grid_template_areas": null,
            "object_position": null,
            "object_fit": null,
            "grid_auto_columns": null,
            "margin": null,
            "display": null,
            "left": null
          }
        },
        "b419cd940b1b42fe8a56e9320dfbce56": {
          "model_module": "@jupyter-widgets/controls",
          "model_name": "DescriptionStyleModel",
          "model_module_version": "1.5.0",
          "state": {
            "_view_name": "StyleView",
            "_model_name": "DescriptionStyleModel",
            "description_width": "",
            "_view_module": "@jupyter-widgets/base",
            "_model_module_version": "1.5.0",
            "_view_count": null,
            "_view_module_version": "1.2.0",
            "_model_module": "@jupyter-widgets/controls"
          }
        },
        "bdbf589c965a473e92ed65b79a2114df": {
          "model_module": "@jupyter-widgets/base",
          "model_name": "LayoutModel",
          "model_module_version": "1.2.0",
          "state": {
            "_view_name": "LayoutView",
            "grid_template_rows": null,
            "right": null,
            "justify_content": null,
            "_view_module": "@jupyter-widgets/base",
            "overflow": null,
            "_model_module_version": "1.2.0",
            "_view_count": null,
            "flex_flow": null,
            "width": null,
            "min_width": null,
            "border": null,
            "align_items": null,
            "bottom": null,
            "_model_module": "@jupyter-widgets/base",
            "top": null,
            "grid_column": null,
            "overflow_y": null,
            "overflow_x": null,
            "grid_auto_flow": null,
            "grid_area": null,
            "grid_template_columns": null,
            "flex": null,
            "_model_name": "LayoutModel",
            "justify_items": null,
            "grid_row": null,
            "max_height": null,
            "align_content": null,
            "visibility": null,
            "align_self": null,
            "height": null,
            "min_height": null,
            "padding": null,
            "grid_auto_rows": null,
            "grid_gap": null,
            "max_width": null,
            "order": null,
            "_view_module_version": "1.2.0",
            "grid_template_areas": null,
            "object_position": null,
            "object_fit": null,
            "grid_auto_columns": null,
            "margin": null,
            "display": null,
            "left": null
          }
        },
        "0875aac0d8834352976bd396d60b3a67": {
          "model_module": "@jupyter-widgets/controls",
          "model_name": "HBoxModel",
          "model_module_version": "1.5.0",
          "state": {
            "_view_name": "HBoxView",
            "_dom_classes": [],
            "_model_name": "HBoxModel",
            "_view_module": "@jupyter-widgets/controls",
            "_model_module_version": "1.5.0",
            "_view_count": null,
            "_view_module_version": "1.5.0",
            "box_style": "",
            "layout": "IPY_MODEL_6a6b70e2433f46e6847586622090e9b1",
            "_model_module": "@jupyter-widgets/controls",
            "children": [
              "IPY_MODEL_2288f8f588ce49e9ae9f5ca8c10c4bb9",
              "IPY_MODEL_a4622370ef884b83bf12ae0ec78aff84",
              "IPY_MODEL_c8592619a8b545038c391ada5de63589"
            ]
          }
        },
        "6a6b70e2433f46e6847586622090e9b1": {
          "model_module": "@jupyter-widgets/base",
          "model_name": "LayoutModel",
          "model_module_version": "1.2.0",
          "state": {
            "_view_name": "LayoutView",
            "grid_template_rows": null,
            "right": null,
            "justify_content": null,
            "_view_module": "@jupyter-widgets/base",
            "overflow": null,
            "_model_module_version": "1.2.0",
            "_view_count": null,
            "flex_flow": null,
            "width": null,
            "min_width": null,
            "border": null,
            "align_items": null,
            "bottom": null,
            "_model_module": "@jupyter-widgets/base",
            "top": null,
            "grid_column": null,
            "overflow_y": null,
            "overflow_x": null,
            "grid_auto_flow": null,
            "grid_area": null,
            "grid_template_columns": null,
            "flex": null,
            "_model_name": "LayoutModel",
            "justify_items": null,
            "grid_row": null,
            "max_height": null,
            "align_content": null,
            "visibility": null,
            "align_self": null,
            "height": null,
            "min_height": null,
            "padding": null,
            "grid_auto_rows": null,
            "grid_gap": null,
            "max_width": null,
            "order": null,
            "_view_module_version": "1.2.0",
            "grid_template_areas": null,
            "object_position": null,
            "object_fit": null,
            "grid_auto_columns": null,
            "margin": null,
            "display": null,
            "left": null
          }
        },
        "2288f8f588ce49e9ae9f5ca8c10c4bb9": {
          "model_module": "@jupyter-widgets/controls",
          "model_name": "HTMLModel",
          "model_module_version": "1.5.0",
          "state": {
            "_view_name": "HTMLView",
            "style": "IPY_MODEL_85ab01b090114f96ae3096a3d4d8ea27",
            "_dom_classes": [],
            "description": "",
            "_model_name": "HTMLModel",
            "placeholder": "​",
            "_view_module": "@jupyter-widgets/controls",
            "_model_module_version": "1.5.0",
            "value": "Downloading: 100%",
            "_view_count": null,
            "_view_module_version": "1.5.0",
            "description_tooltip": null,
            "_model_module": "@jupyter-widgets/controls",
            "layout": "IPY_MODEL_9b876b827273470e9dddc89d0d1cad18"
          }
        },
        "a4622370ef884b83bf12ae0ec78aff84": {
          "model_module": "@jupyter-widgets/controls",
          "model_name": "FloatProgressModel",
          "model_module_version": "1.5.0",
          "state": {
            "_view_name": "ProgressView",
            "style": "IPY_MODEL_b7f01a13e0d44b40b4ecdb72334bbc6e",
            "_dom_classes": [],
            "description": "",
            "_model_name": "FloatProgressModel",
            "bar_style": "success",
            "max": 84125825,
            "_view_module": "@jupyter-widgets/controls",
            "_model_module_version": "1.5.0",
            "value": 84125825,
            "_view_count": null,
            "_view_module_version": "1.5.0",
            "orientation": "horizontal",
            "min": 0,
            "description_tooltip": null,
            "_model_module": "@jupyter-widgets/controls",
            "layout": "IPY_MODEL_9cfb9ef16b6a4f6d81d1321d1e72ec72"
          }
        },
        "c8592619a8b545038c391ada5de63589": {
          "model_module": "@jupyter-widgets/controls",
          "model_name": "HTMLModel",
          "model_module_version": "1.5.0",
          "state": {
            "_view_name": "HTMLView",
            "style": "IPY_MODEL_f84e3368faaf4b6ba0191b6e836366df",
            "_dom_classes": [],
            "description": "",
            "_model_name": "HTMLModel",
            "placeholder": "​",
            "_view_module": "@jupyter-widgets/controls",
            "_model_module_version": "1.5.0",
            "value": " 84.1M/84.1M [00:05&lt;00:00, 25.5MB/s]",
            "_view_count": null,
            "_view_module_version": "1.5.0",
            "description_tooltip": null,
            "_model_module": "@jupyter-widgets/controls",
            "layout": "IPY_MODEL_cd108f866a0e44958bffaa4eb1dc9f8f"
          }
        },
        "85ab01b090114f96ae3096a3d4d8ea27": {
          "model_module": "@jupyter-widgets/controls",
          "model_name": "DescriptionStyleModel",
          "model_module_version": "1.5.0",
          "state": {
            "_view_name": "StyleView",
            "_model_name": "DescriptionStyleModel",
            "description_width": "",
            "_view_module": "@jupyter-widgets/base",
            "_model_module_version": "1.5.0",
            "_view_count": null,
            "_view_module_version": "1.2.0",
            "_model_module": "@jupyter-widgets/controls"
          }
        },
        "9b876b827273470e9dddc89d0d1cad18": {
          "model_module": "@jupyter-widgets/base",
          "model_name": "LayoutModel",
          "model_module_version": "1.2.0",
          "state": {
            "_view_name": "LayoutView",
            "grid_template_rows": null,
            "right": null,
            "justify_content": null,
            "_view_module": "@jupyter-widgets/base",
            "overflow": null,
            "_model_module_version": "1.2.0",
            "_view_count": null,
            "flex_flow": null,
            "width": null,
            "min_width": null,
            "border": null,
            "align_items": null,
            "bottom": null,
            "_model_module": "@jupyter-widgets/base",
            "top": null,
            "grid_column": null,
            "overflow_y": null,
            "overflow_x": null,
            "grid_auto_flow": null,
            "grid_area": null,
            "grid_template_columns": null,
            "flex": null,
            "_model_name": "LayoutModel",
            "justify_items": null,
            "grid_row": null,
            "max_height": null,
            "align_content": null,
            "visibility": null,
            "align_self": null,
            "height": null,
            "min_height": null,
            "padding": null,
            "grid_auto_rows": null,
            "grid_gap": null,
            "max_width": null,
            "order": null,
            "_view_module_version": "1.2.0",
            "grid_template_areas": null,
            "object_position": null,
            "object_fit": null,
            "grid_auto_columns": null,
            "margin": null,
            "display": null,
            "left": null
          }
        },
        "b7f01a13e0d44b40b4ecdb72334bbc6e": {
          "model_module": "@jupyter-widgets/controls",
          "model_name": "ProgressStyleModel",
          "model_module_version": "1.5.0",
          "state": {
            "_view_name": "StyleView",
            "_model_name": "ProgressStyleModel",
            "description_width": "",
            "_view_module": "@jupyter-widgets/base",
            "_model_module_version": "1.5.0",
            "_view_count": null,
            "_view_module_version": "1.2.0",
            "bar_color": null,
            "_model_module": "@jupyter-widgets/controls"
          }
        },
        "9cfb9ef16b6a4f6d81d1321d1e72ec72": {
          "model_module": "@jupyter-widgets/base",
          "model_name": "LayoutModel",
          "model_module_version": "1.2.0",
          "state": {
            "_view_name": "LayoutView",
            "grid_template_rows": null,
            "right": null,
            "justify_content": null,
            "_view_module": "@jupyter-widgets/base",
            "overflow": null,
            "_model_module_version": "1.2.0",
            "_view_count": null,
            "flex_flow": null,
            "width": null,
            "min_width": null,
            "border": null,
            "align_items": null,
            "bottom": null,
            "_model_module": "@jupyter-widgets/base",
            "top": null,
            "grid_column": null,
            "overflow_y": null,
            "overflow_x": null,
            "grid_auto_flow": null,
            "grid_area": null,
            "grid_template_columns": null,
            "flex": null,
            "_model_name": "LayoutModel",
            "justify_items": null,
            "grid_row": null,
            "max_height": null,
            "align_content": null,
            "visibility": null,
            "align_self": null,
            "height": null,
            "min_height": null,
            "padding": null,
            "grid_auto_rows": null,
            "grid_gap": null,
            "max_width": null,
            "order": null,
            "_view_module_version": "1.2.0",
            "grid_template_areas": null,
            "object_position": null,
            "object_fit": null,
            "grid_auto_columns": null,
            "margin": null,
            "display": null,
            "left": null
          }
        },
        "f84e3368faaf4b6ba0191b6e836366df": {
          "model_module": "@jupyter-widgets/controls",
          "model_name": "DescriptionStyleModel",
          "model_module_version": "1.5.0",
          "state": {
            "_view_name": "StyleView",
            "_model_name": "DescriptionStyleModel",
            "description_width": "",
            "_view_module": "@jupyter-widgets/base",
            "_model_module_version": "1.5.0",
            "_view_count": null,
            "_view_module_version": "1.2.0",
            "_model_module": "@jupyter-widgets/controls"
          }
        },
        "cd108f866a0e44958bffaa4eb1dc9f8f": {
          "model_module": "@jupyter-widgets/base",
          "model_name": "LayoutModel",
          "model_module_version": "1.2.0",
          "state": {
            "_view_name": "LayoutView",
            "grid_template_rows": null,
            "right": null,
            "justify_content": null,
            "_view_module": "@jupyter-widgets/base",
            "overflow": null,
            "_model_module_version": "1.2.0",
            "_view_count": null,
            "flex_flow": null,
            "width": null,
            "min_width": null,
            "border": null,
            "align_items": null,
            "bottom": null,
            "_model_module": "@jupyter-widgets/base",
            "top": null,
            "grid_column": null,
            "overflow_y": null,
            "overflow_x": null,
            "grid_auto_flow": null,
            "grid_area": null,
            "grid_template_columns": null,
            "flex": null,
            "_model_name": "LayoutModel",
            "justify_items": null,
            "grid_row": null,
            "max_height": null,
            "align_content": null,
            "visibility": null,
            "align_self": null,
            "height": null,
            "min_height": null,
            "padding": null,
            "grid_auto_rows": null,
            "grid_gap": null,
            "max_width": null,
            "order": null,
            "_view_module_version": "1.2.0",
            "grid_template_areas": null,
            "object_position": null,
            "object_fit": null,
            "grid_auto_columns": null,
            "margin": null,
            "display": null,
            "left": null
          }
        },
        "6cd31e0f47f442b5b4a4ed0ca6c85ae4": {
          "model_module": "@jupyter-widgets/controls",
          "model_name": "HBoxModel",
          "model_module_version": "1.5.0",
          "state": {
            "_view_name": "HBoxView",
            "_dom_classes": [],
            "_model_name": "HBoxModel",
            "_view_module": "@jupyter-widgets/controls",
            "_model_module_version": "1.5.0",
            "_view_count": null,
            "_view_module_version": "1.5.0",
            "box_style": "",
            "layout": "IPY_MODEL_4122ec322ce841b78693266f25083982",
            "_model_module": "@jupyter-widgets/controls",
            "children": [
              "IPY_MODEL_54c516a1ce6648abaa290ba77001f825",
              "IPY_MODEL_7d5112a1180944008d19c0a16e498759",
              "IPY_MODEL_16f863d778e747bc866dc53e45d7e2ab"
            ]
          }
        },
        "4122ec322ce841b78693266f25083982": {
          "model_module": "@jupyter-widgets/base",
          "model_name": "LayoutModel",
          "model_module_version": "1.2.0",
          "state": {
            "_view_name": "LayoutView",
            "grid_template_rows": null,
            "right": null,
            "justify_content": null,
            "_view_module": "@jupyter-widgets/base",
            "overflow": null,
            "_model_module_version": "1.2.0",
            "_view_count": null,
            "flex_flow": null,
            "width": null,
            "min_width": null,
            "border": null,
            "align_items": null,
            "bottom": null,
            "_model_module": "@jupyter-widgets/base",
            "top": null,
            "grid_column": null,
            "overflow_y": null,
            "overflow_x": null,
            "grid_auto_flow": null,
            "grid_area": null,
            "grid_template_columns": null,
            "flex": null,
            "_model_name": "LayoutModel",
            "justify_items": null,
            "grid_row": null,
            "max_height": null,
            "align_content": null,
            "visibility": null,
            "align_self": null,
            "height": null,
            "min_height": null,
            "padding": null,
            "grid_auto_rows": null,
            "grid_gap": null,
            "max_width": null,
            "order": null,
            "_view_module_version": "1.2.0",
            "grid_template_areas": null,
            "object_position": null,
            "object_fit": null,
            "grid_auto_columns": null,
            "margin": null,
            "display": null,
            "left": null
          }
        },
        "54c516a1ce6648abaa290ba77001f825": {
          "model_module": "@jupyter-widgets/controls",
          "model_name": "HTMLModel",
          "model_module_version": "1.5.0",
          "state": {
            "_view_name": "HTMLView",
            "style": "IPY_MODEL_0ed1753c0ce444d2b871312364e83730",
            "_dom_classes": [],
            "description": "",
            "_model_name": "HTMLModel",
            "placeholder": "​",
            "_view_module": "@jupyter-widgets/controls",
            "_model_module_version": "1.5.0",
            "value": "",
            "_view_count": null,
            "_view_module_version": "1.5.0",
            "description_tooltip": null,
            "_model_module": "@jupyter-widgets/controls",
            "layout": "IPY_MODEL_161caf18967b4fb79104fd474c2f813e"
          }
        },
        "7d5112a1180944008d19c0a16e498759": {
          "model_module": "@jupyter-widgets/controls",
          "model_name": "FloatProgressModel",
          "model_module_version": "1.5.0",
          "state": {
            "_view_name": "ProgressView",
            "style": "IPY_MODEL_7fe2065c9ae2471fb90bc766d6d3fc69",
            "_dom_classes": [],
            "description": "",
            "_model_name": "FloatProgressModel",
            "bar_style": "info",
            "max": 1,
            "_view_module": "@jupyter-widgets/controls",
            "_model_module_version": "1.5.0",
            "value": 1,
            "_view_count": null,
            "_view_module_version": "1.5.0",
            "orientation": "horizontal",
            "min": 0,
            "description_tooltip": null,
            "_model_module": "@jupyter-widgets/controls",
            "layout": "IPY_MODEL_c182d0798072407a8e1f7c7234cc9273"
          }
        },
        "16f863d778e747bc866dc53e45d7e2ab": {
          "model_module": "@jupyter-widgets/controls",
          "model_name": "HTMLModel",
          "model_module_version": "1.5.0",
          "state": {
            "_view_name": "HTMLView",
            "style": "IPY_MODEL_7e2ba906e51f438d8273845d30302bfe",
            "_dom_classes": [],
            "description": "",
            "_model_name": "HTMLModel",
            "placeholder": "​",
            "_view_module": "@jupyter-widgets/controls",
            "_model_module_version": "1.5.0",
            "value": " 24495/0 [00:08&lt;00:00, 6583.83 examples/s]",
            "_view_count": null,
            "_view_module_version": "1.5.0",
            "description_tooltip": null,
            "_model_module": "@jupyter-widgets/controls",
            "layout": "IPY_MODEL_f5171e148f0d4cdc87dd46bf2ccf7cb1"
          }
        },
        "0ed1753c0ce444d2b871312364e83730": {
          "model_module": "@jupyter-widgets/controls",
          "model_name": "DescriptionStyleModel",
          "model_module_version": "1.5.0",
          "state": {
            "_view_name": "StyleView",
            "_model_name": "DescriptionStyleModel",
            "description_width": "",
            "_view_module": "@jupyter-widgets/base",
            "_model_module_version": "1.5.0",
            "_view_count": null,
            "_view_module_version": "1.2.0",
            "_model_module": "@jupyter-widgets/controls"
          }
        },
        "161caf18967b4fb79104fd474c2f813e": {
          "model_module": "@jupyter-widgets/base",
          "model_name": "LayoutModel",
          "model_module_version": "1.2.0",
          "state": {
            "_view_name": "LayoutView",
            "grid_template_rows": null,
            "right": null,
            "justify_content": null,
            "_view_module": "@jupyter-widgets/base",
            "overflow": null,
            "_model_module_version": "1.2.0",
            "_view_count": null,
            "flex_flow": null,
            "width": null,
            "min_width": null,
            "border": null,
            "align_items": null,
            "bottom": null,
            "_model_module": "@jupyter-widgets/base",
            "top": null,
            "grid_column": null,
            "overflow_y": null,
            "overflow_x": null,
            "grid_auto_flow": null,
            "grid_area": null,
            "grid_template_columns": null,
            "flex": null,
            "_model_name": "LayoutModel",
            "justify_items": null,
            "grid_row": null,
            "max_height": null,
            "align_content": null,
            "visibility": null,
            "align_self": null,
            "height": null,
            "min_height": null,
            "padding": null,
            "grid_auto_rows": null,
            "grid_gap": null,
            "max_width": null,
            "order": null,
            "_view_module_version": "1.2.0",
            "grid_template_areas": null,
            "object_position": null,
            "object_fit": null,
            "grid_auto_columns": null,
            "margin": null,
            "display": null,
            "left": null
          }
        },
        "7fe2065c9ae2471fb90bc766d6d3fc69": {
          "model_module": "@jupyter-widgets/controls",
          "model_name": "ProgressStyleModel",
          "model_module_version": "1.5.0",
          "state": {
            "_view_name": "StyleView",
            "_model_name": "ProgressStyleModel",
            "description_width": "",
            "_view_module": "@jupyter-widgets/base",
            "_model_module_version": "1.5.0",
            "_view_count": null,
            "_view_module_version": "1.2.0",
            "bar_color": null,
            "_model_module": "@jupyter-widgets/controls"
          }
        },
        "c182d0798072407a8e1f7c7234cc9273": {
          "model_module": "@jupyter-widgets/base",
          "model_name": "LayoutModel",
          "model_module_version": "1.2.0",
          "state": {
            "_view_name": "LayoutView",
            "grid_template_rows": null,
            "right": null,
            "justify_content": null,
            "_view_module": "@jupyter-widgets/base",
            "overflow": null,
            "_model_module_version": "1.2.0",
            "_view_count": null,
            "flex_flow": null,
            "width": "20px",
            "min_width": null,
            "border": null,
            "align_items": null,
            "bottom": null,
            "_model_module": "@jupyter-widgets/base",
            "top": null,
            "grid_column": null,
            "overflow_y": null,
            "overflow_x": null,
            "grid_auto_flow": null,
            "grid_area": null,
            "grid_template_columns": null,
            "flex": null,
            "_model_name": "LayoutModel",
            "justify_items": null,
            "grid_row": null,
            "max_height": null,
            "align_content": null,
            "visibility": null,
            "align_self": null,
            "height": null,
            "min_height": null,
            "padding": null,
            "grid_auto_rows": null,
            "grid_gap": null,
            "max_width": null,
            "order": null,
            "_view_module_version": "1.2.0",
            "grid_template_areas": null,
            "object_position": null,
            "object_fit": null,
            "grid_auto_columns": null,
            "margin": null,
            "display": null,
            "left": null
          }
        },
        "7e2ba906e51f438d8273845d30302bfe": {
          "model_module": "@jupyter-widgets/controls",
          "model_name": "DescriptionStyleModel",
          "model_module_version": "1.5.0",
          "state": {
            "_view_name": "StyleView",
            "_model_name": "DescriptionStyleModel",
            "description_width": "",
            "_view_module": "@jupyter-widgets/base",
            "_model_module_version": "1.5.0",
            "_view_count": null,
            "_view_module_version": "1.2.0",
            "_model_module": "@jupyter-widgets/controls"
          }
        },
        "f5171e148f0d4cdc87dd46bf2ccf7cb1": {
          "model_module": "@jupyter-widgets/base",
          "model_name": "LayoutModel",
          "model_module_version": "1.2.0",
          "state": {
            "_view_name": "LayoutView",
            "grid_template_rows": null,
            "right": null,
            "justify_content": null,
            "_view_module": "@jupyter-widgets/base",
            "overflow": null,
            "_model_module_version": "1.2.0",
            "_view_count": null,
            "flex_flow": null,
            "width": null,
            "min_width": null,
            "border": null,
            "align_items": null,
            "bottom": null,
            "_model_module": "@jupyter-widgets/base",
            "top": null,
            "grid_column": null,
            "overflow_y": null,
            "overflow_x": null,
            "grid_auto_flow": null,
            "grid_area": null,
            "grid_template_columns": null,
            "flex": null,
            "_model_name": "LayoutModel",
            "justify_items": null,
            "grid_row": null,
            "max_height": null,
            "align_content": null,
            "visibility": null,
            "align_self": null,
            "height": null,
            "min_height": null,
            "padding": null,
            "grid_auto_rows": null,
            "grid_gap": null,
            "max_width": null,
            "order": null,
            "_view_module_version": "1.2.0",
            "grid_template_areas": null,
            "object_position": null,
            "object_fit": null,
            "grid_auto_columns": null,
            "margin": null,
            "display": null,
            "left": null
          }
        },
        "6adfd01443fc4bfcb64ed2a6ef979576": {
          "model_module": "@jupyter-widgets/controls",
          "model_name": "HBoxModel",
          "model_module_version": "1.5.0",
          "state": {
            "_view_name": "HBoxView",
            "_dom_classes": [],
            "_model_name": "HBoxModel",
            "_view_module": "@jupyter-widgets/controls",
            "_model_module_version": "1.5.0",
            "_view_count": null,
            "_view_module_version": "1.5.0",
            "box_style": "",
            "layout": "IPY_MODEL_f21a544bd16f43f3a82d5a19dec6897c",
            "_model_module": "@jupyter-widgets/controls",
            "children": [
              "IPY_MODEL_8e7e4ade360c49758614cf40f745941e",
              "IPY_MODEL_ab2ad88e93f54d458c8bc9d217c083a6",
              "IPY_MODEL_25f2493fc9c840008ef2495027e965e7"
            ]
          }
        },
        "f21a544bd16f43f3a82d5a19dec6897c": {
          "model_module": "@jupyter-widgets/base",
          "model_name": "LayoutModel",
          "model_module_version": "1.2.0",
          "state": {
            "_view_name": "LayoutView",
            "grid_template_rows": null,
            "right": null,
            "justify_content": null,
            "_view_module": "@jupyter-widgets/base",
            "overflow": null,
            "_model_module_version": "1.2.0",
            "_view_count": null,
            "flex_flow": null,
            "width": null,
            "min_width": null,
            "border": null,
            "align_items": null,
            "bottom": null,
            "_model_module": "@jupyter-widgets/base",
            "top": null,
            "grid_column": null,
            "overflow_y": null,
            "overflow_x": null,
            "grid_auto_flow": null,
            "grid_area": null,
            "grid_template_columns": null,
            "flex": null,
            "_model_name": "LayoutModel",
            "justify_items": null,
            "grid_row": null,
            "max_height": null,
            "align_content": null,
            "visibility": null,
            "align_self": null,
            "height": null,
            "min_height": null,
            "padding": null,
            "grid_auto_rows": null,
            "grid_gap": null,
            "max_width": null,
            "order": null,
            "_view_module_version": "1.2.0",
            "grid_template_areas": null,
            "object_position": null,
            "object_fit": null,
            "grid_auto_columns": null,
            "margin": null,
            "display": null,
            "left": null
          }
        },
        "8e7e4ade360c49758614cf40f745941e": {
          "model_module": "@jupyter-widgets/controls",
          "model_name": "HTMLModel",
          "model_module_version": "1.5.0",
          "state": {
            "_view_name": "HTMLView",
            "style": "IPY_MODEL_02ef96f3c19745ce8d74177073f01c95",
            "_dom_classes": [],
            "description": "",
            "_model_name": "HTMLModel",
            "placeholder": "​",
            "_view_module": "@jupyter-widgets/controls",
            "_model_module_version": "1.5.0",
            "value": "",
            "_view_count": null,
            "_view_module_version": "1.5.0",
            "description_tooltip": null,
            "_model_module": "@jupyter-widgets/controls",
            "layout": "IPY_MODEL_783c0341679e40c18f69403d11b9b6d9"
          }
        },
        "ab2ad88e93f54d458c8bc9d217c083a6": {
          "model_module": "@jupyter-widgets/controls",
          "model_name": "FloatProgressModel",
          "model_module_version": "1.5.0",
          "state": {
            "_view_name": "ProgressView",
            "style": "IPY_MODEL_912c5e3538df46d9a673f01b21cdc88e",
            "_dom_classes": [],
            "description": "",
            "_model_name": "FloatProgressModel",
            "bar_style": "info",
            "max": 1,
            "_view_module": "@jupyter-widgets/controls",
            "_model_module_version": "1.5.0",
            "value": 1,
            "_view_count": null,
            "_view_module_version": "1.5.0",
            "orientation": "horizontal",
            "min": 0,
            "description_tooltip": null,
            "_model_module": "@jupyter-widgets/controls",
            "layout": "IPY_MODEL_749d19b261714357940b84c2a8f26ea0"
          }
        },
        "25f2493fc9c840008ef2495027e965e7": {
          "model_module": "@jupyter-widgets/controls",
          "model_name": "HTMLModel",
          "model_module_version": "1.5.0",
          "state": {
            "_view_name": "HTMLView",
            "style": "IPY_MODEL_06c16bd411e14920afb7803819925f9c",
            "_dom_classes": [],
            "description": "",
            "_model_name": "HTMLModel",
            "placeholder": "​",
            "_view_module": "@jupyter-widgets/controls",
            "_model_module_version": "1.5.0",
            "value": " 24499/0 [00:04&lt;00:00, 6466.69 examples/s]",
            "_view_count": null,
            "_view_module_version": "1.5.0",
            "description_tooltip": null,
            "_model_module": "@jupyter-widgets/controls",
            "layout": "IPY_MODEL_fdae258929dd4bdc8ae52e4cd58eeb4a"
          }
        },
        "02ef96f3c19745ce8d74177073f01c95": {
          "model_module": "@jupyter-widgets/controls",
          "model_name": "DescriptionStyleModel",
          "model_module_version": "1.5.0",
          "state": {
            "_view_name": "StyleView",
            "_model_name": "DescriptionStyleModel",
            "description_width": "",
            "_view_module": "@jupyter-widgets/base",
            "_model_module_version": "1.5.0",
            "_view_count": null,
            "_view_module_version": "1.2.0",
            "_model_module": "@jupyter-widgets/controls"
          }
        },
        "783c0341679e40c18f69403d11b9b6d9": {
          "model_module": "@jupyter-widgets/base",
          "model_name": "LayoutModel",
          "model_module_version": "1.2.0",
          "state": {
            "_view_name": "LayoutView",
            "grid_template_rows": null,
            "right": null,
            "justify_content": null,
            "_view_module": "@jupyter-widgets/base",
            "overflow": null,
            "_model_module_version": "1.2.0",
            "_view_count": null,
            "flex_flow": null,
            "width": null,
            "min_width": null,
            "border": null,
            "align_items": null,
            "bottom": null,
            "_model_module": "@jupyter-widgets/base",
            "top": null,
            "grid_column": null,
            "overflow_y": null,
            "overflow_x": null,
            "grid_auto_flow": null,
            "grid_area": null,
            "grid_template_columns": null,
            "flex": null,
            "_model_name": "LayoutModel",
            "justify_items": null,
            "grid_row": null,
            "max_height": null,
            "align_content": null,
            "visibility": null,
            "align_self": null,
            "height": null,
            "min_height": null,
            "padding": null,
            "grid_auto_rows": null,
            "grid_gap": null,
            "max_width": null,
            "order": null,
            "_view_module_version": "1.2.0",
            "grid_template_areas": null,
            "object_position": null,
            "object_fit": null,
            "grid_auto_columns": null,
            "margin": null,
            "display": null,
            "left": null
          }
        },
        "912c5e3538df46d9a673f01b21cdc88e": {
          "model_module": "@jupyter-widgets/controls",
          "model_name": "ProgressStyleModel",
          "model_module_version": "1.5.0",
          "state": {
            "_view_name": "StyleView",
            "_model_name": "ProgressStyleModel",
            "description_width": "",
            "_view_module": "@jupyter-widgets/base",
            "_model_module_version": "1.5.0",
            "_view_count": null,
            "_view_module_version": "1.2.0",
            "bar_color": null,
            "_model_module": "@jupyter-widgets/controls"
          }
        },
        "749d19b261714357940b84c2a8f26ea0": {
          "model_module": "@jupyter-widgets/base",
          "model_name": "LayoutModel",
          "model_module_version": "1.2.0",
          "state": {
            "_view_name": "LayoutView",
            "grid_template_rows": null,
            "right": null,
            "justify_content": null,
            "_view_module": "@jupyter-widgets/base",
            "overflow": null,
            "_model_module_version": "1.2.0",
            "_view_count": null,
            "flex_flow": null,
            "width": "20px",
            "min_width": null,
            "border": null,
            "align_items": null,
            "bottom": null,
            "_model_module": "@jupyter-widgets/base",
            "top": null,
            "grid_column": null,
            "overflow_y": null,
            "overflow_x": null,
            "grid_auto_flow": null,
            "grid_area": null,
            "grid_template_columns": null,
            "flex": null,
            "_model_name": "LayoutModel",
            "justify_items": null,
            "grid_row": null,
            "max_height": null,
            "align_content": null,
            "visibility": null,
            "align_self": null,
            "height": null,
            "min_height": null,
            "padding": null,
            "grid_auto_rows": null,
            "grid_gap": null,
            "max_width": null,
            "order": null,
            "_view_module_version": "1.2.0",
            "grid_template_areas": null,
            "object_position": null,
            "object_fit": null,
            "grid_auto_columns": null,
            "margin": null,
            "display": null,
            "left": null
          }
        },
        "06c16bd411e14920afb7803819925f9c": {
          "model_module": "@jupyter-widgets/controls",
          "model_name": "DescriptionStyleModel",
          "model_module_version": "1.5.0",
          "state": {
            "_view_name": "StyleView",
            "_model_name": "DescriptionStyleModel",
            "description_width": "",
            "_view_module": "@jupyter-widgets/base",
            "_model_module_version": "1.5.0",
            "_view_count": null,
            "_view_module_version": "1.2.0",
            "_model_module": "@jupyter-widgets/controls"
          }
        },
        "fdae258929dd4bdc8ae52e4cd58eeb4a": {
          "model_module": "@jupyter-widgets/base",
          "model_name": "LayoutModel",
          "model_module_version": "1.2.0",
          "state": {
            "_view_name": "LayoutView",
            "grid_template_rows": null,
            "right": null,
            "justify_content": null,
            "_view_module": "@jupyter-widgets/base",
            "overflow": null,
            "_model_module_version": "1.2.0",
            "_view_count": null,
            "flex_flow": null,
            "width": null,
            "min_width": null,
            "border": null,
            "align_items": null,
            "bottom": null,
            "_model_module": "@jupyter-widgets/base",
            "top": null,
            "grid_column": null,
            "overflow_y": null,
            "overflow_x": null,
            "grid_auto_flow": null,
            "grid_area": null,
            "grid_template_columns": null,
            "flex": null,
            "_model_name": "LayoutModel",
            "justify_items": null,
            "grid_row": null,
            "max_height": null,
            "align_content": null,
            "visibility": null,
            "align_self": null,
            "height": null,
            "min_height": null,
            "padding": null,
            "grid_auto_rows": null,
            "grid_gap": null,
            "max_width": null,
            "order": null,
            "_view_module_version": "1.2.0",
            "grid_template_areas": null,
            "object_position": null,
            "object_fit": null,
            "grid_auto_columns": null,
            "margin": null,
            "display": null,
            "left": null
          }
        },
        "adbee85fea94489eaa9545a8e02a5590": {
          "model_module": "@jupyter-widgets/controls",
          "model_name": "HBoxModel",
          "model_module_version": "1.5.0",
          "state": {
            "_view_name": "HBoxView",
            "_dom_classes": [],
            "_model_name": "HBoxModel",
            "_view_module": "@jupyter-widgets/controls",
            "_model_module_version": "1.5.0",
            "_view_count": null,
            "_view_module_version": "1.5.0",
            "box_style": "",
            "layout": "IPY_MODEL_9636e5185a4a493ebebe6a9688cb89c8",
            "_model_module": "@jupyter-widgets/controls",
            "children": [
              "IPY_MODEL_470e00a0cd4e4bc989f6050571cc5842",
              "IPY_MODEL_b56af1e616764dd0bf3fba3593cf6c5f",
              "IPY_MODEL_27f76282759b44f0808159936f9aead2"
            ]
          }
        },
        "9636e5185a4a493ebebe6a9688cb89c8": {
          "model_module": "@jupyter-widgets/base",
          "model_name": "LayoutModel",
          "model_module_version": "1.2.0",
          "state": {
            "_view_name": "LayoutView",
            "grid_template_rows": null,
            "right": null,
            "justify_content": null,
            "_view_module": "@jupyter-widgets/base",
            "overflow": null,
            "_model_module_version": "1.2.0",
            "_view_count": null,
            "flex_flow": null,
            "width": null,
            "min_width": null,
            "border": null,
            "align_items": null,
            "bottom": null,
            "_model_module": "@jupyter-widgets/base",
            "top": null,
            "grid_column": null,
            "overflow_y": null,
            "overflow_x": null,
            "grid_auto_flow": null,
            "grid_area": null,
            "grid_template_columns": null,
            "flex": null,
            "_model_name": "LayoutModel",
            "justify_items": null,
            "grid_row": null,
            "max_height": null,
            "align_content": null,
            "visibility": null,
            "align_self": null,
            "height": null,
            "min_height": null,
            "padding": null,
            "grid_auto_rows": null,
            "grid_gap": null,
            "max_width": null,
            "order": null,
            "_view_module_version": "1.2.0",
            "grid_template_areas": null,
            "object_position": null,
            "object_fit": null,
            "grid_auto_columns": null,
            "margin": null,
            "display": null,
            "left": null
          }
        },
        "470e00a0cd4e4bc989f6050571cc5842": {
          "model_module": "@jupyter-widgets/controls",
          "model_name": "HTMLModel",
          "model_module_version": "1.5.0",
          "state": {
            "_view_name": "HTMLView",
            "style": "IPY_MODEL_21022a9c544a406fa8fe0f8efb47abae",
            "_dom_classes": [],
            "description": "",
            "_model_name": "HTMLModel",
            "placeholder": "​",
            "_view_module": "@jupyter-widgets/controls",
            "_model_module_version": "1.5.0",
            "value": "",
            "_view_count": null,
            "_view_module_version": "1.5.0",
            "description_tooltip": null,
            "_model_module": "@jupyter-widgets/controls",
            "layout": "IPY_MODEL_c108b76f6e834d8898b01027045a5c97"
          }
        },
        "b56af1e616764dd0bf3fba3593cf6c5f": {
          "model_module": "@jupyter-widgets/controls",
          "model_name": "FloatProgressModel",
          "model_module_version": "1.5.0",
          "state": {
            "_view_name": "ProgressView",
            "style": "IPY_MODEL_6045d81956e542ffa76a376fd0849ce2",
            "_dom_classes": [],
            "description": "",
            "_model_name": "FloatProgressModel",
            "bar_style": "info",
            "max": 1,
            "_view_module": "@jupyter-widgets/controls",
            "_model_module_version": "1.5.0",
            "value": 1,
            "_view_count": null,
            "_view_module_version": "1.5.0",
            "orientation": "horizontal",
            "min": 0,
            "description_tooltip": null,
            "_model_module": "@jupyter-widgets/controls",
            "layout": "IPY_MODEL_e28b89cf6f9f4ff6930389947b8c470c"
          }
        },
        "27f76282759b44f0808159936f9aead2": {
          "model_module": "@jupyter-widgets/controls",
          "model_name": "HTMLModel",
          "model_module_version": "1.5.0",
          "state": {
            "_view_name": "HTMLView",
            "style": "IPY_MODEL_090891c3b81244c7955bd69ec32f1bec",
            "_dom_classes": [],
            "description": "",
            "_model_name": "HTMLModel",
            "placeholder": "​",
            "_view_module": "@jupyter-widgets/controls",
            "_model_module_version": "1.5.0",
            "value": " 49755/0 [00:12&lt;00:00, 6810.48 examples/s]",
            "_view_count": null,
            "_view_module_version": "1.5.0",
            "description_tooltip": null,
            "_model_module": "@jupyter-widgets/controls",
            "layout": "IPY_MODEL_5f45646216974c498e9c2e1fbaeb056c"
          }
        },
        "21022a9c544a406fa8fe0f8efb47abae": {
          "model_module": "@jupyter-widgets/controls",
          "model_name": "DescriptionStyleModel",
          "model_module_version": "1.5.0",
          "state": {
            "_view_name": "StyleView",
            "_model_name": "DescriptionStyleModel",
            "description_width": "",
            "_view_module": "@jupyter-widgets/base",
            "_model_module_version": "1.5.0",
            "_view_count": null,
            "_view_module_version": "1.2.0",
            "_model_module": "@jupyter-widgets/controls"
          }
        },
        "c108b76f6e834d8898b01027045a5c97": {
          "model_module": "@jupyter-widgets/base",
          "model_name": "LayoutModel",
          "model_module_version": "1.2.0",
          "state": {
            "_view_name": "LayoutView",
            "grid_template_rows": null,
            "right": null,
            "justify_content": null,
            "_view_module": "@jupyter-widgets/base",
            "overflow": null,
            "_model_module_version": "1.2.0",
            "_view_count": null,
            "flex_flow": null,
            "width": null,
            "min_width": null,
            "border": null,
            "align_items": null,
            "bottom": null,
            "_model_module": "@jupyter-widgets/base",
            "top": null,
            "grid_column": null,
            "overflow_y": null,
            "overflow_x": null,
            "grid_auto_flow": null,
            "grid_area": null,
            "grid_template_columns": null,
            "flex": null,
            "_model_name": "LayoutModel",
            "justify_items": null,
            "grid_row": null,
            "max_height": null,
            "align_content": null,
            "visibility": null,
            "align_self": null,
            "height": null,
            "min_height": null,
            "padding": null,
            "grid_auto_rows": null,
            "grid_gap": null,
            "max_width": null,
            "order": null,
            "_view_module_version": "1.2.0",
            "grid_template_areas": null,
            "object_position": null,
            "object_fit": null,
            "grid_auto_columns": null,
            "margin": null,
            "display": null,
            "left": null
          }
        },
        "6045d81956e542ffa76a376fd0849ce2": {
          "model_module": "@jupyter-widgets/controls",
          "model_name": "ProgressStyleModel",
          "model_module_version": "1.5.0",
          "state": {
            "_view_name": "StyleView",
            "_model_name": "ProgressStyleModel",
            "description_width": "",
            "_view_module": "@jupyter-widgets/base",
            "_model_module_version": "1.5.0",
            "_view_count": null,
            "_view_module_version": "1.2.0",
            "bar_color": null,
            "_model_module": "@jupyter-widgets/controls"
          }
        },
        "e28b89cf6f9f4ff6930389947b8c470c": {
          "model_module": "@jupyter-widgets/base",
          "model_name": "LayoutModel",
          "model_module_version": "1.2.0",
          "state": {
            "_view_name": "LayoutView",
            "grid_template_rows": null,
            "right": null,
            "justify_content": null,
            "_view_module": "@jupyter-widgets/base",
            "overflow": null,
            "_model_module_version": "1.2.0",
            "_view_count": null,
            "flex_flow": null,
            "width": "20px",
            "min_width": null,
            "border": null,
            "align_items": null,
            "bottom": null,
            "_model_module": "@jupyter-widgets/base",
            "top": null,
            "grid_column": null,
            "overflow_y": null,
            "overflow_x": null,
            "grid_auto_flow": null,
            "grid_area": null,
            "grid_template_columns": null,
            "flex": null,
            "_model_name": "LayoutModel",
            "justify_items": null,
            "grid_row": null,
            "max_height": null,
            "align_content": null,
            "visibility": null,
            "align_self": null,
            "height": null,
            "min_height": null,
            "padding": null,
            "grid_auto_rows": null,
            "grid_gap": null,
            "max_width": null,
            "order": null,
            "_view_module_version": "1.2.0",
            "grid_template_areas": null,
            "object_position": null,
            "object_fit": null,
            "grid_auto_columns": null,
            "margin": null,
            "display": null,
            "left": null
          }
        },
        "090891c3b81244c7955bd69ec32f1bec": {
          "model_module": "@jupyter-widgets/controls",
          "model_name": "DescriptionStyleModel",
          "model_module_version": "1.5.0",
          "state": {
            "_view_name": "StyleView",
            "_model_name": "DescriptionStyleModel",
            "description_width": "",
            "_view_module": "@jupyter-widgets/base",
            "_model_module_version": "1.5.0",
            "_view_count": null,
            "_view_module_version": "1.2.0",
            "_model_module": "@jupyter-widgets/controls"
          }
        },
        "5f45646216974c498e9c2e1fbaeb056c": {
          "model_module": "@jupyter-widgets/base",
          "model_name": "LayoutModel",
          "model_module_version": "1.2.0",
          "state": {
            "_view_name": "LayoutView",
            "grid_template_rows": null,
            "right": null,
            "justify_content": null,
            "_view_module": "@jupyter-widgets/base",
            "overflow": null,
            "_model_module_version": "1.2.0",
            "_view_count": null,
            "flex_flow": null,
            "width": null,
            "min_width": null,
            "border": null,
            "align_items": null,
            "bottom": null,
            "_model_module": "@jupyter-widgets/base",
            "top": null,
            "grid_column": null,
            "overflow_y": null,
            "overflow_x": null,
            "grid_auto_flow": null,
            "grid_area": null,
            "grid_template_columns": null,
            "flex": null,
            "_model_name": "LayoutModel",
            "justify_items": null,
            "grid_row": null,
            "max_height": null,
            "align_content": null,
            "visibility": null,
            "align_self": null,
            "height": null,
            "min_height": null,
            "padding": null,
            "grid_auto_rows": null,
            "grid_gap": null,
            "max_width": null,
            "order": null,
            "_view_module_version": "1.2.0",
            "grid_template_areas": null,
            "object_position": null,
            "object_fit": null,
            "grid_auto_columns": null,
            "margin": null,
            "display": null,
            "left": null
          }
        },
        "7c449fd2f2de4bbc9ae58f8f8f443871": {
          "model_module": "@jupyter-widgets/controls",
          "model_name": "HBoxModel",
          "model_module_version": "1.5.0",
          "state": {
            "_view_name": "HBoxView",
            "_dom_classes": [],
            "_model_name": "HBoxModel",
            "_view_module": "@jupyter-widgets/controls",
            "_model_module_version": "1.5.0",
            "_view_count": null,
            "_view_module_version": "1.5.0",
            "box_style": "",
            "layout": "IPY_MODEL_62acab3b5bb741b2abcdcae98845c978",
            "_model_module": "@jupyter-widgets/controls",
            "children": [
              "IPY_MODEL_b8d959012362490eb274a81016921c1c",
              "IPY_MODEL_fca4325afb364dd0bcf9b18fc727556a",
              "IPY_MODEL_71bde3835ca9419199d50fa6dc0b3b25"
            ]
          }
        },
        "62acab3b5bb741b2abcdcae98845c978": {
          "model_module": "@jupyter-widgets/base",
          "model_name": "LayoutModel",
          "model_module_version": "1.2.0",
          "state": {
            "_view_name": "LayoutView",
            "grid_template_rows": null,
            "right": null,
            "justify_content": null,
            "_view_module": "@jupyter-widgets/base",
            "overflow": null,
            "_model_module_version": "1.2.0",
            "_view_count": null,
            "flex_flow": null,
            "width": null,
            "min_width": null,
            "border": null,
            "align_items": null,
            "bottom": null,
            "_model_module": "@jupyter-widgets/base",
            "top": null,
            "grid_column": null,
            "overflow_y": null,
            "overflow_x": null,
            "grid_auto_flow": null,
            "grid_area": null,
            "grid_template_columns": null,
            "flex": null,
            "_model_name": "LayoutModel",
            "justify_items": null,
            "grid_row": null,
            "max_height": null,
            "align_content": null,
            "visibility": null,
            "align_self": null,
            "height": null,
            "min_height": null,
            "padding": null,
            "grid_auto_rows": null,
            "grid_gap": null,
            "max_width": null,
            "order": null,
            "_view_module_version": "1.2.0",
            "grid_template_areas": null,
            "object_position": null,
            "object_fit": null,
            "grid_auto_columns": null,
            "margin": null,
            "display": null,
            "left": null
          }
        },
        "b8d959012362490eb274a81016921c1c": {
          "model_module": "@jupyter-widgets/controls",
          "model_name": "HTMLModel",
          "model_module_version": "1.5.0",
          "state": {
            "_view_name": "HTMLView",
            "style": "IPY_MODEL_31d9d44879dd4d9197802a944202ec27",
            "_dom_classes": [],
            "description": "",
            "_model_name": "HTMLModel",
            "placeholder": "​",
            "_view_module": "@jupyter-widgets/controls",
            "_model_module_version": "1.5.0",
            "value": "100%",
            "_view_count": null,
            "_view_module_version": "1.5.0",
            "description_tooltip": null,
            "_model_module": "@jupyter-widgets/controls",
            "layout": "IPY_MODEL_eec44aa63d45471bb7282a23c620e607"
          }
        },
        "fca4325afb364dd0bcf9b18fc727556a": {
          "model_module": "@jupyter-widgets/controls",
          "model_name": "FloatProgressModel",
          "model_module_version": "1.5.0",
          "state": {
            "_view_name": "ProgressView",
            "style": "IPY_MODEL_c3ec7f463fb449f189d0ee32722ba596",
            "_dom_classes": [],
            "description": "",
            "_model_name": "FloatProgressModel",
            "bar_style": "success",
            "max": 3,
            "_view_module": "@jupyter-widgets/controls",
            "_model_module_version": "1.5.0",
            "value": 3,
            "_view_count": null,
            "_view_module_version": "1.5.0",
            "orientation": "horizontal",
            "min": 0,
            "description_tooltip": null,
            "_model_module": "@jupyter-widgets/controls",
            "layout": "IPY_MODEL_8e323084865043f498547f1ed7f834fe"
          }
        },
        "71bde3835ca9419199d50fa6dc0b3b25": {
          "model_module": "@jupyter-widgets/controls",
          "model_name": "HTMLModel",
          "model_module_version": "1.5.0",
          "state": {
            "_view_name": "HTMLView",
            "style": "IPY_MODEL_ae5009cd1541460d993169c50cf7fae7",
            "_dom_classes": [],
            "description": "",
            "_model_name": "HTMLModel",
            "placeholder": "​",
            "_view_module": "@jupyter-widgets/controls",
            "_model_module_version": "1.5.0",
            "value": " 3/3 [00:00&lt;00:00, 69.36it/s]",
            "_view_count": null,
            "_view_module_version": "1.5.0",
            "description_tooltip": null,
            "_model_module": "@jupyter-widgets/controls",
            "layout": "IPY_MODEL_4d0098f6be4b4ca99db2be08317a6351"
          }
        },
        "31d9d44879dd4d9197802a944202ec27": {
          "model_module": "@jupyter-widgets/controls",
          "model_name": "DescriptionStyleModel",
          "model_module_version": "1.5.0",
          "state": {
            "_view_name": "StyleView",
            "_model_name": "DescriptionStyleModel",
            "description_width": "",
            "_view_module": "@jupyter-widgets/base",
            "_model_module_version": "1.5.0",
            "_view_count": null,
            "_view_module_version": "1.2.0",
            "_model_module": "@jupyter-widgets/controls"
          }
        },
        "eec44aa63d45471bb7282a23c620e607": {
          "model_module": "@jupyter-widgets/base",
          "model_name": "LayoutModel",
          "model_module_version": "1.2.0",
          "state": {
            "_view_name": "LayoutView",
            "grid_template_rows": null,
            "right": null,
            "justify_content": null,
            "_view_module": "@jupyter-widgets/base",
            "overflow": null,
            "_model_module_version": "1.2.0",
            "_view_count": null,
            "flex_flow": null,
            "width": null,
            "min_width": null,
            "border": null,
            "align_items": null,
            "bottom": null,
            "_model_module": "@jupyter-widgets/base",
            "top": null,
            "grid_column": null,
            "overflow_y": null,
            "overflow_x": null,
            "grid_auto_flow": null,
            "grid_area": null,
            "grid_template_columns": null,
            "flex": null,
            "_model_name": "LayoutModel",
            "justify_items": null,
            "grid_row": null,
            "max_height": null,
            "align_content": null,
            "visibility": null,
            "align_self": null,
            "height": null,
            "min_height": null,
            "padding": null,
            "grid_auto_rows": null,
            "grid_gap": null,
            "max_width": null,
            "order": null,
            "_view_module_version": "1.2.0",
            "grid_template_areas": null,
            "object_position": null,
            "object_fit": null,
            "grid_auto_columns": null,
            "margin": null,
            "display": null,
            "left": null
          }
        },
        "c3ec7f463fb449f189d0ee32722ba596": {
          "model_module": "@jupyter-widgets/controls",
          "model_name": "ProgressStyleModel",
          "model_module_version": "1.5.0",
          "state": {
            "_view_name": "StyleView",
            "_model_name": "ProgressStyleModel",
            "description_width": "",
            "_view_module": "@jupyter-widgets/base",
            "_model_module_version": "1.5.0",
            "_view_count": null,
            "_view_module_version": "1.2.0",
            "bar_color": null,
            "_model_module": "@jupyter-widgets/controls"
          }
        },
        "8e323084865043f498547f1ed7f834fe": {
          "model_module": "@jupyter-widgets/base",
          "model_name": "LayoutModel",
          "model_module_version": "1.2.0",
          "state": {
            "_view_name": "LayoutView",
            "grid_template_rows": null,
            "right": null,
            "justify_content": null,
            "_view_module": "@jupyter-widgets/base",
            "overflow": null,
            "_model_module_version": "1.2.0",
            "_view_count": null,
            "flex_flow": null,
            "width": null,
            "min_width": null,
            "border": null,
            "align_items": null,
            "bottom": null,
            "_model_module": "@jupyter-widgets/base",
            "top": null,
            "grid_column": null,
            "overflow_y": null,
            "overflow_x": null,
            "grid_auto_flow": null,
            "grid_area": null,
            "grid_template_columns": null,
            "flex": null,
            "_model_name": "LayoutModel",
            "justify_items": null,
            "grid_row": null,
            "max_height": null,
            "align_content": null,
            "visibility": null,
            "align_self": null,
            "height": null,
            "min_height": null,
            "padding": null,
            "grid_auto_rows": null,
            "grid_gap": null,
            "max_width": null,
            "order": null,
            "_view_module_version": "1.2.0",
            "grid_template_areas": null,
            "object_position": null,
            "object_fit": null,
            "grid_auto_columns": null,
            "margin": null,
            "display": null,
            "left": null
          }
        },
        "ae5009cd1541460d993169c50cf7fae7": {
          "model_module": "@jupyter-widgets/controls",
          "model_name": "DescriptionStyleModel",
          "model_module_version": "1.5.0",
          "state": {
            "_view_name": "StyleView",
            "_model_name": "DescriptionStyleModel",
            "description_width": "",
            "_view_module": "@jupyter-widgets/base",
            "_model_module_version": "1.5.0",
            "_view_count": null,
            "_view_module_version": "1.2.0",
            "_model_module": "@jupyter-widgets/controls"
          }
        },
        "4d0098f6be4b4ca99db2be08317a6351": {
          "model_module": "@jupyter-widgets/base",
          "model_name": "LayoutModel",
          "model_module_version": "1.2.0",
          "state": {
            "_view_name": "LayoutView",
            "grid_template_rows": null,
            "right": null,
            "justify_content": null,
            "_view_module": "@jupyter-widgets/base",
            "overflow": null,
            "_model_module_version": "1.2.0",
            "_view_count": null,
            "flex_flow": null,
            "width": null,
            "min_width": null,
            "border": null,
            "align_items": null,
            "bottom": null,
            "_model_module": "@jupyter-widgets/base",
            "top": null,
            "grid_column": null,
            "overflow_y": null,
            "overflow_x": null,
            "grid_auto_flow": null,
            "grid_area": null,
            "grid_template_columns": null,
            "flex": null,
            "_model_name": "LayoutModel",
            "justify_items": null,
            "grid_row": null,
            "max_height": null,
            "align_content": null,
            "visibility": null,
            "align_self": null,
            "height": null,
            "min_height": null,
            "padding": null,
            "grid_auto_rows": null,
            "grid_gap": null,
            "max_width": null,
            "order": null,
            "_view_module_version": "1.2.0",
            "grid_template_areas": null,
            "object_position": null,
            "object_fit": null,
            "grid_auto_columns": null,
            "margin": null,
            "display": null,
            "left": null
          }
        },
        "2285d023befc43c1a524c688cc2161fc": {
          "model_module": "@jupyter-widgets/controls",
          "model_name": "HBoxModel",
          "model_module_version": "1.5.0",
          "state": {
            "_view_name": "HBoxView",
            "_dom_classes": [],
            "_model_name": "HBoxModel",
            "_view_module": "@jupyter-widgets/controls",
            "_model_module_version": "1.5.0",
            "_view_count": null,
            "_view_module_version": "1.5.0",
            "box_style": "",
            "layout": "IPY_MODEL_3136b55fc78e4b178be96020255b3bd0",
            "_model_module": "@jupyter-widgets/controls",
            "children": [
              "IPY_MODEL_6f0523ed5f864cf2a8950267e760d508",
              "IPY_MODEL_abe51db64680492891403bc79d925eda",
              "IPY_MODEL_b65a641d683749daa9bf92409267fc2a"
            ]
          }
        },
        "3136b55fc78e4b178be96020255b3bd0": {
          "model_module": "@jupyter-widgets/base",
          "model_name": "LayoutModel",
          "model_module_version": "1.2.0",
          "state": {
            "_view_name": "LayoutView",
            "grid_template_rows": null,
            "right": null,
            "justify_content": null,
            "_view_module": "@jupyter-widgets/base",
            "overflow": null,
            "_model_module_version": "1.2.0",
            "_view_count": null,
            "flex_flow": null,
            "width": null,
            "min_width": null,
            "border": null,
            "align_items": null,
            "bottom": null,
            "_model_module": "@jupyter-widgets/base",
            "top": null,
            "grid_column": null,
            "overflow_y": null,
            "overflow_x": null,
            "grid_auto_flow": null,
            "grid_area": null,
            "grid_template_columns": null,
            "flex": null,
            "_model_name": "LayoutModel",
            "justify_items": null,
            "grid_row": null,
            "max_height": null,
            "align_content": null,
            "visibility": null,
            "align_self": null,
            "height": null,
            "min_height": null,
            "padding": null,
            "grid_auto_rows": null,
            "grid_gap": null,
            "max_width": null,
            "order": null,
            "_view_module_version": "1.2.0",
            "grid_template_areas": null,
            "object_position": null,
            "object_fit": null,
            "grid_auto_columns": null,
            "margin": null,
            "display": null,
            "left": null
          }
        },
        "6f0523ed5f864cf2a8950267e760d508": {
          "model_module": "@jupyter-widgets/controls",
          "model_name": "HTMLModel",
          "model_module_version": "1.5.0",
          "state": {
            "_view_name": "HTMLView",
            "style": "IPY_MODEL_8c34d53150354c698f08a16728e13ffd",
            "_dom_classes": [],
            "description": "",
            "_model_name": "HTMLModel",
            "placeholder": "​",
            "_view_module": "@jupyter-widgets/controls",
            "_model_module_version": "1.5.0",
            "value": "Downloading: ",
            "_view_count": null,
            "_view_module_version": "1.5.0",
            "description_tooltip": null,
            "_model_module": "@jupyter-widgets/controls",
            "layout": "IPY_MODEL_1bf0d448ab0a4612a72e98766fc77395"
          }
        },
        "abe51db64680492891403bc79d925eda": {
          "model_module": "@jupyter-widgets/controls",
          "model_name": "FloatProgressModel",
          "model_module_version": "1.5.0",
          "state": {
            "_view_name": "ProgressView",
            "style": "IPY_MODEL_ffeb9c09c73d48848239072f37e83194",
            "_dom_classes": [],
            "description": "",
            "_model_name": "FloatProgressModel",
            "bar_style": "success",
            "max": 2778,
            "_view_module": "@jupyter-widgets/controls",
            "_model_module_version": "1.5.0",
            "value": 2778,
            "_view_count": null,
            "_view_module_version": "1.5.0",
            "orientation": "horizontal",
            "min": 0,
            "description_tooltip": null,
            "_model_module": "@jupyter-widgets/controls",
            "layout": "IPY_MODEL_007eb65a01ba455eab898a1fde4b122a"
          }
        },
        "b65a641d683749daa9bf92409267fc2a": {
          "model_module": "@jupyter-widgets/controls",
          "model_name": "HTMLModel",
          "model_module_version": "1.5.0",
          "state": {
            "_view_name": "HTMLView",
            "style": "IPY_MODEL_9058db167c234b1387dfdcaa0a07c17b",
            "_dom_classes": [],
            "description": "",
            "_model_name": "HTMLModel",
            "placeholder": "​",
            "_view_module": "@jupyter-widgets/controls",
            "_model_module_version": "1.5.0",
            "value": " 7.45k/? [00:00&lt;00:00, 211kB/s]",
            "_view_count": null,
            "_view_module_version": "1.5.0",
            "description_tooltip": null,
            "_model_module": "@jupyter-widgets/controls",
            "layout": "IPY_MODEL_5cf450516f6842199344879f9dcfe71f"
          }
        },
        "8c34d53150354c698f08a16728e13ffd": {
          "model_module": "@jupyter-widgets/controls",
          "model_name": "DescriptionStyleModel",
          "model_module_version": "1.5.0",
          "state": {
            "_view_name": "StyleView",
            "_model_name": "DescriptionStyleModel",
            "description_width": "",
            "_view_module": "@jupyter-widgets/base",
            "_model_module_version": "1.5.0",
            "_view_count": null,
            "_view_module_version": "1.2.0",
            "_model_module": "@jupyter-widgets/controls"
          }
        },
        "1bf0d448ab0a4612a72e98766fc77395": {
          "model_module": "@jupyter-widgets/base",
          "model_name": "LayoutModel",
          "model_module_version": "1.2.0",
          "state": {
            "_view_name": "LayoutView",
            "grid_template_rows": null,
            "right": null,
            "justify_content": null,
            "_view_module": "@jupyter-widgets/base",
            "overflow": null,
            "_model_module_version": "1.2.0",
            "_view_count": null,
            "flex_flow": null,
            "width": null,
            "min_width": null,
            "border": null,
            "align_items": null,
            "bottom": null,
            "_model_module": "@jupyter-widgets/base",
            "top": null,
            "grid_column": null,
            "overflow_y": null,
            "overflow_x": null,
            "grid_auto_flow": null,
            "grid_area": null,
            "grid_template_columns": null,
            "flex": null,
            "_model_name": "LayoutModel",
            "justify_items": null,
            "grid_row": null,
            "max_height": null,
            "align_content": null,
            "visibility": null,
            "align_self": null,
            "height": null,
            "min_height": null,
            "padding": null,
            "grid_auto_rows": null,
            "grid_gap": null,
            "max_width": null,
            "order": null,
            "_view_module_version": "1.2.0",
            "grid_template_areas": null,
            "object_position": null,
            "object_fit": null,
            "grid_auto_columns": null,
            "margin": null,
            "display": null,
            "left": null
          }
        },
        "ffeb9c09c73d48848239072f37e83194": {
          "model_module": "@jupyter-widgets/controls",
          "model_name": "ProgressStyleModel",
          "model_module_version": "1.5.0",
          "state": {
            "_view_name": "StyleView",
            "_model_name": "ProgressStyleModel",
            "description_width": "",
            "_view_module": "@jupyter-widgets/base",
            "_model_module_version": "1.5.0",
            "_view_count": null,
            "_view_module_version": "1.2.0",
            "bar_color": null,
            "_model_module": "@jupyter-widgets/controls"
          }
        },
        "007eb65a01ba455eab898a1fde4b122a": {
          "model_module": "@jupyter-widgets/base",
          "model_name": "LayoutModel",
          "model_module_version": "1.2.0",
          "state": {
            "_view_name": "LayoutView",
            "grid_template_rows": null,
            "right": null,
            "justify_content": null,
            "_view_module": "@jupyter-widgets/base",
            "overflow": null,
            "_model_module_version": "1.2.0",
            "_view_count": null,
            "flex_flow": null,
            "width": null,
            "min_width": null,
            "border": null,
            "align_items": null,
            "bottom": null,
            "_model_module": "@jupyter-widgets/base",
            "top": null,
            "grid_column": null,
            "overflow_y": null,
            "overflow_x": null,
            "grid_auto_flow": null,
            "grid_area": null,
            "grid_template_columns": null,
            "flex": null,
            "_model_name": "LayoutModel",
            "justify_items": null,
            "grid_row": null,
            "max_height": null,
            "align_content": null,
            "visibility": null,
            "align_self": null,
            "height": null,
            "min_height": null,
            "padding": null,
            "grid_auto_rows": null,
            "grid_gap": null,
            "max_width": null,
            "order": null,
            "_view_module_version": "1.2.0",
            "grid_template_areas": null,
            "object_position": null,
            "object_fit": null,
            "grid_auto_columns": null,
            "margin": null,
            "display": null,
            "left": null
          }
        },
        "9058db167c234b1387dfdcaa0a07c17b": {
          "model_module": "@jupyter-widgets/controls",
          "model_name": "DescriptionStyleModel",
          "model_module_version": "1.5.0",
          "state": {
            "_view_name": "StyleView",
            "_model_name": "DescriptionStyleModel",
            "description_width": "",
            "_view_module": "@jupyter-widgets/base",
            "_model_module_version": "1.5.0",
            "_view_count": null,
            "_view_module_version": "1.2.0",
            "_model_module": "@jupyter-widgets/controls"
          }
        },
        "5cf450516f6842199344879f9dcfe71f": {
          "model_module": "@jupyter-widgets/base",
          "model_name": "LayoutModel",
          "model_module_version": "1.2.0",
          "state": {
            "_view_name": "LayoutView",
            "grid_template_rows": null,
            "right": null,
            "justify_content": null,
            "_view_module": "@jupyter-widgets/base",
            "overflow": null,
            "_model_module_version": "1.2.0",
            "_view_count": null,
            "flex_flow": null,
            "width": null,
            "min_width": null,
            "border": null,
            "align_items": null,
            "bottom": null,
            "_model_module": "@jupyter-widgets/base",
            "top": null,
            "grid_column": null,
            "overflow_y": null,
            "overflow_x": null,
            "grid_auto_flow": null,
            "grid_area": null,
            "grid_template_columns": null,
            "flex": null,
            "_model_name": "LayoutModel",
            "justify_items": null,
            "grid_row": null,
            "max_height": null,
            "align_content": null,
            "visibility": null,
            "align_self": null,
            "height": null,
            "min_height": null,
            "padding": null,
            "grid_auto_rows": null,
            "grid_gap": null,
            "max_width": null,
            "order": null,
            "_view_module_version": "1.2.0",
            "grid_template_areas": null,
            "object_position": null,
            "object_fit": null,
            "grid_auto_columns": null,
            "margin": null,
            "display": null,
            "left": null
          }
        },
        "3c18d5360c184f9d83a33d807072aa1c": {
          "model_module": "@jupyter-widgets/controls",
          "model_name": "HBoxModel",
          "model_module_version": "1.5.0",
          "state": {
            "_view_name": "HBoxView",
            "_dom_classes": [],
            "_model_name": "HBoxModel",
            "_view_module": "@jupyter-widgets/controls",
            "_model_module_version": "1.5.0",
            "_view_count": null,
            "_view_module_version": "1.5.0",
            "box_style": "",
            "layout": "IPY_MODEL_1e8d1685432f4089815c2befbe0929c4",
            "_model_module": "@jupyter-widgets/controls",
            "children": [
              "IPY_MODEL_dba2a7154edc48d2ae07165cc9379c7f",
              "IPY_MODEL_3b310e3c391a4f3fbc832f748897b610",
              "IPY_MODEL_3aba9fdd2b484976b631f7944d038432"
            ]
          }
        },
        "1e8d1685432f4089815c2befbe0929c4": {
          "model_module": "@jupyter-widgets/base",
          "model_name": "LayoutModel",
          "model_module_version": "1.2.0",
          "state": {
            "_view_name": "LayoutView",
            "grid_template_rows": null,
            "right": null,
            "justify_content": null,
            "_view_module": "@jupyter-widgets/base",
            "overflow": null,
            "_model_module_version": "1.2.0",
            "_view_count": null,
            "flex_flow": null,
            "width": null,
            "min_width": null,
            "border": null,
            "align_items": null,
            "bottom": null,
            "_model_module": "@jupyter-widgets/base",
            "top": null,
            "grid_column": null,
            "overflow_y": null,
            "overflow_x": null,
            "grid_auto_flow": null,
            "grid_area": null,
            "grid_template_columns": null,
            "flex": null,
            "_model_name": "LayoutModel",
            "justify_items": null,
            "grid_row": null,
            "max_height": null,
            "align_content": null,
            "visibility": null,
            "align_self": null,
            "height": null,
            "min_height": null,
            "padding": null,
            "grid_auto_rows": null,
            "grid_gap": null,
            "max_width": null,
            "order": null,
            "_view_module_version": "1.2.0",
            "grid_template_areas": null,
            "object_position": null,
            "object_fit": null,
            "grid_auto_columns": null,
            "margin": null,
            "display": null,
            "left": null
          }
        },
        "dba2a7154edc48d2ae07165cc9379c7f": {
          "model_module": "@jupyter-widgets/controls",
          "model_name": "HTMLModel",
          "model_module_version": "1.5.0",
          "state": {
            "_view_name": "HTMLView",
            "style": "IPY_MODEL_6ebfa797b2464fa9a35d76c5ea99afb4",
            "_dom_classes": [],
            "description": "",
            "_model_name": "HTMLModel",
            "placeholder": "​",
            "_view_module": "@jupyter-widgets/controls",
            "_model_module_version": "1.5.0",
            "value": "Downloading: ",
            "_view_count": null,
            "_view_module_version": "1.5.0",
            "description_tooltip": null,
            "_model_module": "@jupyter-widgets/controls",
            "layout": "IPY_MODEL_391355a5fc6d4c93af16ff4753553fd2"
          }
        },
        "3b310e3c391a4f3fbc832f748897b610": {
          "model_module": "@jupyter-widgets/controls",
          "model_name": "FloatProgressModel",
          "model_module_version": "1.5.0",
          "state": {
            "_view_name": "ProgressView",
            "style": "IPY_MODEL_83d8352e9d7c4f85963637c5abec4e72",
            "_dom_classes": [],
            "description": "",
            "_model_name": "FloatProgressModel",
            "bar_style": "success",
            "max": 8959,
            "_view_module": "@jupyter-widgets/controls",
            "_model_module_version": "1.5.0",
            "value": 8959,
            "_view_count": null,
            "_view_module_version": "1.5.0",
            "orientation": "horizontal",
            "min": 0,
            "description_tooltip": null,
            "_model_module": "@jupyter-widgets/controls",
            "layout": "IPY_MODEL_924c41d524db48d292589bdbe302b58b"
          }
        },
        "3aba9fdd2b484976b631f7944d038432": {
          "model_module": "@jupyter-widgets/controls",
          "model_name": "HTMLModel",
          "model_module_version": "1.5.0",
          "state": {
            "_view_name": "HTMLView",
            "style": "IPY_MODEL_a495a3ec5bb14361b658066e26c947e4",
            "_dom_classes": [],
            "description": "",
            "_model_name": "HTMLModel",
            "placeholder": "​",
            "_view_module": "@jupyter-widgets/controls",
            "_model_module_version": "1.5.0",
            "value": " 280k/? [00:00&lt;00:00, 6.30MB/s]",
            "_view_count": null,
            "_view_module_version": "1.5.0",
            "description_tooltip": null,
            "_model_module": "@jupyter-widgets/controls",
            "layout": "IPY_MODEL_cfd885d7851c4dcd98dd2bc43ffd36c2"
          }
        },
        "6ebfa797b2464fa9a35d76c5ea99afb4": {
          "model_module": "@jupyter-widgets/controls",
          "model_name": "DescriptionStyleModel",
          "model_module_version": "1.5.0",
          "state": {
            "_view_name": "StyleView",
            "_model_name": "DescriptionStyleModel",
            "description_width": "",
            "_view_module": "@jupyter-widgets/base",
            "_model_module_version": "1.5.0",
            "_view_count": null,
            "_view_module_version": "1.2.0",
            "_model_module": "@jupyter-widgets/controls"
          }
        },
        "391355a5fc6d4c93af16ff4753553fd2": {
          "model_module": "@jupyter-widgets/base",
          "model_name": "LayoutModel",
          "model_module_version": "1.2.0",
          "state": {
            "_view_name": "LayoutView",
            "grid_template_rows": null,
            "right": null,
            "justify_content": null,
            "_view_module": "@jupyter-widgets/base",
            "overflow": null,
            "_model_module_version": "1.2.0",
            "_view_count": null,
            "flex_flow": null,
            "width": null,
            "min_width": null,
            "border": null,
            "align_items": null,
            "bottom": null,
            "_model_module": "@jupyter-widgets/base",
            "top": null,
            "grid_column": null,
            "overflow_y": null,
            "overflow_x": null,
            "grid_auto_flow": null,
            "grid_area": null,
            "grid_template_columns": null,
            "flex": null,
            "_model_name": "LayoutModel",
            "justify_items": null,
            "grid_row": null,
            "max_height": null,
            "align_content": null,
            "visibility": null,
            "align_self": null,
            "height": null,
            "min_height": null,
            "padding": null,
            "grid_auto_rows": null,
            "grid_gap": null,
            "max_width": null,
            "order": null,
            "_view_module_version": "1.2.0",
            "grid_template_areas": null,
            "object_position": null,
            "object_fit": null,
            "grid_auto_columns": null,
            "margin": null,
            "display": null,
            "left": null
          }
        },
        "83d8352e9d7c4f85963637c5abec4e72": {
          "model_module": "@jupyter-widgets/controls",
          "model_name": "ProgressStyleModel",
          "model_module_version": "1.5.0",
          "state": {
            "_view_name": "StyleView",
            "_model_name": "ProgressStyleModel",
            "description_width": "",
            "_view_module": "@jupyter-widgets/base",
            "_model_module_version": "1.5.0",
            "_view_count": null,
            "_view_module_version": "1.2.0",
            "bar_color": null,
            "_model_module": "@jupyter-widgets/controls"
          }
        },
        "924c41d524db48d292589bdbe302b58b": {
          "model_module": "@jupyter-widgets/base",
          "model_name": "LayoutModel",
          "model_module_version": "1.2.0",
          "state": {
            "_view_name": "LayoutView",
            "grid_template_rows": null,
            "right": null,
            "justify_content": null,
            "_view_module": "@jupyter-widgets/base",
            "overflow": null,
            "_model_module_version": "1.2.0",
            "_view_count": null,
            "flex_flow": null,
            "width": null,
            "min_width": null,
            "border": null,
            "align_items": null,
            "bottom": null,
            "_model_module": "@jupyter-widgets/base",
            "top": null,
            "grid_column": null,
            "overflow_y": null,
            "overflow_x": null,
            "grid_auto_flow": null,
            "grid_area": null,
            "grid_template_columns": null,
            "flex": null,
            "_model_name": "LayoutModel",
            "justify_items": null,
            "grid_row": null,
            "max_height": null,
            "align_content": null,
            "visibility": null,
            "align_self": null,
            "height": null,
            "min_height": null,
            "padding": null,
            "grid_auto_rows": null,
            "grid_gap": null,
            "max_width": null,
            "order": null,
            "_view_module_version": "1.2.0",
            "grid_template_areas": null,
            "object_position": null,
            "object_fit": null,
            "grid_auto_columns": null,
            "margin": null,
            "display": null,
            "left": null
          }
        },
        "a495a3ec5bb14361b658066e26c947e4": {
          "model_module": "@jupyter-widgets/controls",
          "model_name": "DescriptionStyleModel",
          "model_module_version": "1.5.0",
          "state": {
            "_view_name": "StyleView",
            "_model_name": "DescriptionStyleModel",
            "description_width": "",
            "_view_module": "@jupyter-widgets/base",
            "_model_module_version": "1.5.0",
            "_view_count": null,
            "_view_module_version": "1.2.0",
            "_model_module": "@jupyter-widgets/controls"
          }
        },
        "cfd885d7851c4dcd98dd2bc43ffd36c2": {
          "model_module": "@jupyter-widgets/base",
          "model_name": "LayoutModel",
          "model_module_version": "1.2.0",
          "state": {
            "_view_name": "LayoutView",
            "grid_template_rows": null,
            "right": null,
            "justify_content": null,
            "_view_module": "@jupyter-widgets/base",
            "overflow": null,
            "_model_module_version": "1.2.0",
            "_view_count": null,
            "flex_flow": null,
            "width": null,
            "min_width": null,
            "border": null,
            "align_items": null,
            "bottom": null,
            "_model_module": "@jupyter-widgets/base",
            "top": null,
            "grid_column": null,
            "overflow_y": null,
            "overflow_x": null,
            "grid_auto_flow": null,
            "grid_area": null,
            "grid_template_columns": null,
            "flex": null,
            "_model_name": "LayoutModel",
            "justify_items": null,
            "grid_row": null,
            "max_height": null,
            "align_content": null,
            "visibility": null,
            "align_self": null,
            "height": null,
            "min_height": null,
            "padding": null,
            "grid_auto_rows": null,
            "grid_gap": null,
            "max_width": null,
            "order": null,
            "_view_module_version": "1.2.0",
            "grid_template_areas": null,
            "object_position": null,
            "object_fit": null,
            "grid_auto_columns": null,
            "margin": null,
            "display": null,
            "left": null
          }
        },
        "9e884710b4894d63a16ec447b217488e": {
          "model_module": "@jupyter-widgets/controls",
          "model_name": "HBoxModel",
          "model_module_version": "1.5.0",
          "state": {
            "_view_name": "HBoxView",
            "_dom_classes": [],
            "_model_name": "HBoxModel",
            "_view_module": "@jupyter-widgets/controls",
            "_model_module_version": "1.5.0",
            "_view_count": null,
            "_view_module_version": "1.5.0",
            "box_style": "",
            "layout": "IPY_MODEL_0f3a4dc50ed744089e62b08411cef51f",
            "_model_module": "@jupyter-widgets/controls",
            "children": [
              "IPY_MODEL_2c5f99a2143844598a39f4831f30ca72",
              "IPY_MODEL_01e67ea449c546529e9f122fface8c04",
              "IPY_MODEL_2d5e5d3f9a3240408d1430b993abfa53"
            ]
          }
        },
        "0f3a4dc50ed744089e62b08411cef51f": {
          "model_module": "@jupyter-widgets/base",
          "model_name": "LayoutModel",
          "model_module_version": "1.2.0",
          "state": {
            "_view_name": "LayoutView",
            "grid_template_rows": null,
            "right": null,
            "justify_content": null,
            "_view_module": "@jupyter-widgets/base",
            "overflow": null,
            "_model_module_version": "1.2.0",
            "_view_count": null,
            "flex_flow": null,
            "width": null,
            "min_width": null,
            "border": null,
            "align_items": null,
            "bottom": null,
            "_model_module": "@jupyter-widgets/base",
            "top": null,
            "grid_column": null,
            "overflow_y": null,
            "overflow_x": null,
            "grid_auto_flow": null,
            "grid_area": null,
            "grid_template_columns": null,
            "flex": null,
            "_model_name": "LayoutModel",
            "justify_items": null,
            "grid_row": null,
            "max_height": null,
            "align_content": null,
            "visibility": null,
            "align_self": null,
            "height": null,
            "min_height": null,
            "padding": null,
            "grid_auto_rows": null,
            "grid_gap": null,
            "max_width": null,
            "order": null,
            "_view_module_version": "1.2.0",
            "grid_template_areas": null,
            "object_position": null,
            "object_fit": null,
            "grid_auto_columns": null,
            "margin": null,
            "display": null,
            "left": null
          }
        },
        "2c5f99a2143844598a39f4831f30ca72": {
          "model_module": "@jupyter-widgets/controls",
          "model_name": "HTMLModel",
          "model_module_version": "1.5.0",
          "state": {
            "_view_name": "HTMLView",
            "style": "IPY_MODEL_0db1f6bdbc184021a757f9c3ff479ced",
            "_dom_classes": [],
            "description": "",
            "_model_name": "HTMLModel",
            "placeholder": "​",
            "_view_module": "@jupyter-widgets/controls",
            "_model_module_version": "1.5.0",
            "value": "Downloading: 100%",
            "_view_count": null,
            "_view_module_version": "1.5.0",
            "description_tooltip": null,
            "_model_module": "@jupyter-widgets/controls",
            "layout": "IPY_MODEL_d48792944b6542c88fdfe60784db2c0a"
          }
        },
        "01e67ea449c546529e9f122fface8c04": {
          "model_module": "@jupyter-widgets/controls",
          "model_name": "FloatProgressModel",
          "model_module_version": "1.5.0",
          "state": {
            "_view_name": "ProgressView",
            "style": "IPY_MODEL_bdc27c499a9b437b82388593c1aff6f6",
            "_dom_classes": [],
            "description": "",
            "_model_name": "FloatProgressModel",
            "bar_style": "success",
            "max": 22870508,
            "_view_module": "@jupyter-widgets/controls",
            "_model_module_version": "1.5.0",
            "value": 22870508,
            "_view_count": null,
            "_view_module_version": "1.5.0",
            "orientation": "horizontal",
            "min": 0,
            "description_tooltip": null,
            "_model_module": "@jupyter-widgets/controls",
            "layout": "IPY_MODEL_26fd015d747c4c3787b81826deb3e852"
          }
        },
        "2d5e5d3f9a3240408d1430b993abfa53": {
          "model_module": "@jupyter-widgets/controls",
          "model_name": "HTMLModel",
          "model_module_version": "1.5.0",
          "state": {
            "_view_name": "HTMLView",
            "style": "IPY_MODEL_36ad5a26aedb41fda4e66bf576ac0dae",
            "_dom_classes": [],
            "description": "",
            "_model_name": "HTMLModel",
            "placeholder": "​",
            "_view_module": "@jupyter-widgets/controls",
            "_model_module_version": "1.5.0",
            "value": " 22.9M/22.9M [00:00&lt;00:00, 40.3MB/s]",
            "_view_count": null,
            "_view_module_version": "1.5.0",
            "description_tooltip": null,
            "_model_module": "@jupyter-widgets/controls",
            "layout": "IPY_MODEL_da887279ab2142d58220924b8f86b9df"
          }
        },
        "0db1f6bdbc184021a757f9c3ff479ced": {
          "model_module": "@jupyter-widgets/controls",
          "model_name": "DescriptionStyleModel",
          "model_module_version": "1.5.0",
          "state": {
            "_view_name": "StyleView",
            "_model_name": "DescriptionStyleModel",
            "description_width": "",
            "_view_module": "@jupyter-widgets/base",
            "_model_module_version": "1.5.0",
            "_view_count": null,
            "_view_module_version": "1.2.0",
            "_model_module": "@jupyter-widgets/controls"
          }
        },
        "d48792944b6542c88fdfe60784db2c0a": {
          "model_module": "@jupyter-widgets/base",
          "model_name": "LayoutModel",
          "model_module_version": "1.2.0",
          "state": {
            "_view_name": "LayoutView",
            "grid_template_rows": null,
            "right": null,
            "justify_content": null,
            "_view_module": "@jupyter-widgets/base",
            "overflow": null,
            "_model_module_version": "1.2.0",
            "_view_count": null,
            "flex_flow": null,
            "width": null,
            "min_width": null,
            "border": null,
            "align_items": null,
            "bottom": null,
            "_model_module": "@jupyter-widgets/base",
            "top": null,
            "grid_column": null,
            "overflow_y": null,
            "overflow_x": null,
            "grid_auto_flow": null,
            "grid_area": null,
            "grid_template_columns": null,
            "flex": null,
            "_model_name": "LayoutModel",
            "justify_items": null,
            "grid_row": null,
            "max_height": null,
            "align_content": null,
            "visibility": null,
            "align_self": null,
            "height": null,
            "min_height": null,
            "padding": null,
            "grid_auto_rows": null,
            "grid_gap": null,
            "max_width": null,
            "order": null,
            "_view_module_version": "1.2.0",
            "grid_template_areas": null,
            "object_position": null,
            "object_fit": null,
            "grid_auto_columns": null,
            "margin": null,
            "display": null,
            "left": null
          }
        },
        "bdc27c499a9b437b82388593c1aff6f6": {
          "model_module": "@jupyter-widgets/controls",
          "model_name": "ProgressStyleModel",
          "model_module_version": "1.5.0",
          "state": {
            "_view_name": "StyleView",
            "_model_name": "ProgressStyleModel",
            "description_width": "",
            "_view_module": "@jupyter-widgets/base",
            "_model_module_version": "1.5.0",
            "_view_count": null,
            "_view_module_version": "1.2.0",
            "bar_color": null,
            "_model_module": "@jupyter-widgets/controls"
          }
        },
        "26fd015d747c4c3787b81826deb3e852": {
          "model_module": "@jupyter-widgets/base",
          "model_name": "LayoutModel",
          "model_module_version": "1.2.0",
          "state": {
            "_view_name": "LayoutView",
            "grid_template_rows": null,
            "right": null,
            "justify_content": null,
            "_view_module": "@jupyter-widgets/base",
            "overflow": null,
            "_model_module_version": "1.2.0",
            "_view_count": null,
            "flex_flow": null,
            "width": null,
            "min_width": null,
            "border": null,
            "align_items": null,
            "bottom": null,
            "_model_module": "@jupyter-widgets/base",
            "top": null,
            "grid_column": null,
            "overflow_y": null,
            "overflow_x": null,
            "grid_auto_flow": null,
            "grid_area": null,
            "grid_template_columns": null,
            "flex": null,
            "_model_name": "LayoutModel",
            "justify_items": null,
            "grid_row": null,
            "max_height": null,
            "align_content": null,
            "visibility": null,
            "align_self": null,
            "height": null,
            "min_height": null,
            "padding": null,
            "grid_auto_rows": null,
            "grid_gap": null,
            "max_width": null,
            "order": null,
            "_view_module_version": "1.2.0",
            "grid_template_areas": null,
            "object_position": null,
            "object_fit": null,
            "grid_auto_columns": null,
            "margin": null,
            "display": null,
            "left": null
          }
        },
        "36ad5a26aedb41fda4e66bf576ac0dae": {
          "model_module": "@jupyter-widgets/controls",
          "model_name": "DescriptionStyleModel",
          "model_module_version": "1.5.0",
          "state": {
            "_view_name": "StyleView",
            "_model_name": "DescriptionStyleModel",
            "description_width": "",
            "_view_module": "@jupyter-widgets/base",
            "_model_module_version": "1.5.0",
            "_view_count": null,
            "_view_module_version": "1.2.0",
            "_model_module": "@jupyter-widgets/controls"
          }
        },
        "da887279ab2142d58220924b8f86b9df": {
          "model_module": "@jupyter-widgets/base",
          "model_name": "LayoutModel",
          "model_module_version": "1.2.0",
          "state": {
            "_view_name": "LayoutView",
            "grid_template_rows": null,
            "right": null,
            "justify_content": null,
            "_view_module": "@jupyter-widgets/base",
            "overflow": null,
            "_model_module_version": "1.2.0",
            "_view_count": null,
            "flex_flow": null,
            "width": null,
            "min_width": null,
            "border": null,
            "align_items": null,
            "bottom": null,
            "_model_module": "@jupyter-widgets/base",
            "top": null,
            "grid_column": null,
            "overflow_y": null,
            "overflow_x": null,
            "grid_auto_flow": null,
            "grid_area": null,
            "grid_template_columns": null,
            "flex": null,
            "_model_name": "LayoutModel",
            "justify_items": null,
            "grid_row": null,
            "max_height": null,
            "align_content": null,
            "visibility": null,
            "align_self": null,
            "height": null,
            "min_height": null,
            "padding": null,
            "grid_auto_rows": null,
            "grid_gap": null,
            "max_width": null,
            "order": null,
            "_view_module_version": "1.2.0",
            "grid_template_areas": null,
            "object_position": null,
            "object_fit": null,
            "grid_auto_columns": null,
            "margin": null,
            "display": null,
            "left": null
          }
        },
        "e4093d896b5e4ad5a4304f3c55849f2e": {
          "model_module": "@jupyter-widgets/controls",
          "model_name": "HBoxModel",
          "model_module_version": "1.5.0",
          "state": {
            "_view_name": "HBoxView",
            "_dom_classes": [],
            "_model_name": "HBoxModel",
            "_view_module": "@jupyter-widgets/controls",
            "_model_module_version": "1.5.0",
            "_view_count": null,
            "_view_module_version": "1.5.0",
            "box_style": "",
            "layout": "IPY_MODEL_00e4df514fd549bda59d8835c1aec564",
            "_model_module": "@jupyter-widgets/controls",
            "children": [
              "IPY_MODEL_5c0f4ec21b6b46f3a7cf10701acb4ec3",
              "IPY_MODEL_029ada64916747489e541725d052f978",
              "IPY_MODEL_a68343092fe24dacabfb5fc95892f91f"
            ]
          }
        },
        "00e4df514fd549bda59d8835c1aec564": {
          "model_module": "@jupyter-widgets/base",
          "model_name": "LayoutModel",
          "model_module_version": "1.2.0",
          "state": {
            "_view_name": "LayoutView",
            "grid_template_rows": null,
            "right": null,
            "justify_content": null,
            "_view_module": "@jupyter-widgets/base",
            "overflow": null,
            "_model_module_version": "1.2.0",
            "_view_count": null,
            "flex_flow": null,
            "width": null,
            "min_width": null,
            "border": null,
            "align_items": null,
            "bottom": null,
            "_model_module": "@jupyter-widgets/base",
            "top": null,
            "grid_column": null,
            "overflow_y": null,
            "overflow_x": null,
            "grid_auto_flow": null,
            "grid_area": null,
            "grid_template_columns": null,
            "flex": null,
            "_model_name": "LayoutModel",
            "justify_items": null,
            "grid_row": null,
            "max_height": null,
            "align_content": null,
            "visibility": null,
            "align_self": null,
            "height": null,
            "min_height": null,
            "padding": null,
            "grid_auto_rows": null,
            "grid_gap": null,
            "max_width": null,
            "order": null,
            "_view_module_version": "1.2.0",
            "grid_template_areas": null,
            "object_position": null,
            "object_fit": null,
            "grid_auto_columns": null,
            "margin": null,
            "display": null,
            "left": null
          }
        },
        "5c0f4ec21b6b46f3a7cf10701acb4ec3": {
          "model_module": "@jupyter-widgets/controls",
          "model_name": "HTMLModel",
          "model_module_version": "1.5.0",
          "state": {
            "_view_name": "HTMLView",
            "style": "IPY_MODEL_e241cdd7bdb74c4ca6a833ccb63f80a1",
            "_dom_classes": [],
            "description": "",
            "_model_name": "HTMLModel",
            "placeholder": "​",
            "_view_module": "@jupyter-widgets/controls",
            "_model_module_version": "1.5.0",
            "value": "",
            "_view_count": null,
            "_view_module_version": "1.5.0",
            "description_tooltip": null,
            "_model_module": "@jupyter-widgets/controls",
            "layout": "IPY_MODEL_6016d3c3fbac40e6b80796ee39c498ef"
          }
        },
        "029ada64916747489e541725d052f978": {
          "model_module": "@jupyter-widgets/controls",
          "model_name": "FloatProgressModel",
          "model_module_version": "1.5.0",
          "state": {
            "_view_name": "ProgressView",
            "style": "IPY_MODEL_f57f29650f00418c890c3cebad9c453c",
            "_dom_classes": [],
            "description": "",
            "_model_name": "FloatProgressModel",
            "bar_style": "info",
            "max": 1,
            "_view_module": "@jupyter-widgets/controls",
            "_model_module_version": "1.5.0",
            "value": 1,
            "_view_count": null,
            "_view_module_version": "1.5.0",
            "orientation": "horizontal",
            "min": 0,
            "description_tooltip": null,
            "_model_module": "@jupyter-widgets/controls",
            "layout": "IPY_MODEL_e8537fb5695c40aa95c790c943c8910c"
          }
        },
        "a68343092fe24dacabfb5fc95892f91f": {
          "model_module": "@jupyter-widgets/controls",
          "model_name": "HTMLModel",
          "model_module_version": "1.5.0",
          "state": {
            "_view_name": "HTMLView",
            "style": "IPY_MODEL_817ae2dd1efc4cf99238785056c68170",
            "_dom_classes": [],
            "description": "",
            "_model_name": "HTMLModel",
            "placeholder": "​",
            "_view_module": "@jupyter-widgets/controls",
            "_model_module_version": "1.5.0",
            "value": " 104633/0 [00:19&lt;00:00, 5663.50 examples/s]",
            "_view_count": null,
            "_view_module_version": "1.5.0",
            "description_tooltip": null,
            "_model_module": "@jupyter-widgets/controls",
            "layout": "IPY_MODEL_2e44d3ee4fbf4eddb988ece710942989"
          }
        },
        "e241cdd7bdb74c4ca6a833ccb63f80a1": {
          "model_module": "@jupyter-widgets/controls",
          "model_name": "DescriptionStyleModel",
          "model_module_version": "1.5.0",
          "state": {
            "_view_name": "StyleView",
            "_model_name": "DescriptionStyleModel",
            "description_width": "",
            "_view_module": "@jupyter-widgets/base",
            "_model_module_version": "1.5.0",
            "_view_count": null,
            "_view_module_version": "1.2.0",
            "_model_module": "@jupyter-widgets/controls"
          }
        },
        "6016d3c3fbac40e6b80796ee39c498ef": {
          "model_module": "@jupyter-widgets/base",
          "model_name": "LayoutModel",
          "model_module_version": "1.2.0",
          "state": {
            "_view_name": "LayoutView",
            "grid_template_rows": null,
            "right": null,
            "justify_content": null,
            "_view_module": "@jupyter-widgets/base",
            "overflow": null,
            "_model_module_version": "1.2.0",
            "_view_count": null,
            "flex_flow": null,
            "width": null,
            "min_width": null,
            "border": null,
            "align_items": null,
            "bottom": null,
            "_model_module": "@jupyter-widgets/base",
            "top": null,
            "grid_column": null,
            "overflow_y": null,
            "overflow_x": null,
            "grid_auto_flow": null,
            "grid_area": null,
            "grid_template_columns": null,
            "flex": null,
            "_model_name": "LayoutModel",
            "justify_items": null,
            "grid_row": null,
            "max_height": null,
            "align_content": null,
            "visibility": null,
            "align_self": null,
            "height": null,
            "min_height": null,
            "padding": null,
            "grid_auto_rows": null,
            "grid_gap": null,
            "max_width": null,
            "order": null,
            "_view_module_version": "1.2.0",
            "grid_template_areas": null,
            "object_position": null,
            "object_fit": null,
            "grid_auto_columns": null,
            "margin": null,
            "display": null,
            "left": null
          }
        },
        "f57f29650f00418c890c3cebad9c453c": {
          "model_module": "@jupyter-widgets/controls",
          "model_name": "ProgressStyleModel",
          "model_module_version": "1.5.0",
          "state": {
            "_view_name": "StyleView",
            "_model_name": "ProgressStyleModel",
            "description_width": "",
            "_view_module": "@jupyter-widgets/base",
            "_model_module_version": "1.5.0",
            "_view_count": null,
            "_view_module_version": "1.2.0",
            "bar_color": null,
            "_model_module": "@jupyter-widgets/controls"
          }
        },
        "e8537fb5695c40aa95c790c943c8910c": {
          "model_module": "@jupyter-widgets/base",
          "model_name": "LayoutModel",
          "model_module_version": "1.2.0",
          "state": {
            "_view_name": "LayoutView",
            "grid_template_rows": null,
            "right": null,
            "justify_content": null,
            "_view_module": "@jupyter-widgets/base",
            "overflow": null,
            "_model_module_version": "1.2.0",
            "_view_count": null,
            "flex_flow": null,
            "width": "20px",
            "min_width": null,
            "border": null,
            "align_items": null,
            "bottom": null,
            "_model_module": "@jupyter-widgets/base",
            "top": null,
            "grid_column": null,
            "overflow_y": null,
            "overflow_x": null,
            "grid_auto_flow": null,
            "grid_area": null,
            "grid_template_columns": null,
            "flex": null,
            "_model_name": "LayoutModel",
            "justify_items": null,
            "grid_row": null,
            "max_height": null,
            "align_content": null,
            "visibility": null,
            "align_self": null,
            "height": null,
            "min_height": null,
            "padding": null,
            "grid_auto_rows": null,
            "grid_gap": null,
            "max_width": null,
            "order": null,
            "_view_module_version": "1.2.0",
            "grid_template_areas": null,
            "object_position": null,
            "object_fit": null,
            "grid_auto_columns": null,
            "margin": null,
            "display": null,
            "left": null
          }
        },
        "817ae2dd1efc4cf99238785056c68170": {
          "model_module": "@jupyter-widgets/controls",
          "model_name": "DescriptionStyleModel",
          "model_module_version": "1.5.0",
          "state": {
            "_view_name": "StyleView",
            "_model_name": "DescriptionStyleModel",
            "description_width": "",
            "_view_module": "@jupyter-widgets/base",
            "_model_module_version": "1.5.0",
            "_view_count": null,
            "_view_module_version": "1.2.0",
            "_model_module": "@jupyter-widgets/controls"
          }
        },
        "2e44d3ee4fbf4eddb988ece710942989": {
          "model_module": "@jupyter-widgets/base",
          "model_name": "LayoutModel",
          "model_module_version": "1.2.0",
          "state": {
            "_view_name": "LayoutView",
            "grid_template_rows": null,
            "right": null,
            "justify_content": null,
            "_view_module": "@jupyter-widgets/base",
            "overflow": null,
            "_model_module_version": "1.2.0",
            "_view_count": null,
            "flex_flow": null,
            "width": null,
            "min_width": null,
            "border": null,
            "align_items": null,
            "bottom": null,
            "_model_module": "@jupyter-widgets/base",
            "top": null,
            "grid_column": null,
            "overflow_y": null,
            "overflow_x": null,
            "grid_auto_flow": null,
            "grid_area": null,
            "grid_template_columns": null,
            "flex": null,
            "_model_name": "LayoutModel",
            "justify_items": null,
            "grid_row": null,
            "max_height": null,
            "align_content": null,
            "visibility": null,
            "align_self": null,
            "height": null,
            "min_height": null,
            "padding": null,
            "grid_auto_rows": null,
            "grid_gap": null,
            "max_width": null,
            "order": null,
            "_view_module_version": "1.2.0",
            "grid_template_areas": null,
            "object_position": null,
            "object_fit": null,
            "grid_auto_columns": null,
            "margin": null,
            "display": null,
            "left": null
          }
        },
        "2664dd3087ae40adaf83d14147cd463c": {
          "model_module": "@jupyter-widgets/controls",
          "model_name": "HBoxModel",
          "model_module_version": "1.5.0",
          "state": {
            "_view_name": "HBoxView",
            "_dom_classes": [],
            "_model_name": "HBoxModel",
            "_view_module": "@jupyter-widgets/controls",
            "_model_module_version": "1.5.0",
            "_view_count": null,
            "_view_module_version": "1.5.0",
            "box_style": "",
            "layout": "IPY_MODEL_a1dc98cf9b3940898a342c20fd1db1d5",
            "_model_module": "@jupyter-widgets/controls",
            "children": [
              "IPY_MODEL_1da61676e16e4e539fc9903de79d0329",
              "IPY_MODEL_f361c5c8a2dc47e1b90a524146cd6e8e",
              "IPY_MODEL_2af58daea5054db8957004e518f4664c"
            ]
          }
        },
        "a1dc98cf9b3940898a342c20fd1db1d5": {
          "model_module": "@jupyter-widgets/base",
          "model_name": "LayoutModel",
          "model_module_version": "1.2.0",
          "state": {
            "_view_name": "LayoutView",
            "grid_template_rows": null,
            "right": null,
            "justify_content": null,
            "_view_module": "@jupyter-widgets/base",
            "overflow": null,
            "_model_module_version": "1.2.0",
            "_view_count": null,
            "flex_flow": null,
            "width": null,
            "min_width": null,
            "border": null,
            "align_items": null,
            "bottom": null,
            "_model_module": "@jupyter-widgets/base",
            "top": null,
            "grid_column": null,
            "overflow_y": null,
            "overflow_x": null,
            "grid_auto_flow": null,
            "grid_area": null,
            "grid_template_columns": null,
            "flex": null,
            "_model_name": "LayoutModel",
            "justify_items": null,
            "grid_row": null,
            "max_height": null,
            "align_content": null,
            "visibility": null,
            "align_self": null,
            "height": null,
            "min_height": null,
            "padding": null,
            "grid_auto_rows": null,
            "grid_gap": null,
            "max_width": null,
            "order": null,
            "_view_module_version": "1.2.0",
            "grid_template_areas": null,
            "object_position": null,
            "object_fit": null,
            "grid_auto_columns": null,
            "margin": null,
            "display": null,
            "left": null
          }
        },
        "1da61676e16e4e539fc9903de79d0329": {
          "model_module": "@jupyter-widgets/controls",
          "model_name": "HTMLModel",
          "model_module_version": "1.5.0",
          "state": {
            "_view_name": "HTMLView",
            "style": "IPY_MODEL_6a5212278c6a4570a898f01634553665",
            "_dom_classes": [],
            "description": "",
            "_model_name": "HTMLModel",
            "placeholder": "​",
            "_view_module": "@jupyter-widgets/controls",
            "_model_module_version": "1.5.0",
            "value": "100%",
            "_view_count": null,
            "_view_module_version": "1.5.0",
            "description_tooltip": null,
            "_model_module": "@jupyter-widgets/controls",
            "layout": "IPY_MODEL_30e44cf0cdca4197938c4e8af7e332d1"
          }
        },
        "f361c5c8a2dc47e1b90a524146cd6e8e": {
          "model_module": "@jupyter-widgets/controls",
          "model_name": "FloatProgressModel",
          "model_module_version": "1.5.0",
          "state": {
            "_view_name": "ProgressView",
            "style": "IPY_MODEL_b2ad49b8803c4d8f9421f9c548e9ce2e",
            "_dom_classes": [],
            "description": "",
            "_model_name": "FloatProgressModel",
            "bar_style": "success",
            "max": 1,
            "_view_module": "@jupyter-widgets/controls",
            "_model_module_version": "1.5.0",
            "value": 1,
            "_view_count": null,
            "_view_module_version": "1.5.0",
            "orientation": "horizontal",
            "min": 0,
            "description_tooltip": null,
            "_model_module": "@jupyter-widgets/controls",
            "layout": "IPY_MODEL_670ff37b9cde406283c9299ab5d8d7e7"
          }
        },
        "2af58daea5054db8957004e518f4664c": {
          "model_module": "@jupyter-widgets/controls",
          "model_name": "HTMLModel",
          "model_module_version": "1.5.0",
          "state": {
            "_view_name": "HTMLView",
            "style": "IPY_MODEL_4ef9a929ad65418ea567235be91d8ace",
            "_dom_classes": [],
            "description": "",
            "_model_name": "HTMLModel",
            "placeholder": "​",
            "_view_module": "@jupyter-widgets/controls",
            "_model_module_version": "1.5.0",
            "value": " 1/1 [00:00&lt;00:00, 31.83it/s]",
            "_view_count": null,
            "_view_module_version": "1.5.0",
            "description_tooltip": null,
            "_model_module": "@jupyter-widgets/controls",
            "layout": "IPY_MODEL_39bc0fe7117748b990c27965768ed11e"
          }
        },
        "6a5212278c6a4570a898f01634553665": {
          "model_module": "@jupyter-widgets/controls",
          "model_name": "DescriptionStyleModel",
          "model_module_version": "1.5.0",
          "state": {
            "_view_name": "StyleView",
            "_model_name": "DescriptionStyleModel",
            "description_width": "",
            "_view_module": "@jupyter-widgets/base",
            "_model_module_version": "1.5.0",
            "_view_count": null,
            "_view_module_version": "1.2.0",
            "_model_module": "@jupyter-widgets/controls"
          }
        },
        "30e44cf0cdca4197938c4e8af7e332d1": {
          "model_module": "@jupyter-widgets/base",
          "model_name": "LayoutModel",
          "model_module_version": "1.2.0",
          "state": {
            "_view_name": "LayoutView",
            "grid_template_rows": null,
            "right": null,
            "justify_content": null,
            "_view_module": "@jupyter-widgets/base",
            "overflow": null,
            "_model_module_version": "1.2.0",
            "_view_count": null,
            "flex_flow": null,
            "width": null,
            "min_width": null,
            "border": null,
            "align_items": null,
            "bottom": null,
            "_model_module": "@jupyter-widgets/base",
            "top": null,
            "grid_column": null,
            "overflow_y": null,
            "overflow_x": null,
            "grid_auto_flow": null,
            "grid_area": null,
            "grid_template_columns": null,
            "flex": null,
            "_model_name": "LayoutModel",
            "justify_items": null,
            "grid_row": null,
            "max_height": null,
            "align_content": null,
            "visibility": null,
            "align_self": null,
            "height": null,
            "min_height": null,
            "padding": null,
            "grid_auto_rows": null,
            "grid_gap": null,
            "max_width": null,
            "order": null,
            "_view_module_version": "1.2.0",
            "grid_template_areas": null,
            "object_position": null,
            "object_fit": null,
            "grid_auto_columns": null,
            "margin": null,
            "display": null,
            "left": null
          }
        },
        "b2ad49b8803c4d8f9421f9c548e9ce2e": {
          "model_module": "@jupyter-widgets/controls",
          "model_name": "ProgressStyleModel",
          "model_module_version": "1.5.0",
          "state": {
            "_view_name": "StyleView",
            "_model_name": "ProgressStyleModel",
            "description_width": "",
            "_view_module": "@jupyter-widgets/base",
            "_model_module_version": "1.5.0",
            "_view_count": null,
            "_view_module_version": "1.2.0",
            "bar_color": null,
            "_model_module": "@jupyter-widgets/controls"
          }
        },
        "670ff37b9cde406283c9299ab5d8d7e7": {
          "model_module": "@jupyter-widgets/base",
          "model_name": "LayoutModel",
          "model_module_version": "1.2.0",
          "state": {
            "_view_name": "LayoutView",
            "grid_template_rows": null,
            "right": null,
            "justify_content": null,
            "_view_module": "@jupyter-widgets/base",
            "overflow": null,
            "_model_module_version": "1.2.0",
            "_view_count": null,
            "flex_flow": null,
            "width": null,
            "min_width": null,
            "border": null,
            "align_items": null,
            "bottom": null,
            "_model_module": "@jupyter-widgets/base",
            "top": null,
            "grid_column": null,
            "overflow_y": null,
            "overflow_x": null,
            "grid_auto_flow": null,
            "grid_area": null,
            "grid_template_columns": null,
            "flex": null,
            "_model_name": "LayoutModel",
            "justify_items": null,
            "grid_row": null,
            "max_height": null,
            "align_content": null,
            "visibility": null,
            "align_self": null,
            "height": null,
            "min_height": null,
            "padding": null,
            "grid_auto_rows": null,
            "grid_gap": null,
            "max_width": null,
            "order": null,
            "_view_module_version": "1.2.0",
            "grid_template_areas": null,
            "object_position": null,
            "object_fit": null,
            "grid_auto_columns": null,
            "margin": null,
            "display": null,
            "left": null
          }
        },
        "4ef9a929ad65418ea567235be91d8ace": {
          "model_module": "@jupyter-widgets/controls",
          "model_name": "DescriptionStyleModel",
          "model_module_version": "1.5.0",
          "state": {
            "_view_name": "StyleView",
            "_model_name": "DescriptionStyleModel",
            "description_width": "",
            "_view_module": "@jupyter-widgets/base",
            "_model_module_version": "1.5.0",
            "_view_count": null,
            "_view_module_version": "1.2.0",
            "_model_module": "@jupyter-widgets/controls"
          }
        },
        "39bc0fe7117748b990c27965768ed11e": {
          "model_module": "@jupyter-widgets/base",
          "model_name": "LayoutModel",
          "model_module_version": "1.2.0",
          "state": {
            "_view_name": "LayoutView",
            "grid_template_rows": null,
            "right": null,
            "justify_content": null,
            "_view_module": "@jupyter-widgets/base",
            "overflow": null,
            "_model_module_version": "1.2.0",
            "_view_count": null,
            "flex_flow": null,
            "width": null,
            "min_width": null,
            "border": null,
            "align_items": null,
            "bottom": null,
            "_model_module": "@jupyter-widgets/base",
            "top": null,
            "grid_column": null,
            "overflow_y": null,
            "overflow_x": null,
            "grid_auto_flow": null,
            "grid_area": null,
            "grid_template_columns": null,
            "flex": null,
            "_model_name": "LayoutModel",
            "justify_items": null,
            "grid_row": null,
            "max_height": null,
            "align_content": null,
            "visibility": null,
            "align_self": null,
            "height": null,
            "min_height": null,
            "padding": null,
            "grid_auto_rows": null,
            "grid_gap": null,
            "max_width": null,
            "order": null,
            "_view_module_version": "1.2.0",
            "grid_template_areas": null,
            "object_position": null,
            "object_fit": null,
            "grid_auto_columns": null,
            "margin": null,
            "display": null,
            "left": null
          }
        },
        "5c86c107abd547648bc8517738746aa4": {
          "model_module": "@jupyter-widgets/controls",
          "model_name": "HBoxModel",
          "model_module_version": "1.5.0",
          "state": {
            "_view_name": "HBoxView",
            "_dom_classes": [],
            "_model_name": "HBoxModel",
            "_view_module": "@jupyter-widgets/controls",
            "_model_module_version": "1.5.0",
            "_view_count": null,
            "_view_module_version": "1.5.0",
            "box_style": "",
            "layout": "IPY_MODEL_217a7c79dfcf4fa695dc2b3427206e5b",
            "_model_module": "@jupyter-widgets/controls",
            "children": [
              "IPY_MODEL_3ffc60f3c2aa4ec6a8decfaabb13dc3b",
              "IPY_MODEL_257af8e150bd4b3a973f8fa361f84043",
              "IPY_MODEL_6713b202eb1244778b0b5b4404f52304"
            ]
          }
        },
        "217a7c79dfcf4fa695dc2b3427206e5b": {
          "model_module": "@jupyter-widgets/base",
          "model_name": "LayoutModel",
          "model_module_version": "1.2.0",
          "state": {
            "_view_name": "LayoutView",
            "grid_template_rows": null,
            "right": null,
            "justify_content": null,
            "_view_module": "@jupyter-widgets/base",
            "overflow": null,
            "_model_module_version": "1.2.0",
            "_view_count": null,
            "flex_flow": null,
            "width": null,
            "min_width": null,
            "border": null,
            "align_items": null,
            "bottom": null,
            "_model_module": "@jupyter-widgets/base",
            "top": null,
            "grid_column": null,
            "overflow_y": null,
            "overflow_x": null,
            "grid_auto_flow": null,
            "grid_area": null,
            "grid_template_columns": null,
            "flex": null,
            "_model_name": "LayoutModel",
            "justify_items": null,
            "grid_row": null,
            "max_height": null,
            "align_content": null,
            "visibility": null,
            "align_self": null,
            "height": null,
            "min_height": null,
            "padding": null,
            "grid_auto_rows": null,
            "grid_gap": null,
            "max_width": null,
            "order": null,
            "_view_module_version": "1.2.0",
            "grid_template_areas": null,
            "object_position": null,
            "object_fit": null,
            "grid_auto_columns": null,
            "margin": null,
            "display": null,
            "left": null
          }
        },
        "3ffc60f3c2aa4ec6a8decfaabb13dc3b": {
          "model_module": "@jupyter-widgets/controls",
          "model_name": "HTMLModel",
          "model_module_version": "1.5.0",
          "state": {
            "_view_name": "HTMLView",
            "style": "IPY_MODEL_18344ecf191d4298b8ac06d6a2b08797",
            "_dom_classes": [],
            "description": "",
            "_model_name": "HTMLModel",
            "placeholder": "​",
            "_view_module": "@jupyter-widgets/controls",
            "_model_module_version": "1.5.0",
            "value": "100%",
            "_view_count": null,
            "_view_module_version": "1.5.0",
            "description_tooltip": null,
            "_model_module": "@jupyter-widgets/controls",
            "layout": "IPY_MODEL_b8c779ee22d14cafa4a6b520a59a0baf"
          }
        },
        "257af8e150bd4b3a973f8fa361f84043": {
          "model_module": "@jupyter-widgets/controls",
          "model_name": "FloatProgressModel",
          "model_module_version": "1.5.0",
          "state": {
            "_view_name": "ProgressView",
            "style": "IPY_MODEL_1dc0b151369441ef8def57ffd67a3365",
            "_dom_classes": [],
            "description": "",
            "_model_name": "FloatProgressModel",
            "bar_style": "success",
            "max": 1,
            "_view_module": "@jupyter-widgets/controls",
            "_model_module_version": "1.5.0",
            "value": 1,
            "_view_count": null,
            "_view_module_version": "1.5.0",
            "orientation": "horizontal",
            "min": 0,
            "description_tooltip": null,
            "_model_module": "@jupyter-widgets/controls",
            "layout": "IPY_MODEL_aa9b70c8e70b42cfaf54df5338a3be1d"
          }
        },
        "6713b202eb1244778b0b5b4404f52304": {
          "model_module": "@jupyter-widgets/controls",
          "model_name": "HTMLModel",
          "model_module_version": "1.5.0",
          "state": {
            "_view_name": "HTMLView",
            "style": "IPY_MODEL_cdb9a60246134c75ad43e7ca65826ed0",
            "_dom_classes": [],
            "description": "",
            "_model_name": "HTMLModel",
            "placeholder": "​",
            "_view_module": "@jupyter-widgets/controls",
            "_model_module_version": "1.5.0",
            "value": " 1/1 [00:00&lt;00:00,  5.41it/s]",
            "_view_count": null,
            "_view_module_version": "1.5.0",
            "description_tooltip": null,
            "_model_module": "@jupyter-widgets/controls",
            "layout": "IPY_MODEL_470a73cf4f5c4734b68ee3b14c01ac57"
          }
        },
        "18344ecf191d4298b8ac06d6a2b08797": {
          "model_module": "@jupyter-widgets/controls",
          "model_name": "DescriptionStyleModel",
          "model_module_version": "1.5.0",
          "state": {
            "_view_name": "StyleView",
            "_model_name": "DescriptionStyleModel",
            "description_width": "",
            "_view_module": "@jupyter-widgets/base",
            "_model_module_version": "1.5.0",
            "_view_count": null,
            "_view_module_version": "1.2.0",
            "_model_module": "@jupyter-widgets/controls"
          }
        },
        "b8c779ee22d14cafa4a6b520a59a0baf": {
          "model_module": "@jupyter-widgets/base",
          "model_name": "LayoutModel",
          "model_module_version": "1.2.0",
          "state": {
            "_view_name": "LayoutView",
            "grid_template_rows": null,
            "right": null,
            "justify_content": null,
            "_view_module": "@jupyter-widgets/base",
            "overflow": null,
            "_model_module_version": "1.2.0",
            "_view_count": null,
            "flex_flow": null,
            "width": null,
            "min_width": null,
            "border": null,
            "align_items": null,
            "bottom": null,
            "_model_module": "@jupyter-widgets/base",
            "top": null,
            "grid_column": null,
            "overflow_y": null,
            "overflow_x": null,
            "grid_auto_flow": null,
            "grid_area": null,
            "grid_template_columns": null,
            "flex": null,
            "_model_name": "LayoutModel",
            "justify_items": null,
            "grid_row": null,
            "max_height": null,
            "align_content": null,
            "visibility": null,
            "align_self": null,
            "height": null,
            "min_height": null,
            "padding": null,
            "grid_auto_rows": null,
            "grid_gap": null,
            "max_width": null,
            "order": null,
            "_view_module_version": "1.2.0",
            "grid_template_areas": null,
            "object_position": null,
            "object_fit": null,
            "grid_auto_columns": null,
            "margin": null,
            "display": null,
            "left": null
          }
        },
        "1dc0b151369441ef8def57ffd67a3365": {
          "model_module": "@jupyter-widgets/controls",
          "model_name": "ProgressStyleModel",
          "model_module_version": "1.5.0",
          "state": {
            "_view_name": "StyleView",
            "_model_name": "ProgressStyleModel",
            "description_width": "",
            "_view_module": "@jupyter-widgets/base",
            "_model_module_version": "1.5.0",
            "_view_count": null,
            "_view_module_version": "1.2.0",
            "bar_color": null,
            "_model_module": "@jupyter-widgets/controls"
          }
        },
        "aa9b70c8e70b42cfaf54df5338a3be1d": {
          "model_module": "@jupyter-widgets/base",
          "model_name": "LayoutModel",
          "model_module_version": "1.2.0",
          "state": {
            "_view_name": "LayoutView",
            "grid_template_rows": null,
            "right": null,
            "justify_content": null,
            "_view_module": "@jupyter-widgets/base",
            "overflow": null,
            "_model_module_version": "1.2.0",
            "_view_count": null,
            "flex_flow": null,
            "width": null,
            "min_width": null,
            "border": null,
            "align_items": null,
            "bottom": null,
            "_model_module": "@jupyter-widgets/base",
            "top": null,
            "grid_column": null,
            "overflow_y": null,
            "overflow_x": null,
            "grid_auto_flow": null,
            "grid_area": null,
            "grid_template_columns": null,
            "flex": null,
            "_model_name": "LayoutModel",
            "justify_items": null,
            "grid_row": null,
            "max_height": null,
            "align_content": null,
            "visibility": null,
            "align_self": null,
            "height": null,
            "min_height": null,
            "padding": null,
            "grid_auto_rows": null,
            "grid_gap": null,
            "max_width": null,
            "order": null,
            "_view_module_version": "1.2.0",
            "grid_template_areas": null,
            "object_position": null,
            "object_fit": null,
            "grid_auto_columns": null,
            "margin": null,
            "display": null,
            "left": null
          }
        },
        "cdb9a60246134c75ad43e7ca65826ed0": {
          "model_module": "@jupyter-widgets/controls",
          "model_name": "DescriptionStyleModel",
          "model_module_version": "1.5.0",
          "state": {
            "_view_name": "StyleView",
            "_model_name": "DescriptionStyleModel",
            "description_width": "",
            "_view_module": "@jupyter-widgets/base",
            "_model_module_version": "1.5.0",
            "_view_count": null,
            "_view_module_version": "1.2.0",
            "_model_module": "@jupyter-widgets/controls"
          }
        },
        "470a73cf4f5c4734b68ee3b14c01ac57": {
          "model_module": "@jupyter-widgets/base",
          "model_name": "LayoutModel",
          "model_module_version": "1.2.0",
          "state": {
            "_view_name": "LayoutView",
            "grid_template_rows": null,
            "right": null,
            "justify_content": null,
            "_view_module": "@jupyter-widgets/base",
            "overflow": null,
            "_model_module_version": "1.2.0",
            "_view_count": null,
            "flex_flow": null,
            "width": null,
            "min_width": null,
            "border": null,
            "align_items": null,
            "bottom": null,
            "_model_module": "@jupyter-widgets/base",
            "top": null,
            "grid_column": null,
            "overflow_y": null,
            "overflow_x": null,
            "grid_auto_flow": null,
            "grid_area": null,
            "grid_template_columns": null,
            "flex": null,
            "_model_name": "LayoutModel",
            "justify_items": null,
            "grid_row": null,
            "max_height": null,
            "align_content": null,
            "visibility": null,
            "align_self": null,
            "height": null,
            "min_height": null,
            "padding": null,
            "grid_auto_rows": null,
            "grid_gap": null,
            "max_width": null,
            "order": null,
            "_view_module_version": "1.2.0",
            "grid_template_areas": null,
            "object_position": null,
            "object_fit": null,
            "grid_auto_columns": null,
            "margin": null,
            "display": null,
            "left": null
          }
        }
      }
    }
  },
  "cells": [
    {
      "cell_type": "markdown",
      "metadata": {
        "id": "view-in-github",
        "colab_type": "text"
      },
      "source": [
        "<a href=\"https://colab.research.google.com/github/shekhart47/NLP-Projects/blob/master/CS329S_Problem_Set_2.ipynb\" target=\"_parent\"><img src=\"https://colab.research.google.com/assets/colab-badge.svg\" alt=\"Open In Colab\"/></a>"
      ]
    },
    {
      "cell_type": "markdown",
      "metadata": {
        "id": "ipOzcEPc58Y-"
      },
      "source": [
        "# CS329S Problem Set 2"
      ]
    },
    {
      "cell_type": "markdown",
      "metadata": {
        "id": "KO2euNRD5EyC"
      },
      "source": [
        "# Overview\n",
        "\n",
        "In the last assignment, we’ve tested some public ML systems. In this assignment, we’ll familiarize ourselves with how to train and evaluate models. In this assignment, you'll familiarize yourself with the open source HuggingFace API by evaluating fine-tuned models on a variety of criteria. "
      ]
    },
    {
      "cell_type": "markdown",
      "metadata": {
        "id": "XSss-xxY6EJJ"
      },
      "source": [
        "# Submission\n",
        "1. Click ***File > Save a Copy in Drive*** to save your own copy of the document to work in and submit.\n",
        "2. Please answer all the problems from this problem set in your Colab notebook.\n",
        "3. Submit **both** `CS329S Problem Set 2.ipynb` notebook file and `CS329S Problem Set 2.pdf` to Gradescope. \n",
        "  - To download the `CS329S Problem Set 2.ipynb`: File > Download .ipynb\n",
        "  - To download the `CS329S Problem Set 2.pdf`: File > Print\n",
        "\n",
        "Please make sure that your answers are not in collapsed cells for your PDF!\n",
        "\n",
        "**This assignment is meaty. Start early!**"
      ]
    },
    {
      "cell_type": "markdown",
      "metadata": {
        "id": "6hq906xs8LVg"
      },
      "source": [
        "\n",
        "**Tip**: You can use the colab GPU for this by selecting:\n",
        "\n",
        "> **Runtime**   →   **Change runtime type**   →   **Hardware Accelerator: GPU**\n"
      ]
    },
    {
      "cell_type": "markdown",
      "metadata": {
        "id": "xKifPThZ521X"
      },
      "source": [
        "# Part I. Understanding pretrained models\n",
        "\n",
        "Some of the HuggingFace modules that you might find useful for this assignment.\n",
        "- [`load_dataset`](https://huggingface.co/docs/datasets/loading_datasets.html)\n",
        "- [`pipelines`](https://huggingface.co/transformers/main_classes/pipelines.html)\n",
        "- [`Trainer`](https://huggingface.co/transformers/main_classes/trainer.html)"
      ]
    },
    {
      "cell_type": "markdown",
      "metadata": {
        "id": "4C8yidYS-rJ8"
      },
      "source": [
        "Run the following cells to set up the necessary prerequisites. Feel free to modify the cells to import any module you need."
      ]
    },
    {
      "cell_type": "code",
      "metadata": {
        "id": "5D27OZaf-mfP",
        "colab": {
          "base_uri": "https://localhost:8080/",
          "height": 0
        },
        "outputId": "4c0e0dbe-05b0-4967-d616-0c38caee628d"
      },
      "source": [
        "!pip install -q transformers\n",
        "!pip install -q datasets"
      ],
      "execution_count": 1,
      "outputs": [
        {
          "output_type": "stream",
          "name": "stdout",
          "text": [
            "\u001b[K     |████████████████████████████████| 3.5 MB 2.6 MB/s \n",
            "\u001b[K     |████████████████████████████████| 596 kB 35.5 MB/s \n",
            "\u001b[K     |████████████████████████████████| 895 kB 46.9 MB/s \n",
            "\u001b[K     |████████████████████████████████| 67 kB 5.3 MB/s \n",
            "\u001b[K     |████████████████████████████████| 6.8 MB 16.1 MB/s \n",
            "\u001b[K     |████████████████████████████████| 311 kB 3.4 MB/s \n",
            "\u001b[K     |████████████████████████████████| 133 kB 39.3 MB/s \n",
            "\u001b[K     |████████████████████████████████| 243 kB 44.4 MB/s \n",
            "\u001b[K     |████████████████████████████████| 1.1 MB 47.7 MB/s \n",
            "\u001b[K     |████████████████████████████████| 271 kB 63.4 MB/s \n",
            "\u001b[K     |████████████████████████████████| 94 kB 3.4 MB/s \n",
            "\u001b[K     |████████████████████████████████| 144 kB 44.1 MB/s \n",
            "\u001b[?25h"
          ]
        }
      ]
    },
    {
      "cell_type": "code",
      "metadata": {
        "id": "OrGpHY_3nFZw"
      },
      "source": [
        "import numpy as np\n",
        "import random\n",
        "\n",
        "from datasets import load_dataset\n",
        "from datasets import load_metric\n",
        "from transformers import pipeline\n",
        "from transformers import DistilBertForSequenceClassification, Trainer, TrainingArguments\n",
        "\n",
        "from sklearn.calibration import calibration_curve\n",
        "from sklearn.metrics import accuracy_score, precision_recall_fscore_support\n",
        "import matplotlib.pyplot as plt\n",
        "\n",
        "\n",
        "from pickle import load"
      ],
      "execution_count": 2,
      "outputs": []
    },
    {
      "cell_type": "markdown",
      "metadata": {
        "id": "XchTx16l8FZW"
      },
      "source": [
        "## Problem 1: Setup\n",
        "\n",
        "We’ll examine pretrained language models’ performance for the task of sentiment analysis with two classes. For Problem 1 and Problem 2 of this assignment, you’ll need to pick the following:\n",
        "\n",
        "- **Fine-tuned model**: choose one pretrained language model that has been fine-tuned on the IMDB dataset from the [HuggingFace Model Hub](https://huggingface.co/models). You can see the list of available models trained on IMDB [here](https://huggingface.co/models?search=imdb). Examples:\n",
        "    - `roberta-base-imdb` is `robert-base` that has been fine-tuned on the IMDB dataset.\n",
        "    - `distilbert-base-uncased-imdb` is `distilbert-base-uncased` that has been fine-tuned on the IMDB dataset.\n",
        "\n",
        "- **Out-of-distribution dataset**: pick a **binary label** sentiment analysis dataset that IS NOT IMDB from HuggingFace Datasets interface (some of them have more than two labels, so make sure you pick one with binary labels!). You can find the list of sentiment analysis tasks [here](https://huggingface.co/datasets?filter=task_ids:sentiment-classification).\n"
      ]
    },
    {
      "cell_type": "markdown",
      "metadata": {
        "id": "vLbLPJJc8M5w"
      },
      "source": [
        "### 1.1 Understanding your fine-tuned model [5 points]\n",
        "\n"
      ]
    },
    {
      "cell_type": "markdown",
      "metadata": {
        "id": "rMUHo5nr9tM_"
      },
      "source": [
        "#### a. (1 point) What fine-tuned model did you choose? What’s its pretrained LM counterpart?\n"
      ]
    },
    {
      "cell_type": "markdown",
      "metadata": {
        "id": "TcxVDiFR_HKA"
      },
      "source": [
        "**Answer**:\n",
        "\n",
        "I used distilbert-base-uncased as the tuned-model for this task. This model is based on pretrained Google's BERT model"
      ]
    },
    {
      "cell_type": "markdown",
      "metadata": {
        "id": "wPBzeuBF-QBz"
      },
      "source": [
        "#### b. (1 point) Is your model cased or uncased? Why did you choose that?"
      ]
    },
    {
      "cell_type": "markdown",
      "metadata": {
        "id": "V5B4eqoV_MmD"
      },
      "source": [
        "**Answer**:\n",
        "\n",
        "The distilbert-base-uncased model is uncased. This model is trained by distilling based BERT and thus has 60% less parameters than the parent model and is thus faster for inference while maintaining 95% of BERT's performance.\n",
        "\n",
        "References:\n",
        "\n",
        "https://huggingface.co/distilbert-base-uncased\n",
        "\n",
        "\n",
        "https://huggingface.co/docs/transformers/model_doc/distilbert"
      ]
    },
    {
      "cell_type": "markdown",
      "metadata": {
        "id": "E3509RkD-ghk"
      },
      "source": [
        "#### c. (3 points) What is the number of parameters in your model? You can find this number either from the original paper or write code to count its number of parameters."
      ]
    },
    {
      "cell_type": "code",
      "metadata": {
        "id": "V0GmVa2Dc64c"
      },
      "source": [
        "################## (OPTIONAL) YOUR CODE HERE ##################\n",
        "# Find the number of parameters in your model\n",
        "###############################################################"
      ],
      "execution_count": 3,
      "outputs": []
    },
    {
      "cell_type": "code",
      "source": [
        "from transformers import pipeline\n",
        "from transformers import DistilBertForSequenceClassification, Trainer, TrainingArguments\n",
        "from transformers import DistilBertModel, DistilBertConfig\n",
        "\n",
        "\n",
        "configuration = DistilBertConfig()\n",
        "\n",
        "# Initializing a model from the configuration\n",
        "model = DistilBertModel(configuration)\n",
        "\n",
        "# Accessing the model configuration\n",
        "configuration = model.config\n",
        "\n",
        "print(configuration)\n"
      ],
      "metadata": {
        "colab": {
          "base_uri": "https://localhost:8080/",
          "height": 0
        },
        "id": "4gX7rGy1OBH1",
        "outputId": "d051d5a7-74b0-46ae-da1a-f8b1244c4126"
      },
      "execution_count": 4,
      "outputs": [
        {
          "output_type": "stream",
          "name": "stdout",
          "text": [
            "DistilBertConfig {\n",
            "  \"activation\": \"gelu\",\n",
            "  \"attention_dropout\": 0.1,\n",
            "  \"dim\": 768,\n",
            "  \"dropout\": 0.1,\n",
            "  \"hidden_dim\": 3072,\n",
            "  \"initializer_range\": 0.02,\n",
            "  \"max_position_embeddings\": 512,\n",
            "  \"model_type\": \"distilbert\",\n",
            "  \"n_heads\": 12,\n",
            "  \"n_layers\": 6,\n",
            "  \"pad_token_id\": 0,\n",
            "  \"qa_dropout\": 0.1,\n",
            "  \"seq_classif_dropout\": 0.2,\n",
            "  \"sinusoidal_pos_embds\": false,\n",
            "  \"transformers_version\": \"4.16.2\",\n",
            "  \"vocab_size\": 30522\n",
            "}\n",
            "\n"
          ]
        }
      ]
    },
    {
      "cell_type": "markdown",
      "metadata": {
        "id": "u6fdXPA__NSW"
      },
      "source": [
        "**Answer**:\n",
        "\n",
        "[YOUR ANSWER HERE]"
      ]
    },
    {
      "cell_type": "markdown",
      "metadata": {
        "id": "xQfGlulX_QVa"
      },
      "source": [
        "### 1.2 Understanding the [IMDB dataset](https://ai.stanford.edu/~amaas/data/sentiment/) [3 points]\n",
        "\n",
        "**Tip**: The IMDB dataset can also be explored in the Hugging Face model hub ([IMDb](https://huggingface.co/datasets/imdb)) "
      ]
    },
    {
      "cell_type": "markdown",
      "metadata": {
        "id": "b9rxPf6KpEmm"
      },
      "source": [
        "**Example: Loading Dataset**\n",
        "\n",
        "The following cell shows how to use the HuggingFace [`Datasets`](https://github.com/huggingface/datasets) library to download and prepare the IMDb dataset. \n"
      ]
    },
    {
      "cell_type": "code",
      "metadata": {
        "id": "keZrpp3BcmHV",
        "colab": {
          "base_uri": "https://localhost:8080/",
          "height": 236,
          "referenced_widgets": [
            "b437785bcdd44e69896137bb80fb71bb",
            "55b8e45ff96c4388a994b07f740e003c",
            "69f7c39f62a54ec381c6b31f6fee19df",
            "0ccca00c4d2a42e98f4fdf9415b7c73c",
            "d7a6a54fe5524caaa2a1ac5668ebdb25",
            "14638445efb04ac8a700e4d34400e8d8",
            "f6b8bd2261894b1cb08d0c501a2d0656",
            "add2942959154cfbb0f12e7986b86775",
            "c278a04fcbb34cbc85b7da824d5a994c",
            "d8535ca93def4d5781b81b313799879e",
            "09228fff495a4ea4955d64436664fac9",
            "669a2bea904249569a9311abf62e0ee0",
            "0b9587c02bf043ac854f4527c2393e7b",
            "694566f9ad654ecdb229584b7bb460b1",
            "510755cf526748ce80118fd48c69e6bc",
            "3c4baf0c951541cda7d3980105dd43ee",
            "cfe3e9ea66ad43b2abdae6df16a2fd51",
            "3fc25762d8ab4ba0b8969616f7da4141",
            "6df74f3f1907473d851a215448c424e4",
            "95bff2373f6940b6ab4df73ee70be8f6",
            "b419cd940b1b42fe8a56e9320dfbce56",
            "bdbf589c965a473e92ed65b79a2114df",
            "0875aac0d8834352976bd396d60b3a67",
            "6a6b70e2433f46e6847586622090e9b1",
            "2288f8f588ce49e9ae9f5ca8c10c4bb9",
            "a4622370ef884b83bf12ae0ec78aff84",
            "c8592619a8b545038c391ada5de63589",
            "85ab01b090114f96ae3096a3d4d8ea27",
            "9b876b827273470e9dddc89d0d1cad18",
            "b7f01a13e0d44b40b4ecdb72334bbc6e",
            "9cfb9ef16b6a4f6d81d1321d1e72ec72",
            "f84e3368faaf4b6ba0191b6e836366df",
            "cd108f866a0e44958bffaa4eb1dc9f8f",
            "6cd31e0f47f442b5b4a4ed0ca6c85ae4",
            "4122ec322ce841b78693266f25083982",
            "54c516a1ce6648abaa290ba77001f825",
            "7d5112a1180944008d19c0a16e498759",
            "16f863d778e747bc866dc53e45d7e2ab",
            "0ed1753c0ce444d2b871312364e83730",
            "161caf18967b4fb79104fd474c2f813e",
            "7fe2065c9ae2471fb90bc766d6d3fc69",
            "c182d0798072407a8e1f7c7234cc9273",
            "7e2ba906e51f438d8273845d30302bfe",
            "f5171e148f0d4cdc87dd46bf2ccf7cb1",
            "6adfd01443fc4bfcb64ed2a6ef979576",
            "f21a544bd16f43f3a82d5a19dec6897c",
            "8e7e4ade360c49758614cf40f745941e",
            "ab2ad88e93f54d458c8bc9d217c083a6",
            "25f2493fc9c840008ef2495027e965e7",
            "02ef96f3c19745ce8d74177073f01c95",
            "783c0341679e40c18f69403d11b9b6d9",
            "912c5e3538df46d9a673f01b21cdc88e",
            "749d19b261714357940b84c2a8f26ea0",
            "06c16bd411e14920afb7803819925f9c",
            "fdae258929dd4bdc8ae52e4cd58eeb4a",
            "adbee85fea94489eaa9545a8e02a5590",
            "9636e5185a4a493ebebe6a9688cb89c8",
            "470e00a0cd4e4bc989f6050571cc5842",
            "b56af1e616764dd0bf3fba3593cf6c5f",
            "27f76282759b44f0808159936f9aead2",
            "21022a9c544a406fa8fe0f8efb47abae",
            "c108b76f6e834d8898b01027045a5c97",
            "6045d81956e542ffa76a376fd0849ce2",
            "e28b89cf6f9f4ff6930389947b8c470c",
            "090891c3b81244c7955bd69ec32f1bec",
            "5f45646216974c498e9c2e1fbaeb056c",
            "7c449fd2f2de4bbc9ae58f8f8f443871",
            "62acab3b5bb741b2abcdcae98845c978",
            "b8d959012362490eb274a81016921c1c",
            "fca4325afb364dd0bcf9b18fc727556a",
            "71bde3835ca9419199d50fa6dc0b3b25",
            "31d9d44879dd4d9197802a944202ec27",
            "eec44aa63d45471bb7282a23c620e607",
            "c3ec7f463fb449f189d0ee32722ba596",
            "8e323084865043f498547f1ed7f834fe",
            "ae5009cd1541460d993169c50cf7fae7",
            "4d0098f6be4b4ca99db2be08317a6351"
          ]
        },
        "outputId": "4690d5c6-5856-406e-fb85-8b68e68603b9"
      },
      "source": [
        "dataset = load_dataset(\"imdb\")\n",
        "\n",
        "dataset\n",
        "dataset['test'][0]"
      ],
      "execution_count": 5,
      "outputs": [
        {
          "output_type": "display_data",
          "data": {
            "application/vnd.jupyter.widget-view+json": {
              "model_id": "b437785bcdd44e69896137bb80fb71bb",
              "version_minor": 0,
              "version_major": 2
            },
            "text/plain": [
              "Downloading:   0%|          | 0.00/1.79k [00:00<?, ?B/s]"
            ]
          },
          "metadata": {}
        },
        {
          "output_type": "display_data",
          "data": {
            "application/vnd.jupyter.widget-view+json": {
              "model_id": "669a2bea904249569a9311abf62e0ee0",
              "version_minor": 0,
              "version_major": 2
            },
            "text/plain": [
              "Downloading:   0%|          | 0.00/1.05k [00:00<?, ?B/s]"
            ]
          },
          "metadata": {}
        },
        {
          "output_type": "stream",
          "name": "stdout",
          "text": [
            "Downloading and preparing dataset imdb/plain_text (download: 80.23 MiB, generated: 127.02 MiB, post-processed: Unknown size, total: 207.25 MiB) to /root/.cache/huggingface/datasets/imdb/plain_text/1.0.0/2fdd8b9bcadd6e7055e742a706876ba43f19faee861df134affd7a3f60fc38a1...\n"
          ]
        },
        {
          "output_type": "display_data",
          "data": {
            "application/vnd.jupyter.widget-view+json": {
              "model_id": "0875aac0d8834352976bd396d60b3a67",
              "version_minor": 0,
              "version_major": 2
            },
            "text/plain": [
              "Downloading:   0%|          | 0.00/84.1M [00:00<?, ?B/s]"
            ]
          },
          "metadata": {}
        },
        {
          "output_type": "display_data",
          "data": {
            "application/vnd.jupyter.widget-view+json": {
              "model_id": "6cd31e0f47f442b5b4a4ed0ca6c85ae4",
              "version_minor": 0,
              "version_major": 2
            },
            "text/plain": [
              "0 examples [00:00, ? examples/s]"
            ]
          },
          "metadata": {}
        },
        {
          "output_type": "display_data",
          "data": {
            "application/vnd.jupyter.widget-view+json": {
              "model_id": "6adfd01443fc4bfcb64ed2a6ef979576",
              "version_minor": 0,
              "version_major": 2
            },
            "text/plain": [
              "0 examples [00:00, ? examples/s]"
            ]
          },
          "metadata": {}
        },
        {
          "output_type": "display_data",
          "data": {
            "application/vnd.jupyter.widget-view+json": {
              "model_id": "adbee85fea94489eaa9545a8e02a5590",
              "version_minor": 0,
              "version_major": 2
            },
            "text/plain": [
              "0 examples [00:00, ? examples/s]"
            ]
          },
          "metadata": {}
        },
        {
          "output_type": "stream",
          "name": "stdout",
          "text": [
            "Dataset imdb downloaded and prepared to /root/.cache/huggingface/datasets/imdb/plain_text/1.0.0/2fdd8b9bcadd6e7055e742a706876ba43f19faee861df134affd7a3f60fc38a1. Subsequent calls will reuse this data.\n"
          ]
        },
        {
          "output_type": "display_data",
          "data": {
            "application/vnd.jupyter.widget-view+json": {
              "model_id": "7c449fd2f2de4bbc9ae58f8f8f443871",
              "version_minor": 0,
              "version_major": 2
            },
            "text/plain": [
              "  0%|          | 0/3 [00:00<?, ?it/s]"
            ]
          },
          "metadata": {}
        },
        {
          "output_type": "execute_result",
          "data": {
            "text/plain": [
              "{'label': 0,\n",
              " 'text': 'I love sci-fi and am willing to put up with a lot. Sci-fi movies/TV are usually underfunded, under-appreciated and misunderstood. I tried to like this, I really did, but it is to good TV sci-fi as Babylon 5 is to Star Trek (the original). Silly prosthetics, cheap cardboard sets, stilted dialogues, CG that doesn\\'t match the background, and painfully one-dimensional characters cannot be overcome with a \\'sci-fi\\' setting. (I\\'m sure there are those of you out there who think Babylon 5 is good sci-fi TV. It\\'s not. It\\'s clichéd and uninspiring.) While US viewers might like emotion and character development, sci-fi is a genre that does not take itself seriously (cf. Star Trek). It may treat important issues, yet not as a serious philosophy. It\\'s really difficult to care about the characters here as they are not simply foolish, just missing a spark of life. Their actions and reactions are wooden and predictable, often painful to watch. The makers of Earth KNOW it\\'s rubbish as they have to always say \"Gene Roddenberry\\'s Earth...\" otherwise people would not continue watching. Roddenberry\\'s ashes must be turning in their orbit as this dull, cheap, poorly edited (watching it without advert breaks really brings this home) trudging Trabant of a show lumbers into space. Spoiler. So, kill off a main character. And then bring him back as another actor. Jeeez! Dallas all over again.'}"
            ]
          },
          "metadata": {},
          "execution_count": 5
        }
      ]
    },
    {
      "cell_type": "markdown",
      "metadata": {
        "id": "BYzwSk8IpzMF"
      },
      "source": [
        "**Alternatively**, you can also read in datasets from raw text. Checkout this [tutorial](https://huggingface.co/transformers/custom_datasets.html?highlight=imdb%20rating%20dataset) for more details."
      ]
    },
    {
      "cell_type": "code",
      "metadata": {
        "id": "ccw761jyqLXf",
        "colab": {
          "base_uri": "https://localhost:8080/",
          "height": 0
        },
        "outputId": "37268065-543a-4d8d-a091-ec39527542d5"
      },
      "source": [
        "!wget http://ai.stanford.edu/~amaas/data/sentiment/aclImdb_v1.tar.gz\n",
        "!tar -xf aclImdb_v1.tar.gz"
      ],
      "execution_count": 6,
      "outputs": [
        {
          "output_type": "stream",
          "name": "stdout",
          "text": [
            "--2022-02-19 23:15:21--  http://ai.stanford.edu/~amaas/data/sentiment/aclImdb_v1.tar.gz\n",
            "Resolving ai.stanford.edu (ai.stanford.edu)... 171.64.68.10\n",
            "Connecting to ai.stanford.edu (ai.stanford.edu)|171.64.68.10|:80... connected.\n",
            "HTTP request sent, awaiting response... 200 OK\n",
            "Length: 84125825 (80M) [application/x-gzip]\n",
            "Saving to: ‘aclImdb_v1.tar.gz’\n",
            "\n",
            "aclImdb_v1.tar.gz   100%[===================>]  80.23M  25.7MB/s    in 3.9s    \n",
            "\n",
            "2022-02-19 23:15:25 (20.7 MB/s) - ‘aclImdb_v1.tar.gz’ saved [84125825/84125825]\n",
            "\n"
          ]
        }
      ]
    },
    {
      "cell_type": "code",
      "metadata": {
        "id": "Kl7u461wqUfe"
      },
      "source": [
        "from pathlib import Path\n",
        "\n",
        "def read_imdb_split(split_dir):\n",
        "    split_dir = Path(split_dir)\n",
        "    texts = []\n",
        "    labels = []\n",
        "    for label_dir in [\"pos\", \"neg\"]:\n",
        "        for text_file in (split_dir/label_dir).iterdir():\n",
        "            texts.append(text_file.read_text())\n",
        "            labels.append(0 if label_dir is \"neg\" else 1)\n",
        "\n",
        "    return texts, labels\n",
        "\n",
        "train_texts, train_labels = read_imdb_split('aclImdb/train')\n",
        "test_texts, test_labels = read_imdb_split('aclImdb/test')"
      ],
      "execution_count": 7,
      "outputs": []
    },
    {
      "cell_type": "code",
      "metadata": {
        "id": "9PE3E1M5sF-p"
      },
      "source": [
        "################## (OPTIONAL) YOUR CODE HERE ##################\n",
        "# Feel free to write your own code to import the IMDB dataset.\n",
        "###############################################################"
      ],
      "execution_count": 8,
      "outputs": []
    },
    {
      "cell_type": "markdown",
      "metadata": {
        "id": "xCkPpd6T_aYW"
      },
      "source": [
        "#### a. (1 point) Plot the reviews' lengths (word count) as a histogram for the train set, the test set, and the entire dataset.\n",
        "\n",
        "- If you need some help generating plots, checkout matplotlib [tutorial](https://matplotlib.org/3.1.1/gallery/statistics/hist.html)\n"
      ]
    },
    {
      "cell_type": "code",
      "metadata": {
        "id": "Ufh-PqqVrT4S"
      },
      "source": [
        "################## YOUR CODE HERE ##################\n",
        "# Plot the review's lengths\n",
        "####################################################"
      ],
      "execution_count": 9,
      "outputs": []
    },
    {
      "cell_type": "code",
      "source": [
        "def get_reviews_length(data):\n",
        "  text_length = [len(item) for item in data]\n",
        "  return text_length"
      ],
      "metadata": {
        "id": "-XsgMmu7O2JM"
      },
      "execution_count": 10,
      "outputs": []
    },
    {
      "cell_type": "code",
      "source": [
        "text_length_train = get_reviews_length(train_texts)\n",
        "text_length_test = get_reviews_length(test_texts)\n",
        "all_reviews = train_texts + test_texts\n",
        "all_review_length = get_reviews_length(all_reviews)"
      ],
      "metadata": {
        "id": "lUGgI9YjO41x"
      },
      "execution_count": 11,
      "outputs": []
    },
    {
      "cell_type": "code",
      "source": [
        "plt.hist(text_length_train)"
      ],
      "metadata": {
        "colab": {
          "base_uri": "https://localhost:8080/",
          "height": 353
        },
        "id": "M5cK8dNfO6fi",
        "outputId": "23aaf725-0e4d-4fd0-b92c-61332f311dbd"
      },
      "execution_count": 12,
      "outputs": [
        {
          "output_type": "execute_result",
          "data": {
            "text/plain": [
              "(array([1.7426e+04, 5.3820e+03, 1.4910e+03, 5.3500e+02, 1.4800e+02,\n",
              "        1.1000e+01, 4.0000e+00, 2.0000e+00, 0.0000e+00, 1.0000e+00]),\n",
              " array([   52. ,  1417.2,  2782.4,  4147.6,  5512.8,  6878. ,  8243.2,\n",
              "         9608.4, 10973.6, 12338.8, 13704. ]),\n",
              " <a list of 10 Patch objects>)"
            ]
          },
          "metadata": {},
          "execution_count": 12
        },
        {
          "output_type": "display_data",
          "data": {
            "image/png": "[encoded data removed]",
            "text/plain": [
              "<Figure size 432x288 with 1 Axes>"
            ]
          },
          "metadata": {
            "needs_background": "light"
          }
        }
      ]
    },
    {
      "cell_type": "code",
      "source": [
        "plt.hist(text_length_test)"
      ],
      "metadata": {
        "colab": {
          "base_uri": "https://localhost:8080/",
          "height": 353
        },
        "id": "r2YqR_DVO8Xw",
        "outputId": "48092352-0784-4d21-cf1d-42787ce32e9d"
      },
      "execution_count": 13,
      "outputs": [
        {
          "output_type": "execute_result",
          "data": {
            "text/plain": [
              "(array([1.7044e+04, 5.6340e+03, 1.5500e+03, 5.4400e+02, 2.2100e+02,\n",
              "        2.0000e+00, 1.0000e+00, 1.0000e+00, 0.0000e+00, 3.0000e+00]),\n",
              " array([   32. ,  1327.6,  2623.2,  3918.8,  5214.4,  6510. ,  7805.6,\n",
              "         9101.2, 10396.8, 11692.4, 12988. ]),\n",
              " <a list of 10 Patch objects>)"
            ]
          },
          "metadata": {},
          "execution_count": 13
        },
        {
          "output_type": "display_data",
          "data": {
            "image/png": "[encoded data removed]",
            "text/plain": [
              "<Figure size 432x288 with 1 Axes>"
            ]
          },
          "metadata": {
            "needs_background": "light"
          }
        }
      ]
    },
    {
      "cell_type": "code",
      "source": [
        "plt.hist(all_review_length)"
      ],
      "metadata": {
        "colab": {
          "base_uri": "https://localhost:8080/",
          "height": 353
        },
        "id": "O2OSFYKrO-Mt",
        "outputId": "e5423728-df00-43eb-9633-0292f63bb42a"
      },
      "execution_count": 14,
      "outputs": [
        {
          "output_type": "execute_result",
          "data": {
            "text/plain": [
              "(array([3.4883e+04, 1.0845e+04, 2.9210e+03, 1.0330e+03, 2.9300e+02,\n",
              "        1.4000e+01, 4.0000e+00, 3.0000e+00, 1.0000e+00, 3.0000e+00]),\n",
              " array([   32. ,  1399.2,  2766.4,  4133.6,  5500.8,  6868. ,  8235.2,\n",
              "         9602.4, 10969.6, 12336.8, 13704. ]),\n",
              " <a list of 10 Patch objects>)"
            ]
          },
          "metadata": {},
          "execution_count": 14
        },
        {
          "output_type": "display_data",
          "data": {
            "image/png": "[encoded data removed]",
            "text/plain": [
              "<Figure size 432x288 with 1 Axes>"
            ]
          },
          "metadata": {
            "needs_background": "light"
          }
        }
      ]
    },
    {
      "cell_type": "markdown",
      "metadata": {
        "id": "8S8evC-vBZf7"
      },
      "source": [
        "**Answer**:\n",
        "\n",
        "[YOUR ANSWER HERE]"
      ]
    },
    {
      "cell_type": "markdown",
      "metadata": {
        "id": "soruUXU8BKZP"
      },
      "source": [
        "#### b. (1 point) Report the label distribution (number of positive and negative examples) for both the train and test splits."
      ]
    },
    {
      "cell_type": "code",
      "metadata": {
        "id": "zOaBCvqJsDql"
      },
      "source": [
        "################## YOUR CODE HERE ##################\n",
        "# Find the label distributions\n",
        "####################################################"
      ],
      "execution_count": 15,
      "outputs": []
    },
    {
      "cell_type": "code",
      "source": [
        "from collections import Counter\n",
        "counter_train = Counter()\n",
        "counter_train.update(train_labels)\n",
        "print(\"Label Distribution - Train : \", counter_train)\n",
        "counter_test = Counter()\n",
        "counter_test.update(test_labels)\n",
        "print(\"Label Distribution - Test : \", counter_test)"
      ],
      "metadata": {
        "colab": {
          "base_uri": "https://localhost:8080/",
          "height": 0
        },
        "id": "wJt9bFz6PCG5",
        "outputId": "3babe4de-94b8-479a-c739-1c6bd93ab5f8"
      },
      "execution_count": 16,
      "outputs": [
        {
          "output_type": "stream",
          "name": "stdout",
          "text": [
            "Label Distribution - Train :  Counter({1: 12500, 0: 12500})\n",
            "Label Distribution - Test :  Counter({1: 12500, 0: 12500})\n"
          ]
        }
      ]
    },
    {
      "cell_type": "markdown",
      "metadata": {
        "id": "UsKx9m1mBaoK"
      },
      "source": [
        "**Answer**:\n",
        "\n",
        "[YOUR ANSWER HERE]"
      ]
    },
    {
      "cell_type": "markdown",
      "metadata": {
        "id": "1786d5r7BOmU"
      },
      "source": [
        "#### c. (1 point) What evaluation metric(s) would be appropriate for this dataset? Why?"
      ]
    },
    {
      "cell_type": "markdown",
      "metadata": {
        "id": "VkPr5BdqBbUE"
      },
      "source": [
        "**Answer**:\n",
        "\n",
        "After looking at the label distribution in the dataset, since this is a binary (sequence) classification model, we will use the following classification metrics to evaluate the model's predictions against the ground truth:\n",
        "\n",
        "1) Precision\n",
        "\n",
        "2) Recall\n",
        "\n",
        "3) Fscore"
      ]
    },
    {
      "cell_type": "markdown",
      "metadata": {
        "id": "zDWfk7-XBw1L"
      },
      "source": [
        "### 1.3 Understanding the out-of-distribution dataset [3 points]"
      ]
    },
    {
      "cell_type": "markdown",
      "metadata": {
        "id": "AUsipGHtB4wm"
      },
      "source": [
        "#### a. (1 point) What's the name of your out-of-distribution dataset? Include a link. "
      ]
    },
    {
      "cell_type": "markdown",
      "metadata": {
        "id": "HaUJLAhyCgpl"
      },
      "source": [
        "**Answer**:\n",
        "\n",
        "\n",
        "Amazon Reviews Dataset : https://s3.amazonaws.com/amazon-reviews-pds/tsv/amazon_reviews_us_Mobile_Electronics_v1_00.tsv.gz\n",
        "\n",
        "NOTE : \n",
        "The dataset is also loaded in huggigface list of datasets, so I'll be using huggingface version of this dataset, which in turn will fecth it from the above s3 bucket.  After loading the data, I will be using keras framework to build and test my model"
      ]
    },
    {
      "cell_type": "markdown",
      "metadata": {
        "id": "XIYitK61CCk-"
      },
      "source": [
        "#### b. (1 point) Describe your dataset, including its splits, its columns, and their statistics. "
      ]
    },
    {
      "cell_type": "code",
      "metadata": {
        "id": "AKsphvsDs_SG"
      },
      "source": [
        "################## YOUR CODE HERE ##################\n",
        "# Load your data and find your dataset's statistics\n",
        "####################################################"
      ],
      "execution_count": 17,
      "outputs": []
    },
    {
      "cell_type": "markdown",
      "metadata": {
        "id": "om5K9IegChbC"
      },
      "source": [
        "**Answer**:\n",
        "\n",
        "Code for the loading the dataset : \n",
        "\n",
        "NOTE : The below commands will load all the dataset from the s3 bucket with the predefined train split. We will use this dataset, to create our own train and test splits"
      ]
    },
    {
      "cell_type": "code",
      "source": [
        "from datasets import list_datasets\n",
        "from datasets import load_dataset\n",
        "import pandas as pd\n",
        "\n",
        "datasets_list = list_datasets()\n",
        "len(datasets_list)\n",
        "print(', '.join(dataset for dataset in datasets_list))"
      ],
      "metadata": {
        "colab": {
          "base_uri": "https://localhost:8080/",
          "height": 0
        },
        "id": "xW2SKNq4PX0Q",
        "outputId": "cfdf8b9e-7924-4942-d0aa-6c19ad3b7f8e"
      },
      "execution_count": 18,
      "outputs": [
        {
          "output_type": "stream",
          "name": "stdout",
          "text": [
            "acronym_identification, ade_corpus_v2, adversarial_qa, aeslc, afrikaans_ner_corpus, ag_news, ai2_arc, air_dialogue, ajgt_twitter_ar, allegro_reviews, allocine, alt, amazon_polarity, amazon_reviews_multi, amazon_us_reviews, ambig_qa, americas_nli, ami, amttl, anli, app_reviews, aqua_rat, aquamuse, ar_cov19, ar_res_reviews, ar_sarcasm, arabic_billion_words, arabic_pos_dialect, arabic_speech_corpus, arcd, arsentd_lev, art, arxiv_dataset, ascent_kb, aslg_pc12, asnq, asset, assin, assin2, atomic, autshumato, babi_qa, banking77, bbaw_egyptian, bbc_hindi_nli, bc2gm_corpus, beans, best2009, bianet, bible_para, big_patent, billsum, bing_coronavirus_query_set, biomrc, biosses, blbooks, blbooksgenre, blended_skill_talk, blimp, blog_authorship_corpus, bn_hate_speech, bnl_newspapers, bookcorpus, bookcorpusopen, boolq, bprec, break_data, brwac, bsd_ja_en, bswac, c3, c4, cail2018, caner, capes, casino, catalonia_independence, cats_vs_dogs, cawac, cbt, cc100, cc_news, ccaligned_multilingual, cdsc, cdt, cedr, cfq, chr_en, cifar10, cifar100, circa, civil_comments, clickbait_news_bg, climate_fever, clinc_oos, clue, cmrc2018, cmu_hinglish_dog, cnn_dailymail, coached_conv_pref, coarse_discourse, codah, code_search_net, code_x_glue_cc_clone_detection_big_clone_bench, code_x_glue_cc_clone_detection_poj104, code_x_glue_cc_cloze_testing_all, code_x_glue_cc_cloze_testing_maxmin, code_x_glue_cc_code_completion_line, code_x_glue_cc_code_completion_token, code_x_glue_cc_code_refinement, code_x_glue_cc_code_to_code_trans, code_x_glue_cc_defect_detection, code_x_glue_ct_code_to_text, code_x_glue_tc_nl_code_search_adv, code_x_glue_tc_text_to_code, code_x_glue_tt_text_to_text, com_qa, common_gen, common_language, common_voice, commonsense_qa, competition_math, compguesswhat, conceptnet5, conll2000, conll2002, conll2003, conllpp, consumer-finance-complaints, conv_ai, conv_ai_2, conv_ai_3, conv_questions, coqa, cord19, cornell_movie_dialog, cos_e, cosmos_qa, counter, covid_qa_castorini, covid_qa_deepset, covid_qa_ucsd, covid_tweets_japanese, covost2, cppe-5, craigslist_bargains, crawl_domain, crd3, crime_and_punish, crows_pairs, cryptonite, cs_restaurants, cuad, curiosity_dialogs, daily_dialog, dane, danish_political_comments, dart, datacommons_factcheck, dbpedia_14, dbrd, deal_or_no_dialog, definite_pronoun_resolution, dengue_filipino, dialog_re, diplomacy_detection, disaster_response_messages, discofuse, discovery, disfl_qa, doc2dial, docred, doqa, dream, drop, duorc, dutch_social, dyk, e2e_nlg, e2e_nlg_cleaned, ecb, ecthr_cases, eduge, ehealth_kd, eitb_parcc, electricity_load_diagrams, eli5, eli5_category, emea, emo, emotion, emotone_ar, empathetic_dialogues, enriched_web_nlg, eraser_multi_rc, esnli, eth_py150_open, ethos, eu_regulatory_ir, eurlex, euronews, europa_eac_tm, europa_ecdc_tm, europarl_bilingual, event2Mind, evidence_infer_treatment, exams, factckbr, fake_news_english, fake_news_filipino, farsi_news, fashion_mnist, fever, few_rel, financial_phrasebank, finer, flores, flue, food101, fquad, freebase_qa, gap, gem, generated_reviews_enth, generics_kb, german_legal_entity_recognition, germaner, germeval_14, giga_fren, gigaword, glucose, glue, gnad10, go_emotions, gooaq, google_wellformed_query, grail_qa, great_code, greek_legal_code, guardian_authorship, gutenberg_time, hans, hansards, hard, harem, has_part, hate_offensive, hate_speech18, hate_speech_filipino, hate_speech_offensive, hate_speech_pl, hate_speech_portuguese, hatexplain, hausa_voa_ner, hausa_voa_topics, hda_nli_hindi, head_qa, health_fact, hebrew_projectbenyehuda, hebrew_sentiment, hebrew_this_world, hellaswag, hendrycks_test, hind_encorp, hindi_discourse, hippocorpus, hkcancor, hlgd, hope_edi, hotpot_qa, hover, hrenwac_para, hrwac, humicroedit, hybrid_qa, hyperpartisan_news_detection, iapp_wiki_qa_squad, id_clickbait, id_liputan6, id_nergrit_corpus, id_newspapers_2018, id_panl_bppt, id_puisi, igbo_english_machine_translation, igbo_monolingual, igbo_ner, ilist, imdb, imdb_urdu_reviews, imppres, indic_glue, indonli, indonlu, inquisitive_qg, interpress_news_category_tr, interpress_news_category_tr_lite, irc_disentangle, isixhosa_ner_corpus, isizulu_ner_corpus, iwslt2017, jeopardy, jfleg, jigsaw_toxicity_pred, jigsaw_unintended_bias, jnlpba, journalists_questions, kan_hope, kannada_news, kd_conv, kde4, kelm, kilt_tasks, kilt_wikipedia, kinnews_kirnews, klue, kor_3i4k, kor_hate, kor_ner, kor_nli, kor_nlu, kor_qpair, kor_sae, kor_sarcasm, labr, lama, lambada, large_spanish_corpus, laroseda, lc_quad, lener_br, lex_glue, liar, librispeech_asr, librispeech_lm, limit, lince, linnaeus, liveqa, lj_speech, lm1b, lst20, m_lama, mac_morpho, makhzan, masakhaner, math_dataset, math_qa, matinf, mbpp, mc4, mc_taco, md_gender_bias, mdd, med_hop, medal, medical_dialog, medical_questions_pairs, menyo20k_mt, meta_woz, metooma, metrec, miam, mkb, mkqa, mlqa, mlsum, mnist, mocha, moroco, movie_rationales, mrqa, ms_marco, ms_terms, msr_genomics_kbcomp, msr_sqa, msr_text_compression, msr_zhen_translation_parity, msra_ner, mt_eng_vietnamese, muchocine, multi_booked, multi_eurlex, multi_news, multi_nli, multi_nli_mismatch, multi_para_crawl, multi_re_qa, multi_woz_v22, multi_x_science_sum, multidoc2dial, multilingual_librispeech, mutual_friends, mwsc, myanmar_news, narrativeqa, narrativeqa_manual, natural_questions, ncbi_disease, nchlt, ncslgr, nell, neural_code_search, news_commentary, newsgroup, newsph, newsph_nli, newspop, newsqa, newsroom, nkjp-ner, nli_tr, nlu_evaluation_data, norec, norne, norwegian_ner, nq_open, nsmc, numer_sense, numeric_fused_head, oclar, offcombr, offenseval2020_tr, offenseval_dravidian, ofis_publik, ohsumed, ollie, omp, onestop_english, onestop_qa, open_subtitles, openai_humaneval, openbookqa, openslr, openwebtext, opinosis, opus100, opus_books, opus_dgt, opus_dogc, opus_elhuyar, opus_euconst, opus_finlex, opus_fiskmo, opus_gnome, opus_infopankki, opus_memat, opus_montenegrinsubs, opus_openoffice, opus_paracrawl, opus_rf, opus_tedtalks, opus_ubuntu, opus_wikipedia, opus_xhosanavy, orange_sum, oscar, para_crawl, para_pat, parsinlu_reading_comprehension, pass, paws-x, paws, pec, peer_read, peoples_daily_ner, per_sent, persian_ner, pg19, php, piaf, pib, piqa, pn_summary, poem_sentiment, polemo2, poleval2019_cyberbullying, poleval2019_mt, polsum, polyglot_ner, prachathai67k, pragmeval, proto_qa, psc, ptb_text_only, pubmed, pubmed_qa, py_ast, qa4mre, qa_srl, qa_zre, qangaroo, qanta, qasc, qasper, qed, qed_amara, quac, quail, quarel, quartz, quora, quoref, race, re_dial, reasoning_bg, recipe_nlg, reclor, red_caps, reddit, reddit_tifu, refresd, reuters21578, riddle_sense, ro_sent, ro_sts, ro_sts_parallel, roman_urdu, ronec, ropes, rotten_tomatoes, russian_super_glue, s2orc, samsum, sanskrit_classic, saudinewsnet, sberquad, scan, scb_mt_enth_2020, scene_parse_150, schema_guided_dstc8, scicite, scielo, scientific_papers, scifact, sciq, scitail, scitldr, search_qa, sede, selqa, sem_eval_2010_task_8, sem_eval_2014_task_1, sem_eval_2018_task_1, sem_eval_2020_task_11, sent_comp, senti_lex, senti_ws, sentiment140, sepedi_ner, sesotho_ner_corpus, setimes, setswana_ner_corpus, sharc, sharc_modified, sick, silicone, simple_questions_v2, siswati_ner_corpus, smartdata, sms_spam, snips_built_in_intents, snli, snow_simplified_japanese_corpus, so_stacksample, social_bias_frames, social_i_qa, sofc_materials_articles, sogou_news, spanish_billion_words, spc, species_800, speech_commands, spider, squad, squad_adversarial, squad_es, squad_it, squad_kor_v1, squad_kor_v2, squad_v1_pt, squad_v2, squadshifts, srwac, sst, stereoset, story_cloze, stsb_mt_sv, stsb_multi_mt, style_change_detection, subjqa, super_glue, superb, svhn, swag, swahili, swahili_news, swda, swedish_medical_ner, swedish_ner_corpus, swedish_reviews, swiss_judgment_prediction, tab_fact, tamilmixsentiment, tanzil, tapaco, tashkeela, taskmaster1, taskmaster2, taskmaster3, tatoeba, ted_hrlr, ted_iwlst2013, ted_multi, ted_talks_iwslt, telugu_books, telugu_news, tep_en_fa_para, text2log, thai_toxicity_tweet, thainer, thaiqa_squad, thaisum, the_pile, the_pile_books3, the_pile_openwebtext2, the_pile_stack_exchange, tilde_model, time_dial, times_of_india_news_headlines, timit_asr, tiny_shakespeare, tlc, tmu_gfm_dataset, told-br, totto, trec, trivia_qa, tsac, ttc4900, tunizi, tuple_ie, turk, turkic_xwmt, turkish_movie_sentiment, turkish_ner, turkish_product_reviews, turkish_shrinked_ner, turku_ner_corpus, tweet_eval, tweet_qa, tweets_ar_en_parallel, tweets_hate_speech_detection, twi_text_c3, twi_wordsim353, tydiqa, ubuntu_dialogs_corpus, udhr, um005, un_ga, un_multi, un_pc, universal_dependencies, universal_morphologies, urdu_fake_news, urdu_sentiment_corpus, vctk, vivos, web_nlg, web_of_science, web_questions, weibo_ner, wi_locness, wider_face, wiki40b, wiki_asp, wiki_atomic_edits, wiki_auto, wiki_bio, wiki_dpr, wiki_hop, wiki_lingua, wiki_movies, wiki_qa, wiki_qa_ar, wiki_snippets, wiki_source, wiki_split, wiki_summary, wikiann, wikicorpus, wikihow, wikipedia, wikisql, wikitext, wikitext_tl39, wili_2018, wino_bias, winograd_wsc, winogrande, wiqa, wisesight1000, wisesight_sentiment, wmt14, wmt15, wmt16, wmt17, wmt18, wmt19, wmt20_mlqe_task1, wmt20_mlqe_task2, wmt20_mlqe_task3, wmt_t2t, wnut_17, wongnai_reviews, woz_dialogue, wrbsc, x_stance, xcopa, xcsr, xed_en_fi, xglue, xnli, xor_tydi_qa, xquad, xquad_r, xsum, xsum_factuality, xtreme, yahoo_answers_qa, yahoo_answers_topics, yelp_polarity, yelp_review_full, yoruba_bbc_topics, yoruba_gv_ner, yoruba_text_c3, yoruba_wordsim353, youtube_caption_corrections, zest, 0n1xus/codexglue, 0n1xus/pytorrent-standalone, AConsApart/anime_subtitles_DialoGPT, AHussain0418/day2_data, AHussain0418/day4data, AHussain0418/demo_data, AI-Sweden/SuperLim, AI-it/khs_service_test, AI-it/korean-hate-speech, ARKseal/YFCC14M_subset_webdataset, ARTeLab/fanpage, ARTeLab/ilpost, ARTeLab/mlsum-it, ASCCCCCCCC/amazon_zh, Abdo1Kamr/Arabic_Hadith, Abirate/code_net_dataset, Abirate/code_net_dev_dataset, Abirate/code_net_test_final_dataset, Abirate/english_quotes, Abirate/french_book_reviews, AdWeeb/DravidianMT, Adnan/Urdu_News_Headlines, AhmadSawal/qa, AhmedSSoliman/CoNaLa, Aisha/BAAD16, Aisha/BAAD6, Akila/ForgottenRealmsWikiDataset, Akshith/aa, Akshith/g_rock, Akshith/test, Alegzandra/test, AlekseyDorkin/extended_tweet_emojis, AlekseyKorshuk/comedy-scripts, AlekseyKorshuk/horror-scripts, AlexMaclean/all-deletion-compressions, AlexMaclean/wikipedia-deletion-compressions, AlexZapolskii/zapolskii-amazon, AlgoveraAI/CryptoPunks, Aliseyfi/event_token_type, Alvenir/nst-da-16khz, AndrewMcDowell/de_corpora_parliament_processed, Annabelleabbott/real-fake-news-workshop, Annielytics/DoctorsNotes, Anurag-Singh-creator/task, Anurag-Singh-creator/tasks, ApiInferenceTest/asr_dummy, Arnold/hausa_common_voice, AryanLala/autonlp-data-Scientific_Title_Generator, Avishekavi/Avi, Ayou/mobile_bert_datas, BSC-TeMU/SQAC, BSC-TeMU/ancora-ca-ner, BSC-TeMU/sts-ca, BSC-TeMU/tecla, BSC-TeMU/viquiquad, BSC-TeMU/xquad-ca, Babelscape/rebel-dataset, Babelscape/wikineural, BatuhanYilmaz/github-issues, Baybars/parla_text_corpus, BeIR/beir-corpus, BeIR/beir, Binbin/my_dataset, BlakesOrb6/Fred-Flintstone, Bosio/pacman, Bosio/pacman_descriptions, BritishLibraryLabs/EThOS-PhD-metadata, CAGER/rick, CALM/arwiki, CAiRE/ASCEND, CShorten/KerasBERT, CShorten/ZillowPrize, ChadxxxxHall/Inter-vision, Champion/vpc2020_clear_anon_speech, Check/a_re_gi, Check/region_1, Check/region_2, Check/region_3, Check/region_4, Check/region_5, Check/region_6, Check/region_7, Check/region_8, Check/region_9, Check/regions, Check/vverify, Cheranga/test, ChristophSchuhmann/MS_COCO_2017_URL_TEXT, Chun/dataset, Chuu/Vhh, CodedotAI/code-clippy-tfrecords, CodedotAI/code_clippy, Cropinky/flatearther, Cropinky/rap_lyrics_english, Cropinky/wow_fishing_bobber, Cyberfish/pos_tagger, Cyberfish/text_error_correction, DDSC/angry-tweets, DDSC/dkhate, DDSC/europarl, DDSC/lcc, DDSC/partial-danish-gigaword-no-twitter, DDSC/reddit-da-asr-preprocessed, DDSC/reddit-da, DDSC/squad-da, DDSC/twitter-sent, DELith/github-issues, DSCI511G1/COP26_Energy_Transition_Tweets, DanL/scientific-challenges-and-directions-dataset, Daniele/dante-corpus, Darren/data, Datatang/accented_english, Datatang/accented_mandarin, Datatang/chinese_dialect, Datatang/mandarin_chinese, Datatang/mixed_speech_chinese_english, Datatang/multi_language, Datatang/multi_language_conversation, Davlan/conll2003_de_noMISC, Davlan/conll2003_noMISC, Davlan/masakhanerV1, DelgadoPanadero/Pokemon, DeskDown/ALTDataset, DeskDown/ALTDataset_en-to-fil-vi-id-ms-ja-khm, DiFronzo/Human_Activity_Recognition, Dmitriy612/1, DoctorSlimm/yipee, Doohae/klue-mrc-bm25, Doohae/modern_music_re, DoyyingFace/github-embeddings-doy, DoyyingFace/github-issues-doy, DrishtiSharma/_CV8_processed, DrishtiSharma/as_opus100_processed, DrishtiSharma/bg_opus100_processed, DrishtiSharma/br_opus100_processed, DrishtiSharma/hi_opus100_processed, DrishtiSharma/kk_opus100_processed, DrishtiSharma/mr_opus100_processed, DrishtiSharma/or_opus100_processed, DrishtiSharma/sl_opus100_processed, DrishtiSharma/sr_opus100_processed, Dumiiii/common-voice-romaniarss, EMBO/biolang, EMBO/sd-nlp, ESZER/H, Emanuel/UD_Portuguese-Bosque, Emma121/testtest, Emon/sobuj, Enes3774/data, Exr0n/wiki-entity-similarity, Eymen3455/xsum_tr, FIG-Loneliness/FIG-Loneliness, FL33TW00D/test-dataset, FRTNX/cosuju, FRTNX/worldbank-projects, Felix-ML/quoteli3, Fhrozen/JTubeSpeech, Finnish-NLP/mc4_fi_cleaned, Firoj/CrisisBench, Francois/futures_es, Fraser/mnist-text-default, Fraser/mnist-text-no-spaces, Fraser/mnist-text-small, Fraser/news-category-dataset, Fraser/program-synthesis, Fraser/python-lines, Fraser/python-state-changes, Fraser/short-jokes, Fraser/wiki_sentences, GEM/ART, GEM/BiSECT, GEM/CrossWOZ, GEM/OrangeSum, GEM/RiSAWOZ, GEM/RotoWire_English-German, GEM/SIMPITIKI, GEM/SciDuet, GEM/Taskmaster, GEM/cochrane-simplification, GEM/common_gen, GEM/conversational_weather, GEM/cs_restaurants, GEM/dart, GEM/dstc10_track2_task2, GEM/e2e_nlg, GEM/indonlg, GEM/mlb_data_to_text, GEM/mlsum, GEM/opusparcus, GEM/references, GEM/schema_guided_dialog, GEM/sportsett_basketball, GEM/squad_v2, GEM/surface_realisation_st_2020, GEM/totto, GEM/turku_hockey_data2text, GEM/turku_paraphrase_corpus, GEM/viggo, GEM/web_nlg, GEM/wiki_auto_asset_turk, GEM/wiki_cat_sum, GEM/wiki_lingua, GEM/xlsum, GEM/xsum, GEM-submissions/submission-scores, GV05/shlomit_speech, Gabriel/quora_swe, Gabriel/squad_v2_sv, GalacticAI/Noirset, Gauravadlakha1509/new_one, GeoffVdr/cv8_trainval_processed, GonzaloA/fake_news, Graphcore/gqa-lxmert, Graphcore/gqa, Graphcore/vqa-lxmert, Graphcore/vqa, Graphcore/wikipedia-bert-128, Graphcore/wikipedia-bert-512, GroNLP/ik-nlp-22_pestyle, GroNLP/ik-nlp-22_slp, GroNLP/ik-nlp-22_transqe, GroNLP/ik-nlp-22_winemag, Gwangho/NCBI-Sars-Cov-2, HHousen/ParaSCI, HHousen/msrp, HHousen/quora, Halilyesilceng/autonlp-data-nameEntityRecognition, HarleyQ/WitcherDialogue, HarrisDePerceptron/sv_corpora_parliament_processed, HarrisDePerceptron/ur_corpora_pib, Harveenchadha/bol-models, HarveyBWest/mybot, Hellisotherpeople/DebateSum, Helsinki-NLP/tatoeba_mt, HenryAI/KerasAPIReference.txt, HenryAI/KerasBERTv1-Data, HenryAI/KerasCodeExamples.txt, HenryAI/KerasDeveloperGuides.txt, Husain/intent-classification-en-fr, IFSTalfredoswald/MBTI, IGESML/pubmed_neg, Iftoo95/Arabic_Sentiment_and_Topics, IlyaGusev/gazeta, IlyaGusev/headline_cause, Intel/WEC-Eng, Ishwar/Senti, Iskaj/dutch_corpora_parliament_processed, JIWON/nil_dataset, JIsanan/war-ceb-wikipedia, Jack0508/TED2020_kor, Jack0508/TED2020_vi, Jack0508/TED2020vi_kor, Jack0508/demo, Jack0508/eng_vi_demo, Jack0508/test, Jack0508/vi-ko-TED-txt, Jean-Baptiste/wikiner_fr, Jeska/autonlp-data-vaccinfaq, Jeska/vaccinchat, JesseParvess/book_snippets_asr, Jikiwa/demo1, Jikiwa/demo2, Jikiwa/demo3, Jikiwa/demo4, Jikiwa/glue-mnli-train, Jikiwa/push-to-hub, Jikiwa/pushe-to-hub, Jikiwa/pushed-to-hub, Jikiwa/pushedd-to-hub, Jikiwa/random_repo, Jikiwa/stargazers, Jikiwa/temp-repo-valid, Jikiwa/test-16336477963335, Jikiwa/test-16336478042515, Jikiwa/test-16336479967338, Jikiwa/test-16336480189315, Jikiwa/test-16336486877862, Jikiwa/test-16340052901609, Jikiwa/test-16340052972855, Jikiwa/test-16344347220590, Jikiwa/test-16344347234752, Jikiwa/test-16344349332219, Jikiwa/test-16344349440339, Jikiwa/test-16344351925697, Jikiwa/test-16344360501144, Jikiwa/test-16344361893586, Jikiwa/test-16344362261113, Jikiwa/test-16344362895458, Jikiwa/test-16344364230608, Jikiwa/test-16344364547167, Jikiwa/test-16344367190179, Jikiwa/test-16344368182003, JonathanSum/github-issues, JonathanSum/sv_corpora_parliament_processed, JustinE/Test, KBLab/overlim, KBLab/sucx3_ner, KETI-AIR/aihub, KETI-AIR/klue, KETI-AIR/kor_corpora, KETI-AIR/korquad, KETI-AIR/nikl, KTH/martin, KTH/nst, KTH/speechdat, KTH/waxholm, Karavet/ARPA-Armenian-Paraphrase-Corpus, Karavet/ILUR-news-text-classification-corpus, Karavet/pioNER-Armenian-Named-Entity, Khanoooo/autonlp-data-Corona, Khondoker/SentNoB, Kili/plastic_in_river, Kira-Asimov/gender_clinical_trial, LIAMF-USP/arc-retrieval-c4, Langame/waiting-messages, Language/Fren, Language/trans, Lenn/github-issues, LeoCordoba/CC-NEWS-ES-titles, LeoCordoba/CC-NEWS-ES, LeverageX/book-summarization, LeverageX/klue-mrc, LeverageX/klue-re, Linda/test1111, Llamacha/Monolingual-cha, Llamacha/monolingual-quechua-iic, LoganKells/amazon_product_reviews_video_games, Lucylulu/amazon, Lucylulu/imdb, LuisG07/es_corpora_parliament_processed, Lumos/yahoo_hga, MBAH/MOVIESON, MKK/Dhivehi-English, MLCommons/multilingual-spoken-words, Mahalakshmi/ta_lm_processed, Mansooreh/sharif-emotional-speech-dataset, MarianaSahagun/test, MarkusDressel/cord, Marzipan/QA4PC, Mateo/test_dataset, Mateo/testdataset, McGill-NLP/mlquestions, Mcy/random_uselesstestsequence, Melinoe/TheLabTexts, MickyMike/large_c_corpus, Motahar/github-issues, Mrleo1nid/Test_ru_dataset, Mulin/my_second_dataset, Mulin/my_third_dataset, NLPC-UOM/English-Tamil-Parallel-Corpus, NLPC-UOM/Sinhala-POS-Data, NTUYG/RAGTest, NYTK/HuCOLA, NYTK/HuCoPA, NYTK/HuRC, NYTK/HuSST, NYTK/HuWSC, NahedAbdelgaber/evaluating-student-writing, Narsil/asr_dummy, Narsil/conversational_dummy, Narsil/image_dummy, Narsil/test_data, Nathanael/NPS, Navigator/dodydard-marty, NbAiLab/NCC, NbAiLab/NCC_small_100, NbAiLab/NCC_small_divided, NbAiLab/NPSC, NbAiLab/NPSC_test, NbAiLab/NPSC_test2, NbAiLab/bokmaal_admin, NbAiLab/norec_agg, NbAiLab/norne, NbAiLab/norwegian_parliament, NikolajW/NPS_nonNormalized-Cased, NishinoTSK/leishmaniaV2, NishinoTSK/leishmaniav1, Ofrit/tmp, Omar2027/caner_replicate, OmarN121/train, PDJ107/riot-data, Paul/hatecheck, PaulLerner/viquae_dataset, PaulLerner/viquae_images, PaulLerner/viquae_wikipedia, Pengfei/asfwe, Pengfei/test, Pengfei/test1, PereLluis13/parla_text_corpus, PereLluis13/spanish_speech_text, Perkhad/corejur, PlanTL-GOB-ES/SQAC, Plim/common_voice_7_0_fr_processed, Plim/fr_corpora_parliament_processed, Plim/fr_wikipedia_processed, Plim/language_model_fr, Pongsaky/Wiki_SCG, Pratik/Gujarati_OpenSLR, Pyjay/emotion_nl, Pyke/patent_abstract, QA/abk-eng, R0bk/XFUN, RBG-AI/CoRePooL, Recognai/ag_news_corrected_labels, Recognai/corrected_labels_ag_news, Recognai/gutenberg_spacy-ner, Recognai/imdb_spacy-ner, Recognai/news, Recognai/sentiment-banking, Recognai/veganuary, Remesita/tagged_reviews, Renukswamy/Patent_sentiment_analysis, RohanAiLab/persian_blog, RohanAiLab/persian_daily_news, RohanAiLab/persian_news_dataset, RollingMuffin/test_scripts, Romrawin/mn-sim, RuudVelo/commonvoice_mt_8_processed, RuudVelo/commonvoice_nl_8_processed, RuudVelo/nl_corpora_parliament_processed, SCourthial/test, Sabokou/qg_squad_modified, Sabokou/qg_squad_modified_dev, SajjadAyoubi/persian_qa, Sam2021/Arguement_Mining_CL2017, Samip/func, SaulLu/Natural_Questions_HTML, SaulLu/Natural_Questions_HTML_Toy, SaulLu/Natural_Questions_HTML_reduced_all, SaulLu/test, SaulLu/toy_struc_dataset, SebastianS/github-issues, SergeiGKS/wikiner_fr_job, Serhii/Custom_SQuAD, SetFit/20_newsgroups, SetFit/TREC-QC, SetFit/ag_news, SetFit/amazon_counterfactual, SetFit/amazon_counterfactual_en, SetFit/amazon_polarity, SetFit/bbc-news, SetFit/emotion, SetFit/enron_spam, SetFit/ethos, SetFit/ethos_binary, SetFit/go_emotions, SetFit/hate_speech18, SetFit/hate_speech_offensive, SetFit/imdb, SetFit/insincere-questions, SetFit/sst2, SetFit/sst5, SetFit/student-question-categories, SetFit/subj, SetFit/toxic_conversations, SetFit/tweet_eval_stance, SetFit/tweet_sentiment_extraction, SetFit/yelp_review_full, Shanna/Jamaica, ShinyQ/PPKM_Pemerintah, Shushant/ContaminationQA, Shushant/NepaliSentiment, Shushant/nepali, SkelterLabsInc/JaQuAD, Smiling/webnovels-en, SoLID/shellcode_i_a32, SocialGrep/one-million-reddit-confessions, SocialGrep/one-million-reddit-jokes, SocialGrep/one-million-reddit-questions, SocialGrep/one-year-of-r-india, SocialGrep/reddit-crypto-aug-2021, SocialGrep/reddit-nonewnormal-complete, SocialGrep/reddit-wallstreetbets-aug-2021, SocialGrep/ten-million-reddit-answers, SocialGrep/the-2022-trucker-strike-on-reddit, SocialGrep/the-reddit-covid-dataset, SophieTr/reddit_clean, TRoboto/masc, TRoboto/names, TaahaKazi/FCE, Taekyoon/test_none_state, Tahsin-Mayeesha/Bengali-SQuAD, Tatyana/ru_sentiment_dataset, Terry0107/RiSAWOZ, TestCher/Testi, Tevatron/msmarco-passage-corpus, Tevatron/msmarco-passage, Tevatron/scifact-corpus, Tevatron/scifact, Tevatron/wikipedia-curated-corpus, Tevatron/wikipedia-curated, Tevatron/wikipedia-nq-corpus, Tevatron/wikipedia-nq, Tevatron/wikipedia-squad-corpus, Tevatron/wikipedia-squad, Tevatron/wikipedia-trivia-corpus, Tevatron/wikipedia-trivia, Tevatron/wikipedia-wq-corpus, Tevatron/wikipedia-wq, TheBlindBandit/SpongeNot, TimTreasure4/Test, Trainmaster9977/957, Trainmaster9977/zbakuman, TristanBehrens/js-fakes-4bars, TurkuNLP/register_mc4, TurkuNLP/register_oscar, TurkuNLP/turku_hockey_data2text, TurkuNLP/turku_paraphrase_corpus, Tyler/wikimatrix_collapsed, UMU/spanish-saticorpus-2021, Usin2705/test, VJGamer/test, VadorMazer/skyrimdialogstest, Valahaar/wsdmt, Vishnu393831/VICTORY_dataset, Vishva/UniFAQ_DataSET, Voxcroft/alffa_amharic, Voxcroft/alffa_wolof, Wiedy/be, Wiedy/wav2vec2-large-xls-r-300m-tr-colab, Wikidepia/IndoParaCrawl, Wikidepia/IndoSQuAD, Wikidepia/mc4-filter, WillFerreiraSantos/halos, Wuhu0/output, WyrdCurt/AO4W, Xenova/sponsorblock-768, Xenova/sponsorblock, XiangPan/iflytek, XiangPan/snli_break, XiangXiang/clt, Xinghua/test, Yatoro/github-issues, Yatoro/github_issues, Yeva/arm-summary, YuAnthony/tnews, Yves/fhnw_swiss_parliament, Zaid/coqa_expanded, Zaid/quac_expanded, Zoe10/ner_dataset, abhishek/autonlp-data-imdb_eval, abhishek/autonlp-data-prodigy-10, abidlabs/crowdsourced-notes, abidlabs/crowdsourced-speech-demo, abidlabs/crowdsourced-speech, abidlabs/crowdsourced-speech2, abidlabs/crowdsourced-speech3, abidlabs/crowdsourced-speech4, abidlabs/crowdsourced-speech5, abidlabs/crowdsourced-speech6, abidlabs/crowdsourced-speech7, abidlabs/test-audio-1, abidlabs/test-audio-13, abidlabs/test-image-13, abidlabs/test-image-classifier-dataset, abidlabs/test-translation-dataset, abidlabs/voice-verification-adversarial-dataset, abwicke/C-B-R, abwicke/koplo, adalbertojunior/MININER, adalbertojunior/punctuation-ptbr-light, adalbertojunior/punctuation-ptbr, adamlin/FewShotWoz, adamlin/companion, adamlin/coqa_squad, adamlin/daily_dialog, adamlin/domain_classification, adamlin/mail-classification, adamlin/multiwoz_dst, adamlin/qa_verification, adamlin/roc_story, adamlin/rs, adamlin/weibo_ner, addy88/nq-question-answeronly, addy88/sanskrit-asr-84-eval, addy88/sanskrit-asr-84, afasafen/mydataset, afasafen/newDataSet, ai4bharat/samanantar, aidystark/Yt, ajmbell/test-dataset, akhaliq/test, akumar33/manufacturing, albertvillanova/carbon_24, albertvillanova/datasets-tests-compression, albertvillanova/dummy_libri2mix, albertvillanova/legal_contracts, albertvillanova/lm_en_dummy0, albertvillanova/lm_en_dummy1, albertvillanova/lm_en_dummy2, albertvillanova/lm_en_dummy3, albertvillanova/lm_en_dummy4, albertvillanova/multilingual_spoken_words, albertvillanova/pmc_open_access, albertvillanova/sat, albertvillanova/tests-public-raw-jsonl, albertvillanova/tests-raw-jsonl, albertvillanova/tmp-tests-zip, albertvillanova/tmp-tests, alexantonov/chuvash_parallel, aliabd/crowdsourced-calculator-demo, aliabd/crowdsourced-speech4, aliabd/hello-world, alireza655/alireza655, alistvt/coqa-flat, alistvt/coqa-stories, alistvt/coqa, alittleie/mis_238, allegro/klej-allegro-reviews, allegro/klej-cbd, allegro/klej-cdsc-e, allegro/klej-cdsc-r, allegro/klej-dyk, allegro/klej-nkjp-ner, allegro/klej-polemo2-in, allegro/klej-polemo2-out, allegro/klej-psc, allegro/polish-question-passage-pairs, allegro/summarization-allegro-articles, allegro/summarization-polish-summaries-corpus, allenai/c4, allenai/scico, alperbayram/TwitterDuygu, alperiox/autonlp-data-user-review-classification, alvp/autonlp-data-alberti-stanza-names, alvp/autonlp-data-alberti-stanzas-finetuning, ami-wav2vec2/ami_multi_headset_segmented_and_chunked, ami-wav2vec2/ami_multi_headset_segmented_and_chunked_and_concatenated, ami-wav2vec2/ami_multi_headset_segmented_and_chunked_dummy, ami-wav2vec2/ami_single_headset_segmented, ami-wav2vec2/ami_single_headset_segmented_and_chunked, ami-wav2vec2/ami_single_headset_segmented_and_chunked_and_concatenated, ami-wav2vec2/ami_single_headset_segmented_and_chunked_dummy, ami-wav2vec2/ami_single_headset_segmented_dummy, aminedjebbie/Multi-Arabic-dialects, andrepreira/outros2021, anechaev/med_history, anechaev/ru_med_history, animesh/autonlp-data-peptides, antoinegk/HealthChallenge_dataset, anton-l/common_language, anton-l/common_voice_7_0_test, anton-l/superb, anton-l/superb_demo, anton-l/superb_dummy, anukaver/EstQA, anuragshas/bg_opus100_processed, anuragshas/ha_cc100_processed, anuragshas/ha_opus100_processed, anuragshas/hi_opus100_processed, anuragshas/lv_opus100_processed, anuragshas/mr_cc100_processed, anuragshas/mt_opus100_processed, anuragshas/pa_cc100_processed, anuragshas/sk_opus100_processed, anuragshas/sl_opus100_processed, anuragshas/ur_opus100_processed, anushakamath/sv_corpora_parliament_processed_v0, anzorq/kbd-ru-1.67M-temp, anzorq/kbd-ru-jsonl-tmp, anzorq/kbd-ru-temp, arch-raven/MAMI, arjunth2001/online_privacy_qna, artemis13fowl/github-issues, artyeth/Dorian, aryanpatke/github-issues, asahi417/qg_jaquad, asahi417/qg_squad, aseifert/merlin, aseifert/pie-synthetic, ashish-shrivastava/dont-know-dataset, ashraq/dhivehi-corpus, asi/wikitext_fr, asoroa/bsbasque, astarostap/antisemitic-tweets, astarostap/antisemitic_tweets, astarostap/autonlp-data-antisemitism-2, astremo/friendly_JA_corpus, astrideducation/cefr-combined-no-cefr-test, atelders/politweets, athar/QA, athivvat/thai-rap-lyrics, ausgequetschtem/jtrddfhfgh, austin/rheum_abstracts, avadesian/dddd, avanishcobaltest/datasetavanish, averyanalex/panorama, azuur/es_corpora_parliament_processed, azuur/gn_wiki_cleaned, badranx/opus_raw, batelicm/feedback-prize-2021-qa-concluding-statement, batelicm/feedback-prize-2021-qa-lead, batelicm/feedback-prize-2021-qa-ner, batelicm/feedback-prize-2021-qa-position, batelicm/feedback-prize-2021-qa, bavard/personachat_truecased, beacon/test, bemanningssitua/dplremjfjfj, benjaminbeilharz/better_daily_dialog, benjaminbeilharz/librivoxdeen, bergoliveira/pl_corpus_teste, berkergurcay/2020-10K-Reports, bertin-project/mc4-es-sampled, bertin-project/mc4-sampling, bhadresh-savani/web_split, bhavnicksm/sentihood, bhigy/buckeye_asr, bigscience/LanguageResourceCatalogue, bigscience/P3, bigscience/mc4-sampled, bigscience/open_subtitles_monolingual, bigscience-catalogue-data-dev/lm_code_github-eval_subset, bigscience-catalogue-lm-data/lm_ar_wikibooks, bigscience-catalogue-lm-data/lm_ar_wikibooks_filtered, bigscience-catalogue-lm-data/lm_ar_wikinews_filtered, bigscience-catalogue-lm-data/lm_ar_wikiquote_filtered, bigscience-catalogue-lm-data/lm_ar_wikisource, bigscience-catalogue-lm-data/lm_ar_wikisource_filtered, bigscience-catalogue-lm-data/lm_ar_wikiversity_filtered, bigscience-catalogue-lm-data/lm_ar_wiktionary_filtered, bigscience-catalogue-lm-data/lm_ca_wikibooks_filtered, bigscience-catalogue-lm-data/lm_ca_wikimedia_filtered, bigscience-catalogue-lm-data/lm_ca_wikinews_filtered, bigscience-catalogue-lm-data/lm_ca_wikiquote_filtered, bigscience-catalogue-lm-data/lm_ca_wikisource_filtered, bigscience-catalogue-lm-data/lm_ca_wiktionary_filtered, bigscience-catalogue-lm-data/lm_code_stackexchange, bigscience-catalogue-lm-data/lm_en_no_code_stackexchange, bigscience-catalogue-lm-data/lm_en_wikibooks_filtered, bigscience-catalogue-lm-data/lm_en_wikinews_filtered, bigscience-catalogue-lm-data/lm_en_wikiquote_filtered, bigscience-catalogue-lm-data/lm_en_wikiversity_filtered, bigscience-catalogue-lm-data/lm_en_wikivoyage_filtered, bigscience-catalogue-lm-data/lm_en_wiktionary_filtered, bigscience-catalogue-lm-data/lm_es_wikibooks_filtered, bigscience-catalogue-lm-data/lm_es_wikinews_filtered, bigscience-catalogue-lm-data/lm_es_wikiquote_filtered, bigscience-catalogue-lm-data/lm_es_wikisource_filtered, bigscience-catalogue-lm-data/lm_es_wikiversity_filtered, bigscience-catalogue-lm-data/lm_es_wikivoyage_filtered, bigscience-catalogue-lm-data/lm_es_wiktionary_filtered, bigscience-catalogue-lm-data/lm_eu_wikibooks_filtered, bigscience-catalogue-lm-data/lm_eu_wikiquote_filtered, bigscience-catalogue-lm-data/lm_eu_wikisource_filtered, bigscience-catalogue-lm-data/lm_eu_wiktionary, bigscience-catalogue-lm-data/lm_eu_wiktionary_filtered, bigscience-catalogue-lm-data/lm_fr_wikibooks, bigscience-catalogue-lm-data/lm_fr_wikibooks_filtered, bigscience-catalogue-lm-data/lm_fr_wikinews, bigscience-catalogue-lm-data/lm_fr_wikinews_filtered, bigscience-catalogue-lm-data/lm_fr_wikiquote, bigscience-catalogue-lm-data/lm_fr_wikiquote_filtered, bigscience-catalogue-lm-data/lm_fr_wikisource_filtered, bigscience-catalogue-lm-data/lm_fr_wikiversity_filtered, bigscience-catalogue-lm-data/lm_fr_wikivoyage, bigscience-catalogue-lm-data/lm_fr_wikivoyage_filtered, bigscience-catalogue-lm-data/lm_fr_wiktionary_filtered, bigscience-catalogue-lm-data/lm_id_wikibooks_filtered, bigscience-catalogue-lm-data/lm_id_wikimedia_filtered, bigscience-catalogue-lm-data/lm_id_wikiquote_filtered, bigscience-catalogue-lm-data/lm_id_wikisource_filtered, bigscience-catalogue-lm-data/lm_id_wiktionary_filtered, bigscience-catalogue-lm-data/lm_indic-as_wikisource_filtered, bigscience-catalogue-lm-data/lm_indic-as_wiktionary_filtered, bigscience-catalogue-lm-data/lm_indic-bn_wikibooks_filtered, bigscience-catalogue-lm-data/lm_indic-bn_wikisource_filtered, bigscience-catalogue-lm-data/lm_indic-bn_wikivoyage_filtered, bigscience-catalogue-lm-data/lm_indic-bn_wiktionary_filtered, bigscience-catalogue-lm-data/lm_indic-gu_wikiquote_filtered, bigscience-catalogue-lm-data/lm_indic-gu_wikisource_filtered, bigscience-catalogue-lm-data/lm_indic-gu_wiktionary_filtered, bigscience-catalogue-lm-data/lm_indic-hi_wikibooks_filtered, bigscience-catalogue-lm-data/lm_indic-hi_wikimedia_filtered, bigscience-catalogue-lm-data/lm_indic-hi_wikiquote_filtered, bigscience-catalogue-lm-data/lm_indic-hi_wikisource_filtered, bigscience-catalogue-lm-data/lm_indic-hi_wikiversity_filtered, bigscience-catalogue-lm-data/lm_indic-hi_wikivoyage_filtered, bigscience-catalogue-lm-data/lm_indic-hi_wiktionary_filtered, bigscience-catalogue-lm-data/lm_indic-kn_wikiquote_filtered, bigscience-catalogue-lm-data/lm_indic-kn_wikisource_filtered, bigscience-catalogue-lm-data/lm_indic-kn_wiktionary_filtered, bigscience-catalogue-lm-data/lm_indic-ml_wikibooks_filtered, bigscience-catalogue-lm-data/lm_indic-ml_wikiquote_filtered, bigscience-catalogue-lm-data/lm_indic-ml_wikisource_filtered, bigscience-catalogue-lm-data/lm_indic-ml_wiktionary_filtered, bigscience-catalogue-lm-data/lm_indic-mr_wikibooks_filtered, bigscience-catalogue-lm-data/lm_indic-mr_wikiquote_filtered, bigscience-catalogue-lm-data/lm_indic-mr_wikisource_filtered, bigscience-catalogue-lm-data/lm_indic-mr_wiktionary_filtered, bigscience-catalogue-lm-data/lm_indic-or_wikisource_filtered, bigscience-catalogue-lm-data/lm_indic-or_wiktionary_filtered, bigscience-catalogue-lm-data/lm_indic-pa_wikibooks_filtered, bigscience-catalogue-lm-data/lm_indic-pa_wikisource_filtered, bigscience-catalogue-lm-data/lm_indic-pa_wiktionary_filtered, bigscience-catalogue-lm-data/lm_indic-ta_wikibooks_filtered, bigscience-catalogue-lm-data/lm_indic-ta_wikinews_filtered, bigscience-catalogue-lm-data/lm_indic-ta_wikiquote_filtered, bigscience-catalogue-lm-data/lm_indic-ta_wikisource_filtered, bigscience-catalogue-lm-data/lm_indic-ta_wiktionary_filtered, bigscience-catalogue-lm-data/lm_indic-te_wikibooks_filtered, bigscience-catalogue-lm-data/lm_indic-te_wikiquote_filtered, bigscience-catalogue-lm-data/lm_indic-te_wikisource_filtered, bigscience-catalogue-lm-data/lm_indic-te_wiktionary_filtered, bigscience-catalogue-lm-data/lm_indic-ur_wikibooks_filtered, bigscience-catalogue-lm-data/lm_indic-ur_wikiquote_filtered, bigscience-catalogue-lm-data/lm_indic-ur_wiktionary_filtered, bigscience-catalogue-lm-data/lm_nigercongo-bm_wikibooks_filtered, bigscience-catalogue-lm-data/lm_nigercongo-ln_wiktionary_filtered, bigscience-catalogue-lm-data/lm_nigercongo-rw_wiktionary_filtered, bigscience-catalogue-lm-data/lm_nigercongo-st_wiktionary_filtered, bigscience-catalogue-lm-data/lm_nigercongo-sw_wikibooks_filtered, bigscience-catalogue-lm-data/lm_nigercongo-sw_wiktionary_filtered, bigscience-catalogue-lm-data/lm_nigercongo-tn_wiktionary_filtered, bigscience-catalogue-lm-data/lm_nigercongo-ts_wiktionary_filtered, bigscience-catalogue-lm-data/lm_nigercongo-wo_wikiquote_filtered, bigscience-catalogue-lm-data/lm_nigercongo-wo_wiktionary_filtered, bigscience-catalogue-lm-data/lm_nigercongo-zu_wiktionary_filtered, bigscience-catalogue-lm-data/lm_pt_wikibooks_filtered, bigscience-catalogue-lm-data/lm_pt_wikimedia_filtered, bigscience-catalogue-lm-data/lm_pt_wikinews_filtered, bigscience-catalogue-lm-data/lm_pt_wikiquote_filtered, bigscience-catalogue-lm-data/lm_pt_wikisource_filtered, bigscience-catalogue-lm-data/lm_pt_wikiversity_filtered, bigscience-catalogue-lm-data/lm_pt_wikivoyage_filtered, bigscience-catalogue-lm-data/lm_pt_wiktionary_filtered, bigscience-catalogue-lm-data/lm_vi_wikibooks_filtered, bigscience-catalogue-lm-data/lm_vi_wikiquote_filtered, bigscience-catalogue-lm-data/lm_vi_wikisource_filtered, bigscience-catalogue-lm-data/lm_vi_wikivoyage_filtered, bigscience-catalogue-lm-data/lm_vi_wiktionary_filtered, bigscience-catalogue-lm-data/lm_zh_wikibooks_filtered, bigscience-catalogue-lm-data/lm_zh_wikinews_filtered, bigscience-catalogue-lm-data/lm_zh_wikiquote_filtered, bigscience-catalogue-lm-data/lm_zh_wikiversity_filtered, bigscience-catalogue-lm-data/lm_zh_wikivoyage_filtered, bigscience-catalogue-lm-data/lm_zh_wiktionary_filtered, bigscience-catalogue-lm-data/lm_zu_wiktionary, bigscience-historical-texts/hipe2020, bingzhen/test2, birgermoell/sv_corpora_parliament_processed, bitmorse/kickstarter_2022-2021, biu-nlp/qa_align, biu-nlp/qa_discourse, biu-nlp/qa_srl2018, biu-nlp/qa_srl2020, biu-nlp/qamr, biu-nlp/qanom, blinoff/medical_qa_ru_data, bobbydylan/top2k, bondarchukb/autonlp-data-iab_classification, braincode/braincode, brunodorneles/ner, bryantpwhite/Medieval_Sermons_in_French, bryantpwhite/Medieval_Texts_in_French, bs-modeling-metadata/OSCAR_Entity_13_000, bs-modeling-metadata/c4_newslike_url_only, bs-modeling-metadata/website_metadata_c4, bs-modeling-metadata/wiki_dump, bsc/ancora-ca-ner, bsc/sts-ca, bsc/tecla, bsc/viquiquad, bsc/xquad-ca, bstad/github-issues, bwu2018/anime-tagging-dataset, caca/zscczs, cakiki/args_me, cakiki/arxiv-metadata, cakiki/en_wiki_quote, cakiki/paperswithcode, caltonji/harrypotter_squad_v2, caltonji/harrypotter_squad_v2_2, calvpang/github-issues, cameronbc/synthtiger, cankeles/eval-senh, canwenxu/dogwhistle, cassandra-themis/QR-AN, castorini/afriberta-corpus, castorini/mr-tydi-corpus, castorini/mr-tydi, castorini/msmarco_v1_doc_doc2query-t5_expansions, castorini/msmarco_v1_doc_segmented_doc2query-t5_expansions, castorini/msmarco_v1_passage_doc2query-t5_expansions, castorini/msmarco_v2_doc_doc2query-t5_expansions, castorini/msmarco_v2_doc_segmented_doc2query-t5_expansions, castorini/msmarco_v2_passage_doc2query-t5_expansions, castorini/nq_gar-t5_expansions, castorini/triviaqa_gar_t5_expansions, caythuoc/caoduoclieu, cbrew475/hwu66, ccccccc/hdjw_94ejrjr, ccdv/arxiv-classification, ccdv/arxiv-summarization, ccdv/cnn_dailymail, ccdv/govreport-summarization, ccdv/patent-classification, ccdv/pubmed-summarization, cdleong/piglatin-mt, cdleong/temp_africaNLP_keyword_spotting_for_african_languages, cdminix/iwslt2011, cdminix/mgb1, cem/dnm, cem/film, cemigo/taylor_vs_shakes, cemigo/test-data, cestwc/adapted-msrcomp, cestwc/adapted-paranmt5m, cestwc/adapted-sentcomp, cestwc/adapted-synonym, cestwc/adapted-wikismall, cestwc/adapted-wordnet, cestwc/asrc, cestwc/cnn_dailymail-metaeval100, cestwc/cnn_dailymail-snippets, cestwc/cnn_dailymail-test50, cestwc/conjnli, cestwc/sac-approx-1, cestwc/sac-na, cestwc/sac, cfilt/iitb-english-hindi, cgarciae/point-cloud-mnist, cgarciae/point_cloud_mnist, chau/ink_test01, chenghao/mc4_eu_dedup, chenghao/mc4_sw_dedup, chenghao/scielo_books, chenyuxuan/wikigold, cheulyop/dementiabank, cheulyop/ksponspeech, chitra/contradiction, chitra/contradictionNLI, chmanoj/ai4bharat__samanantar_processed_te, chopey/dhivehi, clarin-pl/aspectemo, clarin-pl/cst-wikinews, clarin-pl/kpwr-ner, clarin-pl/multiwiki_90k, clarin-pl/nkjp-pos, clarin-pl/polemo2-official, classla/FRENK-hate-en, classla/FRENK-hate-hr, classla/FRENK-hate-sl, classla/copa_hr, classla/hr500k, classla/janes_tag, classla/reldi_hr, classla/reldi_sr, classla/setimes_sr, classla/ssj500k, clem/autonlp-data-french_word_detection, clips/mfaq, clips/mqa, cnrcastroli/aaaa, coala/kkk, codeceejay/ng_accent, cointegrated/ru-paraphrase-NMT-Leipzig, collectivat/tv3_parla, comodoro/pscr, comodoro/vystadial2016, congpt/dstc23_asr, corypaik/coda, corypaik/prost, coyotte508/dataset, craffel/openai_lambada, crich/cider, cristinakuo/latino40, crystina-z/inlang-mrtydi-corpus, crystina-z/inlang-mrtydi, crystina-z/mbert-mrtydi-corpus, crystina-z/mbert-mrtydi, csarron/image-captions, csebuetnlp/xlsum, csebuetnlp/xnli_bn, csikasote/bemba_train_dev_sets_processed, csikasote/bemba_trainset_processed, csikasote/bembaspeech_plus_jw_processed, csikasote/sv_corpora_parliament_processed, cstrathe435/Task2Dial, ctgowrie/chessgames, ctl/ConceptualCaptions, ctu-aic/ctkfacts_nli, cyko/books, cylee/github-issues, dalle-mini/YFCC100M_OpenAI_subset, dalle-mini/wit, damlab/HIV_FLT, damlab/HIV_PI, damlab/HIV_V3_bodysite, damlab/HIV_V3_coreceptor, dansbecker/hackernews_hiring_posts, darentang/generated, darentang/sroie, darkraipro/recipe-instructions, dasago78/dasago78dataset, dataset/wikipedia_bn, davanstrien/19th-century-ads, davanstrien/ads-im-test, davanstrien/ads-test, davanstrien/crowdsourced-keywords, davanstrien/embellishments, davanstrien/hipe2020, davanstrien/hmd_newspapers, davanstrien/kitten, davanstrien/manuscript_iiif_test, davanstrien/snorkel_genre, davanstrien/test_iiif, davanstrien/test_push_to_hub_image, davanstrien/testpush, david-wb/zeshel, davidwisdom/reddit-randomness, dcfidalgo/test, debajyotidatta/biosses, debatelab/aaac, deepset/germandpr, deepset/germanquad, dennlinger/klexikon, deokgu/fooddetection, dev/untitled_imgs, dfgvhxfgv/fghghj, dfki-nlp/few-nerd, dfki-nlp/mobie, dgao/librispeech_nc_test, dgknrsln/Yorumsepeti, diiogo/annotations, diiogo/brwac-clean, diiogo/harem-seletivo, diiogo/harem-total, diiogo/ocr-galdino, diiogo/oscar, dispenst/jhghdghfd, dispix/test-dataset, diwank/silicone-merged, dk-crazydiv/huggingface-modelhub, dlb/plue, dog/friends-of-mine, dog/punks, dongpil/test, dragosnicolae555/RoITD, dram-conflict/horror-scripts, dvilasuero/ag_news_error_analysis, dvilasuero/ag_news_training_set_losses, dvilasuero/test-dataset, dweb/squad_with_cola_scores, dynabench/dynasent, dynabench/qa, eason929/test, ebrigham/asr_files, ebrigham/autonlp-data-csat_classification_fr, ebrigham/labels, ebrigham/multi_sentiment, echarlaix/gqa-lxmert, echarlaix/gqa, echarlaix/vqa-lxmert, echarlaix/vqa, edbeeching/decision_transformer_atari_dqn_replay, edbeeching/decision_transformer_gym_replay, edbeeching/github-issues, edfews/szdfcszdf, edge2992/github-issues, edge2992/rri-short, edge2992/rri_short, edsas/fgrdtgrdtdr, edsas/grttyi, ehcalabres/ravdess_speech, ejjaffe/onion_headlines_2_sources, eliza-dukim/load_klue_re, elonmuskceo/persistent-space-dataset, elonmuskceo/wordle, elricwan/bert_data, emre/Open_SLR108_Turkish_10_hours, emrecan/stsb-mt-turkish, enelpol/czywiesz, erikacardenas300/Zillow_Economics_Dataset, ervis/aaa, ervis/qqq, erwanlc/cocktails_recipe, erwanlc/cocktails_recipe_no_brand, eugenesiow/BSD100, eugenesiow/Div2k, eugenesiow/PIRM, eugenesiow/Set14, eugenesiow/Set5, eugenesiow/Urban100, evageon/IADD, ewdrtfwe/54refyghrtf, facebook/multilingual_librispeech, fatvvs/autonlp-data-entity_model_conll2003, fededeleon/CriteriosClasificacion, fengzhang/fzTestDatasets, fhamborg/news_sentiment_newsmtsc, fighterhitx/test, fihtrotuld/asu, flax-community/code_clippy_data, flax-community/conceptual-12m-mbart-50-multilingual, flax-community/conceptual-12m-multilingual-marian-128, flax-community/conceptual-12m-multilingual-marian-es, flax-community/conceptual-12m-multilingual-marian, flax-community/conceptual-captions-12, flax-community/dummy-oscar-als-32, flax-community/german-common-voice-processed, flax-community/german_common_crawl, flax-community/multilingual-vqa, flax-community/norwegian-clean-dummy, flax-community/swahili-safi, flax-sentence-embeddings/Gender_Bias_Evaluation_Set, flax-sentence-embeddings/paws-jsonl, flax-sentence-embeddings/stackexchange_math_jsonl, flax-sentence-embeddings/stackexchange_title_best_voted_answer_jsonl, flax-sentence-embeddings/stackexchange_title_body_jsonl, flax-sentence-embeddings/stackexchange_titlebody_best_and_down_voted_answer_jsonl, flax-sentence-embeddings/stackexchange_titlebody_best_voted_answer_jsonl, flax-sentence-embeddings/stackexchange_xml, flexthink/librig2p-nostress-space, flexthink/librig2p-nostress, flexthink/ljspeech, flexudy/OMQD, florianbussmann/FUNSD-vu2020revising, florianbussmann/train_tickets-yu2020pick, flxclxc/encoded_drug_reviews, formermagic/github_python_1m, formu/CVT, fractalego/QA_to_statements, frahman/github-issues, frtna/all_about_that_base, frtna/cukumicin, frtna/deneme, frtna/es_it_Results-base-OPUS_Tatoeba, frtna/gezelimgorelim, frtna/jwt300_mt, frtna/opensubtitles_mt, frtna/sabahaKKarsi, frtna/ted_mt, frtna/test, frtna/test2, fulai/DuReader, fuliucansheng/coco, fuliucansheng/minicoco, fuliucansheng/mininlp, fuliucansheng/pascal_voc, fuyun1107/clip-for-vlp, fvillena/cantemist, fvillena/spanish_diagnostics, gabella/demo_data_raw, gagan3012/fake-news, gagan3012/grover-data, gagan3012/vizwiz, gar1t/test, gayanin/pubmed-gastro-maskfilling, gayanin/pubmed-gastro-paraphrasing, gayanin/pubmed-gastro-summarisation, gcaillaut/citeseer, gcaillaut/cora, gcaillaut/frwiki_good_pages_el, gcaillaut/pubmed, geekydevu/mlquestions, geninhu/vi_opus100_processed, geninhu/vi_vivos-cv-tts-fpt_processed, german-nlp-group/german_common_crawl, gfigueroa/wikitext_processed, gfissore/arxiv-abstracts-2021, ghadeermobasher/BC5CDR-Chemical-Disease, ghadeermobasher/CRAFT-Chem, ghomasHudson/ao3_style_change, ghomasHudson/character_id, ghomasHudson/hotpotExtended, ghomasHudson/long_contra_pro, ghomasHudson/muld, ghomasHudson/vlsp, gigant/african_accented_french, gigant/m-ailabs_speech_dataset_fr, gigant/ro_corpora_parliament_processed, gigant/romanian_speech_synthesis_0_8_1, gmnlp/tico19, gorkemgoknar/tr_ted_talk_translated, gpt3mix/rt20, gpt3mix/sst2, gsarti/change_it, gsarti/clean_mc4_it, gsarti/flores_101, gsarti/itacola, gsarti/wmt_vat, guoqiang/cuge, gusu/mymodel1, habu24/fdz, happifyhealth/twitter_pnn, hartzeer/kdfjdshfje, henrychess/gutenberg-fulltext-dirty-locc, herbievore/test, hf-internal-testing/cats_vs_dogs_sample, hf-internal-testing/fixtures_ade20k, hf-internal-testing/fixtures_docvqa, hf-internal-testing/fixtures_image_utils, hf-internal-testing/fixtures_nlvr2, hf-internal-testing/fixtures_ocr, hf-internal-testing/fixtures_sintel, hf-internal-testing/librispeech_asr_demo, hf-internal-testing/librispeech_asr_dummy, hf-internal-testing/test-dataset, hf-internal-testing/transformers-metadata, hf-test/sv_corpora_parliament_processed, hfface/poopi, holodata/sensai, holylovenia/recam, hong/autonlp-data-zoo_test, honghungle/dataset, howardmiddleton382/esuyertusutr, howardmiddleton382/wgweagwege, huggingFaceUser02/air21_grp13_inference_results, huggingFaceUser02/air21_grp13_tokenized_results, huggingartists/100-gecs, huggingartists/21-savage, huggingartists/25-17, huggingartists/50-cent, huggingartists/5nizza, huggingartists/5opka, huggingartists/6ix9ine, huggingartists/aaron-watson, huggingartists/abba, huggingartists/adele, huggingartists/agata-christie, huggingartists/aikko, huggingartists/aimer, huggingartists/ajr, huggingartists/alan-walker, huggingartists/andre-3000, huggingartists/arash, huggingartists/architects, huggingartists/arctic-monkeys, huggingartists/ariana-grande, huggingartists/ariya, huggingartists/armin-van-buuren, huggingartists/as-i-lay-dying, huggingartists/asdfgfa, huggingartists/asper-x, huggingartists/baklan, huggingartists/big-baby-tape, huggingartists/big-russian-boss, huggingartists/bill-wurtz, huggingartists/billie-eilish, huggingartists/billy-talent, huggingartists/bladee, huggingartists/bob-dylan, huggingartists/bones, huggingartists/booker, huggingartists/boris-grebenshikov, huggingartists/braii, huggingartists/bring-me-the-horizon, huggingartists/bruce-springsteen, huggingartists/bryan-adams, huggingartists/burzum, huggingartists/bushido-zho, huggingartists/cardi-b, huggingartists/chester-bennington, huggingartists/chief-keef, huggingartists/cocomelon, huggingartists/coin, huggingartists/coldplay, huggingartists/dababy, huggingartists/david-bowie, huggingartists/ddt, huggingartists/death-grips, huggingartists/deep-purple, huggingartists/denderty, huggingartists/dermot-kennedy, huggingartists/dj-artem-artemov, huggingartists/doja-cat, huggingartists/drake, huggingartists/dua-lipa, huggingartists/duran-duran, huggingartists/dzhizus, huggingartists/ed-sheeran, huggingartists/egor-kreed, huggingartists/egor-letov, huggingartists/elton-john, huggingartists/eminem, huggingartists/enigma, huggingartists/enya, huggingartists/epic-rap-battles-of-history, huggingartists/face, huggingartists/fascinoma, huggingartists/fear-factory, huggingartists/florence-the-machine, huggingartists/freddie-dredd, huggingartists/freelancer, huggingartists/galenskaparna-and-after-shave, huggingartists/ghost, huggingartists/ghostemane, huggingartists/ghostmane, huggingartists/gizmo, huggingartists/gorillaz, huggingartists/green-day, huggingartists/grigory-leps, huggingartists/grimes, huggingartists/gspd, huggingartists/gunna, huggingartists/hillsong-worship, huggingartists/hyuna, huggingartists/i-dont-know-how-but-they-found-me, huggingartists/idktime, huggingartists/imagine-dragons, huggingartists/jah-khalib, huggingartists/jim-morrison, huggingartists/john-k-samson, huggingartists/john-lennon, huggingartists/joji, huggingartists/joni-mitchell, huggingartists/justin-bieber, huggingartists/kanye-west, huggingartists/kasta, huggingartists/katy-perry, huggingartists/kehlani, huggingartists/kendrick-lamar, huggingartists/kesha, huggingartists/king-krule, huggingartists/kipelov, huggingartists/kishlak, huggingartists/kizaru, huggingartists/kojey-radical, huggingartists/krechet, huggingartists/krept-and-konan-bugzy-malone-sl-morisson-abra-cadabra-rv-and-snap-capone, huggingartists/kurt-cobain, huggingartists/lady-gaga, huggingartists/lazy-jay, huggingartists/led-zeppelin, huggingartists/lil-baby, huggingartists/lil-nas-x, huggingartists/lil-peep, huggingartists/lil-skies, huggingartists/lil-uzi-vert, huggingartists/linkin-park, huggingartists/little-big, huggingartists/lizer, huggingartists/logic, huggingartists/lorde, huggingartists/loud-luxury, huggingartists/loverance, huggingartists/lovv66, huggingartists/lumen, huggingartists/lyapis-trubetskoy, huggingartists/macan, huggingartists/machine-gun-kelly, huggingartists/madonna, huggingartists/marillion, huggingartists/maroon-5, huggingartists/mashina-vremeni, huggingartists/mating-ritual, huggingartists/max-korzh, huggingartists/mayot, huggingartists/mc-ride, huggingartists/melanie-martinez, huggingartists/metallica, huggingartists/mf-doom, huggingartists/michael-jackson, huggingartists/mikhail-gorshenev, huggingartists/mikhail-krug, huggingartists/miyagi, huggingartists/mnogoznaal, huggingartists/morgenshtern, huggingartists/mumiy-troll, huggingartists/muse, huggingartists/nautilus-pompilius, huggingartists/nervy, huggingartists/nicki-minaj, huggingartists/nirvana, huggingartists/noize-mc, huggingartists/oasis, huggingartists/obladaet, huggingartists/og-buda, huggingartists/ot-rus, huggingartists/our-last-night, huggingartists/oxxxymiron, huggingartists/peter-paul-and-mary, huggingartists/pharaoh, huggingartists/phish, huggingartists/pink-floyd, huggingartists/placebo, huggingartists/platina, huggingartists/pop-smoke, huggingartists/post-malone, huggingartists/pyrokinesis, huggingartists/queen, huggingartists/radiohead, huggingartists/rage-against-the-machine, huggingartists/ramil, huggingartists/rammstein, huggingartists/red-hot-chili-peppers, huggingartists/rex-orange-county, huggingartists/rihanna, huggingartists/rocket, huggingartists/sam-kim, huggingartists/scriptonite, huggingartists/sektor-gaza, huggingartists/selena-gomez, huggingartists/sergei-letov, huggingartists/shadowraze, huggingartists/sia, huggingartists/sid-sriram, huggingartists/skillet, huggingartists/slava-kpss, huggingartists/slava-marlow, huggingartists/snoop-dogg, huggingartists/sqwore, huggingartists/sugar-ray, huggingartists/suicideoscope, huggingartists/sum-41, huggingartists/sundara-karma, huggingartists/system-of-a-down, huggingartists/t-fest, huggingartists/tanzy-minus, huggingartists/taylor-swift, huggingartists/tedeschi-trucks-band, huggingartists/the-69-eyes, huggingartists/the-avalanches, huggingartists/the-beatles, huggingartists/the-gazette, huggingartists/the-grateful-dead, huggingartists/the-king-and-the-jester, huggingartists/the-notorious-big, huggingartists/the-sugarcubes, huggingartists/the-the-pigs, huggingartists/the-velvet-underground, huggingartists/the-weeknd, huggingartists/tiamat, huggingartists/till-lindemann, huggingartists/tom-waits, huggingartists/tony-raut-and-garry-topor, huggingartists/tool, huggingartists/totpoc, huggingartists/travis-scott, huggingartists/twenty-one-pilots, huggingartists/tyler-the-creator, huggingartists/upsahl, huggingartists/v-x-v-prince, huggingartists/van-morrison, huggingartists/veggietales, huggingartists/viktor-tsoi, huggingartists/vladimir-vysotsky, huggingartists/xxxtentacion, huggingartists/young-thug, huggingartists/yung-lean, huggingartists/yung-plague, huggingartists/zemfira, huggingface/DataMeasurementsFiles, huggingface/cats-image, huggingface/documentation-images, huggingface/label-files, huggingface/task-page-images, huggingface/transformers-metadata, huggingface-course/codeparrot-ds-train, huggingface-course/codeparrot-ds-valid, husnu/tquad-v1v2, husnu/tquad2, huyongquan/d2, hyeonduck/whiteboard_abuse_dataset, hyeonduck/your_dataset_name, ia-bentebib/conv_ai_2_fr, ia-bentebib/conv_ai_3_fr, ia-bentebib/daily_dialog_fr, ia-bentebib/diafrag, ia-bentebib/dialog_re_fr, ia-bentebib/doc2dial_fr, ia-bentebib/empathetic_dialogues_fr, iamshsdf/sssssssssss, iarfmoose/qa_evaluator, iarfmoose/question_generator, image-search-2/unsplash_lite_image_dataset, imthanhlv/binhvq_dedup, imthanhlv/binhvq_news21_raw, imvladikon/knesset_meetings_corpus, indonesian-nlp/id_personachat, iohadrubin/mtop, iohadrubin/smcalflow, ixxi/my_v1, jacobbieker/open-crab-sample, jaimin/wav2vec2-large-xlsr-gujarati-demo, jakeazcona/short-text-labeled-emotion-classification, jakeazcona/short-text-multi-labeled-emotion-classification, jakemarcus/MATH, jamescalam/climate-fever-similarity, jamol1741/test_dataset, jcmc/ga-IE_opus_dgt_train, jcmc/ga_mc4_processed, jdepoix/junit_test_completion, jeffboudier/testing3, jegorkitskerkin/dutch-snli, jel/covid, jeree/fr_corpora_parliament_processed, jfarray/TFM, jgammack/MTL-abstracts, jgammack/SAE-door-abstracts, jgammack/THESES-abstracts, jglaser/binding_affinity, jhonparra18/spanish_billion_words_clean, jhqwqq/2, jianhong/dateset1, jianhong/dateset2, jimregan/clarinpl_sejmsenat, jimregan/clarinpl_studio, jimregan/foinse, jimregan/lasid, jinmang2/KorQuADv1, jinmang2/common-sense-mrc, jinmang2/load_klue_re, jinmang2/medical-mask, jinmang2/pred, jiyoojeong/targetizer, jlh/coco, jmamou/augmented-glue-sst2, joelito/ler, joelito/sem_eval_2010_task_8, johnpaulbin/autonlp-data-asag-v2, jonfd/ICC, jozierski/ecomwebtexts-pl, jpcorb20/multidogo, jsfactory/mental_health_reddit_posts, ju-bezdek/conll2003-SK-NER, julien-c/dummy-dataset-from-colab, julien-c/persistent-space-dataset, julien-c/reactiongif, juliensimon/autonlp-data-song-lyrics-demo, juliensimon/autonlp-data-song-lyrics, juniorrios/roi_leish_test, juny116/few_glue, justinqbui/covid_fact_checked_google_api, justinqbui/covid_fact_checked_polifact, k-halid/ar, k0t1k/test, kaka10/fgfgfgfg, karinev/lanuitdudroit, kartikay/review-summarizer, katanaml/cord, katoensp/VR-OP, kaushikacharya/github-issues, kenlevine/CUAD, keshan/clean-si-mc4, keshan/large-sinhala-asr-dataset, keshan/multispeaker-tts-sinhala, keshan/wit-dataset, kevinassobo/sales_2015_dataset, kevinjesse/ManyTypes4TypeScript, kevinlu1248/personificationgen, khalidsaifullaah/detecThreats, khanbaba/online_love, khursani8/sani, kiamehr74/CoarseWSD-20, kingabzpro/Rick-bot-flags, kingabzpro/ar_corpora_parliament_processed, kingabzpro/ga_corpora_parliament_processed, kingabzpro/pan_corpora_parliament_processed, kingabzpro/savtadepth-flags, kingabzpro/tt_corpora_parliament_processed, kiyoung2/aistage-mrc, kiyoung2/temp, kleinay/qa_srl, kmfoda/booksum, kmfoda/name_finder_v1, kmyoo/klue-tc-dev, knilakshan20/wikigold, kowndinya23/bert-dataset, krandiash/beethoven, krandiash/sc09, krandiash/youtubemix, kresnik/librispeech_asr_test, kresnik/zeroth_korean, kroshan/BioASQ, kroshan/qa_evaluator, kudo-research/mustc-en-es-text-only, kyryl0s/ukbbc, laion/filtered-wit, laion/laion400m, laion/laion_100m_vqgan_f8, lara-martin/Scifi_TV_Shows, larcane/ko-WIT, laugustyniak/abusive-clauses-pl, lavis-nlp/german_legal_sentences, layboard/layboard.in, lc-col/sv_corpora_parliament_processed, leiping/jj, leiping/teeee, leoapolonio/AMI_Meeting_Corpus, lewtun/asr-preds-test, lewtun/asr_dummy, lewtun/benchmark-test, lewtun/binary_classification_dummy, lewtun/bulk-superb-s3p-superb-49606, lewtun/drug-reviews, lewtun/gem-multi-dataset-predictions, lewtun/gem-sub-03, lewtun/gem-test-predictions, lewtun/gem-test-references, lewtun/github-issues-test, lewtun/github-issues, lewtun/mnist-preds, lewtun/my-awesome-dataset, lewtun/s3prl-sd-dummy, lewtun/test, lewtun/text_classification_dummy, lgrobol/openminuscule, lhoestq/conll2003, lhoestq/custom_squad, lhoestq/demo1, lhoestq/squad, lhoestq/test, lhoestq/test2, lhoestq/test_commit_descriptions, lhoestq/test_zip_txt, lhoestq/tmp, lhoestq/wikipedia_bn, liam168/nlp_c4_sentiment, lidia/202111, lijingxin/github-issues, lijingxin/squad_zen, lijingxin/squad_zh_1, limjiayi/hateful_memes_expanded, lincoln/newsquadfr, linhd-postdata/pulpo, linhd-postdata/stanzas, liweili/c4_200m, lkarjun/Malayalam-Articles, lkiouiou/o9ui7877687, lkndsjkndgskjngkjsndkj/jsjdjsdvkjvszlhdskb, lohanna/testedjkcxkf, lorsorlah/Dadedadedam, loveguruji609/dfdfsdfsdfsdfsdfsd, lpsc-fiuba/melisa, lsb/ancient-latin-passages, lsb/million-english-numbers, lucien/sciencemission, lucien/voacantonesed, lucien/wsaderfffjjjhhh, lucio/common_voice_eval, lukasmasuch/my-test-repo-3, lukasmasuch/my-test-repo-4, lukasmasuch/test-2, lukasmasuch/test-3, lukasmasuch/test, lukesjordan/worldbank-project-documents, luofengge/mydata, luofengge/testDataset, luomingshuang/GRID_audio, luomingshuang/GRID_text, luomingshuang/grid_lip_160_80, luozhouyang/dureader, luozhouyang/kgclue-knowledge, luozhouyang/question-answering-datasets, lvwerra/codeparrot-clean-train, lvwerra/codeparrot-clean-valid, lvwerra/codeparrot-clean, lvwerra/codeparrot-valid-clean-minimal, lvwerra/codeparrot-valid, lvwerra/github-alphacode, lvwerra/github-code, lvwerra/important_dataset, lvwerra/lm_ar_wikipedia, lvwerra/lm_nigercongo-ak_wikipedia, lvwerra/red-wine, lvwerra/repo-images, lvwerra/test, lysandre/image-to-text, lysandre/my-cool-dataset, m-newhauser/dataset-isi-200, m3hrdadfi/recipe_nlg_lite, mad/IndonesiaNewsDataset, maindadwitiya/weather_dataset, maji/npo_mission_statement_ucf, majod/CleanNaturalQuestionsDataset, makanan/umich, makarios19/neurips-paper, malay-huggingface/jelapang-padi, malay-huggingface/pembalakan, mammut/mammut-corpus-venezuela-test-set, mammut/mammut-corpus-venezuela, manandey/OSCAR_Entity_Toy, manandey/entity_experiments, manifoldix/sg_testset_fhnw, manifoldix/swg_parliament_fhnw, manishk31/Demo, manu/fr_corpora_parliament_processed-lowercased, manu/fr_corpora_parliament_processed, marinone94/nst_no, marinone94/nst_sv, mariosasko/PetImages, mariosasko/dummy_test, markscrivo/OddsOn, martiwey/codesearchnet-go, martiwey/codesearchnet-java, martiwey/codesearchnet-javascript, martiwey/codesearchnet-php, martiwey/codesearchnet-python, martiwey/codesearchnet-ruby, martodaniel/terere, masked-neuron/amazon, masked-neuron/ccd, masked-neuron/qb, mattchurgin/sv_corpora_parliament_processed, matteopilotto/github-issues, maximedb/mcqa_light, maximedb/mfaq_light, maximedb/paws-x-all, maximedb/vaccinchat, maximedb/vaccinchat_retrieval, maximedb/wow, maxmoynan/SemEval2017-Task4aEnglish, mbateman/github-issues, medzaf/test, meghanabhange/chaii, meghanabhange/hilm141021, meghanabhange/hitalm141021, meghanabhange/hitalmsandbox, meghanabhange/talm141021, merty/nateraw-food101-copy, merve/coco, merve/folk-mythology-tales, merve/poetry, merve/qqp, metaeval/blimp_classification, metaeval/colors, metaeval/crowdflower, metaeval/ethics, metaeval/linguisticprobing, metaeval/recast, metalearning/kaggale-nlp-tutorial, metamong1/summarization_optimization, metopedia/autonlp-data-Multiple-Source-Language-Consensus-Reconstruction-o, michaelbenayoun/wikipedia-bert-128, microsoft/codexglue_method_generation, midas/citeulike180, midas/cstr, midas/duc2001, midas/inspec, midas/inspec_ke_tagged, midas/kdd, midas/kp20k, midas/kpcrowd, midas/kptimes, midas/krapivin, midas/ldke3k_medium, midas/ldke3k_small, midas/ldkp10k, midas/ldkp3k, midas/ldkp3k_small, midas/nus, midas/oagkx, midas/openkp, midas/pubmed, midas/semeval2010, midas/semeval2010_ke_tagged, midas/semeval2017, midas/semeval2017_ke_tagged, midas/test_ldkp, midas/www, mideind/icelandic-common-crawl-corpus-IC3, mideind/icelandic-error-corpus-IceEC, mikeee/model-z, mirari/sv_corpora_parliament_processed, mishig/sample_images, mksaad/Arabic_news, ml6team/cnn_dailymail_nl, ml6team/xsum_nl, mldmm/glass_alloy_composition, mmcquade11-test/reuters-for-summarization-two, mmm-da/rutracker_anime_torrent_titles, mnaylor/evaluating-student-writing, mnemlaghi/widdd, mohamed-illiyas/wav2vec2-base-lj-demo-colab, morganchen1007/1215, morganchen1007/1216, morganchen1007/1216_00, morganchen1007/test_1213_00, moshew/my_raft, mostol/wiktionary-ipa, moumeneb1/French_arpa_lm, moumeneb1/filtered, moumeneb1/filtered_300, moumeneb1/fr_lm_dataset, moumeneb1/large_vocabulary_dataset, moumeneb1/osc_processed_lm, moumeneb1/testing, moxi43/github-issues, mozilla-foundation/common_voice_1_0, mozilla-foundation/common_voice_2_0, mozilla-foundation/common_voice_3_0, mozilla-foundation/common_voice_4_0, mozilla-foundation/common_voice_5_0, mozilla-foundation/common_voice_5_1, mozilla-foundation/common_voice_6_0, mozilla-foundation/common_voice_6_1, mozilla-foundation/common_voice_7_0, mozilla-foundation/common_voice_8_0, mpierrau/sv_corpora_parliament_processed, mr-robot/ec, mrm8488/fake-news, mrm8488/goemotions, mrojas/abbreviation, mrojas/body, mrojas/disease, mrojas/family, mrojas/finding, mrojas/medication, mrojas/procedure, mrp/Thai-Semantic-Textual-Similarity-Benchmark, msarmi9/korean-english-multitarget-ted-talks-task, msivanes/github-issues, mswedrowski/multiwiki_90k, mtfelix/datasetdemo, mtlew/0001_Angry_test, muhtasham/autonlp-data-Doctor_DE, mulcyber/europarl-mono, munggok/mc4-id, mustafa12/db_ee, mustafa12/edaaaas, mustafa12/thors, mvarma/medwiki, nateraw/auto-cats-and-dogs, nateraw/auto-exp-2, nateraw/beans, nateraw/beans_old, nateraw/blahblah, nateraw/bulk-dummy, nateraw/cats-and-dogs, nateraw/cats_vs_dogs, nateraw/dummy-csv-dataset, nateraw/filings-10k, nateraw/food101, nateraw/food101_old, nateraw/huggingpics-data-2, nateraw/huggingpics-data, nateraw/image-folder, nateraw/imagefolder, nateraw/imagenette, nateraw/img-demo, nateraw/rock_paper_scissors, nateraw/sync_food101, nateraw/test, nateraw/wit, nathanlsl/news, naver-clova-conversation/klue-tc-dev-tsv, naver-clova-conversation/klue-tc-tsv, naver-clova-conversation-ul/klue-tc-dev, navjordj/nak_nb, ncats/EpiSet4BinaryClassification, ncats/EpiSet4NER-v1, ncats/GARD_EpiSet4TextClassification, ncduy/github-issues, ncduy/mt-en-vi, ncoop57/athena_data, ncoop57/csnc_human_judgement, ncoop57/rico_captions, neelalex/raft-predictions, newsha/PQuAD, nferruz/UR50_2021_04, nferruz/UR50_2021_04_text, ngdiana/hu_severity, ngdiana/uaspeech, ngdiana/uaspeech_severity, ngdiana/uaspeech_severity_high, ngdiana/uaspeech_severity_low, nickmuchi/fin_dataset, nickmuchi/financial-classification, nickmuchi/trade-the-event-finance, nid989/FNC-1, nielsr/FUNSD_layoutlmv2, nielsr/XFUN, nielsr/funsd, nlpaueb/test, nlpconnect/dpr-nq-reader-v2, nlpconnect/dpr-nq-reader, nlpconnect/ms_marco_subset_v2.1, nlpufg/brwac-pt, nlpufg/brwac, nlpufg/oscar-pt, nlpyeditepe/tr-qnli, nlpyeditepe/tr_rte, nntadotzip/iuQAchatbot, notional/notional-python, nouamanetazi/ar_common_voice_processed, nouamanetazi/ar_opus100_processed, nsi319/figures-dataset, ntagg/data1, nthngdy/bananas, nthngdy/ccnews_split, nthngdy/openwebtext_split, ntutexas/amazon, nucklehead/ht-voice-dataset, oelkrise/CRT, openclimatefix/eumetsat_uk_hrv, openclimatefix/gfs, openclimatefix/goes-l2, openclimatefix/goes-mrms, openclimatefix/goes, openclimatefix/hrrr, openclimatefix/mrms, openclimatefix/nimrod-uk-1km, osanseviero/codeparrot-train, osanseviero/llama_test, osanseviero/test, oscar-corpus/OSCAR-2109, ought/raft-submission, ought/raft, outman/test, papluca/language-identification, pariajm/sharif_emotional_speech_dataset, parivartanayurveda/Malesexproblemsayurvedictreatment, pasinit/scotus, pasinit/xlwic, patrickvonplaten/ami_single_headset_segmented_and_chunked, patrickvonplaten/common_voice_6_tr, patrickvonplaten/common_voice_processed_turkish, patrickvonplaten/helena_coworking, patrickvonplaten/librispeech_asr_dummy, patrickvonplaten/librispeech_local, patrickvonplaten/librispeech_local_dummy, patrickvonplaten/scientific_papers_dummy, patrickvonplaten/sensitive_data_sv, pdesoyres/test, peixian/equity_evaluation_corpus, peixian/rtGender, pelican/test_100, persiannlp/parsinlu_entailment, persiannlp/parsinlu_query_paraphrasing, persiannlp/parsinlu_reading_comprehension, persiannlp/parsinlu_sentiment, persiannlp/parsinlu_translation_en_fa, persiannlp/parsinlu_translation_fa_en, peterbonnesoeur/autonlp-data-test_text_summarization, peterhsu/github-issues, philschmid/prompted-germanquad, philschmid/test_german_squad, phoelti/squad_dev, phongdtd/VinDataVLSP, phongdtd/youtube_casual_audio, phonlab-tcd/cngv1, phonlab-tcd/corpuscrawler-ga, piEsposito/br-quad-2.0, piEsposito/br_quad_20, piEsposito/squad_20_ptbr, pierreant-p/jcvd-or-linkedin, pierreguillou/lener_br_finetuning_language_model, pierreguillou/test_datasetdict, pierresi/cord, pietrolesci/ag_news, pmc/open_access, polinaeterna/dummy_dataset, polinaeterna/ml_spoken_words, polinaeterna/test_opus, poperson1205/mrtydi-v1.1-korean-fixed, prajin/ne_corpora_parliament_processed, princeton-nlp/datasets-for-simcse, pritamdeka/cord-19-abstract, pritamdeka/cord-19-fulltext, priya3301/Graduation_admission, priya3301/tes, priya3301/test, proffttega/ILLUMINATI, proffttega/doc, proffttega/join_illuminati_to_become_rich, proffttega/persian_daily_news, project2you/asr, projecte-aina/ancora-ca-ner, projecte-aina/casum, projecte-aina/catalan_general_crawling, projecte-aina/catalan_government_crawling, projecte-aina/catalan_textual_corpus, projecte-aina/parlament_parla, projecte-aina/sts-ca, projecte-aina/teca, projecte-aina/tecla, projecte-aina/vilaquad, projecte-aina/vilasum, projecte-aina/viquiquad, projecte-aina/xquad-ca, psrpsj/stop_words, pstroe/cc100-latin, pulmo/chest_xray, qa4pc/QA4PC, qanastek/ANTILLES, qanastek/ELRC-Medical-V2, qfortier/instagram_ny, quarter100/boolq_log, quis/vnexpress-train, qwant/squad_fr, radhakri119/sv_corpora_parliament_processed, ragarwal/args-me-pairs, rahular/itihasa, rajeshradhakrishnan/malayalam_2020_wiki, rajeshradhakrishnan/malayalam_news, rajeshradhakrishnan/malayalam_wiki, ramitsurana/sanskrit, ramybaly/conll2012, ramybaly/nerd, ranim/Algerian-Arabic, ranpox/xfund, rays2pix/example, rays2pix/example_dataset, readerbench/ChatLinks, rewardsignal/reddit_writing_prompts, rgismondi/code-fill-dataset, robz/test, rocca/sims4-faces, ronaldvanos/testdata, rony/soccer-dialogues, rookieguy12/dataset, rosettarandd/rosetta_balcanica, roskoN/dailydialog, roskoN/dstc8-reddit-corpus, rubenwol/multi_news_qasrl, rubrix/cleanlab-label_errors, rubrix/gutenberg_spacy-ner, rubrix/gutenberg_spacy-ner_smaller, rubrix/imdb_spacy-ner, rubrix/news, rubrix/sentiment-banking-2, rubrix/sentiment-banking, rucyang/sales, rwebe/rwebe, s-myk/test, s3h/arabic-gec, s3h/arabic-grammar-corrections, s3h/custom-qalb-classification, s3h/customized-qalb-v2, s3h/customized-qalb, s3h/gec-arabic, s3h/gec-cleaned, s3h/gec-token-classification, s3h/poc-gec, safik/github-issues-comments, safik/github-issues, sagnikrayc/mctest, sagnikrayc/quasar, sagteam/author_profiling, sajadk/IranianCarLicencePlate, salesken/Paraphrase_category_detection, samarlune/Holy_Coran, samgin/FooReview, samgin/star_tagging, samirt8/fr_corpora_parliament_processed, samjgorman/sample, sammy786/finnish_traindata, sanyu/aw, sanyu/er, sanyu/hh, sanyu/vb, sc2qa/sc2q_commoncrawl, sc2qa/sc2q_commoncrawl_large, sc2qa/sc2qa_commoncrawl, sdfufygvjh/fgghuviugviu, sduong/genwiki, sduong/wikigraphs, seamew/ChnSentiCorp, seamew/Hotel, seamew/THUCNews, seamew/THUCNewsText, seamew/THUCNewsTitle, seamew/Weibo, seanbethard/autonlp-data-summarization_model, sebastiaan/test-cefr, sebastian-hofstaetter/tripclick-training, segments-bert/image-upload-test, segments-bert/logo_dataset, segments-bert/pets, sentence-transformers/embedding-training-data, sentence-transformers/msmarco-hard-negatives, sentence-transformers/parallel-sentences, sentence-transformers/reddit-title-body, seregadgl/test_set, sevbqewre/vebdesbdty, severo/autonlp-data-sentiment_detection-3c8bcd36, severo/dummy_gated, severo/embellishments, severo/wit, seyia92coding/steam_games_2019.csv, sh110495/klue-nli, sh110495/korquad, shahp7575/sia_pile_sample, shahp7575/sia_tp_sample, shahrukhx01/questions-vs-statements, shaina/covid19, shanya/website_metadata_c4_toy, sharejing/BiPaR, sheryylli/utr_total_reads, shibing624/python-source-code, shivam/hindi_pib_processed, shivam/marathi_pib_processed, shivam/marathi_samanantar_processed, shivam/test-translation-2, shivam/test-translation, shivam/test, shivkumarganesh/CoLA, shivmoha/squad-unanswerable, shivmoha/squad_adversarial_manual, shpotes/ms_coco, shpotes/tfcol, sia-precision-education/pile_cpp, sia-precision-education/pile_js, sia-precision-education/pile_python, sia-precision-education/sia_pile_sample, sijpapi/batch13, sijpapi/funsd, sijpapi/funsds, silentzone/test, sine/zzz, sismetanin/rureviews, smallv0221/my-test, softcatala/Europarl-catalan, softcatala/Softcatala-Web-Texts-Dataset, softcatala/Tilde-MODEL-Catalan, softcatala/ca_text_corpus, softcatala/catalan-dictionary, softcatala/open-source-english-catalan-corpus, solomonk/reddit_mental_health_posts, somaimanguyat/Genjer, somaimanguyat/Koboy, somaimanguyat/Movieonline2021, somaimanguyat/Salome, somaimanguyat/movie21, somaimanguyat/xiomay, spacemanidol/ms_marco_doc2query, spacemanidol/msmarco_passage_ranking, spasis/datasets-github-issues, spasis/github-issues, ssasaa/gghghgh, sshleifer/pseudo_bart_xsum, stas/c4-en-10k, stas/openwebtext-10k, stas/oscar-en-10k, stas/wmt14-en-de-pre-processed, stas/wmt16-en-ro-pre-processed, stevhliu/demo, stiel/skjdhjkasdhasjkd, subiksha/OwnDataset, superb/superb-data, susumu2357/squad_v2_sv, svakulenk0/qrecc, svakulenk0/spoken_kgqa, svalabs/all-nli-german-translation-wmt19, svalabs/ms-marco-german-translation-wmt19, svanhvit/iceErrorCorpus, svanhvit/icelandic-ner-MIM-GOLD-NER, tals/test, tanay/embed, tanfiona/causenet_wiki, tarudesu/UIT-ViCTSD, tasosk/airlines, tau/fs, tau/mrqa, tau/scientific_papers, tau/scrolls, tesemnikov-av/toxic_dataset_classification, tesemnikov-av/toxic_dataset_ner, testOrganization01/test05, teven/all_wikipedia_passages, teven/c4_15M, teven/github_all_lang_filtered, teven/matched_passages_wikidata, teven/mpww, teven/mpww_all_passages, teven/prompted_examples, teven/pseudo_crawl_en_seeds, teven/stackexchange, tharindu/MOLD, tharindu/SOLID, thiemowa/argumentationreviewcorpus, thiemowa/empathyreviewcorpus, thomwolf/codeparrot-train, thomwolf/codeparrot-valid, thomwolf/codeparrot, thomwolf/github-dataset, thomwolf/github-python, thomwolf/very-good-dataset, thomwolf/very-test-dataset-2, thomwolf/very-test-dataset, tianxing1994/temp, toddmorrill/github-issues, toloka/CrowdSpeech, toloka/VoxDIY-RusNews, tommy19970714/common_voice, toriving/kosimcse, toriving/talktalk-sentiment-210713-multi-singleturn-custom-multiturn, tranduyquang2205/vietnamese_dataset, transformersbook/codeparrot-train, transformersbook/codeparrot-valid, transformersbook/codeparrot, trnt/github-issues, ttj/metadata_arxiv, turingbench/TuringBench, uasoyasser/rgfes, ubamba98/ro_cv7_processed, ucberkeley-dlab/measuring-hate-speech, uit-nlp/vietnamese_students_feedback, ujjawal1612/quora, umangchaudhry/demo_data_raw, unicamp-dl/mmarco, unicamp-dl/mrobust, usc-isi/WikiConvert, uva-irlab/canard_quretec, uva-irlab/trec-cast-2019-multi-turn, uyeongjae/load_klue_re_agmented, valurank/hate-multi, valurank/offensive-multi, vanadhi/finlitqa, vannacute/AmazonReviewHelpfulness, vannora/pdata, vannynakamura/leish, vasilis/et_corpora_parliament_processed, vasudevgupta/amazon-ml-hack, vasudevgupta/bigbird-tokenized-natural-questions, vasudevgupta/data, vasudevgupta/fairseq-ljspeech, vasudevgupta/gsoc-librispeech, vasudevgupta/natural-questions-validation, vasudevgupta/prml_data_contest, vasudevgupta/temperature-distribution-2d-plate, vasudevgupta/temperature-distribution-3d-cylinder, vblagoje/lfqa, vblagoje/lfqa_support_docs, vblagoje/wikipedia_snippets_streamed, vctc92/sdsd, vctc92/test, vera-pro/ShadowLink, versae/bibles, versae/modernisa, versae/norwegian-t5-dataset-debug, versae/norwegian-t5-dataset-debug2, versae/norwegian-t5-dataset-debug3, vershasaxena91/datasets, vershasaxena91/squad_multitask, vesteinn/IC3, vesteinn/icelandic-ner-MIM-GOLD-NER, vesteinn/icelandic-qa-NQiI, vidhur2k/multilingual-hate-speech, vishnun/huggingpics-data, vivekverma239/question-generation, vkhangpham/github-issues, vs4vijay/VizDS, vumichien/common_voice_large, vumichien/common_voice_large_jsut_jsss_css10, vumichien/ja_opus100_processed, w-nicole/childes_data, w-nicole/childes_data_no_tags, w-nicole/childes_data_no_tags_, w-nicole/childes_data_with_tags, w-nicole/childes_data_with_tags_, w11wo/imdb-javanese, wanagenst/maslow-six-choices, wanagenst/maslow-stories, wanagenst/plutchik-nine-choices, wanagenst/plutchik-stories, wanagenst/reiss-stories, wanagenst/reiss-twenty-choices, wardenga/lsoie, warwickai/financial_phrasebank_mirror, webek18735/ddvoacantonesed, webek18735/dhikhscook, webimmunization/COVID-19-vaccine-attitude-tweets, webis/args_me, webis/conclugen, webis/ms-marco-anchor-text, weijieliu/senteval_cn, wesamhaddad14/testdata, wifis/ouivirtual, wikilee/ADFA_Mapping, wikimedia/wikipedia, wikimedia/wikisource, winvoker/turkish-sentiment-analysis-dataset, wisdomify/story, wmt/europarl, wmt/news-commentary, wmt/uncorpus, wmt/wikititles, wmt/wmt10, wmt/wmt13, wmt/wmt14, wmt/wmt15, wmt/wmt16, wmt/wmt17, wmt/wmt18, wmt/wmt19, wpicard/nostradamus-propheties, wza/USTT, wzkariampuzha/EpiClassifySet, wzkariampuzha/EpiExtract4GARD, wzywzy/telegram_summary, x-tech/cantonese-mandarin-translations, xiaj/ds_test, xiaj/test0919, xiaobendanyn/demo, xiaobendanyn/nyt10, xiaobendanyn/tacred, xkang/github-issues, xuyeliu/notebookCDG, yannobla/Sunshine, yazdipour/text-to-sparql-kdwd, ydshieh/coco_dataset_script, yerevann/sst2, yharyarias/tirads_tiroides, yhavinga/mc4_nl_cleaned, yluisfern/PBU, yo/devparty, yonesuke/Ising2D, yonesuke/Vicsek, yonesuke/kuramoto, ysharma/rickandmorty, ytsaig/news-12factor, yuanchuan/annotated_reference_strings, yuchenlin/OntoRock, yuvalkirstain/asset, yuvalkirstain/contract_nli-debug, yuvalkirstain/contract_nli_t5, yuvalkirstain/contract_nli_t5_lm, yuvalkirstain/qasper_t5, yuvalkirstain/qasper_t5_lm, yuvalkirstain/qmsum_t5, yuvalkirstain/qmsum_t5_lm, yuvalkirstain/quality, yuvalkirstain/quality_debug, yuvalkirstain/quality_squad, yuvalkirstain/quality_squad_debug, yuvalkirstain/quality_t5, yuvalkirstain/quality_t5_lm, yuvalkirstain/scrolls_t5, yuvalkirstain/squad_full_doc, yuvalkirstain/squad_seq2seq, yuvalkirstain/squad_t5, yuvalkirstain/summ_screen_fd_t5, yuvalkirstain/summ_screen_fd_t5_lm, yxchar/ag-tlm, yxchar/amazon-tlm, yxchar/chemprot-tlm, yxchar/citation_intent-tlm, yxchar/hyp-tlm, yxchar/imdb-tlm, yxchar/rct-20k-tlm, yxchar/sciie-tlm, z-uo/female-LJSpeech-italian, z-uo/male-LJSpeech-italian, z-uo/squad-it, zapsdcn/ag, zapsdcn/amazon, zapsdcn/chemprot, zapsdcn/citation_intent, zapsdcn/hyperpartisan_news, zapsdcn/imdb, zapsdcn/rct-20k, zapsdcn/sciie, zf-org/org_dataset, zfaB4Hmm/test, zhangruihan1/face-recognition-validation, zhangruihan1/face-recognition, zhangruihan1/fr-cfp_fp, zhoujun/hitab, zhufy/xquad_split, zj88zj/PubMed_200k_RCT, zj88zj/SCIERC, zloelias/kinopoisk-reviews-short, zloelias/kinopoisk-reviews, zloelias/lenta-ru-short, zloelias/lenta-ru, zlucia/casehold, zwang199/autonlp-data-traffic_nlp_binary, SinaRampe/fairy_tales_grimm, viktor-enzell/common_voice_sv_test_preprocessed, espejelomar/code_search_net_python_10000_examples, cahya/persona_empathetic\n"
          ]
        }
      ]
    },
    {
      "cell_type": "code",
      "source": [
        "dataset = load_dataset('amazon_us_reviews', 'Mobile_Electronics_v1_00')"
      ],
      "metadata": {
        "colab": {
          "base_uri": "https://localhost:8080/",
          "height": 200,
          "referenced_widgets": [
            "2285d023befc43c1a524c688cc2161fc",
            "3136b55fc78e4b178be96020255b3bd0",
            "6f0523ed5f864cf2a8950267e760d508",
            "abe51db64680492891403bc79d925eda",
            "b65a641d683749daa9bf92409267fc2a",
            "8c34d53150354c698f08a16728e13ffd",
            "1bf0d448ab0a4612a72e98766fc77395",
            "ffeb9c09c73d48848239072f37e83194",
            "007eb65a01ba455eab898a1fde4b122a",
            "9058db167c234b1387dfdcaa0a07c17b",
            "5cf450516f6842199344879f9dcfe71f",
            "3c18d5360c184f9d83a33d807072aa1c",
            "1e8d1685432f4089815c2befbe0929c4",
            "dba2a7154edc48d2ae07165cc9379c7f",
            "3b310e3c391a4f3fbc832f748897b610",
            "3aba9fdd2b484976b631f7944d038432",
            "6ebfa797b2464fa9a35d76c5ea99afb4",
            "391355a5fc6d4c93af16ff4753553fd2",
            "83d8352e9d7c4f85963637c5abec4e72",
            "924c41d524db48d292589bdbe302b58b",
            "a495a3ec5bb14361b658066e26c947e4",
            "cfd885d7851c4dcd98dd2bc43ffd36c2",
            "9e884710b4894d63a16ec447b217488e",
            "0f3a4dc50ed744089e62b08411cef51f",
            "2c5f99a2143844598a39f4831f30ca72",
            "01e67ea449c546529e9f122fface8c04",
            "2d5e5d3f9a3240408d1430b993abfa53",
            "0db1f6bdbc184021a757f9c3ff479ced",
            "d48792944b6542c88fdfe60784db2c0a",
            "bdc27c499a9b437b82388593c1aff6f6",
            "26fd015d747c4c3787b81826deb3e852",
            "36ad5a26aedb41fda4e66bf576ac0dae",
            "da887279ab2142d58220924b8f86b9df",
            "e4093d896b5e4ad5a4304f3c55849f2e",
            "00e4df514fd549bda59d8835c1aec564",
            "5c0f4ec21b6b46f3a7cf10701acb4ec3",
            "029ada64916747489e541725d052f978",
            "a68343092fe24dacabfb5fc95892f91f",
            "e241cdd7bdb74c4ca6a833ccb63f80a1",
            "6016d3c3fbac40e6b80796ee39c498ef",
            "f57f29650f00418c890c3cebad9c453c",
            "e8537fb5695c40aa95c790c943c8910c",
            "817ae2dd1efc4cf99238785056c68170",
            "2e44d3ee4fbf4eddb988ece710942989",
            "2664dd3087ae40adaf83d14147cd463c",
            "a1dc98cf9b3940898a342c20fd1db1d5",
            "1da61676e16e4e539fc9903de79d0329",
            "f361c5c8a2dc47e1b90a524146cd6e8e",
            "2af58daea5054db8957004e518f4664c",
            "6a5212278c6a4570a898f01634553665",
            "30e44cf0cdca4197938c4e8af7e332d1",
            "b2ad49b8803c4d8f9421f9c548e9ce2e",
            "670ff37b9cde406283c9299ab5d8d7e7",
            "4ef9a929ad65418ea567235be91d8ace",
            "39bc0fe7117748b990c27965768ed11e"
          ]
        },
        "id": "oth1GXZCPrd4",
        "outputId": "35ff7f94-3180-41a6-cd52-8224f094dbdc"
      },
      "execution_count": 19,
      "outputs": [
        {
          "output_type": "display_data",
          "data": {
            "application/vnd.jupyter.widget-view+json": {
              "model_id": "2285d023befc43c1a524c688cc2161fc",
              "version_minor": 0,
              "version_major": 2
            },
            "text/plain": [
              "Downloading:   0%|          | 0.00/2.78k [00:00<?, ?B/s]"
            ]
          },
          "metadata": {}
        },
        {
          "output_type": "display_data",
          "data": {
            "application/vnd.jupyter.widget-view+json": {
              "model_id": "3c18d5360c184f9d83a33d807072aa1c",
              "version_minor": 0,
              "version_major": 2
            },
            "text/plain": [
              "Downloading:   0%|          | 0.00/8.96k [00:00<?, ?B/s]"
            ]
          },
          "metadata": {}
        },
        {
          "output_type": "stream",
          "name": "stdout",
          "text": [
            "Downloading and preparing dataset amazon_us_reviews/Mobile_Electronics_v1_00 (download: 21.81 MiB, generated: 60.32 MiB, post-processed: Unknown size, total: 82.14 MiB) to /root/.cache/huggingface/datasets/amazon_us_reviews/Mobile_Electronics_v1_00/0.1.0/17b2481be59723469538adeb8fd0a68b0ba363bbbdd71090e72c325ee6c7e563...\n"
          ]
        },
        {
          "output_type": "display_data",
          "data": {
            "application/vnd.jupyter.widget-view+json": {
              "model_id": "9e884710b4894d63a16ec447b217488e",
              "version_minor": 0,
              "version_major": 2
            },
            "text/plain": [
              "Downloading:   0%|          | 0.00/22.9M [00:00<?, ?B/s]"
            ]
          },
          "metadata": {}
        },
        {
          "output_type": "display_data",
          "data": {
            "application/vnd.jupyter.widget-view+json": {
              "model_id": "e4093d896b5e4ad5a4304f3c55849f2e",
              "version_minor": 0,
              "version_major": 2
            },
            "text/plain": [
              "0 examples [00:00, ? examples/s]"
            ]
          },
          "metadata": {}
        },
        {
          "output_type": "stream",
          "name": "stdout",
          "text": [
            "Dataset amazon_us_reviews downloaded and prepared to /root/.cache/huggingface/datasets/amazon_us_reviews/Mobile_Electronics_v1_00/0.1.0/17b2481be59723469538adeb8fd0a68b0ba363bbbdd71090e72c325ee6c7e563. Subsequent calls will reuse this data.\n"
          ]
        },
        {
          "output_type": "display_data",
          "data": {
            "application/vnd.jupyter.widget-view+json": {
              "model_id": "2664dd3087ae40adaf83d14147cd463c",
              "version_minor": 0,
              "version_major": 2
            },
            "text/plain": [
              "  0%|          | 0/1 [00:00<?, ?it/s]"
            ]
          },
          "metadata": {}
        }
      ]
    },
    {
      "cell_type": "markdown",
      "source": [
        "We make a new columns called Sentiment by transforming the star_rating column, by assigning all rating with score >=3 as 1 and 0 otherwise,, . Next, we extract review_body and Sentiment from the dataset and this gives us our complete dataset for buidling our model."
      ],
      "metadata": {
        "id": "S8vG-VtsPxsH"
      }
    },
    {
      "cell_type": "code",
      "source": [
        "def process_dataset(dataset):\n",
        "  dataset = pd.DataFrame(dataset['train'][:])\n",
        "  dataset[\"Sentiment\"] = dataset[\"star_rating\"].apply(lambda score: \"positive\" if score >= 3 else \"negative\")\n",
        "  dataset['Sentiment'] = dataset['Sentiment'].map({'positive':1, 'negative':0})\n",
        "  dataset = dataset[['review_body','Sentiment']]\n",
        "  dataset.columns = ['Reviews','Sentiment']\n",
        "\n",
        "  return dataset"
      ],
      "metadata": {
        "id": "XSA4P9SKP15N"
      },
      "execution_count": 20,
      "outputs": []
    },
    {
      "cell_type": "code",
      "source": [
        "dataset = process_dataset(dataset)"
      ],
      "metadata": {
        "id": "7ZOyblE-P4D5"
      },
      "execution_count": 21,
      "outputs": []
    },
    {
      "cell_type": "code",
      "source": [
        "dataset.head()"
      ],
      "metadata": {
        "colab": {
          "base_uri": "https://localhost:8080/",
          "height": 206
        },
        "id": "PVtbcLtdP6MC",
        "outputId": "ea003421-44d8-4837-9325-a7b31139d053"
      },
      "execution_count": 22,
      "outputs": [
        {
          "output_type": "execute_result",
          "data": {
            "text/html": [
              "\n",
              "  <div id=\"df-dae9ea64-8b99-452b-8f73-972ccef75b0e\">\n",
              "    <div class=\"colab-df-container\">\n",
              "      <div>\n",
              "<style scoped>\n",
              "    .dataframe tbody tr th:only-of-type {\n",
              "        vertical-align: middle;\n",
              "    }\n",
              "\n",
              "    .dataframe tbody tr th {\n",
              "        vertical-align: top;\n",
              "    }\n",
              "\n",
              "    .dataframe thead th {\n",
              "        text-align: right;\n",
              "    }\n",
              "</style>\n",
              "<table border=\"1\" class=\"dataframe\">\n",
              "  <thead>\n",
              "    <tr style=\"text-align: right;\">\n",
              "      <th></th>\n",
              "      <th>Reviews</th>\n",
              "      <th>Sentiment</th>\n",
              "    </tr>\n",
              "  </thead>\n",
              "  <tbody>\n",
              "    <tr>\n",
              "      <th>0</th>\n",
              "      <td>As advertised. Everything works perfectly, I'm...</td>\n",
              "      <td>1</td>\n",
              "    </tr>\n",
              "    <tr>\n",
              "      <th>1</th>\n",
              "      <td>it's great</td>\n",
              "      <td>1</td>\n",
              "    </tr>\n",
              "    <tr>\n",
              "      <th>2</th>\n",
              "      <td>These work great and fit my life proof case fo...</td>\n",
              "      <td>1</td>\n",
              "    </tr>\n",
              "    <tr>\n",
              "      <th>3</th>\n",
              "      <td>Work very well but couldn't get used to not he...</td>\n",
              "      <td>1</td>\n",
              "    </tr>\n",
              "    <tr>\n",
              "      <th>4</th>\n",
              "      <td>Be careful with these products, I have bought ...</td>\n",
              "      <td>0</td>\n",
              "    </tr>\n",
              "  </tbody>\n",
              "</table>\n",
              "</div>\n",
              "      <button class=\"colab-df-convert\" onclick=\"convertToInteractive('df-dae9ea64-8b99-452b-8f73-972ccef75b0e')\"\n",
              "              title=\"Convert this dataframe to an interactive table.\"\n",
              "              style=\"display:none;\">\n",
              "        \n",
              "  <svg xmlns=\"http://www.w3.org/2000/svg\" height=\"24px\"viewBox=\"0 0 24 24\"\n",
              "       width=\"24px\">\n",
              "    <path d=\"M0 0h24v24H0V0z\" fill=\"none\"/>\n",
              "    <path d=\"M18.56 5.44l.94 2.06.94-2.06 2.06-.94-2.06-.94-.94-2.06-.94 2.06-2.06.94zm-11 1L8.5 8.5l.94-2.06 2.06-.94-2.06-.94L8.5 2.5l-.94 2.06-2.06.94zm10 10l.94 2.06.94-2.06 2.06-.94-2.06-.94-.94-2.06-.94 2.06-2.06.94z\"/><path d=\"M17.41 7.96l-1.37-1.37c-.4-.4-.92-.59-1.43-.59-.52 0-1.04.2-1.43.59L10.3 9.45l-7.72 7.72c-.78.78-.78 2.05 0 2.83L4 21.41c.39.39.9.59 1.41.59.51 0 1.02-.2 1.41-.59l7.78-7.78 2.81-2.81c.8-.78.8-2.07 0-2.86zM5.41 20L4 18.59l7.72-7.72 1.47 1.35L5.41 20z\"/>\n",
              "  </svg>\n",
              "      </button>\n",
              "      \n",
              "  <style>\n",
              "    .colab-df-container {\n",
              "      display:flex;\n",
              "      flex-wrap:wrap;\n",
              "      gap: 12px;\n",
              "    }\n",
              "\n",
              "    .colab-df-convert {\n",
              "      background-color: #E8F0FE;\n",
              "      border: none;\n",
              "      border-radius: 50%;\n",
              "      cursor: pointer;\n",
              "      display: none;\n",
              "      fill: #1967D2;\n",
              "      height: 32px;\n",
              "      padding: 0 0 0 0;\n",
              "      width: 32px;\n",
              "    }\n",
              "\n",
              "    .colab-df-convert:hover {\n",
              "      background-color: #E2EBFA;\n",
              "      box-shadow: 0px 1px 2px rgba(60, 64, 67, 0.3), 0px 1px 3px 1px rgba(60, 64, 67, 0.15);\n",
              "      fill: #174EA6;\n",
              "    }\n",
              "\n",
              "    [theme=dark] .colab-df-convert {\n",
              "      background-color: #3B4455;\n",
              "      fill: #D2E3FC;\n",
              "    }\n",
              "\n",
              "    [theme=dark] .colab-df-convert:hover {\n",
              "      background-color: #434B5C;\n",
              "      box-shadow: 0px 1px 3px 1px rgba(0, 0, 0, 0.15);\n",
              "      filter: drop-shadow(0px 1px 2px rgba(0, 0, 0, 0.3));\n",
              "      fill: #FFFFFF;\n",
              "    }\n",
              "  </style>\n",
              "\n",
              "      <script>\n",
              "        const buttonEl =\n",
              "          document.querySelector('#df-dae9ea64-8b99-452b-8f73-972ccef75b0e button.colab-df-convert');\n",
              "        buttonEl.style.display =\n",
              "          google.colab.kernel.accessAllowed ? 'block' : 'none';\n",
              "\n",
              "        async function convertToInteractive(key) {\n",
              "          const element = document.querySelector('#df-dae9ea64-8b99-452b-8f73-972ccef75b0e');\n",
              "          const dataTable =\n",
              "            await google.colab.kernel.invokeFunction('convertToInteractive',\n",
              "                                                     [key], {});\n",
              "          if (!dataTable) return;\n",
              "\n",
              "          const docLinkHtml = 'Like what you see? Visit the ' +\n",
              "            '<a target=\"_blank\" href=https://colab.research.google.com/notebooks/data_table.ipynb>data table notebook</a>'\n",
              "            + ' to learn more about interactive tables.';\n",
              "          element.innerHTML = '';\n",
              "          dataTable['output_type'] = 'display_data';\n",
              "          await google.colab.output.renderOutput(dataTable, element);\n",
              "          const docLink = document.createElement('div');\n",
              "          docLink.innerHTML = docLinkHtml;\n",
              "          element.appendChild(docLink);\n",
              "        }\n",
              "      </script>\n",
              "    </div>\n",
              "  </div>\n",
              "  "
            ],
            "text/plain": [
              "                                             Reviews  Sentiment\n",
              "0  As advertised. Everything works perfectly, I'm...          1\n",
              "1                                         it's great          1\n",
              "2  These work great and fit my life proof case fo...          1\n",
              "3  Work very well but couldn't get used to not he...          1\n",
              "4  Be careful with these products, I have bought ...          0"
            ]
          },
          "metadata": {},
          "execution_count": 22
        }
      ]
    },
    {
      "cell_type": "markdown",
      "source": [
        "Summary Statistics - All data"
      ],
      "metadata": {
        "id": "9-YNqr3nP9oa"
      }
    },
    {
      "cell_type": "code",
      "source": [
        "dataset['Review_Length'] = dataset['Reviews'].apply(lambda x : len(x))"
      ],
      "metadata": {
        "id": "sGkPO2fMQAN0"
      },
      "execution_count": 23,
      "outputs": []
    },
    {
      "cell_type": "code",
      "source": [
        "print(\"Histogram of Review Length for entire dataset\")\n",
        "dataset['Review_Length'].hist()"
      ],
      "metadata": {
        "colab": {
          "base_uri": "https://localhost:8080/",
          "height": 300
        },
        "id": "BV_Z_UltQDIr",
        "outputId": "f298e37b-5612-457e-9ab8-50380dfd9eff"
      },
      "execution_count": 24,
      "outputs": [
        {
          "output_type": "stream",
          "name": "stdout",
          "text": [
            "Histogram of Review Length for entire dataset\n"
          ]
        },
        {
          "output_type": "execute_result",
          "data": {
            "text/plain": [
              "<matplotlib.axes._subplots.AxesSubplot at 0x7f7795f7c110>"
            ]
          },
          "metadata": {},
          "execution_count": 24
        },
        {
          "output_type": "display_data",
          "data": {
            "image/png": "[encoded data removed]",
            "text/plain": [
              "<Figure size 432x288 with 1 Axes>"
            ]
          },
          "metadata": {
            "needs_background": "light"
          }
        }
      ]
    },
    {
      "cell_type": "code",
      "source": [
        "dataset['Sentiment'].value_counts()"
      ],
      "metadata": {
        "colab": {
          "base_uri": "https://localhost:8080/",
          "height": 0
        },
        "id": "rQb7H31RQFcX",
        "outputId": "2cf1d496-1f42-4c02-c526-a282f47fcc81"
      },
      "execution_count": 25,
      "outputs": [
        {
          "output_type": "execute_result",
          "data": {
            "text/plain": [
              "1    80077\n",
              "0    24898\n",
              "Name: Sentiment, dtype: int64"
            ]
          },
          "metadata": {},
          "execution_count": 25
        }
      ]
    },
    {
      "cell_type": "markdown",
      "source": [
        "Word Count in Raw (unprocessed) Dataset"
      ],
      "metadata": {
        "id": "nPC99xBiQJPh"
      }
    },
    {
      "cell_type": "code",
      "source": [
        "counter = Counter()\n",
        "result = [counter.update(item.split()) for item in dataset['Reviews']]\n",
        "result = pd.DataFrame.from_dict(counter, orient='index').reset_index()\n",
        "result = result.rename(columns={'index':'Token', 0:'count'})"
      ],
      "metadata": {
        "id": "fz6vLbzCQM7X"
      },
      "execution_count": 26,
      "outputs": []
    },
    {
      "cell_type": "code",
      "source": [
        "print(\"Summary Statistics for features : Review Length and Sentiment\")\n",
        "dataset[['Review_Length','Sentiment']].describe()"
      ],
      "metadata": {
        "colab": {
          "base_uri": "https://localhost:8080/",
          "height": 318
        },
        "id": "dN16VJ5AQOs0",
        "outputId": "9637d761-08bc-4a0d-e388-533e07bba097"
      },
      "execution_count": 27,
      "outputs": [
        {
          "output_type": "stream",
          "name": "stdout",
          "text": [
            "Summary Statistics for features : Review Length and Sentiment\n"
          ]
        },
        {
          "output_type": "execute_result",
          "data": {
            "text/html": [
              "\n",
              "  <div id=\"df-75b3b3f5-5730-4137-a9d7-29863219890d\">\n",
              "    <div class=\"colab-df-container\">\n",
              "      <div>\n",
              "<style scoped>\n",
              "    .dataframe tbody tr th:only-of-type {\n",
              "        vertical-align: middle;\n",
              "    }\n",
              "\n",
              "    .dataframe tbody tr th {\n",
              "        vertical-align: top;\n",
              "    }\n",
              "\n",
              "    .dataframe thead th {\n",
              "        text-align: right;\n",
              "    }\n",
              "</style>\n",
              "<table border=\"1\" class=\"dataframe\">\n",
              "  <thead>\n",
              "    <tr style=\"text-align: right;\">\n",
              "      <th></th>\n",
              "      <th>Review_Length</th>\n",
              "      <th>Sentiment</th>\n",
              "    </tr>\n",
              "  </thead>\n",
              "  <tbody>\n",
              "    <tr>\n",
              "      <th>count</th>\n",
              "      <td>104975.000000</td>\n",
              "      <td>104975.000000</td>\n",
              "    </tr>\n",
              "    <tr>\n",
              "      <th>mean</th>\n",
              "      <td>342.306425</td>\n",
              "      <td>0.762820</td>\n",
              "    </tr>\n",
              "    <tr>\n",
              "      <th>std</th>\n",
              "      <td>526.121531</td>\n",
              "      <td>0.425356</td>\n",
              "    </tr>\n",
              "    <tr>\n",
              "      <th>min</th>\n",
              "      <td>0.000000</td>\n",
              "      <td>0.000000</td>\n",
              "    </tr>\n",
              "    <tr>\n",
              "      <th>25%</th>\n",
              "      <td>115.000000</td>\n",
              "      <td>1.000000</td>\n",
              "    </tr>\n",
              "    <tr>\n",
              "      <th>50%</th>\n",
              "      <td>190.000000</td>\n",
              "      <td>1.000000</td>\n",
              "    </tr>\n",
              "    <tr>\n",
              "      <th>75%</th>\n",
              "      <td>381.000000</td>\n",
              "      <td>1.000000</td>\n",
              "    </tr>\n",
              "    <tr>\n",
              "      <th>max</th>\n",
              "      <td>16009.000000</td>\n",
              "      <td>1.000000</td>\n",
              "    </tr>\n",
              "  </tbody>\n",
              "</table>\n",
              "</div>\n",
              "      <button class=\"colab-df-convert\" onclick=\"convertToInteractive('df-75b3b3f5-5730-4137-a9d7-29863219890d')\"\n",
              "              title=\"Convert this dataframe to an interactive table.\"\n",
              "              style=\"display:none;\">\n",
              "        \n",
              "  <svg xmlns=\"http://www.w3.org/2000/svg\" height=\"24px\"viewBox=\"0 0 24 24\"\n",
              "       width=\"24px\">\n",
              "    <path d=\"M0 0h24v24H0V0z\" fill=\"none\"/>\n",
              "    <path d=\"M18.56 5.44l.94 2.06.94-2.06 2.06-.94-2.06-.94-.94-2.06-.94 2.06-2.06.94zm-11 1L8.5 8.5l.94-2.06 2.06-.94-2.06-.94L8.5 2.5l-.94 2.06-2.06.94zm10 10l.94 2.06.94-2.06 2.06-.94-2.06-.94-.94-2.06-.94 2.06-2.06.94z\"/><path d=\"M17.41 7.96l-1.37-1.37c-.4-.4-.92-.59-1.43-.59-.52 0-1.04.2-1.43.59L10.3 9.45l-7.72 7.72c-.78.78-.78 2.05 0 2.83L4 21.41c.39.39.9.59 1.41.59.51 0 1.02-.2 1.41-.59l7.78-7.78 2.81-2.81c.8-.78.8-2.07 0-2.86zM5.41 20L4 18.59l7.72-7.72 1.47 1.35L5.41 20z\"/>\n",
              "  </svg>\n",
              "      </button>\n",
              "      \n",
              "  <style>\n",
              "    .colab-df-container {\n",
              "      display:flex;\n",
              "      flex-wrap:wrap;\n",
              "      gap: 12px;\n",
              "    }\n",
              "\n",
              "    .colab-df-convert {\n",
              "      background-color: #E8F0FE;\n",
              "      border: none;\n",
              "      border-radius: 50%;\n",
              "      cursor: pointer;\n",
              "      display: none;\n",
              "      fill: #1967D2;\n",
              "      height: 32px;\n",
              "      padding: 0 0 0 0;\n",
              "      width: 32px;\n",
              "    }\n",
              "\n",
              "    .colab-df-convert:hover {\n",
              "      background-color: #E2EBFA;\n",
              "      box-shadow: 0px 1px 2px rgba(60, 64, 67, 0.3), 0px 1px 3px 1px rgba(60, 64, 67, 0.15);\n",
              "      fill: #174EA6;\n",
              "    }\n",
              "\n",
              "    [theme=dark] .colab-df-convert {\n",
              "      background-color: #3B4455;\n",
              "      fill: #D2E3FC;\n",
              "    }\n",
              "\n",
              "    [theme=dark] .colab-df-convert:hover {\n",
              "      background-color: #434B5C;\n",
              "      box-shadow: 0px 1px 3px 1px rgba(0, 0, 0, 0.15);\n",
              "      filter: drop-shadow(0px 1px 2px rgba(0, 0, 0, 0.3));\n",
              "      fill: #FFFFFF;\n",
              "    }\n",
              "  </style>\n",
              "\n",
              "      <script>\n",
              "        const buttonEl =\n",
              "          document.querySelector('#df-75b3b3f5-5730-4137-a9d7-29863219890d button.colab-df-convert');\n",
              "        buttonEl.style.display =\n",
              "          google.colab.kernel.accessAllowed ? 'block' : 'none';\n",
              "\n",
              "        async function convertToInteractive(key) {\n",
              "          const element = document.querySelector('#df-75b3b3f5-5730-4137-a9d7-29863219890d');\n",
              "          const dataTable =\n",
              "            await google.colab.kernel.invokeFunction('convertToInteractive',\n",
              "                                                     [key], {});\n",
              "          if (!dataTable) return;\n",
              "\n",
              "          const docLinkHtml = 'Like what you see? Visit the ' +\n",
              "            '<a target=\"_blank\" href=https://colab.research.google.com/notebooks/data_table.ipynb>data table notebook</a>'\n",
              "            + ' to learn more about interactive tables.';\n",
              "          element.innerHTML = '';\n",
              "          dataTable['output_type'] = 'display_data';\n",
              "          await google.colab.output.renderOutput(dataTable, element);\n",
              "          const docLink = document.createElement('div');\n",
              "          docLink.innerHTML = docLinkHtml;\n",
              "          element.appendChild(docLink);\n",
              "        }\n",
              "      </script>\n",
              "    </div>\n",
              "  </div>\n",
              "  "
            ],
            "text/plain": [
              "       Review_Length      Sentiment\n",
              "count  104975.000000  104975.000000\n",
              "mean      342.306425       0.762820\n",
              "std       526.121531       0.425356\n",
              "min         0.000000       0.000000\n",
              "25%       115.000000       1.000000\n",
              "50%       190.000000       1.000000\n",
              "75%       381.000000       1.000000\n",
              "max     16009.000000       1.000000"
            ]
          },
          "metadata": {},
          "execution_count": 27
        }
      ]
    },
    {
      "cell_type": "markdown",
      "source": [
        "Top 100 words occuring in the raw(unprocessed) dataset"
      ],
      "metadata": {
        "id": "E0pEkrTTQR3Z"
      }
    },
    {
      "cell_type": "code",
      "source": [
        "result.head(100).plot.bar(x = 'Token', y = 'count', figsize = (20,8))"
      ],
      "metadata": {
        "colab": {
          "base_uri": "https://localhost:8080/",
          "height": 591
        },
        "id": "ogekEQHFQT58",
        "outputId": "49dbd445-2e62-4474-fcf8-88420430b20c"
      },
      "execution_count": 28,
      "outputs": [
        {
          "output_type": "execute_result",
          "data": {
            "text/plain": [
              "<matplotlib.axes._subplots.AxesSubplot at 0x7f77960a6190>"
            ]
          },
          "metadata": {},
          "execution_count": 28
        },
        {
          "output_type": "display_data",
          "data": {
            "image/png": "[encoded data removed]",
            "text/plain": [
              "<Figure size 1440x576 with 1 Axes>"
            ]
          },
          "metadata": {
            "needs_background": "light"
          }
        }
      ]
    },
    {
      "cell_type": "code",
      "source": [
        "from sklearn.model_selection import train_test_split\n",
        "\n",
        "X_train, X_test, y_train, y_test = train_test_split(dataset['Reviews'], dataset['Sentiment'], test_size=0.33, random_state=412)\n",
        "X_train = pd.DataFrame(X_train, columns = ['Reviews'])\n",
        "X_test = pd.DataFrame(X_test, columns = ['Reviews'])"
      ],
      "metadata": {
        "id": "xqWop0xQQcBC"
      },
      "execution_count": 29,
      "outputs": []
    },
    {
      "cell_type": "markdown",
      "source": [
        "Word Count in Raw (unprocessed) Train Dataset"
      ],
      "metadata": {
        "id": "xc7OWbhnQ2yU"
      }
    },
    {
      "cell_type": "code",
      "source": [
        "counter = Counter()\n",
        "result = [counter.update(item.split()) for item in X_train['Reviews']]\n",
        "result_train = pd.DataFrame.from_dict(counter, orient='index').reset_index()\n",
        "result_train = result_train.rename(columns={'index':'Token', 0:'count'})"
      ],
      "metadata": {
        "id": "WpbW0cr-RB7y"
      },
      "execution_count": 30,
      "outputs": []
    },
    {
      "cell_type": "markdown",
      "metadata": {
        "id": "edC6E0IiCZYf"
      },
      "source": [
        "#### c. (1 point) Report the label distribution (number of positive and negative examples) for both the train and test splits."
      ]
    },
    {
      "cell_type": "code",
      "metadata": {
        "id": "i27DX5metFnQ"
      },
      "source": [
        "################## YOUR CODE HERE ##################\n",
        "# Plot the label distribution\n",
        "####################################################"
      ],
      "execution_count": 31,
      "outputs": []
    },
    {
      "cell_type": "code",
      "source": [
        "print(\"Label Distribution  - Train Dataset\")\n",
        "Counter(y_train)"
      ],
      "metadata": {
        "colab": {
          "base_uri": "https://localhost:8080/",
          "height": 0
        },
        "id": "cqXbZB5LRVar",
        "outputId": "054309b9-8b36-49b4-a30f-5b70cabccb41"
      },
      "execution_count": 32,
      "outputs": [
        {
          "output_type": "stream",
          "name": "stdout",
          "text": [
            "Label Distribution  - Train Dataset\n"
          ]
        },
        {
          "output_type": "execute_result",
          "data": {
            "text/plain": [
              "Counter({0: 16762, 1: 53571})"
            ]
          },
          "metadata": {},
          "execution_count": 32
        }
      ]
    },
    {
      "cell_type": "code",
      "source": [
        "print(\"Label Distribution  - Test Dataset\")\n",
        "Counter(y_test)"
      ],
      "metadata": {
        "colab": {
          "base_uri": "https://localhost:8080/",
          "height": 0
        },
        "id": "tBnETDbuRYVe",
        "outputId": "01cfd873-8312-4091-b08b-285daa72bb31"
      },
      "execution_count": 33,
      "outputs": [
        {
          "output_type": "stream",
          "name": "stdout",
          "text": [
            "Label Distribution  - Test Dataset\n"
          ]
        },
        {
          "output_type": "execute_result",
          "data": {
            "text/plain": [
              "Counter({0: 8136, 1: 26506})"
            ]
          },
          "metadata": {},
          "execution_count": 33
        }
      ]
    },
    {
      "cell_type": "markdown",
      "metadata": {
        "id": "y5_VuqTFCh8y"
      },
      "source": [
        "**Answer**:\n",
        "\n",
        "[YOUR ANSWER HERE]"
      ]
    },
    {
      "cell_type": "markdown",
      "metadata": {
        "id": "YzBTedu9DsyZ"
      },
      "source": [
        "## Problem 2. Training from scratch v.s. pretrained-model"
      ]
    },
    {
      "cell_type": "markdown",
      "metadata": {
        "id": "gOeCZPU-F267"
      },
      "source": [
        "### 2.1 Train a sentiment analysis model from scratch [10 points with 5 extra credit]\n",
        "\n",
        "Use any framework (e.g. sklearn, PyTorch, Keras, TensorFlow) and any architecture (e.g. Logistic Regression, LSTM, Transformers), train a sentiment analysis model from scratch to get an accuracy of at least 85% on the test split of the IMDB dataset.\n",
        "\n",
        "- **5 extra points if your model’s accuracy is above 90%**"
      ]
    },
    {
      "cell_type": "code",
      "metadata": {
        "id": "x5AIa1qOF7Wg"
      },
      "source": [
        "#############\n",
        "import pandas as pd\n",
        "from sklearn.feature_extraction.text import TfidfVectorizer\n",
        "import re\n",
        "from sklearn.linear_model import LogisticRegression\n",
        "import string\n",
        "from sklearn.metrics import accuracy_score, confusion_matrix\n",
        "from sklearn.model_selection import train_test_split \n",
        "from pickle import dump\n",
        "from sklearn.pipeline import Pipeline\n",
        "\n",
        "####################################################"
      ],
      "execution_count": 34,
      "outputs": []
    },
    {
      "cell_type": "code",
      "source": [
        "train = pd.DataFrame(list(zip(train_texts, train_labels)), columns = ['review','sentiment'])\n",
        "test = pd.DataFrame(list(zip(test_texts, test_labels)), columns = ['review','sentiment'])\n",
        "data = pd.concat([train, test], axis = 0)"
      ],
      "metadata": {
        "id": "pO9XlCeIBxI3"
      },
      "execution_count": 35,
      "outputs": []
    },
    {
      "cell_type": "code",
      "source": [
        "def clean_text1(text):\n",
        "    text=text.lower()\n",
        "    text=re.sub('\\[.*?\\]','',text)\n",
        "    text=re.sub('[%s]'%re.escape(string.punctuation),'',text)\n",
        "    text=re.sub('\\w*\\d\\w*','',text)\n",
        "    return text\n",
        "\n",
        "\n",
        "\n",
        "def clean_text2(text):\n",
        "    text=re.sub('[''\"\",,,]','',text)\n",
        "    text=re.sub('\\n','',text)\n",
        "    return text\n",
        "\n",
        "\n",
        "    \n",
        "cleaned1=lambda x:clean_text1(x)\n",
        "cleaned2=lambda x:clean_text2(x)"
      ],
      "metadata": {
        "id": "nS5RLMjrBzxu"
      },
      "execution_count": 36,
      "outputs": []
    },
    {
      "cell_type": "code",
      "source": [
        "def get_cleaned_train_test_dataset(cleaned1,cleaned2, data):\n",
        "  data['review']=pd.DataFrame(data.review.apply(cleaned1))\n",
        "  data['review']=pd.DataFrame(data.review.apply(cleaned2))\n",
        "  x = data.iloc[0:,0].values\n",
        "  y = data.iloc[0:,1].values\n",
        "  xtrain,xtest,ytrain,ytest = train_test_split(x,y,test_size = 0.5,random_state = 412)\n",
        "\n",
        "  return xtrain,xtest,ytrain,ytest"
      ],
      "metadata": {
        "id": "MUcqITk8RrmR"
      },
      "execution_count": 37,
      "outputs": []
    },
    {
      "cell_type": "code",
      "source": [
        "xtrain,xtest,ytrain,ytest = get_cleaned_train_test_dataset(cleaned1,cleaned2, data)\n",
        "\n",
        "\n",
        "\n",
        "\n",
        "def build_pipeline():\n",
        "  tf = TfidfVectorizer()\n",
        "\n",
        "  classifier=LogisticRegression()\n",
        "  model=Pipeline([('vectorizer',tf),('classifier',classifier)])\n",
        "\n",
        "  return model"
      ],
      "metadata": {
        "id": "CjHdKR0PCC-V"
      },
      "execution_count": 38,
      "outputs": []
    },
    {
      "cell_type": "code",
      "source": [
        "custom_model = build_pipeline()"
      ],
      "metadata": {
        "id": "lDtIuEioHix0"
      },
      "execution_count": 39,
      "outputs": []
    },
    {
      "cell_type": "code",
      "source": [
        "def train_model(custom_model, xtrain,ytrain):\n",
        "  custom_model.fit(xtrain,ytrain)\n",
        "  return custom_model"
      ],
      "metadata": {
        "id": "CZH8XcyHHmGu"
      },
      "execution_count": 40,
      "outputs": []
    },
    {
      "cell_type": "code",
      "source": [
        "custom_model = train_model(custom_model, xtrain,ytrain)"
      ],
      "metadata": {
        "id": "bIXmXULyCFlp"
      },
      "execution_count": 41,
      "outputs": []
    },
    {
      "cell_type": "code",
      "source": [
        "def generate_predictions(custom_model, xtest):\n",
        "  ypred=custom_model.predict(xtest)\n",
        "  return ypred"
      ],
      "metadata": {
        "id": "_V0Jzyz5Hxlp"
      },
      "execution_count": 42,
      "outputs": []
    },
    {
      "cell_type": "code",
      "source": [
        "ypred = generate_predictions(custom_model, xtest)\n"
      ],
      "metadata": {
        "id": "8K1QfNONCJKt"
      },
      "execution_count": 43,
      "outputs": []
    },
    {
      "cell_type": "code",
      "source": [
        "import joblib\n",
        "def evaluate_imdb_test_predictions(ytest,ypred, custom_model):\n",
        "  a=confusion_matrix(ytest,ypred)\n",
        "  tp = a[0,0]\n",
        "  fp = a[0,1]\n",
        "  fn = a[1,0]\n",
        "  tn = a[1,1]\n",
        "\n",
        "  precision = tp/(tp+fp)\n",
        "  recall = tp/(tp+fn)\n",
        "  accuracy = (tp+tn)/(tp+tn+fp+fn)\n",
        "\n",
        "  F1 = 2 * (precision * recall) / (precision + recall)\n",
        "\n",
        "  print(\"Accuracy : Test Set : \", accuracy_score(ypred,ytest) )\n",
        "  print(\"F1 Score : Test Set : \", F1)\n",
        "  print(\"Precision : Test Set : \", precision)\n",
        "  print(\"Recall : Test Set : \", recall)\n",
        "  if accuracy > 0.85:\n",
        "\n",
        "    joblib.dump(custom_model, 'custom_model.joblib')\n",
        "    print(\"model saved\")"
      ],
      "metadata": {
        "id": "Z600SopBH702"
      },
      "execution_count": 44,
      "outputs": []
    },
    {
      "cell_type": "code",
      "source": [
        "evaluate_imdb_test_predictions(ytest,ypred, custom_model)"
      ],
      "metadata": {
        "colab": {
          "base_uri": "https://localhost:8080/",
          "height": 0
        },
        "id": "CtdSlQVgIDVQ",
        "outputId": "bd1785cb-411d-4866-bde4-80b6ff16cc31"
      },
      "execution_count": 45,
      "outputs": [
        {
          "output_type": "stream",
          "name": "stdout",
          "text": [
            "Accuracy : Test Set :  0.89044\n",
            "F1 Score : Test Set :  0.889933694996986\n",
            "Precision : Test Set :  0.8812574612017509\n",
            "Recall : Test Set :  0.8987824675324675\n",
            "model saved\n"
          ]
        }
      ]
    },
    {
      "cell_type": "code",
      "source": [
        "def save_dataset(dataset, filename):\n",
        "  dump(dataset, open(filename, 'wb'))\n",
        "  print('Saved: %s' % filename)"
      ],
      "metadata": {
        "id": "PyP7IqgcSDDx"
      },
      "execution_count": 46,
      "outputs": []
    },
    {
      "cell_type": "code",
      "source": [
        "save_dataset([xtrain, ytrain], 'train.pkl')\n",
        "save_dataset([xtest, ytest], 'test.pkl')"
      ],
      "metadata": {
        "colab": {
          "base_uri": "https://localhost:8080/",
          "height": 0
        },
        "id": "5Pxh3MOdSFWs",
        "outputId": "d7624521-401a-4ff5-ab04-91d7638013ba"
      },
      "execution_count": 47,
      "outputs": [
        {
          "output_type": "stream",
          "name": "stdout",
          "text": [
            "Saved: train.pkl\n",
            "Saved: test.pkl\n"
          ]
        }
      ]
    },
    {
      "cell_type": "code",
      "source": [
        "def compute_performance(predictions, y_ground_truth):\n",
        "    result = []\n",
        "    for i in range(1,1000,1):\n",
        "        threshold = i/1000\n",
        "        y_pred_int  = [1 if item >= threshold else 0 for item in predictions]\n",
        "        \n",
        "  \n",
        "\n",
        "        a = confusion_matrix(y_ground_truth,y_pred_int)\n",
        "\n",
        "        tp = a[0,0]\n",
        "        fp = a[0,1]\n",
        "        fn = a[1,0]\n",
        "        tn = a[1,1]\n",
        "        \n",
        "        precision = tp/(tp+fp)\n",
        "        recall = tp/(tp+fn)\n",
        "        accuracy = (tp+tn)/(tp+tn+fp+fn)\n",
        "        \n",
        "        F1 = 2 * (precision * recall) / (precision + recall)\n",
        "        \n",
        "        \n",
        "        result.append((threshold, precision, recall,accuracy,F1))\n",
        "    result_df = pd.DataFrame(result, columns = ['Threshold','Precision','Recall','Accuracy','F1']).sort_values(by = 'F1',ascending = False)\n",
        "    return result_df"
      ],
      "metadata": {
        "id": "8CNVOjRp4vg7"
      },
      "execution_count": 48,
      "outputs": []
    },
    {
      "cell_type": "code",
      "source": [
        "# predictions_train = list(model.predict(xtrain))\n",
        "# model_result = compute_performance(predictions_train, list(ytrain))"
      ],
      "metadata": {
        "id": "rDqNN5gW42j2"
      },
      "execution_count": 49,
      "outputs": []
    },
    {
      "cell_type": "markdown",
      "metadata": {
        "id": "s6P22EN9TjJ-"
      },
      "source": [
        "### 2.2 Evaluate your model and the fine-tuned model on IMDB [11 points]\n",
        "\n",
        "**Tip**: You might find [`TextClassificationPipeline`](https://huggingface.co/transformers/main_classes/pipelines.html#transformers.TextClassificationPipeline) helpful. "
      ]
    },
    {
      "cell_type": "markdown",
      "metadata": {
        "id": "5nDS-BcTTwLa"
      },
      "source": [
        "#### a. (1 point) Randomly sample 1000 examples from the test split."
      ]
    },
    {
      "cell_type": "code",
      "metadata": {
        "id": "SFkwDIRTuFHY"
      },
      "source": [
        "################## YOUR CODE HERE ##################\n",
        "\n",
        "####################################################"
      ],
      "execution_count": 50,
      "outputs": []
    },
    {
      "cell_type": "code",
      "source": [
        "\n",
        "\n",
        "testX = pd.DataFrame(xtest)\n",
        "testLabels = pd.DataFrame(ytest)\n",
        "test_Data = pd.concat([testX, testLabels], axis = 1)\n",
        "\n",
        "\n",
        "print( \"1000 samples in terms of  Percetange : \", 1000 / testX.shape[0])\n",
        "sample_percentage = 1000 / test_Data.shape[0]\n",
        "sample_testData = test_Data.sample(frac= sample_percentage, replace=True, random_state=412)\n",
        "sample_testX = sample_testData.iloc[:,:-1]\n",
        "sample_test_Labels = sample_testData.iloc[:,-1]\n",
        "sample_testX = sample_testX.values\n",
        "sample_test_Labels = sample_test_Labels.values"
      ],
      "metadata": {
        "colab": {
          "base_uri": "https://localhost:8080/",
          "height": 0
        },
        "id": "Fs5XdiVC8AdM",
        "outputId": "86d83e35-914b-488e-87e2-a6255707ff4a"
      },
      "execution_count": 73,
      "outputs": [
        {
          "output_type": "stream",
          "name": "stdout",
          "text": [
            "1000 samples in terms of  Percetange :  0.04\n"
          ]
        }
      ]
    },
    {
      "cell_type": "markdown",
      "metadata": {
        "id": "Qn52SvAtUEuM"
      },
      "source": [
        "#### b. (2 points) Use **your model** to make predictions on these examples and output predicted labels and associated probabilities."
      ]
    },
    {
      "cell_type": "code",
      "source": [
        "################## YOUR CODE HERE ##################\n",
        "\n",
        "####################################################\n",
        "\n",
        "sample_probabilities = custom_model.predict_proba(sample_testX.ravel())"
      ],
      "metadata": {
        "id": "4CW9ulcWNLN_"
      },
      "execution_count": 74,
      "outputs": []
    },
    {
      "cell_type": "code",
      "metadata": {
        "id": "xGdLYIc_uI_y"
      },
      "source": [
        "sample_probabilities = list(sample_probabilities[:,1])\n",
        "predictions_labels_sample = [1 if item >= 0.5 else 0 for item in sample_probabilities] \n",
        "sample_predictions = pd.DataFrame(sample_probabilities, columns = ['Probabilities'])\n",
        "sample_predictions['Labels'] = predictions_labels_sample"
      ],
      "execution_count": 75,
      "outputs": []
    },
    {
      "cell_type": "code",
      "source": [
        "sample_predictions"
      ],
      "metadata": {
        "colab": {
          "base_uri": "https://localhost:8080/",
          "height": 423
        },
        "id": "q_AOYGzD9cYQ",
        "outputId": "8698e4a3-7446-4fb4-d04c-69eadd733b45"
      },
      "execution_count": 76,
      "outputs": [
        {
          "output_type": "execute_result",
          "data": {
            "text/html": [
              "\n",
              "  <div id=\"df-cb9ca514-15f4-49e7-a508-e4a7a74e81f0\">\n",
              "    <div class=\"colab-df-container\">\n",
              "      <div>\n",
              "<style scoped>\n",
              "    .dataframe tbody tr th:only-of-type {\n",
              "        vertical-align: middle;\n",
              "    }\n",
              "\n",
              "    .dataframe tbody tr th {\n",
              "        vertical-align: top;\n",
              "    }\n",
              "\n",
              "    .dataframe thead th {\n",
              "        text-align: right;\n",
              "    }\n",
              "</style>\n",
              "<table border=\"1\" class=\"dataframe\">\n",
              "  <thead>\n",
              "    <tr style=\"text-align: right;\">\n",
              "      <th></th>\n",
              "      <th>Probabilities</th>\n",
              "      <th>Labels</th>\n",
              "    </tr>\n",
              "  </thead>\n",
              "  <tbody>\n",
              "    <tr>\n",
              "      <th>0</th>\n",
              "      <td>0.980294</td>\n",
              "      <td>1</td>\n",
              "    </tr>\n",
              "    <tr>\n",
              "      <th>1</th>\n",
              "      <td>0.801857</td>\n",
              "      <td>1</td>\n",
              "    </tr>\n",
              "    <tr>\n",
              "      <th>2</th>\n",
              "      <td>0.389746</td>\n",
              "      <td>0</td>\n",
              "    </tr>\n",
              "    <tr>\n",
              "      <th>3</th>\n",
              "      <td>0.705704</td>\n",
              "      <td>1</td>\n",
              "    </tr>\n",
              "    <tr>\n",
              "      <th>4</th>\n",
              "      <td>0.006943</td>\n",
              "      <td>0</td>\n",
              "    </tr>\n",
              "    <tr>\n",
              "      <th>...</th>\n",
              "      <td>...</td>\n",
              "      <td>...</td>\n",
              "    </tr>\n",
              "    <tr>\n",
              "      <th>995</th>\n",
              "      <td>0.874199</td>\n",
              "      <td>1</td>\n",
              "    </tr>\n",
              "    <tr>\n",
              "      <th>996</th>\n",
              "      <td>0.527265</td>\n",
              "      <td>1</td>\n",
              "    </tr>\n",
              "    <tr>\n",
              "      <th>997</th>\n",
              "      <td>0.874184</td>\n",
              "      <td>1</td>\n",
              "    </tr>\n",
              "    <tr>\n",
              "      <th>998</th>\n",
              "      <td>0.675449</td>\n",
              "      <td>1</td>\n",
              "    </tr>\n",
              "    <tr>\n",
              "      <th>999</th>\n",
              "      <td>0.680004</td>\n",
              "      <td>1</td>\n",
              "    </tr>\n",
              "  </tbody>\n",
              "</table>\n",
              "<p>1000 rows × 2 columns</p>\n",
              "</div>\n",
              "      <button class=\"colab-df-convert\" onclick=\"convertToInteractive('df-cb9ca514-15f4-49e7-a508-e4a7a74e81f0')\"\n",
              "              title=\"Convert this dataframe to an interactive table.\"\n",
              "              style=\"display:none;\">\n",
              "        \n",
              "  <svg xmlns=\"http://www.w3.org/2000/svg\" height=\"24px\"viewBox=\"0 0 24 24\"\n",
              "       width=\"24px\">\n",
              "    <path d=\"M0 0h24v24H0V0z\" fill=\"none\"/>\n",
              "    <path d=\"M18.56 5.44l.94 2.06.94-2.06 2.06-.94-2.06-.94-.94-2.06-.94 2.06-2.06.94zm-11 1L8.5 8.5l.94-2.06 2.06-.94-2.06-.94L8.5 2.5l-.94 2.06-2.06.94zm10 10l.94 2.06.94-2.06 2.06-.94-2.06-.94-.94-2.06-.94 2.06-2.06.94z\"/><path d=\"M17.41 7.96l-1.37-1.37c-.4-.4-.92-.59-1.43-.59-.52 0-1.04.2-1.43.59L10.3 9.45l-7.72 7.72c-.78.78-.78 2.05 0 2.83L4 21.41c.39.39.9.59 1.41.59.51 0 1.02-.2 1.41-.59l7.78-7.78 2.81-2.81c.8-.78.8-2.07 0-2.86zM5.41 20L4 18.59l7.72-7.72 1.47 1.35L5.41 20z\"/>\n",
              "  </svg>\n",
              "      </button>\n",
              "      \n",
              "  <style>\n",
              "    .colab-df-container {\n",
              "      display:flex;\n",
              "      flex-wrap:wrap;\n",
              "      gap: 12px;\n",
              "    }\n",
              "\n",
              "    .colab-df-convert {\n",
              "      background-color: #E8F0FE;\n",
              "      border: none;\n",
              "      border-radius: 50%;\n",
              "      cursor: pointer;\n",
              "      display: none;\n",
              "      fill: #1967D2;\n",
              "      height: 32px;\n",
              "      padding: 0 0 0 0;\n",
              "      width: 32px;\n",
              "    }\n",
              "\n",
              "    .colab-df-convert:hover {\n",
              "      background-color: #E2EBFA;\n",
              "      box-shadow: 0px 1px 2px rgba(60, 64, 67, 0.3), 0px 1px 3px 1px rgba(60, 64, 67, 0.15);\n",
              "      fill: #174EA6;\n",
              "    }\n",
              "\n",
              "    [theme=dark] .colab-df-convert {\n",
              "      background-color: #3B4455;\n",
              "      fill: #D2E3FC;\n",
              "    }\n",
              "\n",
              "    [theme=dark] .colab-df-convert:hover {\n",
              "      background-color: #434B5C;\n",
              "      box-shadow: 0px 1px 3px 1px rgba(0, 0, 0, 0.15);\n",
              "      filter: drop-shadow(0px 1px 2px rgba(0, 0, 0, 0.3));\n",
              "      fill: #FFFFFF;\n",
              "    }\n",
              "  </style>\n",
              "\n",
              "      <script>\n",
              "        const buttonEl =\n",
              "          document.querySelector('#df-cb9ca514-15f4-49e7-a508-e4a7a74e81f0 button.colab-df-convert');\n",
              "        buttonEl.style.display =\n",
              "          google.colab.kernel.accessAllowed ? 'block' : 'none';\n",
              "\n",
              "        async function convertToInteractive(key) {\n",
              "          const element = document.querySelector('#df-cb9ca514-15f4-49e7-a508-e4a7a74e81f0');\n",
              "          const dataTable =\n",
              "            await google.colab.kernel.invokeFunction('convertToInteractive',\n",
              "                                                     [key], {});\n",
              "          if (!dataTable) return;\n",
              "\n",
              "          const docLinkHtml = 'Like what you see? Visit the ' +\n",
              "            '<a target=\"_blank\" href=https://colab.research.google.com/notebooks/data_table.ipynb>data table notebook</a>'\n",
              "            + ' to learn more about interactive tables.';\n",
              "          element.innerHTML = '';\n",
              "          dataTable['output_type'] = 'display_data';\n",
              "          await google.colab.output.renderOutput(dataTable, element);\n",
              "          const docLink = document.createElement('div');\n",
              "          docLink.innerHTML = docLinkHtml;\n",
              "          element.appendChild(docLink);\n",
              "        }\n",
              "      </script>\n",
              "    </div>\n",
              "  </div>\n",
              "  "
            ],
            "text/plain": [
              "     Probabilities  Labels\n",
              "0         0.980294       1\n",
              "1         0.801857       1\n",
              "2         0.389746       0\n",
              "3         0.705704       1\n",
              "4         0.006943       0\n",
              "..             ...     ...\n",
              "995       0.874199       1\n",
              "996       0.527265       1\n",
              "997       0.874184       1\n",
              "998       0.675449       1\n",
              "999       0.680004       1\n",
              "\n",
              "[1000 rows x 2 columns]"
            ]
          },
          "metadata": {},
          "execution_count": 76
        }
      ]
    },
    {
      "cell_type": "markdown",
      "metadata": {
        "id": "VoUktT5dUIZX"
      },
      "source": [
        "#### c. (2 points) Evaluate and report **your model’s** performance on these 1000 examples using the metric specified in 1.2 (c)."
      ]
    },
    {
      "cell_type": "code",
      "metadata": {
        "id": "C8goGh3NuX9C"
      },
      "source": [
        "################## YOUR CODE HERE ##################\n",
        "\n",
        "####################################################"
      ],
      "execution_count": 55,
      "outputs": []
    },
    {
      "cell_type": "code",
      "source": [
        "def get_model_performance(sample_test_Labels, predictions_sample):\n",
        "    \n",
        "\n",
        "  a = confusion_matrix(sample_test_Labels,predictions_sample)\n",
        "\n",
        "  tp = a[0,0]\n",
        "  fp = a[0,1]\n",
        "  fn = a[1,0]\n",
        "  tn = a[1,1]\n",
        "\n",
        "  precision = tp/(tp+fp)\n",
        "  recall = tp/(tp+fn)\n",
        "  accuracy = (tp+tn)/(tp+tn+fp+fn)\n",
        "\n",
        "  F1 = 2 * (precision * recall) / (precision + recall)\n",
        "  print(\"Model's performance on \" , len(sample_test_Labels) ,  \" samples of Test Set :  \")\n",
        "  print(\"Accuracy : \", accuracy)\n",
        "  print(\"Precision : \", precision)\n",
        "  print(\"Recall : \", recall)\n",
        "  print(\"F1 : \", F1)"
      ],
      "metadata": {
        "id": "scZdQpYVUrgL"
      },
      "execution_count": 70,
      "outputs": []
    },
    {
      "cell_type": "code",
      "source": [
        "get_model_performance(list(sample_test_Labels), predictions_labels_sample)"
      ],
      "metadata": {
        "colab": {
          "base_uri": "https://localhost:8080/",
          "height": 0
        },
        "id": "JTptvUf9Uyb3",
        "outputId": "cb62be64-0ecf-4766-e7f1-df6992fff940"
      },
      "execution_count": 77,
      "outputs": [
        {
          "output_type": "stream",
          "name": "stdout",
          "text": [
            "Model's performance on  1000  samples of Test Set :  \n",
            "Accuracy :  0.885\n",
            "Precision :  0.8858800773694391\n",
            "Recall :  0.8910505836575876\n",
            "F1 :  0.8884578079534433\n"
          ]
        }
      ]
    },
    {
      "cell_type": "code",
      "source": [
        "\n",
        "# import math\n",
        "# a = confusion_matrix(predictions_labels_sample,list(sample_test_Labels))\n",
        "\n",
        "# tp = a[0,0]\n",
        "# fp = a[0,1]\n",
        "# fn = a[1,0]\n",
        "# tn = a[1,1]\n",
        "\n",
        "# precision = tp/(tp+fp)\n",
        "# recall = tp/(tp+fn)\n",
        "# accuracy = (tp+tn)/(tp+tn+fp+fn)\n",
        "\n",
        "# F1 = 2 * (precision * recall) / (precision + recall)\n",
        "\n",
        "# print(\"Accuracy on Sample Set :\", (accuracy * 100))\n",
        "# print(\"Precision on Sample Set :\", (precision * 100))\n",
        "# print(\"Recall on Sample Set :\", (recall * 100))\n",
        "# print(\"F1 on Sample Set :\", (F1 * 100))\n"
      ],
      "metadata": {
        "id": "4zLOswex8bbw"
      },
      "execution_count": 78,
      "outputs": []
    },
    {
      "cell_type": "markdown",
      "metadata": {
        "id": "lfZWs-XivKvP"
      },
      "source": [
        "**Answer**:\n",
        "\n",
        "[YOUR ANSWER HERE]"
      ]
    },
    {
      "cell_type": "markdown",
      "metadata": {
        "id": "-jgkP9ZYUS_i"
      },
      "source": [
        "#### d. (2 points) Use the **fine-tuned model** to make predictions on these examples and output predicted labels and associated probabilities.\n"
      ]
    },
    {
      "cell_type": "code",
      "metadata": {
        "id": "czc90w5Au2H-"
      },
      "source": [
        "################## YOUR CODE HERE ##################\n",
        "# nlp = pipeline(...)\n",
        "####################################################\n",
        "import torch\n",
        "\n",
        "\n",
        "\n",
        "from transformers import pipeline\n",
        "from transformers import DistilBertTokenizerFast, DistilBertForSequenceClassification\n",
        "from transformers import DistilBertForSequenceClassification, Trainer, TrainingArguments\n",
        "from transformers import DistilBertModel, DistilBertConfig"
      ],
      "execution_count": 57,
      "outputs": []
    },
    {
      "cell_type": "code",
      "source": [
        "# loading train and test dataset\n",
        "\n",
        "\n",
        "\n",
        "# trainLines, trainLabels = load_dataset('train.pkl')\n",
        "# testLines, testLabels = load_dataset('test.pkl')\n",
        "\n",
        "\n",
        "# test_texts, test_labels\n",
        "\n",
        "#train_texts, train_labels = read_imdb_split('aclImdb/train')\n",
        "\n",
        "\n",
        "trainLines = pd.DataFrame(train_texts)\n",
        "trainLabels = pd.DataFrame(train_labels)\n",
        "\n",
        "\n",
        "\n",
        "\n",
        "\n",
        "train = pd.concat([trainLines,trainLabels], axis = 1)\n",
        "train.columns = ['reviews','labels']\n",
        "\n",
        "# trainLines, trainLabels = load_dataset('train.pkl')\n",
        "# testLines, testLabels = load_dataset('test.pkl')\n",
        "\n",
        "#test_texts, test_labels = read_imdb_split('aclImdb/test')\n",
        "testLines = pd.DataFrame(test_texts)\n",
        "testLabels = pd.DataFrame(test_labels)\n",
        "test = pd.concat([testLines,testLabels], axis = 1)\n",
        "\n",
        "test.columns = ['reviews','labels']\n",
        "\n",
        "\n",
        "\n",
        "# creating sample dataset from test dataset\n",
        "print( \"1000 samples in terms of  Percetange : \", 1000 / testLines.shape[0])\n",
        "sample_percentage = 1000 / test.shape[0]\n",
        "sample_testData = test.sample(frac= sample_percentage, replace=True, random_state=412)\n",
        "train, val = train_test_split(train, test_size=0.2, random_state=42, shuffle=True)\n",
        "\n",
        "\n",
        "\n",
        "# building model and tokenizer object\n",
        "model = DistilBertForSequenceClassification.from_pretrained(\"distilbert-base-uncased\", num_labels=len(set(train['labels']))).to('cuda')\n",
        "tokenizer = DistilBertTokenizerFast.from_pretrained('distilbert-base-uncased')\n",
        "tokenizer.max_model_input_sizes"
      ],
      "metadata": {
        "id": "rGmx4eCc91mt"
      },
      "execution_count": null,
      "outputs": []
    },
    {
      "cell_type": "code",
      "source": [
        "# encoding train, validation , test and sample_test datasets\n",
        "\n",
        "train_encodings = tokenizer(train['reviews'].to_list(), truncation=True, padding = \"max_length\")\n",
        "val_encodings = tokenizer(val['reviews'].to_list(), truncation=True, padding = \"max_length\")\n",
        "test_encodings = tokenizer(test['reviews'].to_list(), truncation=True, padding = \"max_length\")\n",
        "\n",
        "sample_testData_encodings = tokenizer(sample_testData['reviews'].to_list(), truncation=True, padding = \"max_length\")"
      ],
      "metadata": {
        "id": "fh21dHI3O3Y1"
      },
      "execution_count": 116,
      "outputs": []
    },
    {
      "cell_type": "code",
      "source": [
        "# make torch dataset\n",
        "class my_Dataset(torch.utils.data.Dataset):\n",
        "    def __init__(self, encodings, labels):\n",
        "        self.encodings = encodings\n",
        "        self.labels = labels\n",
        "\n",
        "    def __getitem__(self, idx):\n",
        "        item = {key: torch.tensor(val[idx]) for key, val in self.encodings.items()}\n",
        "        item['labels'] = torch.tensor(self.labels[idx])\n",
        "        return item\n",
        "\n",
        "    def __len__(self):\n",
        "        return len(self.labels)"
      ],
      "metadata": {
        "id": "vhtEJ2KqO5vI"
      },
      "execution_count": 117,
      "outputs": []
    },
    {
      "cell_type": "code",
      "source": [
        "# transforming pandas dataset to toch dataset\n",
        "\n",
        "train_dataset = my_Dataset(train_encodings, train['labels'].to_list())\n",
        "val_dataset = my_Dataset(val_encodings, val['labels'].to_list())\n",
        "test_dataset = my_Dataset(test_encodings, test['labels'].to_list())\n",
        "sample_testDataset = my_Dataset(sample_testData_encodings, sample_testData['labels'].to_list())"
      ],
      "metadata": {
        "id": "yry_RK-VO7d-"
      },
      "execution_count": 118,
      "outputs": []
    },
    {
      "cell_type": "code",
      "source": [
        "# setting up training arguments\n",
        "\n",
        "training_args = TrainingArguments(\n",
        "    output_dir='./results',\n",
        "    num_train_epochs=3,\n",
        "    per_device_train_batch_size=8,\n",
        "    per_device_eval_batch_size=4,\n",
        "    weight_decay=0.01,\n",
        "    eval_steps=10,                      #print every 10 instead of default 500\n",
        "    logging_steps=10,\n",
        ")"
      ],
      "metadata": {
        "colab": {
          "base_uri": "https://localhost:8080/",
          "height": 0
        },
        "id": "eM6FtqbaO9no",
        "outputId": "6fa9b220-b003-470b-955f-0abcac5794ba"
      },
      "execution_count": 119,
      "outputs": [
        {
          "output_type": "stream",
          "name": "stderr",
          "text": [
            "PyTorch: setting up devices\n",
            "The default value for the training argument `--report_to` will change in v5 (from all installed integrations to none). In v5, you will need to use `--report_to all` to get the same behavior as now. You should start updating your code and make this info disappear :-).\n"
          ]
        }
      ]
    },
    {
      "cell_type": "code",
      "source": [
        "# setting up trainer object\n",
        "\n",
        "trainer = Trainer(\n",
        "    model=model,                         # the instantiated Transformers model to be trained\n",
        "    args=training_args,                  # training arguments, defined above\n",
        "    train_dataset=train_dataset,         # training dataset\n",
        "    eval_dataset=val_dataset             # evaluation dataset\n",
        ")"
      ],
      "metadata": {
        "id": "OchMssC2O_Ge"
      },
      "execution_count": 120,
      "outputs": []
    },
    {
      "cell_type": "code",
      "source": [
        "# initiating training of the pipeline\n",
        "trainer.train()\n",
        "metrics_train=trainer.state.log_history"
      ],
      "metadata": {
        "colab": {
          "base_uri": "https://localhost:8080/",
          "height": 1000
        },
        "id": "HTCcM48SPCOP",
        "outputId": "5c2eb9ed-4de0-45ae-93e9-e05f136a5c7c"
      },
      "execution_count": 121,
      "outputs": [
        {
          "output_type": "display_data",
          "data": {
            "text/html": [
              "\n",
              "    <div>\n",
              "      \n",
              "      <progress value='7500' max='7500' style='width:300px; height:20px; vertical-align: middle;'></progress>\n",
              "      [7500/7500 30:50, Epoch 3/3]\n",
              "    </div>\n",
              "    <table border=\"1\" class=\"dataframe\">\n",
              "  <thead>\n",
              " <tr style=\"text-align: left;\">\n",
              "      <th>Step</th>\n",
              "      <th>Training Loss</th>\n",
              "    </tr>\n",
              "  </thead>\n",
              "  <tbody>\n",
              "    <tr>\n",
              "      <td>10</td>\n",
              "      <td>0.699100</td>\n",
              "    </tr>\n",
              "    <tr>\n",
              "      <td>20</td>\n",
              "      <td>0.657800</td>\n",
              "    </tr>\n",
              "    <tr>\n",
              "      <td>30</td>\n",
              "      <td>0.488000</td>\n",
              "    </tr>\n",
              "    <tr>\n",
              "      <td>40</td>\n",
              "      <td>0.407400</td>\n",
              "    </tr>\n",
              "    <tr>\n",
              "      <td>50</td>\n",
              "      <td>0.359600</td>\n",
              "    </tr>\n",
              "    <tr>\n",
              "      <td>60</td>\n",
              "      <td>0.413000</td>\n",
              "    </tr>\n",
              "    <tr>\n",
              "      <td>70</td>\n",
              "      <td>0.581600</td>\n",
              "    </tr>\n",
              "    <tr>\n",
              "      <td>80</td>\n",
              "      <td>0.376200</td>\n",
              "    </tr>\n",
              "    <tr>\n",
              "      <td>90</td>\n",
              "      <td>0.423300</td>\n",
              "    </tr>\n",
              "    <tr>\n",
              "      <td>100</td>\n",
              "      <td>0.426300</td>\n",
              "    </tr>\n",
              "    <tr>\n",
              "      <td>110</td>\n",
              "      <td>0.392200</td>\n",
              "    </tr>\n",
              "    <tr>\n",
              "      <td>120</td>\n",
              "      <td>0.293100</td>\n",
              "    </tr>\n",
              "    <tr>\n",
              "      <td>130</td>\n",
              "      <td>0.615600</td>\n",
              "    </tr>\n",
              "    <tr>\n",
              "      <td>140</td>\n",
              "      <td>0.412900</td>\n",
              "    </tr>\n",
              "    <tr>\n",
              "      <td>150</td>\n",
              "      <td>0.400800</td>\n",
              "    </tr>\n",
              "    <tr>\n",
              "      <td>160</td>\n",
              "      <td>0.535500</td>\n",
              "    </tr>\n",
              "    <tr>\n",
              "      <td>170</td>\n",
              "      <td>0.366000</td>\n",
              "    </tr>\n",
              "    <tr>\n",
              "      <td>180</td>\n",
              "      <td>0.531700</td>\n",
              "    </tr>\n",
              "    <tr>\n",
              "      <td>190</td>\n",
              "      <td>0.385400</td>\n",
              "    </tr>\n",
              "    <tr>\n",
              "      <td>200</td>\n",
              "      <td>0.410000</td>\n",
              "    </tr>\n",
              "    <tr>\n",
              "      <td>210</td>\n",
              "      <td>0.455300</td>\n",
              "    </tr>\n",
              "    <tr>\n",
              "      <td>220</td>\n",
              "      <td>0.386800</td>\n",
              "    </tr>\n",
              "    <tr>\n",
              "      <td>230</td>\n",
              "      <td>0.391900</td>\n",
              "    </tr>\n",
              "    <tr>\n",
              "      <td>240</td>\n",
              "      <td>0.334100</td>\n",
              "    </tr>\n",
              "    <tr>\n",
              "      <td>250</td>\n",
              "      <td>0.387400</td>\n",
              "    </tr>\n",
              "    <tr>\n",
              "      <td>260</td>\n",
              "      <td>0.373600</td>\n",
              "    </tr>\n",
              "    <tr>\n",
              "      <td>270</td>\n",
              "      <td>0.276800</td>\n",
              "    </tr>\n",
              "    <tr>\n",
              "      <td>280</td>\n",
              "      <td>0.359200</td>\n",
              "    </tr>\n",
              "    <tr>\n",
              "      <td>290</td>\n",
              "      <td>0.420600</td>\n",
              "    </tr>\n",
              "    <tr>\n",
              "      <td>300</td>\n",
              "      <td>0.373300</td>\n",
              "    </tr>\n",
              "    <tr>\n",
              "      <td>310</td>\n",
              "      <td>0.492200</td>\n",
              "    </tr>\n",
              "    <tr>\n",
              "      <td>320</td>\n",
              "      <td>0.241700</td>\n",
              "    </tr>\n",
              "    <tr>\n",
              "      <td>330</td>\n",
              "      <td>0.487400</td>\n",
              "    </tr>\n",
              "    <tr>\n",
              "      <td>340</td>\n",
              "      <td>0.402300</td>\n",
              "    </tr>\n",
              "    <tr>\n",
              "      <td>350</td>\n",
              "      <td>0.591700</td>\n",
              "    </tr>\n",
              "    <tr>\n",
              "      <td>360</td>\n",
              "      <td>0.314300</td>\n",
              "    </tr>\n",
              "    <tr>\n",
              "      <td>370</td>\n",
              "      <td>0.308200</td>\n",
              "    </tr>\n",
              "    <tr>\n",
              "      <td>380</td>\n",
              "      <td>0.341300</td>\n",
              "    </tr>\n",
              "    <tr>\n",
              "      <td>390</td>\n",
              "      <td>0.590100</td>\n",
              "    </tr>\n",
              "    <tr>\n",
              "      <td>400</td>\n",
              "      <td>0.421800</td>\n",
              "    </tr>\n",
              "    <tr>\n",
              "      <td>410</td>\n",
              "      <td>0.301900</td>\n",
              "    </tr>\n",
              "    <tr>\n",
              "      <td>420</td>\n",
              "      <td>0.353400</td>\n",
              "    </tr>\n",
              "    <tr>\n",
              "      <td>430</td>\n",
              "      <td>0.196600</td>\n",
              "    </tr>\n",
              "    <tr>\n",
              "      <td>440</td>\n",
              "      <td>0.439500</td>\n",
              "    </tr>\n",
              "    <tr>\n",
              "      <td>450</td>\n",
              "      <td>0.314200</td>\n",
              "    </tr>\n",
              "    <tr>\n",
              "      <td>460</td>\n",
              "      <td>0.545200</td>\n",
              "    </tr>\n",
              "    <tr>\n",
              "      <td>470</td>\n",
              "      <td>0.389100</td>\n",
              "    </tr>\n",
              "    <tr>\n",
              "      <td>480</td>\n",
              "      <td>0.335400</td>\n",
              "    </tr>\n",
              "    <tr>\n",
              "      <td>490</td>\n",
              "      <td>0.266300</td>\n",
              "    </tr>\n",
              "    <tr>\n",
              "      <td>500</td>\n",
              "      <td>0.187300</td>\n",
              "    </tr>\n",
              "    <tr>\n",
              "      <td>510</td>\n",
              "      <td>0.339800</td>\n",
              "    </tr>\n",
              "    <tr>\n",
              "      <td>520</td>\n",
              "      <td>0.388100</td>\n",
              "    </tr>\n",
              "    <tr>\n",
              "      <td>530</td>\n",
              "      <td>0.191600</td>\n",
              "    </tr>\n",
              "    <tr>\n",
              "      <td>540</td>\n",
              "      <td>0.383800</td>\n",
              "    </tr>\n",
              "    <tr>\n",
              "      <td>550</td>\n",
              "      <td>0.187100</td>\n",
              "    </tr>\n",
              "    <tr>\n",
              "      <td>560</td>\n",
              "      <td>0.438700</td>\n",
              "    </tr>\n",
              "    <tr>\n",
              "      <td>570</td>\n",
              "      <td>0.324400</td>\n",
              "    </tr>\n",
              "    <tr>\n",
              "      <td>580</td>\n",
              "      <td>0.245000</td>\n",
              "    </tr>\n",
              "    <tr>\n",
              "      <td>590</td>\n",
              "      <td>0.369500</td>\n",
              "    </tr>\n",
              "    <tr>\n",
              "      <td>600</td>\n",
              "      <td>0.348700</td>\n",
              "    </tr>\n",
              "    <tr>\n",
              "      <td>610</td>\n",
              "      <td>0.501500</td>\n",
              "    </tr>\n",
              "    <tr>\n",
              "      <td>620</td>\n",
              "      <td>0.444000</td>\n",
              "    </tr>\n",
              "    <tr>\n",
              "      <td>630</td>\n",
              "      <td>0.463800</td>\n",
              "    </tr>\n",
              "    <tr>\n",
              "      <td>640</td>\n",
              "      <td>0.419200</td>\n",
              "    </tr>\n",
              "    <tr>\n",
              "      <td>650</td>\n",
              "      <td>0.202800</td>\n",
              "    </tr>\n",
              "    <tr>\n",
              "      <td>660</td>\n",
              "      <td>0.313200</td>\n",
              "    </tr>\n",
              "    <tr>\n",
              "      <td>670</td>\n",
              "      <td>0.674700</td>\n",
              "    </tr>\n",
              "    <tr>\n",
              "      <td>680</td>\n",
              "      <td>0.398500</td>\n",
              "    </tr>\n",
              "    <tr>\n",
              "      <td>690</td>\n",
              "      <td>0.516000</td>\n",
              "    </tr>\n",
              "    <tr>\n",
              "      <td>700</td>\n",
              "      <td>0.285600</td>\n",
              "    </tr>\n",
              "    <tr>\n",
              "      <td>710</td>\n",
              "      <td>0.299200</td>\n",
              "    </tr>\n",
              "    <tr>\n",
              "      <td>720</td>\n",
              "      <td>0.512700</td>\n",
              "    </tr>\n",
              "    <tr>\n",
              "      <td>730</td>\n",
              "      <td>0.414100</td>\n",
              "    </tr>\n",
              "    <tr>\n",
              "      <td>740</td>\n",
              "      <td>0.173800</td>\n",
              "    </tr>\n",
              "    <tr>\n",
              "      <td>750</td>\n",
              "      <td>0.312500</td>\n",
              "    </tr>\n",
              "    <tr>\n",
              "      <td>760</td>\n",
              "      <td>0.365000</td>\n",
              "    </tr>\n",
              "    <tr>\n",
              "      <td>770</td>\n",
              "      <td>0.332000</td>\n",
              "    </tr>\n",
              "    <tr>\n",
              "      <td>780</td>\n",
              "      <td>0.371900</td>\n",
              "    </tr>\n",
              "    <tr>\n",
              "      <td>790</td>\n",
              "      <td>0.252300</td>\n",
              "    </tr>\n",
              "    <tr>\n",
              "      <td>800</td>\n",
              "      <td>0.433600</td>\n",
              "    </tr>\n",
              "    <tr>\n",
              "      <td>810</td>\n",
              "      <td>0.390000</td>\n",
              "    </tr>\n",
              "    <tr>\n",
              "      <td>820</td>\n",
              "      <td>0.302500</td>\n",
              "    </tr>\n",
              "    <tr>\n",
              "      <td>830</td>\n",
              "      <td>0.363700</td>\n",
              "    </tr>\n",
              "    <tr>\n",
              "      <td>840</td>\n",
              "      <td>0.387800</td>\n",
              "    </tr>\n",
              "    <tr>\n",
              "      <td>850</td>\n",
              "      <td>0.238300</td>\n",
              "    </tr>\n",
              "    <tr>\n",
              "      <td>860</td>\n",
              "      <td>0.373700</td>\n",
              "    </tr>\n",
              "    <tr>\n",
              "      <td>870</td>\n",
              "      <td>0.198800</td>\n",
              "    </tr>\n",
              "    <tr>\n",
              "      <td>880</td>\n",
              "      <td>0.501300</td>\n",
              "    </tr>\n",
              "    <tr>\n",
              "      <td>890</td>\n",
              "      <td>0.390800</td>\n",
              "    </tr>\n",
              "    <tr>\n",
              "      <td>900</td>\n",
              "      <td>0.332600</td>\n",
              "    </tr>\n",
              "    <tr>\n",
              "      <td>910</td>\n",
              "      <td>0.213100</td>\n",
              "    </tr>\n",
              "    <tr>\n",
              "      <td>920</td>\n",
              "      <td>0.318400</td>\n",
              "    </tr>\n",
              "    <tr>\n",
              "      <td>930</td>\n",
              "      <td>0.445500</td>\n",
              "    </tr>\n",
              "    <tr>\n",
              "      <td>940</td>\n",
              "      <td>0.254200</td>\n",
              "    </tr>\n",
              "    <tr>\n",
              "      <td>950</td>\n",
              "      <td>0.397200</td>\n",
              "    </tr>\n",
              "    <tr>\n",
              "      <td>960</td>\n",
              "      <td>0.190100</td>\n",
              "    </tr>\n",
              "    <tr>\n",
              "      <td>970</td>\n",
              "      <td>0.472900</td>\n",
              "    </tr>\n",
              "    <tr>\n",
              "      <td>980</td>\n",
              "      <td>0.352200</td>\n",
              "    </tr>\n",
              "    <tr>\n",
              "      <td>990</td>\n",
              "      <td>0.189600</td>\n",
              "    </tr>\n",
              "    <tr>\n",
              "      <td>1000</td>\n",
              "      <td>0.401200</td>\n",
              "    </tr>\n",
              "    <tr>\n",
              "      <td>1010</td>\n",
              "      <td>0.238500</td>\n",
              "    </tr>\n",
              "    <tr>\n",
              "      <td>1020</td>\n",
              "      <td>0.305600</td>\n",
              "    </tr>\n",
              "    <tr>\n",
              "      <td>1030</td>\n",
              "      <td>0.236100</td>\n",
              "    </tr>\n",
              "    <tr>\n",
              "      <td>1040</td>\n",
              "      <td>0.540700</td>\n",
              "    </tr>\n",
              "    <tr>\n",
              "      <td>1050</td>\n",
              "      <td>0.437000</td>\n",
              "    </tr>\n",
              "    <tr>\n",
              "      <td>1060</td>\n",
              "      <td>0.201900</td>\n",
              "    </tr>\n",
              "    <tr>\n",
              "      <td>1070</td>\n",
              "      <td>0.373700</td>\n",
              "    </tr>\n",
              "    <tr>\n",
              "      <td>1080</td>\n",
              "      <td>0.333300</td>\n",
              "    </tr>\n",
              "    <tr>\n",
              "      <td>1090</td>\n",
              "      <td>0.352500</td>\n",
              "    </tr>\n",
              "    <tr>\n",
              "      <td>1100</td>\n",
              "      <td>0.299200</td>\n",
              "    </tr>\n",
              "    <tr>\n",
              "      <td>1110</td>\n",
              "      <td>0.227200</td>\n",
              "    </tr>\n",
              "    <tr>\n",
              "      <td>1120</td>\n",
              "      <td>0.381600</td>\n",
              "    </tr>\n",
              "    <tr>\n",
              "      <td>1130</td>\n",
              "      <td>0.347400</td>\n",
              "    </tr>\n",
              "    <tr>\n",
              "      <td>1140</td>\n",
              "      <td>0.357500</td>\n",
              "    </tr>\n",
              "    <tr>\n",
              "      <td>1150</td>\n",
              "      <td>0.302500</td>\n",
              "    </tr>\n",
              "    <tr>\n",
              "      <td>1160</td>\n",
              "      <td>0.177300</td>\n",
              "    </tr>\n",
              "    <tr>\n",
              "      <td>1170</td>\n",
              "      <td>0.323400</td>\n",
              "    </tr>\n",
              "    <tr>\n",
              "      <td>1180</td>\n",
              "      <td>0.323600</td>\n",
              "    </tr>\n",
              "    <tr>\n",
              "      <td>1190</td>\n",
              "      <td>0.240500</td>\n",
              "    </tr>\n",
              "    <tr>\n",
              "      <td>1200</td>\n",
              "      <td>0.233000</td>\n",
              "    </tr>\n",
              "    <tr>\n",
              "      <td>1210</td>\n",
              "      <td>0.413300</td>\n",
              "    </tr>\n",
              "    <tr>\n",
              "      <td>1220</td>\n",
              "      <td>0.276000</td>\n",
              "    </tr>\n",
              "    <tr>\n",
              "      <td>1230</td>\n",
              "      <td>0.152800</td>\n",
              "    </tr>\n",
              "    <tr>\n",
              "      <td>1240</td>\n",
              "      <td>0.598600</td>\n",
              "    </tr>\n",
              "    <tr>\n",
              "      <td>1250</td>\n",
              "      <td>0.415100</td>\n",
              "    </tr>\n",
              "    <tr>\n",
              "      <td>1260</td>\n",
              "      <td>0.243300</td>\n",
              "    </tr>\n",
              "    <tr>\n",
              "      <td>1270</td>\n",
              "      <td>0.324200</td>\n",
              "    </tr>\n",
              "    <tr>\n",
              "      <td>1280</td>\n",
              "      <td>0.352800</td>\n",
              "    </tr>\n",
              "    <tr>\n",
              "      <td>1290</td>\n",
              "      <td>0.333700</td>\n",
              "    </tr>\n",
              "    <tr>\n",
              "      <td>1300</td>\n",
              "      <td>0.192000</td>\n",
              "    </tr>\n",
              "    <tr>\n",
              "      <td>1310</td>\n",
              "      <td>0.376900</td>\n",
              "    </tr>\n",
              "    <tr>\n",
              "      <td>1320</td>\n",
              "      <td>0.392800</td>\n",
              "    </tr>\n",
              "    <tr>\n",
              "      <td>1330</td>\n",
              "      <td>0.423000</td>\n",
              "    </tr>\n",
              "    <tr>\n",
              "      <td>1340</td>\n",
              "      <td>0.288400</td>\n",
              "    </tr>\n",
              "    <tr>\n",
              "      <td>1350</td>\n",
              "      <td>0.260200</td>\n",
              "    </tr>\n",
              "    <tr>\n",
              "      <td>1360</td>\n",
              "      <td>0.363800</td>\n",
              "    </tr>\n",
              "    <tr>\n",
              "      <td>1370</td>\n",
              "      <td>0.386800</td>\n",
              "    </tr>\n",
              "    <tr>\n",
              "      <td>1380</td>\n",
              "      <td>0.284100</td>\n",
              "    </tr>\n",
              "    <tr>\n",
              "      <td>1390</td>\n",
              "      <td>0.333700</td>\n",
              "    </tr>\n",
              "    <tr>\n",
              "      <td>1400</td>\n",
              "      <td>0.298500</td>\n",
              "    </tr>\n",
              "    <tr>\n",
              "      <td>1410</td>\n",
              "      <td>0.354800</td>\n",
              "    </tr>\n",
              "    <tr>\n",
              "      <td>1420</td>\n",
              "      <td>0.415700</td>\n",
              "    </tr>\n",
              "    <tr>\n",
              "      <td>1430</td>\n",
              "      <td>0.279300</td>\n",
              "    </tr>\n",
              "    <tr>\n",
              "      <td>1440</td>\n",
              "      <td>0.230600</td>\n",
              "    </tr>\n",
              "    <tr>\n",
              "      <td>1450</td>\n",
              "      <td>0.125500</td>\n",
              "    </tr>\n",
              "    <tr>\n",
              "      <td>1460</td>\n",
              "      <td>0.348300</td>\n",
              "    </tr>\n",
              "    <tr>\n",
              "      <td>1470</td>\n",
              "      <td>0.383000</td>\n",
              "    </tr>\n",
              "    <tr>\n",
              "      <td>1480</td>\n",
              "      <td>0.239400</td>\n",
              "    </tr>\n",
              "    <tr>\n",
              "      <td>1490</td>\n",
              "      <td>0.173600</td>\n",
              "    </tr>\n",
              "    <tr>\n",
              "      <td>1500</td>\n",
              "      <td>0.327200</td>\n",
              "    </tr>\n",
              "    <tr>\n",
              "      <td>1510</td>\n",
              "      <td>0.284800</td>\n",
              "    </tr>\n",
              "    <tr>\n",
              "      <td>1520</td>\n",
              "      <td>0.230300</td>\n",
              "    </tr>\n",
              "    <tr>\n",
              "      <td>1530</td>\n",
              "      <td>0.230500</td>\n",
              "    </tr>\n",
              "    <tr>\n",
              "      <td>1540</td>\n",
              "      <td>0.154100</td>\n",
              "    </tr>\n",
              "    <tr>\n",
              "      <td>1550</td>\n",
              "      <td>0.350400</td>\n",
              "    </tr>\n",
              "    <tr>\n",
              "      <td>1560</td>\n",
              "      <td>0.442400</td>\n",
              "    </tr>\n",
              "    <tr>\n",
              "      <td>1570</td>\n",
              "      <td>0.165200</td>\n",
              "    </tr>\n",
              "    <tr>\n",
              "      <td>1580</td>\n",
              "      <td>0.218900</td>\n",
              "    </tr>\n",
              "    <tr>\n",
              "      <td>1590</td>\n",
              "      <td>0.386700</td>\n",
              "    </tr>\n",
              "    <tr>\n",
              "      <td>1600</td>\n",
              "      <td>0.182500</td>\n",
              "    </tr>\n",
              "    <tr>\n",
              "      <td>1610</td>\n",
              "      <td>0.183700</td>\n",
              "    </tr>\n",
              "    <tr>\n",
              "      <td>1620</td>\n",
              "      <td>0.346600</td>\n",
              "    </tr>\n",
              "    <tr>\n",
              "      <td>1630</td>\n",
              "      <td>0.320600</td>\n",
              "    </tr>\n",
              "    <tr>\n",
              "      <td>1640</td>\n",
              "      <td>0.291100</td>\n",
              "    </tr>\n",
              "    <tr>\n",
              "      <td>1650</td>\n",
              "      <td>0.308600</td>\n",
              "    </tr>\n",
              "    <tr>\n",
              "      <td>1660</td>\n",
              "      <td>0.355100</td>\n",
              "    </tr>\n",
              "    <tr>\n",
              "      <td>1670</td>\n",
              "      <td>0.205500</td>\n",
              "    </tr>\n",
              "    <tr>\n",
              "      <td>1680</td>\n",
              "      <td>0.278700</td>\n",
              "    </tr>\n",
              "    <tr>\n",
              "      <td>1690</td>\n",
              "      <td>0.307500</td>\n",
              "    </tr>\n",
              "    <tr>\n",
              "      <td>1700</td>\n",
              "      <td>0.235100</td>\n",
              "    </tr>\n",
              "    <tr>\n",
              "      <td>1710</td>\n",
              "      <td>0.238300</td>\n",
              "    </tr>\n",
              "    <tr>\n",
              "      <td>1720</td>\n",
              "      <td>0.203600</td>\n",
              "    </tr>\n",
              "    <tr>\n",
              "      <td>1730</td>\n",
              "      <td>0.256800</td>\n",
              "    </tr>\n",
              "    <tr>\n",
              "      <td>1740</td>\n",
              "      <td>0.487000</td>\n",
              "    </tr>\n",
              "    <tr>\n",
              "      <td>1750</td>\n",
              "      <td>0.224400</td>\n",
              "    </tr>\n",
              "    <tr>\n",
              "      <td>1760</td>\n",
              "      <td>0.628100</td>\n",
              "    </tr>\n",
              "    <tr>\n",
              "      <td>1770</td>\n",
              "      <td>0.172500</td>\n",
              "    </tr>\n",
              "    <tr>\n",
              "      <td>1780</td>\n",
              "      <td>0.433700</td>\n",
              "    </tr>\n",
              "    <tr>\n",
              "      <td>1790</td>\n",
              "      <td>0.382500</td>\n",
              "    </tr>\n",
              "    <tr>\n",
              "      <td>1800</td>\n",
              "      <td>0.154000</td>\n",
              "    </tr>\n",
              "    <tr>\n",
              "      <td>1810</td>\n",
              "      <td>0.207400</td>\n",
              "    </tr>\n",
              "    <tr>\n",
              "      <td>1820</td>\n",
              "      <td>0.471000</td>\n",
              "    </tr>\n",
              "    <tr>\n",
              "      <td>1830</td>\n",
              "      <td>0.149200</td>\n",
              "    </tr>\n",
              "    <tr>\n",
              "      <td>1840</td>\n",
              "      <td>0.129300</td>\n",
              "    </tr>\n",
              "    <tr>\n",
              "      <td>1850</td>\n",
              "      <td>0.287800</td>\n",
              "    </tr>\n",
              "    <tr>\n",
              "      <td>1860</td>\n",
              "      <td>0.439100</td>\n",
              "    </tr>\n",
              "    <tr>\n",
              "      <td>1870</td>\n",
              "      <td>0.385400</td>\n",
              "    </tr>\n",
              "    <tr>\n",
              "      <td>1880</td>\n",
              "      <td>0.282600</td>\n",
              "    </tr>\n",
              "    <tr>\n",
              "      <td>1890</td>\n",
              "      <td>0.323900</td>\n",
              "    </tr>\n",
              "    <tr>\n",
              "      <td>1900</td>\n",
              "      <td>0.111100</td>\n",
              "    </tr>\n",
              "    <tr>\n",
              "      <td>1910</td>\n",
              "      <td>0.235500</td>\n",
              "    </tr>\n",
              "    <tr>\n",
              "      <td>1920</td>\n",
              "      <td>0.148500</td>\n",
              "    </tr>\n",
              "    <tr>\n",
              "      <td>1930</td>\n",
              "      <td>0.244000</td>\n",
              "    </tr>\n",
              "    <tr>\n",
              "      <td>1940</td>\n",
              "      <td>0.279300</td>\n",
              "    </tr>\n",
              "    <tr>\n",
              "      <td>1950</td>\n",
              "      <td>0.389400</td>\n",
              "    </tr>\n",
              "    <tr>\n",
              "      <td>1960</td>\n",
              "      <td>0.198700</td>\n",
              "    </tr>\n",
              "    <tr>\n",
              "      <td>1970</td>\n",
              "      <td>0.171500</td>\n",
              "    </tr>\n",
              "    <tr>\n",
              "      <td>1980</td>\n",
              "      <td>0.615900</td>\n",
              "    </tr>\n",
              "    <tr>\n",
              "      <td>1990</td>\n",
              "      <td>0.257300</td>\n",
              "    </tr>\n",
              "    <tr>\n",
              "      <td>2000</td>\n",
              "      <td>0.328100</td>\n",
              "    </tr>\n",
              "    <tr>\n",
              "      <td>2010</td>\n",
              "      <td>0.207800</td>\n",
              "    </tr>\n",
              "    <tr>\n",
              "      <td>2020</td>\n",
              "      <td>0.309000</td>\n",
              "    </tr>\n",
              "    <tr>\n",
              "      <td>2030</td>\n",
              "      <td>0.218900</td>\n",
              "    </tr>\n",
              "    <tr>\n",
              "      <td>2040</td>\n",
              "      <td>0.302400</td>\n",
              "    </tr>\n",
              "    <tr>\n",
              "      <td>2050</td>\n",
              "      <td>0.326700</td>\n",
              "    </tr>\n",
              "    <tr>\n",
              "      <td>2060</td>\n",
              "      <td>0.264900</td>\n",
              "    </tr>\n",
              "    <tr>\n",
              "      <td>2070</td>\n",
              "      <td>0.168200</td>\n",
              "    </tr>\n",
              "    <tr>\n",
              "      <td>2080</td>\n",
              "      <td>0.257100</td>\n",
              "    </tr>\n",
              "    <tr>\n",
              "      <td>2090</td>\n",
              "      <td>0.447200</td>\n",
              "    </tr>\n",
              "    <tr>\n",
              "      <td>2100</td>\n",
              "      <td>0.552600</td>\n",
              "    </tr>\n",
              "    <tr>\n",
              "      <td>2110</td>\n",
              "      <td>0.207700</td>\n",
              "    </tr>\n",
              "    <tr>\n",
              "      <td>2120</td>\n",
              "      <td>0.358700</td>\n",
              "    </tr>\n",
              "    <tr>\n",
              "      <td>2130</td>\n",
              "      <td>0.268600</td>\n",
              "    </tr>\n",
              "    <tr>\n",
              "      <td>2140</td>\n",
              "      <td>0.234400</td>\n",
              "    </tr>\n",
              "    <tr>\n",
              "      <td>2150</td>\n",
              "      <td>0.286800</td>\n",
              "    </tr>\n",
              "    <tr>\n",
              "      <td>2160</td>\n",
              "      <td>0.440500</td>\n",
              "    </tr>\n",
              "    <tr>\n",
              "      <td>2170</td>\n",
              "      <td>0.201500</td>\n",
              "    </tr>\n",
              "    <tr>\n",
              "      <td>2180</td>\n",
              "      <td>0.230900</td>\n",
              "    </tr>\n",
              "    <tr>\n",
              "      <td>2190</td>\n",
              "      <td>0.471100</td>\n",
              "    </tr>\n",
              "    <tr>\n",
              "      <td>2200</td>\n",
              "      <td>0.100000</td>\n",
              "    </tr>\n",
              "    <tr>\n",
              "      <td>2210</td>\n",
              "      <td>0.302000</td>\n",
              "    </tr>\n",
              "    <tr>\n",
              "      <td>2220</td>\n",
              "      <td>0.161900</td>\n",
              "    </tr>\n",
              "    <tr>\n",
              "      <td>2230</td>\n",
              "      <td>0.281200</td>\n",
              "    </tr>\n",
              "    <tr>\n",
              "      <td>2240</td>\n",
              "      <td>0.272400</td>\n",
              "    </tr>\n",
              "    <tr>\n",
              "      <td>2250</td>\n",
              "      <td>0.443200</td>\n",
              "    </tr>\n",
              "    <tr>\n",
              "      <td>2260</td>\n",
              "      <td>0.351200</td>\n",
              "    </tr>\n",
              "    <tr>\n",
              "      <td>2270</td>\n",
              "      <td>0.285600</td>\n",
              "    </tr>\n",
              "    <tr>\n",
              "      <td>2280</td>\n",
              "      <td>0.303300</td>\n",
              "    </tr>\n",
              "    <tr>\n",
              "      <td>2290</td>\n",
              "      <td>0.242200</td>\n",
              "    </tr>\n",
              "    <tr>\n",
              "      <td>2300</td>\n",
              "      <td>0.347600</td>\n",
              "    </tr>\n",
              "    <tr>\n",
              "      <td>2310</td>\n",
              "      <td>0.273000</td>\n",
              "    </tr>\n",
              "    <tr>\n",
              "      <td>2320</td>\n",
              "      <td>0.238300</td>\n",
              "    </tr>\n",
              "    <tr>\n",
              "      <td>2330</td>\n",
              "      <td>0.402200</td>\n",
              "    </tr>\n",
              "    <tr>\n",
              "      <td>2340</td>\n",
              "      <td>0.328000</td>\n",
              "    </tr>\n",
              "    <tr>\n",
              "      <td>2350</td>\n",
              "      <td>0.216500</td>\n",
              "    </tr>\n",
              "    <tr>\n",
              "      <td>2360</td>\n",
              "      <td>0.257300</td>\n",
              "    </tr>\n",
              "    <tr>\n",
              "      <td>2370</td>\n",
              "      <td>0.265000</td>\n",
              "    </tr>\n",
              "    <tr>\n",
              "      <td>2380</td>\n",
              "      <td>0.230100</td>\n",
              "    </tr>\n",
              "    <tr>\n",
              "      <td>2390</td>\n",
              "      <td>0.278500</td>\n",
              "    </tr>\n",
              "    <tr>\n",
              "      <td>2400</td>\n",
              "      <td>0.212900</td>\n",
              "    </tr>\n",
              "    <tr>\n",
              "      <td>2410</td>\n",
              "      <td>0.163500</td>\n",
              "    </tr>\n",
              "    <tr>\n",
              "      <td>2420</td>\n",
              "      <td>0.109800</td>\n",
              "    </tr>\n",
              "    <tr>\n",
              "      <td>2430</td>\n",
              "      <td>0.279600</td>\n",
              "    </tr>\n",
              "    <tr>\n",
              "      <td>2440</td>\n",
              "      <td>0.346100</td>\n",
              "    </tr>\n",
              "    <tr>\n",
              "      <td>2450</td>\n",
              "      <td>0.346500</td>\n",
              "    </tr>\n",
              "    <tr>\n",
              "      <td>2460</td>\n",
              "      <td>0.130300</td>\n",
              "    </tr>\n",
              "    <tr>\n",
              "      <td>2470</td>\n",
              "      <td>0.298500</td>\n",
              "    </tr>\n",
              "    <tr>\n",
              "      <td>2480</td>\n",
              "      <td>0.200600</td>\n",
              "    </tr>\n",
              "    <tr>\n",
              "      <td>2490</td>\n",
              "      <td>0.306700</td>\n",
              "    </tr>\n",
              "    <tr>\n",
              "      <td>2500</td>\n",
              "      <td>0.242800</td>\n",
              "    </tr>\n",
              "    <tr>\n",
              "      <td>2510</td>\n",
              "      <td>0.207100</td>\n",
              "    </tr>\n",
              "    <tr>\n",
              "      <td>2520</td>\n",
              "      <td>0.094900</td>\n",
              "    </tr>\n",
              "    <tr>\n",
              "      <td>2530</td>\n",
              "      <td>0.188500</td>\n",
              "    </tr>\n",
              "    <tr>\n",
              "      <td>2540</td>\n",
              "      <td>0.203100</td>\n",
              "    </tr>\n",
              "    <tr>\n",
              "      <td>2550</td>\n",
              "      <td>0.107200</td>\n",
              "    </tr>\n",
              "    <tr>\n",
              "      <td>2560</td>\n",
              "      <td>0.210200</td>\n",
              "    </tr>\n",
              "    <tr>\n",
              "      <td>2570</td>\n",
              "      <td>0.327700</td>\n",
              "    </tr>\n",
              "    <tr>\n",
              "      <td>2580</td>\n",
              "      <td>0.085200</td>\n",
              "    </tr>\n",
              "    <tr>\n",
              "      <td>2590</td>\n",
              "      <td>0.051400</td>\n",
              "    </tr>\n",
              "    <tr>\n",
              "      <td>2600</td>\n",
              "      <td>0.108200</td>\n",
              "    </tr>\n",
              "    <tr>\n",
              "      <td>2610</td>\n",
              "      <td>0.152700</td>\n",
              "    </tr>\n",
              "    <tr>\n",
              "      <td>2620</td>\n",
              "      <td>0.095800</td>\n",
              "    </tr>\n",
              "    <tr>\n",
              "      <td>2630</td>\n",
              "      <td>0.008000</td>\n",
              "    </tr>\n",
              "    <tr>\n",
              "      <td>2640</td>\n",
              "      <td>0.135800</td>\n",
              "    </tr>\n",
              "    <tr>\n",
              "      <td>2650</td>\n",
              "      <td>0.319400</td>\n",
              "    </tr>\n",
              "    <tr>\n",
              "      <td>2660</td>\n",
              "      <td>0.067800</td>\n",
              "    </tr>\n",
              "    <tr>\n",
              "      <td>2670</td>\n",
              "      <td>0.131100</td>\n",
              "    </tr>\n",
              "    <tr>\n",
              "      <td>2680</td>\n",
              "      <td>0.152600</td>\n",
              "    </tr>\n",
              "    <tr>\n",
              "      <td>2690</td>\n",
              "      <td>0.117600</td>\n",
              "    </tr>\n",
              "    <tr>\n",
              "      <td>2700</td>\n",
              "      <td>0.076500</td>\n",
              "    </tr>\n",
              "    <tr>\n",
              "      <td>2710</td>\n",
              "      <td>0.251700</td>\n",
              "    </tr>\n",
              "    <tr>\n",
              "      <td>2720</td>\n",
              "      <td>0.172200</td>\n",
              "    </tr>\n",
              "    <tr>\n",
              "      <td>2730</td>\n",
              "      <td>0.108800</td>\n",
              "    </tr>\n",
              "    <tr>\n",
              "      <td>2740</td>\n",
              "      <td>0.473700</td>\n",
              "    </tr>\n",
              "    <tr>\n",
              "      <td>2750</td>\n",
              "      <td>0.122000</td>\n",
              "    </tr>\n",
              "    <tr>\n",
              "      <td>2760</td>\n",
              "      <td>0.250600</td>\n",
              "    </tr>\n",
              "    <tr>\n",
              "      <td>2770</td>\n",
              "      <td>0.170500</td>\n",
              "    </tr>\n",
              "    <tr>\n",
              "      <td>2780</td>\n",
              "      <td>0.085000</td>\n",
              "    </tr>\n",
              "    <tr>\n",
              "      <td>2790</td>\n",
              "      <td>0.190100</td>\n",
              "    </tr>\n",
              "    <tr>\n",
              "      <td>2800</td>\n",
              "      <td>0.126300</td>\n",
              "    </tr>\n",
              "    <tr>\n",
              "      <td>2810</td>\n",
              "      <td>0.123100</td>\n",
              "    </tr>\n",
              "    <tr>\n",
              "      <td>2820</td>\n",
              "      <td>0.094200</td>\n",
              "    </tr>\n",
              "    <tr>\n",
              "      <td>2830</td>\n",
              "      <td>0.124900</td>\n",
              "    </tr>\n",
              "    <tr>\n",
              "      <td>2840</td>\n",
              "      <td>0.071100</td>\n",
              "    </tr>\n",
              "    <tr>\n",
              "      <td>2850</td>\n",
              "      <td>0.139400</td>\n",
              "    </tr>\n",
              "    <tr>\n",
              "      <td>2860</td>\n",
              "      <td>0.323800</td>\n",
              "    </tr>\n",
              "    <tr>\n",
              "      <td>2870</td>\n",
              "      <td>0.189600</td>\n",
              "    </tr>\n",
              "    <tr>\n",
              "      <td>2880</td>\n",
              "      <td>0.226600</td>\n",
              "    </tr>\n",
              "    <tr>\n",
              "      <td>2890</td>\n",
              "      <td>0.272900</td>\n",
              "    </tr>\n",
              "    <tr>\n",
              "      <td>2900</td>\n",
              "      <td>0.173100</td>\n",
              "    </tr>\n",
              "    <tr>\n",
              "      <td>2910</td>\n",
              "      <td>0.122500</td>\n",
              "    </tr>\n",
              "    <tr>\n",
              "      <td>2920</td>\n",
              "      <td>0.185700</td>\n",
              "    </tr>\n",
              "    <tr>\n",
              "      <td>2930</td>\n",
              "      <td>0.046000</td>\n",
              "    </tr>\n",
              "    <tr>\n",
              "      <td>2940</td>\n",
              "      <td>0.101900</td>\n",
              "    </tr>\n",
              "    <tr>\n",
              "      <td>2950</td>\n",
              "      <td>0.247500</td>\n",
              "    </tr>\n",
              "    <tr>\n",
              "      <td>2960</td>\n",
              "      <td>0.164100</td>\n",
              "    </tr>\n",
              "    <tr>\n",
              "      <td>2970</td>\n",
              "      <td>0.223700</td>\n",
              "    </tr>\n",
              "    <tr>\n",
              "      <td>2980</td>\n",
              "      <td>0.067700</td>\n",
              "    </tr>\n",
              "    <tr>\n",
              "      <td>2990</td>\n",
              "      <td>0.252700</td>\n",
              "    </tr>\n",
              "    <tr>\n",
              "      <td>3000</td>\n",
              "      <td>0.203600</td>\n",
              "    </tr>\n",
              "    <tr>\n",
              "      <td>3010</td>\n",
              "      <td>0.278600</td>\n",
              "    </tr>\n",
              "    <tr>\n",
              "      <td>3020</td>\n",
              "      <td>0.217400</td>\n",
              "    </tr>\n",
              "    <tr>\n",
              "      <td>3030</td>\n",
              "      <td>0.231400</td>\n",
              "    </tr>\n",
              "    <tr>\n",
              "      <td>3040</td>\n",
              "      <td>0.122000</td>\n",
              "    </tr>\n",
              "    <tr>\n",
              "      <td>3050</td>\n",
              "      <td>0.117300</td>\n",
              "    </tr>\n",
              "    <tr>\n",
              "      <td>3060</td>\n",
              "      <td>0.312500</td>\n",
              "    </tr>\n",
              "    <tr>\n",
              "      <td>3070</td>\n",
              "      <td>0.106900</td>\n",
              "    </tr>\n",
              "    <tr>\n",
              "      <td>3080</td>\n",
              "      <td>0.182900</td>\n",
              "    </tr>\n",
              "    <tr>\n",
              "      <td>3090</td>\n",
              "      <td>0.253400</td>\n",
              "    </tr>\n",
              "    <tr>\n",
              "      <td>3100</td>\n",
              "      <td>0.101900</td>\n",
              "    </tr>\n",
              "    <tr>\n",
              "      <td>3110</td>\n",
              "      <td>0.081500</td>\n",
              "    </tr>\n",
              "    <tr>\n",
              "      <td>3120</td>\n",
              "      <td>0.051900</td>\n",
              "    </tr>\n",
              "    <tr>\n",
              "      <td>3130</td>\n",
              "      <td>0.112600</td>\n",
              "    </tr>\n",
              "    <tr>\n",
              "      <td>3140</td>\n",
              "      <td>0.076100</td>\n",
              "    </tr>\n",
              "    <tr>\n",
              "      <td>3150</td>\n",
              "      <td>0.271100</td>\n",
              "    </tr>\n",
              "    <tr>\n",
              "      <td>3160</td>\n",
              "      <td>0.419600</td>\n",
              "    </tr>\n",
              "    <tr>\n",
              "      <td>3170</td>\n",
              "      <td>0.087700</td>\n",
              "    </tr>\n",
              "    <tr>\n",
              "      <td>3180</td>\n",
              "      <td>0.071600</td>\n",
              "    </tr>\n",
              "    <tr>\n",
              "      <td>3190</td>\n",
              "      <td>0.266300</td>\n",
              "    </tr>\n",
              "    <tr>\n",
              "      <td>3200</td>\n",
              "      <td>0.183300</td>\n",
              "    </tr>\n",
              "    <tr>\n",
              "      <td>3210</td>\n",
              "      <td>0.063000</td>\n",
              "    </tr>\n",
              "    <tr>\n",
              "      <td>3220</td>\n",
              "      <td>0.189300</td>\n",
              "    </tr>\n",
              "    <tr>\n",
              "      <td>3230</td>\n",
              "      <td>0.220000</td>\n",
              "    </tr>\n",
              "    <tr>\n",
              "      <td>3240</td>\n",
              "      <td>0.368200</td>\n",
              "    </tr>\n",
              "    <tr>\n",
              "      <td>3250</td>\n",
              "      <td>0.408900</td>\n",
              "    </tr>\n",
              "    <tr>\n",
              "      <td>3260</td>\n",
              "      <td>0.217600</td>\n",
              "    </tr>\n",
              "    <tr>\n",
              "      <td>3270</td>\n",
              "      <td>0.063300</td>\n",
              "    </tr>\n",
              "    <tr>\n",
              "      <td>3280</td>\n",
              "      <td>0.068500</td>\n",
              "    </tr>\n",
              "    <tr>\n",
              "      <td>3290</td>\n",
              "      <td>0.234700</td>\n",
              "    </tr>\n",
              "    <tr>\n",
              "      <td>3300</td>\n",
              "      <td>0.179200</td>\n",
              "    </tr>\n",
              "    <tr>\n",
              "      <td>3310</td>\n",
              "      <td>0.172100</td>\n",
              "    </tr>\n",
              "    <tr>\n",
              "      <td>3320</td>\n",
              "      <td>0.194000</td>\n",
              "    </tr>\n",
              "    <tr>\n",
              "      <td>3330</td>\n",
              "      <td>0.160100</td>\n",
              "    </tr>\n",
              "    <tr>\n",
              "      <td>3340</td>\n",
              "      <td>0.217300</td>\n",
              "    </tr>\n",
              "    <tr>\n",
              "      <td>3350</td>\n",
              "      <td>0.017300</td>\n",
              "    </tr>\n",
              "    <tr>\n",
              "      <td>3360</td>\n",
              "      <td>0.182100</td>\n",
              "    </tr>\n",
              "    <tr>\n",
              "      <td>3370</td>\n",
              "      <td>0.102800</td>\n",
              "    </tr>\n",
              "    <tr>\n",
              "      <td>3380</td>\n",
              "      <td>0.079700</td>\n",
              "    </tr>\n",
              "    <tr>\n",
              "      <td>3390</td>\n",
              "      <td>0.223900</td>\n",
              "    </tr>\n",
              "    <tr>\n",
              "      <td>3400</td>\n",
              "      <td>0.131700</td>\n",
              "    </tr>\n",
              "    <tr>\n",
              "      <td>3410</td>\n",
              "      <td>0.268700</td>\n",
              "    </tr>\n",
              "    <tr>\n",
              "      <td>3420</td>\n",
              "      <td>0.376100</td>\n",
              "    </tr>\n",
              "    <tr>\n",
              "      <td>3430</td>\n",
              "      <td>0.332000</td>\n",
              "    </tr>\n",
              "    <tr>\n",
              "      <td>3440</td>\n",
              "      <td>0.148200</td>\n",
              "    </tr>\n",
              "    <tr>\n",
              "      <td>3450</td>\n",
              "      <td>0.097800</td>\n",
              "    </tr>\n",
              "    <tr>\n",
              "      <td>3460</td>\n",
              "      <td>0.302700</td>\n",
              "    </tr>\n",
              "    <tr>\n",
              "      <td>3470</td>\n",
              "      <td>0.208500</td>\n",
              "    </tr>\n",
              "    <tr>\n",
              "      <td>3480</td>\n",
              "      <td>0.127200</td>\n",
              "    </tr>\n",
              "    <tr>\n",
              "      <td>3490</td>\n",
              "      <td>0.165200</td>\n",
              "    </tr>\n",
              "    <tr>\n",
              "      <td>3500</td>\n",
              "      <td>0.196200</td>\n",
              "    </tr>\n",
              "    <tr>\n",
              "      <td>3510</td>\n",
              "      <td>0.451200</td>\n",
              "    </tr>\n",
              "    <tr>\n",
              "      <td>3520</td>\n",
              "      <td>0.142400</td>\n",
              "    </tr>\n",
              "    <tr>\n",
              "      <td>3530</td>\n",
              "      <td>0.061600</td>\n",
              "    </tr>\n",
              "    <tr>\n",
              "      <td>3540</td>\n",
              "      <td>0.242600</td>\n",
              "    </tr>\n",
              "    <tr>\n",
              "      <td>3550</td>\n",
              "      <td>0.288200</td>\n",
              "    </tr>\n",
              "    <tr>\n",
              "      <td>3560</td>\n",
              "      <td>0.244200</td>\n",
              "    </tr>\n",
              "    <tr>\n",
              "      <td>3570</td>\n",
              "      <td>0.338600</td>\n",
              "    </tr>\n",
              "    <tr>\n",
              "      <td>3580</td>\n",
              "      <td>0.206900</td>\n",
              "    </tr>\n",
              "    <tr>\n",
              "      <td>3590</td>\n",
              "      <td>0.050000</td>\n",
              "    </tr>\n",
              "    <tr>\n",
              "      <td>3600</td>\n",
              "      <td>0.149900</td>\n",
              "    </tr>\n",
              "    <tr>\n",
              "      <td>3610</td>\n",
              "      <td>0.160100</td>\n",
              "    </tr>\n",
              "    <tr>\n",
              "      <td>3620</td>\n",
              "      <td>0.257000</td>\n",
              "    </tr>\n",
              "    <tr>\n",
              "      <td>3630</td>\n",
              "      <td>0.173700</td>\n",
              "    </tr>\n",
              "    <tr>\n",
              "      <td>3640</td>\n",
              "      <td>0.172000</td>\n",
              "    </tr>\n",
              "    <tr>\n",
              "      <td>3650</td>\n",
              "      <td>0.054300</td>\n",
              "    </tr>\n",
              "    <tr>\n",
              "      <td>3660</td>\n",
              "      <td>0.132000</td>\n",
              "    </tr>\n",
              "    <tr>\n",
              "      <td>3670</td>\n",
              "      <td>0.111700</td>\n",
              "    </tr>\n",
              "    <tr>\n",
              "      <td>3680</td>\n",
              "      <td>0.088500</td>\n",
              "    </tr>\n",
              "    <tr>\n",
              "      <td>3690</td>\n",
              "      <td>0.389300</td>\n",
              "    </tr>\n",
              "    <tr>\n",
              "      <td>3700</td>\n",
              "      <td>0.026400</td>\n",
              "    </tr>\n",
              "    <tr>\n",
              "      <td>3710</td>\n",
              "      <td>0.082000</td>\n",
              "    </tr>\n",
              "    <tr>\n",
              "      <td>3720</td>\n",
              "      <td>0.243200</td>\n",
              "    </tr>\n",
              "    <tr>\n",
              "      <td>3730</td>\n",
              "      <td>0.011400</td>\n",
              "    </tr>\n",
              "    <tr>\n",
              "      <td>3740</td>\n",
              "      <td>0.576100</td>\n",
              "    </tr>\n",
              "    <tr>\n",
              "      <td>3750</td>\n",
              "      <td>0.327500</td>\n",
              "    </tr>\n",
              "    <tr>\n",
              "      <td>3760</td>\n",
              "      <td>0.063800</td>\n",
              "    </tr>\n",
              "    <tr>\n",
              "      <td>3770</td>\n",
              "      <td>0.202900</td>\n",
              "    </tr>\n",
              "    <tr>\n",
              "      <td>3780</td>\n",
              "      <td>0.273400</td>\n",
              "    </tr>\n",
              "    <tr>\n",
              "      <td>3790</td>\n",
              "      <td>0.313300</td>\n",
              "    </tr>\n",
              "    <tr>\n",
              "      <td>3800</td>\n",
              "      <td>0.086100</td>\n",
              "    </tr>\n",
              "    <tr>\n",
              "      <td>3810</td>\n",
              "      <td>0.351800</td>\n",
              "    </tr>\n",
              "    <tr>\n",
              "      <td>3820</td>\n",
              "      <td>0.197400</td>\n",
              "    </tr>\n",
              "    <tr>\n",
              "      <td>3830</td>\n",
              "      <td>0.208900</td>\n",
              "    </tr>\n",
              "    <tr>\n",
              "      <td>3840</td>\n",
              "      <td>0.150500</td>\n",
              "    </tr>\n",
              "    <tr>\n",
              "      <td>3850</td>\n",
              "      <td>0.149400</td>\n",
              "    </tr>\n",
              "    <tr>\n",
              "      <td>3860</td>\n",
              "      <td>0.233200</td>\n",
              "    </tr>\n",
              "    <tr>\n",
              "      <td>3870</td>\n",
              "      <td>0.092200</td>\n",
              "    </tr>\n",
              "    <tr>\n",
              "      <td>3880</td>\n",
              "      <td>0.211000</td>\n",
              "    </tr>\n",
              "    <tr>\n",
              "      <td>3890</td>\n",
              "      <td>0.183600</td>\n",
              "    </tr>\n",
              "    <tr>\n",
              "      <td>3900</td>\n",
              "      <td>0.180100</td>\n",
              "    </tr>\n",
              "    <tr>\n",
              "      <td>3910</td>\n",
              "      <td>0.058300</td>\n",
              "    </tr>\n",
              "    <tr>\n",
              "      <td>3920</td>\n",
              "      <td>0.276300</td>\n",
              "    </tr>\n",
              "    <tr>\n",
              "      <td>3930</td>\n",
              "      <td>0.047100</td>\n",
              "    </tr>\n",
              "    <tr>\n",
              "      <td>3940</td>\n",
              "      <td>0.204600</td>\n",
              "    </tr>\n",
              "    <tr>\n",
              "      <td>3950</td>\n",
              "      <td>0.117900</td>\n",
              "    </tr>\n",
              "    <tr>\n",
              "      <td>3960</td>\n",
              "      <td>0.087100</td>\n",
              "    </tr>\n",
              "    <tr>\n",
              "      <td>3970</td>\n",
              "      <td>0.393100</td>\n",
              "    </tr>\n",
              "    <tr>\n",
              "      <td>3980</td>\n",
              "      <td>0.259500</td>\n",
              "    </tr>\n",
              "    <tr>\n",
              "      <td>3990</td>\n",
              "      <td>0.077000</td>\n",
              "    </tr>\n",
              "    <tr>\n",
              "      <td>4000</td>\n",
              "      <td>0.103300</td>\n",
              "    </tr>\n",
              "    <tr>\n",
              "      <td>4010</td>\n",
              "      <td>0.229000</td>\n",
              "    </tr>\n",
              "    <tr>\n",
              "      <td>4020</td>\n",
              "      <td>0.059300</td>\n",
              "    </tr>\n",
              "    <tr>\n",
              "      <td>4030</td>\n",
              "      <td>0.108300</td>\n",
              "    </tr>\n",
              "    <tr>\n",
              "      <td>4040</td>\n",
              "      <td>0.397400</td>\n",
              "    </tr>\n",
              "    <tr>\n",
              "      <td>4050</td>\n",
              "      <td>0.063100</td>\n",
              "    </tr>\n",
              "    <tr>\n",
              "      <td>4060</td>\n",
              "      <td>0.133700</td>\n",
              "    </tr>\n",
              "    <tr>\n",
              "      <td>4070</td>\n",
              "      <td>0.070000</td>\n",
              "    </tr>\n",
              "    <tr>\n",
              "      <td>4080</td>\n",
              "      <td>0.176200</td>\n",
              "    </tr>\n",
              "    <tr>\n",
              "      <td>4090</td>\n",
              "      <td>0.174400</td>\n",
              "    </tr>\n",
              "    <tr>\n",
              "      <td>4100</td>\n",
              "      <td>0.241800</td>\n",
              "    </tr>\n",
              "    <tr>\n",
              "      <td>4110</td>\n",
              "      <td>0.181600</td>\n",
              "    </tr>\n",
              "    <tr>\n",
              "      <td>4120</td>\n",
              "      <td>0.172900</td>\n",
              "    </tr>\n",
              "    <tr>\n",
              "      <td>4130</td>\n",
              "      <td>0.216600</td>\n",
              "    </tr>\n",
              "    <tr>\n",
              "      <td>4140</td>\n",
              "      <td>0.130500</td>\n",
              "    </tr>\n",
              "    <tr>\n",
              "      <td>4150</td>\n",
              "      <td>0.078700</td>\n",
              "    </tr>\n",
              "    <tr>\n",
              "      <td>4160</td>\n",
              "      <td>0.085000</td>\n",
              "    </tr>\n",
              "    <tr>\n",
              "      <td>4170</td>\n",
              "      <td>0.301900</td>\n",
              "    </tr>\n",
              "    <tr>\n",
              "      <td>4180</td>\n",
              "      <td>0.259300</td>\n",
              "    </tr>\n",
              "    <tr>\n",
              "      <td>4190</td>\n",
              "      <td>0.281500</td>\n",
              "    </tr>\n",
              "    <tr>\n",
              "      <td>4200</td>\n",
              "      <td>0.126100</td>\n",
              "    </tr>\n",
              "    <tr>\n",
              "      <td>4210</td>\n",
              "      <td>0.276500</td>\n",
              "    </tr>\n",
              "    <tr>\n",
              "      <td>4220</td>\n",
              "      <td>0.120100</td>\n",
              "    </tr>\n",
              "    <tr>\n",
              "      <td>4230</td>\n",
              "      <td>0.180100</td>\n",
              "    </tr>\n",
              "    <tr>\n",
              "      <td>4240</td>\n",
              "      <td>0.164500</td>\n",
              "    </tr>\n",
              "    <tr>\n",
              "      <td>4250</td>\n",
              "      <td>0.086200</td>\n",
              "    </tr>\n",
              "    <tr>\n",
              "      <td>4260</td>\n",
              "      <td>0.222400</td>\n",
              "    </tr>\n",
              "    <tr>\n",
              "      <td>4270</td>\n",
              "      <td>0.162100</td>\n",
              "    </tr>\n",
              "    <tr>\n",
              "      <td>4280</td>\n",
              "      <td>0.197400</td>\n",
              "    </tr>\n",
              "    <tr>\n",
              "      <td>4290</td>\n",
              "      <td>0.139700</td>\n",
              "    </tr>\n",
              "    <tr>\n",
              "      <td>4300</td>\n",
              "      <td>0.016700</td>\n",
              "    </tr>\n",
              "    <tr>\n",
              "      <td>4310</td>\n",
              "      <td>0.390000</td>\n",
              "    </tr>\n",
              "    <tr>\n",
              "      <td>4320</td>\n",
              "      <td>0.227500</td>\n",
              "    </tr>\n",
              "    <tr>\n",
              "      <td>4330</td>\n",
              "      <td>0.312900</td>\n",
              "    </tr>\n",
              "    <tr>\n",
              "      <td>4340</td>\n",
              "      <td>0.126500</td>\n",
              "    </tr>\n",
              "    <tr>\n",
              "      <td>4350</td>\n",
              "      <td>0.294800</td>\n",
              "    </tr>\n",
              "    <tr>\n",
              "      <td>4360</td>\n",
              "      <td>0.073700</td>\n",
              "    </tr>\n",
              "    <tr>\n",
              "      <td>4370</td>\n",
              "      <td>0.309500</td>\n",
              "    </tr>\n",
              "    <tr>\n",
              "      <td>4380</td>\n",
              "      <td>0.078600</td>\n",
              "    </tr>\n",
              "    <tr>\n",
              "      <td>4390</td>\n",
              "      <td>0.173700</td>\n",
              "    </tr>\n",
              "    <tr>\n",
              "      <td>4400</td>\n",
              "      <td>0.070000</td>\n",
              "    </tr>\n",
              "    <tr>\n",
              "      <td>4410</td>\n",
              "      <td>0.228200</td>\n",
              "    </tr>\n",
              "    <tr>\n",
              "      <td>4420</td>\n",
              "      <td>0.125200</td>\n",
              "    </tr>\n",
              "    <tr>\n",
              "      <td>4430</td>\n",
              "      <td>0.199900</td>\n",
              "    </tr>\n",
              "    <tr>\n",
              "      <td>4440</td>\n",
              "      <td>0.118100</td>\n",
              "    </tr>\n",
              "    <tr>\n",
              "      <td>4450</td>\n",
              "      <td>0.115500</td>\n",
              "    </tr>\n",
              "    <tr>\n",
              "      <td>4460</td>\n",
              "      <td>0.105700</td>\n",
              "    </tr>\n",
              "    <tr>\n",
              "      <td>4470</td>\n",
              "      <td>0.209000</td>\n",
              "    </tr>\n",
              "    <tr>\n",
              "      <td>4480</td>\n",
              "      <td>0.288200</td>\n",
              "    </tr>\n",
              "    <tr>\n",
              "      <td>4490</td>\n",
              "      <td>0.316400</td>\n",
              "    </tr>\n",
              "    <tr>\n",
              "      <td>4500</td>\n",
              "      <td>0.115900</td>\n",
              "    </tr>\n",
              "    <tr>\n",
              "      <td>4510</td>\n",
              "      <td>0.193200</td>\n",
              "    </tr>\n",
              "    <tr>\n",
              "      <td>4520</td>\n",
              "      <td>0.224900</td>\n",
              "    </tr>\n",
              "    <tr>\n",
              "      <td>4530</td>\n",
              "      <td>0.086700</td>\n",
              "    </tr>\n",
              "    <tr>\n",
              "      <td>4540</td>\n",
              "      <td>0.102600</td>\n",
              "    </tr>\n",
              "    <tr>\n",
              "      <td>4550</td>\n",
              "      <td>0.176200</td>\n",
              "    </tr>\n",
              "    <tr>\n",
              "      <td>4560</td>\n",
              "      <td>0.098800</td>\n",
              "    </tr>\n",
              "    <tr>\n",
              "      <td>4570</td>\n",
              "      <td>0.318600</td>\n",
              "    </tr>\n",
              "    <tr>\n",
              "      <td>4580</td>\n",
              "      <td>0.156700</td>\n",
              "    </tr>\n",
              "    <tr>\n",
              "      <td>4590</td>\n",
              "      <td>0.178500</td>\n",
              "    </tr>\n",
              "    <tr>\n",
              "      <td>4600</td>\n",
              "      <td>0.105900</td>\n",
              "    </tr>\n",
              "    <tr>\n",
              "      <td>4610</td>\n",
              "      <td>0.064900</td>\n",
              "    </tr>\n",
              "    <tr>\n",
              "      <td>4620</td>\n",
              "      <td>0.141500</td>\n",
              "    </tr>\n",
              "    <tr>\n",
              "      <td>4630</td>\n",
              "      <td>0.463500</td>\n",
              "    </tr>\n",
              "    <tr>\n",
              "      <td>4640</td>\n",
              "      <td>0.375600</td>\n",
              "    </tr>\n",
              "    <tr>\n",
              "      <td>4650</td>\n",
              "      <td>0.167400</td>\n",
              "    </tr>\n",
              "    <tr>\n",
              "      <td>4660</td>\n",
              "      <td>0.266200</td>\n",
              "    </tr>\n",
              "    <tr>\n",
              "      <td>4670</td>\n",
              "      <td>0.172900</td>\n",
              "    </tr>\n",
              "    <tr>\n",
              "      <td>4680</td>\n",
              "      <td>0.137300</td>\n",
              "    </tr>\n",
              "    <tr>\n",
              "      <td>4690</td>\n",
              "      <td>0.177800</td>\n",
              "    </tr>\n",
              "    <tr>\n",
              "      <td>4700</td>\n",
              "      <td>0.143500</td>\n",
              "    </tr>\n",
              "    <tr>\n",
              "      <td>4710</td>\n",
              "      <td>0.291200</td>\n",
              "    </tr>\n",
              "    <tr>\n",
              "      <td>4720</td>\n",
              "      <td>0.085900</td>\n",
              "    </tr>\n",
              "    <tr>\n",
              "      <td>4730</td>\n",
              "      <td>0.042100</td>\n",
              "    </tr>\n",
              "    <tr>\n",
              "      <td>4740</td>\n",
              "      <td>0.094200</td>\n",
              "    </tr>\n",
              "    <tr>\n",
              "      <td>4750</td>\n",
              "      <td>0.314000</td>\n",
              "    </tr>\n",
              "    <tr>\n",
              "      <td>4760</td>\n",
              "      <td>0.378700</td>\n",
              "    </tr>\n",
              "    <tr>\n",
              "      <td>4770</td>\n",
              "      <td>0.196500</td>\n",
              "    </tr>\n",
              "    <tr>\n",
              "      <td>4780</td>\n",
              "      <td>0.091100</td>\n",
              "    </tr>\n",
              "    <tr>\n",
              "      <td>4790</td>\n",
              "      <td>0.223400</td>\n",
              "    </tr>\n",
              "    <tr>\n",
              "      <td>4800</td>\n",
              "      <td>0.102300</td>\n",
              "    </tr>\n",
              "    <tr>\n",
              "      <td>4810</td>\n",
              "      <td>0.095700</td>\n",
              "    </tr>\n",
              "    <tr>\n",
              "      <td>4820</td>\n",
              "      <td>0.264900</td>\n",
              "    </tr>\n",
              "    <tr>\n",
              "      <td>4830</td>\n",
              "      <td>0.092600</td>\n",
              "    </tr>\n",
              "    <tr>\n",
              "      <td>4840</td>\n",
              "      <td>0.286800</td>\n",
              "    </tr>\n",
              "    <tr>\n",
              "      <td>4850</td>\n",
              "      <td>0.064300</td>\n",
              "    </tr>\n",
              "    <tr>\n",
              "      <td>4860</td>\n",
              "      <td>0.137800</td>\n",
              "    </tr>\n",
              "    <tr>\n",
              "      <td>4870</td>\n",
              "      <td>0.370500</td>\n",
              "    </tr>\n",
              "    <tr>\n",
              "      <td>4880</td>\n",
              "      <td>0.313700</td>\n",
              "    </tr>\n",
              "    <tr>\n",
              "      <td>4890</td>\n",
              "      <td>0.238900</td>\n",
              "    </tr>\n",
              "    <tr>\n",
              "      <td>4900</td>\n",
              "      <td>0.067100</td>\n",
              "    </tr>\n",
              "    <tr>\n",
              "      <td>4910</td>\n",
              "      <td>0.194200</td>\n",
              "    </tr>\n",
              "    <tr>\n",
              "      <td>4920</td>\n",
              "      <td>0.141200</td>\n",
              "    </tr>\n",
              "    <tr>\n",
              "      <td>4930</td>\n",
              "      <td>0.160300</td>\n",
              "    </tr>\n",
              "    <tr>\n",
              "      <td>4940</td>\n",
              "      <td>0.053200</td>\n",
              "    </tr>\n",
              "    <tr>\n",
              "      <td>4950</td>\n",
              "      <td>0.223600</td>\n",
              "    </tr>\n",
              "    <tr>\n",
              "      <td>4960</td>\n",
              "      <td>0.280300</td>\n",
              "    </tr>\n",
              "    <tr>\n",
              "      <td>4970</td>\n",
              "      <td>0.163600</td>\n",
              "    </tr>\n",
              "    <tr>\n",
              "      <td>4980</td>\n",
              "      <td>0.078500</td>\n",
              "    </tr>\n",
              "    <tr>\n",
              "      <td>4990</td>\n",
              "      <td>0.137600</td>\n",
              "    </tr>\n",
              "    <tr>\n",
              "      <td>5000</td>\n",
              "      <td>0.008300</td>\n",
              "    </tr>\n",
              "    <tr>\n",
              "      <td>5010</td>\n",
              "      <td>0.116600</td>\n",
              "    </tr>\n",
              "    <tr>\n",
              "      <td>5020</td>\n",
              "      <td>0.111800</td>\n",
              "    </tr>\n",
              "    <tr>\n",
              "      <td>5030</td>\n",
              "      <td>0.006100</td>\n",
              "    </tr>\n",
              "    <tr>\n",
              "      <td>5040</td>\n",
              "      <td>0.124700</td>\n",
              "    </tr>\n",
              "    <tr>\n",
              "      <td>5050</td>\n",
              "      <td>0.060900</td>\n",
              "    </tr>\n",
              "    <tr>\n",
              "      <td>5060</td>\n",
              "      <td>0.081400</td>\n",
              "    </tr>\n",
              "    <tr>\n",
              "      <td>5070</td>\n",
              "      <td>0.004400</td>\n",
              "    </tr>\n",
              "    <tr>\n",
              "      <td>5080</td>\n",
              "      <td>0.058900</td>\n",
              "    </tr>\n",
              "    <tr>\n",
              "      <td>5090</td>\n",
              "      <td>0.004400</td>\n",
              "    </tr>\n",
              "    <tr>\n",
              "      <td>5100</td>\n",
              "      <td>0.043500</td>\n",
              "    </tr>\n",
              "    <tr>\n",
              "      <td>5110</td>\n",
              "      <td>0.055700</td>\n",
              "    </tr>\n",
              "    <tr>\n",
              "      <td>5120</td>\n",
              "      <td>0.095800</td>\n",
              "    </tr>\n",
              "    <tr>\n",
              "      <td>5130</td>\n",
              "      <td>0.172400</td>\n",
              "    </tr>\n",
              "    <tr>\n",
              "      <td>5140</td>\n",
              "      <td>0.006500</td>\n",
              "    </tr>\n",
              "    <tr>\n",
              "      <td>5150</td>\n",
              "      <td>0.042800</td>\n",
              "    </tr>\n",
              "    <tr>\n",
              "      <td>5160</td>\n",
              "      <td>0.001200</td>\n",
              "    </tr>\n",
              "    <tr>\n",
              "      <td>5170</td>\n",
              "      <td>0.106700</td>\n",
              "    </tr>\n",
              "    <tr>\n",
              "      <td>5180</td>\n",
              "      <td>0.063800</td>\n",
              "    </tr>\n",
              "    <tr>\n",
              "      <td>5190</td>\n",
              "      <td>0.042500</td>\n",
              "    </tr>\n",
              "    <tr>\n",
              "      <td>5200</td>\n",
              "      <td>0.251600</td>\n",
              "    </tr>\n",
              "    <tr>\n",
              "      <td>5210</td>\n",
              "      <td>0.084200</td>\n",
              "    </tr>\n",
              "    <tr>\n",
              "      <td>5220</td>\n",
              "      <td>0.037300</td>\n",
              "    </tr>\n",
              "    <tr>\n",
              "      <td>5230</td>\n",
              "      <td>0.001700</td>\n",
              "    </tr>\n",
              "    <tr>\n",
              "      <td>5240</td>\n",
              "      <td>0.148300</td>\n",
              "    </tr>\n",
              "    <tr>\n",
              "      <td>5250</td>\n",
              "      <td>0.087300</td>\n",
              "    </tr>\n",
              "    <tr>\n",
              "      <td>5260</td>\n",
              "      <td>0.142600</td>\n",
              "    </tr>\n",
              "    <tr>\n",
              "      <td>5270</td>\n",
              "      <td>0.046600</td>\n",
              "    </tr>\n",
              "    <tr>\n",
              "      <td>5280</td>\n",
              "      <td>0.091000</td>\n",
              "    </tr>\n",
              "    <tr>\n",
              "      <td>5290</td>\n",
              "      <td>0.095500</td>\n",
              "    </tr>\n",
              "    <tr>\n",
              "      <td>5300</td>\n",
              "      <td>0.002000</td>\n",
              "    </tr>\n",
              "    <tr>\n",
              "      <td>5310</td>\n",
              "      <td>0.121100</td>\n",
              "    </tr>\n",
              "    <tr>\n",
              "      <td>5320</td>\n",
              "      <td>0.001800</td>\n",
              "    </tr>\n",
              "    <tr>\n",
              "      <td>5330</td>\n",
              "      <td>0.001400</td>\n",
              "    </tr>\n",
              "    <tr>\n",
              "      <td>5340</td>\n",
              "      <td>0.079900</td>\n",
              "    </tr>\n",
              "    <tr>\n",
              "      <td>5350</td>\n",
              "      <td>0.006200</td>\n",
              "    </tr>\n",
              "    <tr>\n",
              "      <td>5360</td>\n",
              "      <td>0.117500</td>\n",
              "    </tr>\n",
              "    <tr>\n",
              "      <td>5370</td>\n",
              "      <td>0.084900</td>\n",
              "    </tr>\n",
              "    <tr>\n",
              "      <td>5380</td>\n",
              "      <td>0.002200</td>\n",
              "    </tr>\n",
              "    <tr>\n",
              "      <td>5390</td>\n",
              "      <td>0.002100</td>\n",
              "    </tr>\n",
              "    <tr>\n",
              "      <td>5400</td>\n",
              "      <td>0.090900</td>\n",
              "    </tr>\n",
              "    <tr>\n",
              "      <td>5410</td>\n",
              "      <td>0.187200</td>\n",
              "    </tr>\n",
              "    <tr>\n",
              "      <td>5420</td>\n",
              "      <td>0.037000</td>\n",
              "    </tr>\n",
              "    <tr>\n",
              "      <td>5430</td>\n",
              "      <td>0.141400</td>\n",
              "    </tr>\n",
              "    <tr>\n",
              "      <td>5440</td>\n",
              "      <td>0.150200</td>\n",
              "    </tr>\n",
              "    <tr>\n",
              "      <td>5450</td>\n",
              "      <td>0.127900</td>\n",
              "    </tr>\n",
              "    <tr>\n",
              "      <td>5460</td>\n",
              "      <td>0.001400</td>\n",
              "    </tr>\n",
              "    <tr>\n",
              "      <td>5470</td>\n",
              "      <td>0.001900</td>\n",
              "    </tr>\n",
              "    <tr>\n",
              "      <td>5480</td>\n",
              "      <td>0.033300</td>\n",
              "    </tr>\n",
              "    <tr>\n",
              "      <td>5490</td>\n",
              "      <td>0.057300</td>\n",
              "    </tr>\n",
              "    <tr>\n",
              "      <td>5500</td>\n",
              "      <td>0.067500</td>\n",
              "    </tr>\n",
              "    <tr>\n",
              "      <td>5510</td>\n",
              "      <td>0.073700</td>\n",
              "    </tr>\n",
              "    <tr>\n",
              "      <td>5520</td>\n",
              "      <td>0.125500</td>\n",
              "    </tr>\n",
              "    <tr>\n",
              "      <td>5530</td>\n",
              "      <td>0.024300</td>\n",
              "    </tr>\n",
              "    <tr>\n",
              "      <td>5540</td>\n",
              "      <td>0.126500</td>\n",
              "    </tr>\n",
              "    <tr>\n",
              "      <td>5550</td>\n",
              "      <td>0.053500</td>\n",
              "    </tr>\n",
              "    <tr>\n",
              "      <td>5560</td>\n",
              "      <td>0.073500</td>\n",
              "    </tr>\n",
              "    <tr>\n",
              "      <td>5570</td>\n",
              "      <td>0.209200</td>\n",
              "    </tr>\n",
              "    <tr>\n",
              "      <td>5580</td>\n",
              "      <td>0.001600</td>\n",
              "    </tr>\n",
              "    <tr>\n",
              "      <td>5590</td>\n",
              "      <td>0.086100</td>\n",
              "    </tr>\n",
              "    <tr>\n",
              "      <td>5600</td>\n",
              "      <td>0.187200</td>\n",
              "    </tr>\n",
              "    <tr>\n",
              "      <td>5610</td>\n",
              "      <td>0.013800</td>\n",
              "    </tr>\n",
              "    <tr>\n",
              "      <td>5620</td>\n",
              "      <td>0.019100</td>\n",
              "    </tr>\n",
              "    <tr>\n",
              "      <td>5630</td>\n",
              "      <td>0.163200</td>\n",
              "    </tr>\n",
              "    <tr>\n",
              "      <td>5640</td>\n",
              "      <td>0.002000</td>\n",
              "    </tr>\n",
              "    <tr>\n",
              "      <td>5650</td>\n",
              "      <td>0.312700</td>\n",
              "    </tr>\n",
              "    <tr>\n",
              "      <td>5660</td>\n",
              "      <td>0.119400</td>\n",
              "    </tr>\n",
              "    <tr>\n",
              "      <td>5670</td>\n",
              "      <td>0.027400</td>\n",
              "    </tr>\n",
              "    <tr>\n",
              "      <td>5680</td>\n",
              "      <td>0.030500</td>\n",
              "    </tr>\n",
              "    <tr>\n",
              "      <td>5690</td>\n",
              "      <td>0.096100</td>\n",
              "    </tr>\n",
              "    <tr>\n",
              "      <td>5700</td>\n",
              "      <td>0.143600</td>\n",
              "    </tr>\n",
              "    <tr>\n",
              "      <td>5710</td>\n",
              "      <td>0.117400</td>\n",
              "    </tr>\n",
              "    <tr>\n",
              "      <td>5720</td>\n",
              "      <td>0.068900</td>\n",
              "    </tr>\n",
              "    <tr>\n",
              "      <td>5730</td>\n",
              "      <td>0.061200</td>\n",
              "    </tr>\n",
              "    <tr>\n",
              "      <td>5740</td>\n",
              "      <td>0.051000</td>\n",
              "    </tr>\n",
              "    <tr>\n",
              "      <td>5750</td>\n",
              "      <td>0.087400</td>\n",
              "    </tr>\n",
              "    <tr>\n",
              "      <td>5760</td>\n",
              "      <td>0.070100</td>\n",
              "    </tr>\n",
              "    <tr>\n",
              "      <td>5770</td>\n",
              "      <td>0.130800</td>\n",
              "    </tr>\n",
              "    <tr>\n",
              "      <td>5780</td>\n",
              "      <td>0.140700</td>\n",
              "    </tr>\n",
              "    <tr>\n",
              "      <td>5790</td>\n",
              "      <td>0.001700</td>\n",
              "    </tr>\n",
              "    <tr>\n",
              "      <td>5800</td>\n",
              "      <td>0.048500</td>\n",
              "    </tr>\n",
              "    <tr>\n",
              "      <td>5810</td>\n",
              "      <td>0.024500</td>\n",
              "    </tr>\n",
              "    <tr>\n",
              "      <td>5820</td>\n",
              "      <td>0.092200</td>\n",
              "    </tr>\n",
              "    <tr>\n",
              "      <td>5830</td>\n",
              "      <td>0.069300</td>\n",
              "    </tr>\n",
              "    <tr>\n",
              "      <td>5840</td>\n",
              "      <td>0.068500</td>\n",
              "    </tr>\n",
              "    <tr>\n",
              "      <td>5850</td>\n",
              "      <td>0.082200</td>\n",
              "    </tr>\n",
              "    <tr>\n",
              "      <td>5860</td>\n",
              "      <td>0.063200</td>\n",
              "    </tr>\n",
              "    <tr>\n",
              "      <td>5870</td>\n",
              "      <td>0.083600</td>\n",
              "    </tr>\n",
              "    <tr>\n",
              "      <td>5880</td>\n",
              "      <td>0.113600</td>\n",
              "    </tr>\n",
              "    <tr>\n",
              "      <td>5890</td>\n",
              "      <td>0.001600</td>\n",
              "    </tr>\n",
              "    <tr>\n",
              "      <td>5900</td>\n",
              "      <td>0.006600</td>\n",
              "    </tr>\n",
              "    <tr>\n",
              "      <td>5910</td>\n",
              "      <td>0.001800</td>\n",
              "    </tr>\n",
              "    <tr>\n",
              "      <td>5920</td>\n",
              "      <td>0.002100</td>\n",
              "    </tr>\n",
              "    <tr>\n",
              "      <td>5930</td>\n",
              "      <td>0.103400</td>\n",
              "    </tr>\n",
              "    <tr>\n",
              "      <td>5940</td>\n",
              "      <td>0.151000</td>\n",
              "    </tr>\n",
              "    <tr>\n",
              "      <td>5950</td>\n",
              "      <td>0.175900</td>\n",
              "    </tr>\n",
              "    <tr>\n",
              "      <td>5960</td>\n",
              "      <td>0.103400</td>\n",
              "    </tr>\n",
              "    <tr>\n",
              "      <td>5970</td>\n",
              "      <td>0.001100</td>\n",
              "    </tr>\n",
              "    <tr>\n",
              "      <td>5980</td>\n",
              "      <td>0.001500</td>\n",
              "    </tr>\n",
              "    <tr>\n",
              "      <td>5990</td>\n",
              "      <td>0.178100</td>\n",
              "    </tr>\n",
              "    <tr>\n",
              "      <td>6000</td>\n",
              "      <td>0.179400</td>\n",
              "    </tr>\n",
              "    <tr>\n",
              "      <td>6010</td>\n",
              "      <td>0.003300</td>\n",
              "    </tr>\n",
              "    <tr>\n",
              "      <td>6020</td>\n",
              "      <td>0.001600</td>\n",
              "    </tr>\n",
              "    <tr>\n",
              "      <td>6030</td>\n",
              "      <td>0.067500</td>\n",
              "    </tr>\n",
              "    <tr>\n",
              "      <td>6040</td>\n",
              "      <td>0.039300</td>\n",
              "    </tr>\n",
              "    <tr>\n",
              "      <td>6050</td>\n",
              "      <td>0.042600</td>\n",
              "    </tr>\n",
              "    <tr>\n",
              "      <td>6060</td>\n",
              "      <td>0.105200</td>\n",
              "    </tr>\n",
              "    <tr>\n",
              "      <td>6070</td>\n",
              "      <td>0.132300</td>\n",
              "    </tr>\n",
              "    <tr>\n",
              "      <td>6080</td>\n",
              "      <td>0.050500</td>\n",
              "    </tr>\n",
              "    <tr>\n",
              "      <td>6090</td>\n",
              "      <td>0.215100</td>\n",
              "    </tr>\n",
              "    <tr>\n",
              "      <td>6100</td>\n",
              "      <td>0.001200</td>\n",
              "    </tr>\n",
              "    <tr>\n",
              "      <td>6110</td>\n",
              "      <td>0.044100</td>\n",
              "    </tr>\n",
              "    <tr>\n",
              "      <td>6120</td>\n",
              "      <td>0.088300</td>\n",
              "    </tr>\n",
              "    <tr>\n",
              "      <td>6130</td>\n",
              "      <td>0.044000</td>\n",
              "    </tr>\n",
              "    <tr>\n",
              "      <td>6140</td>\n",
              "      <td>0.098900</td>\n",
              "    </tr>\n",
              "    <tr>\n",
              "      <td>6150</td>\n",
              "      <td>0.135600</td>\n",
              "    </tr>\n",
              "    <tr>\n",
              "      <td>6160</td>\n",
              "      <td>0.001600</td>\n",
              "    </tr>\n",
              "    <tr>\n",
              "      <td>6170</td>\n",
              "      <td>0.003200</td>\n",
              "    </tr>\n",
              "    <tr>\n",
              "      <td>6180</td>\n",
              "      <td>0.031000</td>\n",
              "    </tr>\n",
              "    <tr>\n",
              "      <td>6190</td>\n",
              "      <td>0.188200</td>\n",
              "    </tr>\n",
              "    <tr>\n",
              "      <td>6200</td>\n",
              "      <td>0.192000</td>\n",
              "    </tr>\n",
              "    <tr>\n",
              "      <td>6210</td>\n",
              "      <td>0.096600</td>\n",
              "    </tr>\n",
              "    <tr>\n",
              "      <td>6220</td>\n",
              "      <td>0.043900</td>\n",
              "    </tr>\n",
              "    <tr>\n",
              "      <td>6230</td>\n",
              "      <td>0.003900</td>\n",
              "    </tr>\n",
              "    <tr>\n",
              "      <td>6240</td>\n",
              "      <td>0.052900</td>\n",
              "    </tr>\n",
              "    <tr>\n",
              "      <td>6250</td>\n",
              "      <td>0.005400</td>\n",
              "    </tr>\n",
              "    <tr>\n",
              "      <td>6260</td>\n",
              "      <td>0.078900</td>\n",
              "    </tr>\n",
              "    <tr>\n",
              "      <td>6270</td>\n",
              "      <td>0.001000</td>\n",
              "    </tr>\n",
              "    <tr>\n",
              "      <td>6280</td>\n",
              "      <td>0.001000</td>\n",
              "    </tr>\n",
              "    <tr>\n",
              "      <td>6290</td>\n",
              "      <td>0.127900</td>\n",
              "    </tr>\n",
              "    <tr>\n",
              "      <td>6300</td>\n",
              "      <td>0.062100</td>\n",
              "    </tr>\n",
              "    <tr>\n",
              "      <td>6310</td>\n",
              "      <td>0.159400</td>\n",
              "    </tr>\n",
              "    <tr>\n",
              "      <td>6320</td>\n",
              "      <td>0.042400</td>\n",
              "    </tr>\n",
              "    <tr>\n",
              "      <td>6330</td>\n",
              "      <td>0.001500</td>\n",
              "    </tr>\n",
              "    <tr>\n",
              "      <td>6340</td>\n",
              "      <td>0.074200</td>\n",
              "    </tr>\n",
              "    <tr>\n",
              "      <td>6350</td>\n",
              "      <td>0.018300</td>\n",
              "    </tr>\n",
              "    <tr>\n",
              "      <td>6360</td>\n",
              "      <td>0.153100</td>\n",
              "    </tr>\n",
              "    <tr>\n",
              "      <td>6370</td>\n",
              "      <td>0.049200</td>\n",
              "    </tr>\n",
              "    <tr>\n",
              "      <td>6380</td>\n",
              "      <td>0.000800</td>\n",
              "    </tr>\n",
              "    <tr>\n",
              "      <td>6390</td>\n",
              "      <td>0.002700</td>\n",
              "    </tr>\n",
              "    <tr>\n",
              "      <td>6400</td>\n",
              "      <td>0.071400</td>\n",
              "    </tr>\n",
              "    <tr>\n",
              "      <td>6410</td>\n",
              "      <td>0.027500</td>\n",
              "    </tr>\n",
              "    <tr>\n",
              "      <td>6420</td>\n",
              "      <td>0.134100</td>\n",
              "    </tr>\n",
              "    <tr>\n",
              "      <td>6430</td>\n",
              "      <td>0.189200</td>\n",
              "    </tr>\n",
              "    <tr>\n",
              "      <td>6440</td>\n",
              "      <td>0.056700</td>\n",
              "    </tr>\n",
              "    <tr>\n",
              "      <td>6450</td>\n",
              "      <td>0.115100</td>\n",
              "    </tr>\n",
              "    <tr>\n",
              "      <td>6460</td>\n",
              "      <td>0.095000</td>\n",
              "    </tr>\n",
              "    <tr>\n",
              "      <td>6470</td>\n",
              "      <td>0.001300</td>\n",
              "    </tr>\n",
              "    <tr>\n",
              "      <td>6480</td>\n",
              "      <td>0.001500</td>\n",
              "    </tr>\n",
              "    <tr>\n",
              "      <td>6490</td>\n",
              "      <td>0.091400</td>\n",
              "    </tr>\n",
              "    <tr>\n",
              "      <td>6500</td>\n",
              "      <td>0.013500</td>\n",
              "    </tr>\n",
              "    <tr>\n",
              "      <td>6510</td>\n",
              "      <td>0.002100</td>\n",
              "    </tr>\n",
              "    <tr>\n",
              "      <td>6520</td>\n",
              "      <td>0.001500</td>\n",
              "    </tr>\n",
              "    <tr>\n",
              "      <td>6530</td>\n",
              "      <td>0.055200</td>\n",
              "    </tr>\n",
              "    <tr>\n",
              "      <td>6540</td>\n",
              "      <td>0.104900</td>\n",
              "    </tr>\n",
              "    <tr>\n",
              "      <td>6550</td>\n",
              "      <td>0.002100</td>\n",
              "    </tr>\n",
              "    <tr>\n",
              "      <td>6560</td>\n",
              "      <td>0.000800</td>\n",
              "    </tr>\n",
              "    <tr>\n",
              "      <td>6570</td>\n",
              "      <td>0.048600</td>\n",
              "    </tr>\n",
              "    <tr>\n",
              "      <td>6580</td>\n",
              "      <td>0.000700</td>\n",
              "    </tr>\n",
              "    <tr>\n",
              "      <td>6590</td>\n",
              "      <td>0.057400</td>\n",
              "    </tr>\n",
              "    <tr>\n",
              "      <td>6600</td>\n",
              "      <td>0.000700</td>\n",
              "    </tr>\n",
              "    <tr>\n",
              "      <td>6610</td>\n",
              "      <td>0.078800</td>\n",
              "    </tr>\n",
              "    <tr>\n",
              "      <td>6620</td>\n",
              "      <td>0.003800</td>\n",
              "    </tr>\n",
              "    <tr>\n",
              "      <td>6630</td>\n",
              "      <td>0.064900</td>\n",
              "    </tr>\n",
              "    <tr>\n",
              "      <td>6640</td>\n",
              "      <td>0.001000</td>\n",
              "    </tr>\n",
              "    <tr>\n",
              "      <td>6650</td>\n",
              "      <td>0.172000</td>\n",
              "    </tr>\n",
              "    <tr>\n",
              "      <td>6660</td>\n",
              "      <td>0.012900</td>\n",
              "    </tr>\n",
              "    <tr>\n",
              "      <td>6670</td>\n",
              "      <td>0.191700</td>\n",
              "    </tr>\n",
              "    <tr>\n",
              "      <td>6680</td>\n",
              "      <td>0.124900</td>\n",
              "    </tr>\n",
              "    <tr>\n",
              "      <td>6690</td>\n",
              "      <td>0.003600</td>\n",
              "    </tr>\n",
              "    <tr>\n",
              "      <td>6700</td>\n",
              "      <td>0.084800</td>\n",
              "    </tr>\n",
              "    <tr>\n",
              "      <td>6710</td>\n",
              "      <td>0.185800</td>\n",
              "    </tr>\n",
              "    <tr>\n",
              "      <td>6720</td>\n",
              "      <td>0.030600</td>\n",
              "    </tr>\n",
              "    <tr>\n",
              "      <td>6730</td>\n",
              "      <td>0.062400</td>\n",
              "    </tr>\n",
              "    <tr>\n",
              "      <td>6740</td>\n",
              "      <td>0.001000</td>\n",
              "    </tr>\n",
              "    <tr>\n",
              "      <td>6750</td>\n",
              "      <td>0.056500</td>\n",
              "    </tr>\n",
              "    <tr>\n",
              "      <td>6760</td>\n",
              "      <td>0.017200</td>\n",
              "    </tr>\n",
              "    <tr>\n",
              "      <td>6770</td>\n",
              "      <td>0.000800</td>\n",
              "    </tr>\n",
              "    <tr>\n",
              "      <td>6780</td>\n",
              "      <td>0.104900</td>\n",
              "    </tr>\n",
              "    <tr>\n",
              "      <td>6790</td>\n",
              "      <td>0.087800</td>\n",
              "    </tr>\n",
              "    <tr>\n",
              "      <td>6800</td>\n",
              "      <td>0.000800</td>\n",
              "    </tr>\n",
              "    <tr>\n",
              "      <td>6810</td>\n",
              "      <td>0.017500</td>\n",
              "    </tr>\n",
              "    <tr>\n",
              "      <td>6820</td>\n",
              "      <td>0.104900</td>\n",
              "    </tr>\n",
              "    <tr>\n",
              "      <td>6830</td>\n",
              "      <td>0.001300</td>\n",
              "    </tr>\n",
              "    <tr>\n",
              "      <td>6840</td>\n",
              "      <td>0.000700</td>\n",
              "    </tr>\n",
              "    <tr>\n",
              "      <td>6850</td>\n",
              "      <td>0.001500</td>\n",
              "    </tr>\n",
              "    <tr>\n",
              "      <td>6860</td>\n",
              "      <td>0.055700</td>\n",
              "    </tr>\n",
              "    <tr>\n",
              "      <td>6870</td>\n",
              "      <td>0.075300</td>\n",
              "    </tr>\n",
              "    <tr>\n",
              "      <td>6880</td>\n",
              "      <td>0.001900</td>\n",
              "    </tr>\n",
              "    <tr>\n",
              "      <td>6890</td>\n",
              "      <td>0.138300</td>\n",
              "    </tr>\n",
              "    <tr>\n",
              "      <td>6900</td>\n",
              "      <td>0.127000</td>\n",
              "    </tr>\n",
              "    <tr>\n",
              "      <td>6910</td>\n",
              "      <td>0.047500</td>\n",
              "    </tr>\n",
              "    <tr>\n",
              "      <td>6920</td>\n",
              "      <td>0.058400</td>\n",
              "    </tr>\n",
              "    <tr>\n",
              "      <td>6930</td>\n",
              "      <td>0.093800</td>\n",
              "    </tr>\n",
              "    <tr>\n",
              "      <td>6940</td>\n",
              "      <td>0.066000</td>\n",
              "    </tr>\n",
              "    <tr>\n",
              "      <td>6950</td>\n",
              "      <td>0.141800</td>\n",
              "    </tr>\n",
              "    <tr>\n",
              "      <td>6960</td>\n",
              "      <td>0.000800</td>\n",
              "    </tr>\n",
              "    <tr>\n",
              "      <td>6970</td>\n",
              "      <td>0.000900</td>\n",
              "    </tr>\n",
              "    <tr>\n",
              "      <td>6980</td>\n",
              "      <td>0.000600</td>\n",
              "    </tr>\n",
              "    <tr>\n",
              "      <td>6990</td>\n",
              "      <td>0.001300</td>\n",
              "    </tr>\n",
              "    <tr>\n",
              "      <td>7000</td>\n",
              "      <td>0.001000</td>\n",
              "    </tr>\n",
              "    <tr>\n",
              "      <td>7010</td>\n",
              "      <td>0.004500</td>\n",
              "    </tr>\n",
              "    <tr>\n",
              "      <td>7020</td>\n",
              "      <td>0.196500</td>\n",
              "    </tr>\n",
              "    <tr>\n",
              "      <td>7030</td>\n",
              "      <td>0.150900</td>\n",
              "    </tr>\n",
              "    <tr>\n",
              "      <td>7040</td>\n",
              "      <td>0.001800</td>\n",
              "    </tr>\n",
              "    <tr>\n",
              "      <td>7050</td>\n",
              "      <td>0.114300</td>\n",
              "    </tr>\n",
              "    <tr>\n",
              "      <td>7060</td>\n",
              "      <td>0.294300</td>\n",
              "    </tr>\n",
              "    <tr>\n",
              "      <td>7070</td>\n",
              "      <td>0.001000</td>\n",
              "    </tr>\n",
              "    <tr>\n",
              "      <td>7080</td>\n",
              "      <td>0.097600</td>\n",
              "    </tr>\n",
              "    <tr>\n",
              "      <td>7090</td>\n",
              "      <td>0.176400</td>\n",
              "    </tr>\n",
              "    <tr>\n",
              "      <td>7100</td>\n",
              "      <td>0.019400</td>\n",
              "    </tr>\n",
              "    <tr>\n",
              "      <td>7110</td>\n",
              "      <td>0.000700</td>\n",
              "    </tr>\n",
              "    <tr>\n",
              "      <td>7120</td>\n",
              "      <td>0.226300</td>\n",
              "    </tr>\n",
              "    <tr>\n",
              "      <td>7130</td>\n",
              "      <td>0.092500</td>\n",
              "    </tr>\n",
              "    <tr>\n",
              "      <td>7140</td>\n",
              "      <td>0.001000</td>\n",
              "    </tr>\n",
              "    <tr>\n",
              "      <td>7150</td>\n",
              "      <td>0.056200</td>\n",
              "    </tr>\n",
              "    <tr>\n",
              "      <td>7160</td>\n",
              "      <td>0.000800</td>\n",
              "    </tr>\n",
              "    <tr>\n",
              "      <td>7170</td>\n",
              "      <td>0.117600</td>\n",
              "    </tr>\n",
              "    <tr>\n",
              "      <td>7180</td>\n",
              "      <td>0.039600</td>\n",
              "    </tr>\n",
              "    <tr>\n",
              "      <td>7190</td>\n",
              "      <td>0.126000</td>\n",
              "    </tr>\n",
              "    <tr>\n",
              "      <td>7200</td>\n",
              "      <td>0.204800</td>\n",
              "    </tr>\n",
              "    <tr>\n",
              "      <td>7210</td>\n",
              "      <td>0.099900</td>\n",
              "    </tr>\n",
              "    <tr>\n",
              "      <td>7220</td>\n",
              "      <td>0.000900</td>\n",
              "    </tr>\n",
              "    <tr>\n",
              "      <td>7230</td>\n",
              "      <td>0.111200</td>\n",
              "    </tr>\n",
              "    <tr>\n",
              "      <td>7240</td>\n",
              "      <td>0.084000</td>\n",
              "    </tr>\n",
              "    <tr>\n",
              "      <td>7250</td>\n",
              "      <td>0.085800</td>\n",
              "    </tr>\n",
              "    <tr>\n",
              "      <td>7260</td>\n",
              "      <td>0.001400</td>\n",
              "    </tr>\n",
              "    <tr>\n",
              "      <td>7270</td>\n",
              "      <td>0.004400</td>\n",
              "    </tr>\n",
              "    <tr>\n",
              "      <td>7280</td>\n",
              "      <td>0.110800</td>\n",
              "    </tr>\n",
              "    <tr>\n",
              "      <td>7290</td>\n",
              "      <td>0.000700</td>\n",
              "    </tr>\n",
              "    <tr>\n",
              "      <td>7300</td>\n",
              "      <td>0.279000</td>\n",
              "    </tr>\n",
              "    <tr>\n",
              "      <td>7310</td>\n",
              "      <td>0.117400</td>\n",
              "    </tr>\n",
              "    <tr>\n",
              "      <td>7320</td>\n",
              "      <td>0.123600</td>\n",
              "    </tr>\n",
              "    <tr>\n",
              "      <td>7330</td>\n",
              "      <td>0.098100</td>\n",
              "    </tr>\n",
              "    <tr>\n",
              "      <td>7340</td>\n",
              "      <td>0.052400</td>\n",
              "    </tr>\n",
              "    <tr>\n",
              "      <td>7350</td>\n",
              "      <td>0.109600</td>\n",
              "    </tr>\n",
              "    <tr>\n",
              "      <td>7360</td>\n",
              "      <td>0.001000</td>\n",
              "    </tr>\n",
              "    <tr>\n",
              "      <td>7370</td>\n",
              "      <td>0.042700</td>\n",
              "    </tr>\n",
              "    <tr>\n",
              "      <td>7380</td>\n",
              "      <td>0.001400</td>\n",
              "    </tr>\n",
              "    <tr>\n",
              "      <td>7390</td>\n",
              "      <td>0.247500</td>\n",
              "    </tr>\n",
              "    <tr>\n",
              "      <td>7400</td>\n",
              "      <td>0.101500</td>\n",
              "    </tr>\n",
              "    <tr>\n",
              "      <td>7410</td>\n",
              "      <td>0.256800</td>\n",
              "    </tr>\n",
              "    <tr>\n",
              "      <td>7420</td>\n",
              "      <td>0.001200</td>\n",
              "    </tr>\n",
              "    <tr>\n",
              "      <td>7430</td>\n",
              "      <td>0.003300</td>\n",
              "    </tr>\n",
              "    <tr>\n",
              "      <td>7440</td>\n",
              "      <td>0.001300</td>\n",
              "    </tr>\n",
              "    <tr>\n",
              "      <td>7450</td>\n",
              "      <td>0.030900</td>\n",
              "    </tr>\n",
              "    <tr>\n",
              "      <td>7460</td>\n",
              "      <td>0.177800</td>\n",
              "    </tr>\n",
              "    <tr>\n",
              "      <td>7470</td>\n",
              "      <td>0.000900</td>\n",
              "    </tr>\n",
              "    <tr>\n",
              "      <td>7480</td>\n",
              "      <td>0.000800</td>\n",
              "    </tr>\n",
              "    <tr>\n",
              "      <td>7490</td>\n",
              "      <td>0.010800</td>\n",
              "    </tr>\n",
              "    <tr>\n",
              "      <td>7500</td>\n",
              "      <td>0.001000</td>\n",
              "    </tr>\n",
              "  </tbody>\n",
              "</table><p>"
            ],
            "text/plain": [
              "<IPython.core.display.HTML object>"
            ]
          },
          "metadata": {}
        },
        {
          "output_type": "stream",
          "name": "stderr",
          "text": [
            "Saving model checkpoint to ./results/checkpoint-5000\n",
            "Configuration saved in ./results/checkpoint-5000/config.json\n",
            "Model weights saved in ./results/checkpoint-5000/pytorch_model.bin\n",
            "Saving model checkpoint to ./results/checkpoint-5500\n",
            "Configuration saved in ./results/checkpoint-5500/config.json\n",
            "Model weights saved in ./results/checkpoint-5500/pytorch_model.bin\n",
            "Saving model checkpoint to ./results/checkpoint-6000\n",
            "Configuration saved in ./results/checkpoint-6000/config.json\n",
            "Model weights saved in ./results/checkpoint-6000/pytorch_model.bin\n",
            "Saving model checkpoint to ./results/checkpoint-6500\n",
            "Configuration saved in ./results/checkpoint-6500/config.json\n",
            "Model weights saved in ./results/checkpoint-6500/pytorch_model.bin\n",
            "Saving model checkpoint to ./results/checkpoint-7000\n",
            "Configuration saved in ./results/checkpoint-7000/config.json\n",
            "Model weights saved in ./results/checkpoint-7000/pytorch_model.bin\n",
            "Saving model checkpoint to ./results/checkpoint-7500\n",
            "Configuration saved in ./results/checkpoint-7500/config.json\n",
            "Model weights saved in ./results/checkpoint-7500/pytorch_model.bin\n",
            "\n",
            "\n",
            "Training completed. Do not forget to share your model on huggingface.co/models =)\n",
            "\n",
            "\n"
          ]
        }
      ]
    },
    {
      "cell_type": "code",
      "source": [
        "#print evaluation metrics on validation dataset\n",
        "metrics=trainer.evaluate()\n",
        "#print(metrics)\n",
        "\n",
        "out_path = './results'\n",
        "trainer.save_model(out_path)\n",
        "tokenizer.save_pretrained(out_path)\n",
        "\n",
        "# Accuracy metrics on entire test dataset\n",
        "predictions=trainer.predict(test_dataset)\n"
      ],
      "metadata": {
        "colab": {
          "base_uri": "https://localhost:8080/",
          "height": 232
        },
        "id": "gRbi3Z83PEPL",
        "outputId": "46dda98b-78cd-434b-f2cc-50f87f0fd3db"
      },
      "execution_count": 122,
      "outputs": [
        {
          "output_type": "stream",
          "name": "stderr",
          "text": [
            "***** Running Evaluation *****\n",
            "  Num examples = 5000\n",
            "  Batch size = 4\n"
          ]
        },
        {
          "output_type": "display_data",
          "data": {
            "text/html": [
              "\n",
              "    <div>\n",
              "      \n",
              "      <progress value='7500' max='1250' style='width:300px; height:20px; vertical-align: middle;'></progress>\n",
              "      [1250/1250 05:16]\n",
              "    </div>\n",
              "    "
            ],
            "text/plain": [
              "<IPython.core.display.HTML object>"
            ]
          },
          "metadata": {}
        },
        {
          "output_type": "stream",
          "name": "stderr",
          "text": [
            "Saving model checkpoint to ./results\n",
            "Configuration saved in ./results/config.json\n",
            "Model weights saved in ./results/pytorch_model.bin\n",
            "tokenizer config file saved in ./results/tokenizer_config.json\n",
            "Special tokens file saved in ./results/special_tokens_map.json\n",
            "***** Running Prediction *****\n",
            "  Num examples = 25000\n",
            "  Batch size = 4\n"
          ]
        }
      ]
    },
    {
      "cell_type": "markdown",
      "source": [
        "**Predictions on Sample Test Dataset**"
      ],
      "metadata": {
        "id": "mGvgM4KBPJUE"
      }
    },
    {
      "cell_type": "code",
      "source": [
        "predictions_sample=trainer.predict(sample_testDataset)\n",
        "y_pred = list(predictions_sample.label_ids)\n",
        "ground_truth = sample_testData['labels'].values.tolist()"
      ],
      "metadata": {
        "colab": {
          "base_uri": "https://localhost:8080/",
          "height": 90
        },
        "id": "6VMBtTCHPIb4",
        "outputId": "a0435f40-6c4e-4e61-9828-b57289d66546"
      },
      "execution_count": 129,
      "outputs": [
        {
          "output_type": "stream",
          "name": "stderr",
          "text": [
            "***** Running Prediction *****\n",
            "  Num examples = 1000\n",
            "  Batch size = 4\n"
          ]
        },
        {
          "output_type": "display_data",
          "data": {
            "text/html": [
              "\n",
              "    <div>\n",
              "      \n",
              "      <progress value='8000' max='1250' style='width:300px; height:20px; vertical-align: middle;'></progress>\n",
              "      [1250/1250 06:03]\n",
              "    </div>\n",
              "    "
            ],
            "text/plain": [
              "<IPython.core.display.HTML object>"
            ]
          },
          "metadata": {}
        }
      ]
    },
    {
      "cell_type": "code",
      "source": [
        "sample_testData"
      ],
      "metadata": {
        "colab": {
          "base_uri": "https://localhost:8080/",
          "height": 423
        },
        "id": "bIHHHPE8iTrK",
        "outputId": "3cc8dde5-7abe-4b62-aa95-6e6ee1611268"
      },
      "execution_count": 130,
      "outputs": [
        {
          "output_type": "execute_result",
          "data": {
            "text/html": [
              "\n",
              "  <div id=\"df-3236e32a-3ee0-4c6e-92be-2b03bb936bce\">\n",
              "    <div class=\"colab-df-container\">\n",
              "      <div>\n",
              "<style scoped>\n",
              "    .dataframe tbody tr th:only-of-type {\n",
              "        vertical-align: middle;\n",
              "    }\n",
              "\n",
              "    .dataframe tbody tr th {\n",
              "        vertical-align: top;\n",
              "    }\n",
              "\n",
              "    .dataframe thead th {\n",
              "        text-align: right;\n",
              "    }\n",
              "</style>\n",
              "<table border=\"1\" class=\"dataframe\">\n",
              "  <thead>\n",
              "    <tr style=\"text-align: right;\">\n",
              "      <th></th>\n",
              "      <th>reviews</th>\n",
              "      <th>labels</th>\n",
              "    </tr>\n",
              "  </thead>\n",
              "  <tbody>\n",
              "    <tr>\n",
              "      <th>24562</th>\n",
              "      <td>I would think that this was one of those films...</td>\n",
              "      <td>0</td>\n",
              "    </tr>\n",
              "    <tr>\n",
              "      <th>12172</th>\n",
              "      <td>For sheer quality of performance and the \"thea...</td>\n",
              "      <td>1</td>\n",
              "    </tr>\n",
              "    <tr>\n",
              "      <th>9061</th>\n",
              "      <td>Why is it better? Because it's true to the dar...</td>\n",
              "      <td>1</td>\n",
              "    </tr>\n",
              "    <tr>\n",
              "      <th>20130</th>\n",
              "      <td>The beginning of the movie was confusing and t...</td>\n",
              "      <td>0</td>\n",
              "    </tr>\n",
              "    <tr>\n",
              "      <th>13530</th>\n",
              "      <td>Here is a rundown of a typical Rachael Ray Sho...</td>\n",
              "      <td>0</td>\n",
              "    </tr>\n",
              "    <tr>\n",
              "      <th>...</th>\n",
              "      <td>...</td>\n",
              "      <td>...</td>\n",
              "    </tr>\n",
              "    <tr>\n",
              "      <th>13982</th>\n",
              "      <td>&lt;br /&gt;&lt;br /&gt;After the wit and liveliness of Hi...</td>\n",
              "      <td>0</td>\n",
              "    </tr>\n",
              "    <tr>\n",
              "      <th>8866</th>\n",
              "      <td>The retelling of a classic story is set to the...</td>\n",
              "      <td>1</td>\n",
              "    </tr>\n",
              "    <tr>\n",
              "      <th>9054</th>\n",
              "      <td>If you find the first 30 minutes of this film ...</td>\n",
              "      <td>1</td>\n",
              "    </tr>\n",
              "    <tr>\n",
              "      <th>15469</th>\n",
              "      <td>There is only one reason this movie is watchab...</td>\n",
              "      <td>0</td>\n",
              "    </tr>\n",
              "    <tr>\n",
              "      <th>922</th>\n",
              "      <td>I have been looking for this mini-series for a...</td>\n",
              "      <td>1</td>\n",
              "    </tr>\n",
              "  </tbody>\n",
              "</table>\n",
              "<p>1000 rows × 2 columns</p>\n",
              "</div>\n",
              "      <button class=\"colab-df-convert\" onclick=\"convertToInteractive('df-3236e32a-3ee0-4c6e-92be-2b03bb936bce')\"\n",
              "              title=\"Convert this dataframe to an interactive table.\"\n",
              "              style=\"display:none;\">\n",
              "        \n",
              "  <svg xmlns=\"http://www.w3.org/2000/svg\" height=\"24px\"viewBox=\"0 0 24 24\"\n",
              "       width=\"24px\">\n",
              "    <path d=\"M0 0h24v24H0V0z\" fill=\"none\"/>\n",
              "    <path d=\"M18.56 5.44l.94 2.06.94-2.06 2.06-.94-2.06-.94-.94-2.06-.94 2.06-2.06.94zm-11 1L8.5 8.5l.94-2.06 2.06-.94-2.06-.94L8.5 2.5l-.94 2.06-2.06.94zm10 10l.94 2.06.94-2.06 2.06-.94-2.06-.94-.94-2.06-.94 2.06-2.06.94z\"/><path d=\"M17.41 7.96l-1.37-1.37c-.4-.4-.92-.59-1.43-.59-.52 0-1.04.2-1.43.59L10.3 9.45l-7.72 7.72c-.78.78-.78 2.05 0 2.83L4 21.41c.39.39.9.59 1.41.59.51 0 1.02-.2 1.41-.59l7.78-7.78 2.81-2.81c.8-.78.8-2.07 0-2.86zM5.41 20L4 18.59l7.72-7.72 1.47 1.35L5.41 20z\"/>\n",
              "  </svg>\n",
              "      </button>\n",
              "      \n",
              "  <style>\n",
              "    .colab-df-container {\n",
              "      display:flex;\n",
              "      flex-wrap:wrap;\n",
              "      gap: 12px;\n",
              "    }\n",
              "\n",
              "    .colab-df-convert {\n",
              "      background-color: #E8F0FE;\n",
              "      border: none;\n",
              "      border-radius: 50%;\n",
              "      cursor: pointer;\n",
              "      display: none;\n",
              "      fill: #1967D2;\n",
              "      height: 32px;\n",
              "      padding: 0 0 0 0;\n",
              "      width: 32px;\n",
              "    }\n",
              "\n",
              "    .colab-df-convert:hover {\n",
              "      background-color: #E2EBFA;\n",
              "      box-shadow: 0px 1px 2px rgba(60, 64, 67, 0.3), 0px 1px 3px 1px rgba(60, 64, 67, 0.15);\n",
              "      fill: #174EA6;\n",
              "    }\n",
              "\n",
              "    [theme=dark] .colab-df-convert {\n",
              "      background-color: #3B4455;\n",
              "      fill: #D2E3FC;\n",
              "    }\n",
              "\n",
              "    [theme=dark] .colab-df-convert:hover {\n",
              "      background-color: #434B5C;\n",
              "      box-shadow: 0px 1px 3px 1px rgba(0, 0, 0, 0.15);\n",
              "      filter: drop-shadow(0px 1px 2px rgba(0, 0, 0, 0.3));\n",
              "      fill: #FFFFFF;\n",
              "    }\n",
              "  </style>\n",
              "\n",
              "      <script>\n",
              "        const buttonEl =\n",
              "          document.querySelector('#df-3236e32a-3ee0-4c6e-92be-2b03bb936bce button.colab-df-convert');\n",
              "        buttonEl.style.display =\n",
              "          google.colab.kernel.accessAllowed ? 'block' : 'none';\n",
              "\n",
              "        async function convertToInteractive(key) {\n",
              "          const element = document.querySelector('#df-3236e32a-3ee0-4c6e-92be-2b03bb936bce');\n",
              "          const dataTable =\n",
              "            await google.colab.kernel.invokeFunction('convertToInteractive',\n",
              "                                                     [key], {});\n",
              "          if (!dataTable) return;\n",
              "\n",
              "          const docLinkHtml = 'Like what you see? Visit the ' +\n",
              "            '<a target=\"_blank\" href=https://colab.research.google.com/notebooks/data_table.ipynb>data table notebook</a>'\n",
              "            + ' to learn more about interactive tables.';\n",
              "          element.innerHTML = '';\n",
              "          dataTable['output_type'] = 'display_data';\n",
              "          await google.colab.output.renderOutput(dataTable, element);\n",
              "          const docLink = document.createElement('div');\n",
              "          docLink.innerHTML = docLinkHtml;\n",
              "          element.appendChild(docLink);\n",
              "        }\n",
              "      </script>\n",
              "    </div>\n",
              "  </div>\n",
              "  "
            ],
            "text/plain": [
              "                                                 reviews  labels\n",
              "24562  I would think that this was one of those films...       0\n",
              "12172  For sheer quality of performance and the \"thea...       1\n",
              "9061   Why is it better? Because it's true to the dar...       1\n",
              "20130  The beginning of the movie was confusing and t...       0\n",
              "13530  Here is a rundown of a typical Rachael Ray Sho...       0\n",
              "...                                                  ...     ...\n",
              "13982  <br /><br />After the wit and liveliness of Hi...       0\n",
              "8866   The retelling of a classic story is set to the...       1\n",
              "9054   If you find the first 30 minutes of this film ...       1\n",
              "15469  There is only one reason this movie is watchab...       0\n",
              "922    I have been looking for this mini-series for a...       1\n",
              "\n",
              "[1000 rows x 2 columns]"
            ]
          },
          "metadata": {},
          "execution_count": 130
        }
      ]
    },
    {
      "cell_type": "code",
      "source": [
        "predictions_tensor = torch.from_numpy(predictions_sample.predictions)"
      ],
      "metadata": {
        "id": "wMKQVugNPNPS"
      },
      "execution_count": 131,
      "outputs": []
    },
    {
      "cell_type": "code",
      "source": [
        "#predictions_tensor = torch.from_numpy(predictions_sample.predictions)\n",
        "predictions = torch.nn.functional.softmax(predictions_tensor, dim=-1)\n",
        "predictions = predictions.cpu().detach().numpy()\n",
        "resulting_probabilities = pd.DataFrame(predictions)\n",
        "class1_probabilities = list(predictions[:,1])\n",
        "class1_labels = [1 if item >= 0.5 else 0 for item in class1_probabilities]\n",
        "result_sample_test = pd.DataFrame(list(zip(class1_probabilities,class1_labels)), columns = ['Probabilities','Labels'])"
      ],
      "metadata": {
        "id": "U7h1J0QJPOyu"
      },
      "execution_count": 132,
      "outputs": []
    },
    {
      "cell_type": "code",
      "source": [
        "\n",
        "result_sample_test"
      ],
      "metadata": {
        "colab": {
          "base_uri": "https://localhost:8080/",
          "height": 423
        },
        "id": "NZ1EiiEUPRth",
        "outputId": "32fa9566-3f71-475d-b722-45a63800d196"
      },
      "execution_count": 133,
      "outputs": [
        {
          "output_type": "execute_result",
          "data": {
            "text/html": [
              "\n",
              "  <div id=\"df-5f232094-50f7-47fb-bfe2-8c9b7a94a9ce\">\n",
              "    <div class=\"colab-df-container\">\n",
              "      <div>\n",
              "<style scoped>\n",
              "    .dataframe tbody tr th:only-of-type {\n",
              "        vertical-align: middle;\n",
              "    }\n",
              "\n",
              "    .dataframe tbody tr th {\n",
              "        vertical-align: top;\n",
              "    }\n",
              "\n",
              "    .dataframe thead th {\n",
              "        text-align: right;\n",
              "    }\n",
              "</style>\n",
              "<table border=\"1\" class=\"dataframe\">\n",
              "  <thead>\n",
              "    <tr style=\"text-align: right;\">\n",
              "      <th></th>\n",
              "      <th>Probabilities</th>\n",
              "      <th>Labels</th>\n",
              "    </tr>\n",
              "  </thead>\n",
              "  <tbody>\n",
              "    <tr>\n",
              "      <th>0</th>\n",
              "      <td>0.001656</td>\n",
              "      <td>0</td>\n",
              "    </tr>\n",
              "    <tr>\n",
              "      <th>1</th>\n",
              "      <td>0.999644</td>\n",
              "      <td>1</td>\n",
              "    </tr>\n",
              "    <tr>\n",
              "      <th>2</th>\n",
              "      <td>0.999602</td>\n",
              "      <td>1</td>\n",
              "    </tr>\n",
              "    <tr>\n",
              "      <th>3</th>\n",
              "      <td>0.000420</td>\n",
              "      <td>0</td>\n",
              "    </tr>\n",
              "    <tr>\n",
              "      <th>4</th>\n",
              "      <td>0.000587</td>\n",
              "      <td>0</td>\n",
              "    </tr>\n",
              "    <tr>\n",
              "      <th>...</th>\n",
              "      <td>...</td>\n",
              "      <td>...</td>\n",
              "    </tr>\n",
              "    <tr>\n",
              "      <th>995</th>\n",
              "      <td>0.000319</td>\n",
              "      <td>0</td>\n",
              "    </tr>\n",
              "    <tr>\n",
              "      <th>996</th>\n",
              "      <td>0.999393</td>\n",
              "      <td>1</td>\n",
              "    </tr>\n",
              "    <tr>\n",
              "      <th>997</th>\n",
              "      <td>0.999252</td>\n",
              "      <td>1</td>\n",
              "    </tr>\n",
              "    <tr>\n",
              "      <th>998</th>\n",
              "      <td>0.001226</td>\n",
              "      <td>0</td>\n",
              "    </tr>\n",
              "    <tr>\n",
              "      <th>999</th>\n",
              "      <td>0.999607</td>\n",
              "      <td>1</td>\n",
              "    </tr>\n",
              "  </tbody>\n",
              "</table>\n",
              "<p>1000 rows × 2 columns</p>\n",
              "</div>\n",
              "      <button class=\"colab-df-convert\" onclick=\"convertToInteractive('df-5f232094-50f7-47fb-bfe2-8c9b7a94a9ce')\"\n",
              "              title=\"Convert this dataframe to an interactive table.\"\n",
              "              style=\"display:none;\">\n",
              "        \n",
              "  <svg xmlns=\"http://www.w3.org/2000/svg\" height=\"24px\"viewBox=\"0 0 24 24\"\n",
              "       width=\"24px\">\n",
              "    <path d=\"M0 0h24v24H0V0z\" fill=\"none\"/>\n",
              "    <path d=\"M18.56 5.44l.94 2.06.94-2.06 2.06-.94-2.06-.94-.94-2.06-.94 2.06-2.06.94zm-11 1L8.5 8.5l.94-2.06 2.06-.94-2.06-.94L8.5 2.5l-.94 2.06-2.06.94zm10 10l.94 2.06.94-2.06 2.06-.94-2.06-.94-.94-2.06-.94 2.06-2.06.94z\"/><path d=\"M17.41 7.96l-1.37-1.37c-.4-.4-.92-.59-1.43-.59-.52 0-1.04.2-1.43.59L10.3 9.45l-7.72 7.72c-.78.78-.78 2.05 0 2.83L4 21.41c.39.39.9.59 1.41.59.51 0 1.02-.2 1.41-.59l7.78-7.78 2.81-2.81c.8-.78.8-2.07 0-2.86zM5.41 20L4 18.59l7.72-7.72 1.47 1.35L5.41 20z\"/>\n",
              "  </svg>\n",
              "      </button>\n",
              "      \n",
              "  <style>\n",
              "    .colab-df-container {\n",
              "      display:flex;\n",
              "      flex-wrap:wrap;\n",
              "      gap: 12px;\n",
              "    }\n",
              "\n",
              "    .colab-df-convert {\n",
              "      background-color: #E8F0FE;\n",
              "      border: none;\n",
              "      border-radius: 50%;\n",
              "      cursor: pointer;\n",
              "      display: none;\n",
              "      fill: #1967D2;\n",
              "      height: 32px;\n",
              "      padding: 0 0 0 0;\n",
              "      width: 32px;\n",
              "    }\n",
              "\n",
              "    .colab-df-convert:hover {\n",
              "      background-color: #E2EBFA;\n",
              "      box-shadow: 0px 1px 2px rgba(60, 64, 67, 0.3), 0px 1px 3px 1px rgba(60, 64, 67, 0.15);\n",
              "      fill: #174EA6;\n",
              "    }\n",
              "\n",
              "    [theme=dark] .colab-df-convert {\n",
              "      background-color: #3B4455;\n",
              "      fill: #D2E3FC;\n",
              "    }\n",
              "\n",
              "    [theme=dark] .colab-df-convert:hover {\n",
              "      background-color: #434B5C;\n",
              "      box-shadow: 0px 1px 3px 1px rgba(0, 0, 0, 0.15);\n",
              "      filter: drop-shadow(0px 1px 2px rgba(0, 0, 0, 0.3));\n",
              "      fill: #FFFFFF;\n",
              "    }\n",
              "  </style>\n",
              "\n",
              "      <script>\n",
              "        const buttonEl =\n",
              "          document.querySelector('#df-5f232094-50f7-47fb-bfe2-8c9b7a94a9ce button.colab-df-convert');\n",
              "        buttonEl.style.display =\n",
              "          google.colab.kernel.accessAllowed ? 'block' : 'none';\n",
              "\n",
              "        async function convertToInteractive(key) {\n",
              "          const element = document.querySelector('#df-5f232094-50f7-47fb-bfe2-8c9b7a94a9ce');\n",
              "          const dataTable =\n",
              "            await google.colab.kernel.invokeFunction('convertToInteractive',\n",
              "                                                     [key], {});\n",
              "          if (!dataTable) return;\n",
              "\n",
              "          const docLinkHtml = 'Like what you see? Visit the ' +\n",
              "            '<a target=\"_blank\" href=https://colab.research.google.com/notebooks/data_table.ipynb>data table notebook</a>'\n",
              "            + ' to learn more about interactive tables.';\n",
              "          element.innerHTML = '';\n",
              "          dataTable['output_type'] = 'display_data';\n",
              "          await google.colab.output.renderOutput(dataTable, element);\n",
              "          const docLink = document.createElement('div');\n",
              "          docLink.innerHTML = docLinkHtml;\n",
              "          element.appendChild(docLink);\n",
              "        }\n",
              "      </script>\n",
              "    </div>\n",
              "  </div>\n",
              "  "
            ],
            "text/plain": [
              "     Probabilities  Labels\n",
              "0         0.001656       0\n",
              "1         0.999644       1\n",
              "2         0.999602       1\n",
              "3         0.000420       0\n",
              "4         0.000587       0\n",
              "..             ...     ...\n",
              "995       0.000319       0\n",
              "996       0.999393       1\n",
              "997       0.999252       1\n",
              "998       0.001226       0\n",
              "999       0.999607       1\n",
              "\n",
              "[1000 rows x 2 columns]"
            ]
          },
          "metadata": {},
          "execution_count": 133
        }
      ]
    },
    {
      "cell_type": "markdown",
      "metadata": {
        "id": "Vx-NL91yUWwQ"
      },
      "source": [
        "#### e. (2 points) Evaluate and report the **fine-tuned model’s** performance on these 1000 examples using the metric specified in 1.2 (c)."
      ]
    },
    {
      "cell_type": "code",
      "metadata": {
        "id": "LKCo4005ut0b"
      },
      "source": [
        "################## YOUR CODE HERE ##################\n",
        "# Run inference on the sampled examples\n",
        "# - https://huggingface.co/transformers/main_classes/pipelines.html\n",
        "\n",
        "# Compute the metrics on your examples\n",
        "# - https://huggingface.co/docs/datasets/using_metrics.html\n",
        "\n",
        "####################################################"
      ],
      "execution_count": null,
      "outputs": []
    },
    {
      "cell_type": "markdown",
      "metadata": {
        "id": "pu0seYLzvO2t"
      },
      "source": [
        "**Answer**:\n",
        "\n",
        "[YOUR ANSWER HERE]"
      ]
    },
    {
      "cell_type": "code",
      "source": [
        "ground_truth = list(sample_testData['labels'])\n",
        "get_model_performance(ground_truth, list(result_sample_test['Labels']))"
      ],
      "metadata": {
        "colab": {
          "base_uri": "https://localhost:8080/",
          "height": 0
        },
        "id": "bzFahHDbR-y1",
        "outputId": "4bf2930d-7a9b-4ad0-9a6b-c8c31ef6ebd7"
      },
      "execution_count": 134,
      "outputs": [
        {
          "output_type": "stream",
          "name": "stdout",
          "text": [
            "Model's performance on  1000  samples of Test Set :  \n",
            "Accuracy :  0.927\n",
            "Precision :  0.9366053169734151\n",
            "Recall :  0.916\n",
            "F1 :  0.9261880687563195\n"
          ]
        }
      ]
    },
    {
      "cell_type": "markdown",
      "metadata": {
        "id": "xqSco5E9UedJ"
      },
      "source": [
        "#### f. (2 points) Compare the performance of the model trained from scratch and the fine-tuned model."
      ]
    },
    {
      "cell_type": "markdown",
      "metadata": {
        "id": "1u4I8yPfvQQL"
      },
      "source": [
        "**Answer**:\n",
        "\n",
        "The custom-model's performance as compared to the tuned-model on 1000 sameples of imdb-test set is as follows:\n",
        "\n",
        "Custom-Model Performance Metrics :\n",
        "\n",
        "*   Accuracy :  0.885\n",
        "*   Precision :  0.8858800773694391\n",
        "*   Recall :  0.8910505836575876\n",
        "*   F1 :  0.8884578079534433\n",
        "\n",
        "\n",
        "\n",
        "Tuned Model Performance Metrics :\n",
        "\n",
        "\n",
        "*   Accuracy :  0.927\n",
        "*   Precision :  0.9366053169734151\n",
        "*   Recall :  0.916\n",
        "*   F1 :  0.9261880687563195\n",
        "\n",
        "\n",
        "\n",
        "\n",
        "\n",
        "\n",
        "\n",
        "\n",
        "Observation :\n",
        "\n",
        "As can be observed from the performance metrics, the fine-tuned model outperforms the custom model on all metrics (as specified in 1.2 C)"
      ]
    },
    {
      "cell_type": "markdown",
      "metadata": {
        "id": "pcaAxk0BUsZt"
      },
      "source": [
        "### 2.3 Error analysis of the fine-tuned model [10 points]\n",
        "\n",
        "Next, do error analysis on the examples that the fine-tuned model failed to predict correctly. This is a common debugging step where buckets of errors are identified to inform how the model might be improved."
      ]
    },
    {
      "cell_type": "markdown",
      "metadata": {
        "id": "9JCrBltvUxpF"
      },
      "source": [
        "#### a. (1 points) Pull out the examples that your fine-tuned model made errors on. Examine multiple examples to see if you can spot a pattern.\n"
      ]
    },
    {
      "cell_type": "code",
      "metadata": {
        "id": "ltEfFg_qv1HL"
      },
      "source": [
        "################## YOUR CODE HERE ##################\n",
        "\n",
        "####################################################"
      ],
      "execution_count": null,
      "outputs": []
    },
    {
      "cell_type": "markdown",
      "source": [
        "In the below cell, I pulled all the examples on which the fine-tuned model has made an error"
      ],
      "metadata": {
        "id": "mavsdTo5eaZq"
      }
    },
    {
      "cell_type": "code",
      "source": [
        "sample_testData_copy = sample_testData.copy(deep = False)\n",
        "sample_testData_copy = sample_testData_copy.reset_index()\n",
        "sample_testData_copy = sample_testData_copy.iloc[:,1:]\n",
        "data_predictions_ground_truth= pd.concat([result_sample_test, sample_testData_copy], axis =  1)\n",
        "data_predictions_ground_truth.columns = ['Probabilities','Predicted_Label','Review','Ground_Truth']\n",
        "\n",
        "mismatches = data_predictions_ground_truth[data_predictions_ground_truth['Predicted_Label']!= data_predictions_ground_truth['Ground_Truth']]"
      ],
      "metadata": {
        "id": "JdS1ZMIsbf7c"
      },
      "execution_count": 135,
      "outputs": []
    },
    {
      "cell_type": "code",
      "source": [
        "matches = data_predictions_ground_truth[data_predictions_ground_truth['Predicted_Label'] == data_predictions_ground_truth['Ground_Truth']]"
      ],
      "metadata": {
        "id": "Po4unrAbgPAy"
      },
      "execution_count": 136,
      "outputs": []
    },
    {
      "cell_type": "code",
      "source": [
        "mismatches['Probabilities'].hist()"
      ],
      "metadata": {
        "colab": {
          "base_uri": "https://localhost:8080/",
          "height": 283
        },
        "id": "UtqlCXQad_i3",
        "outputId": "9a88521f-176c-4cf0-99b1-3398484ab4a5"
      },
      "execution_count": 138,
      "outputs": [
        {
          "output_type": "execute_result",
          "data": {
            "text/plain": [
              "<matplotlib.axes._subplots.AxesSubplot at 0x7f7619c007d0>"
            ]
          },
          "metadata": {},
          "execution_count": 138
        },
        {
          "output_type": "display_data",
          "data": {
            "image/png": "[encoded data removed]",
            "text/plain": [
              "<Figure size 432x288 with 1 Axes>"
            ]
          },
          "metadata": {
            "needs_background": "light"
          }
        }
      ]
    },
    {
      "cell_type": "markdown",
      "source": [
        "Observation:\n",
        "\n",
        "The probability distribution for such eamples is at the extremes for most of the examples"
      ],
      "metadata": {
        "id": "FHxMaN3FekGk"
      }
    },
    {
      "cell_type": "markdown",
      "metadata": {
        "id": "B4zT0lt0U4g6"
      },
      "source": [
        "\n",
        "#### b. (3 points) Identify at least 1 pattern that you believe your model is missing. Include at least 3 examples from the data that support your hypothesis.\n"
      ]
    },
    {
      "cell_type": "markdown",
      "metadata": {
        "id": "RxO_nQmFv86A"
      },
      "source": [
        "**Answer**:\n",
        "\n",
        "In my opinion the model is unable to correctly classify sentenes where the reviewer expresses his own opinion on the subject discussed in the film rather than the film itself. To add to it, if the reviewer speaks both in favor and against the the movie in question, the model falsely classifies that review in the wrong category without taking into account the context in which the user expresses their opinion.\n",
        "\n",
        "The below examples demonstrate this finding :"
      ]
    },
    {
      "cell_type": "markdown",
      "metadata": {
        "id": "MFHthaqvU8fT"
      },
      "source": [
        "#### c. (2 points) Explain why these examples might have been difficult for the fine-tuned model to correctly make predictions on."
      ]
    },
    {
      "cell_type": "code",
      "source": [
        "mismatches['Review'].values.tolist()[0]"
      ],
      "metadata": {
        "colab": {
          "base_uri": "https://localhost:8080/",
          "height": 141
        },
        "id": "8kOFZpupbmJP",
        "outputId": "a8bc6314-983d-4754-a17b-27027bb6f121"
      },
      "execution_count": 143,
      "outputs": [
        {
          "output_type": "execute_result",
          "data": {
            "application/vnd.google.colaboratory.intrinsic+json": {
              "type": "string"
            },
            "text/plain": [
              "'This film marked the end of the \"serious\" Universal Monsters era (Abbott and Costello meet up with the monsters later in \"Abbott and Costello Meet Frankentstein\"). It was a somewhat desparate, yet fun attempt to revive the classic monsters of the Wolf Man, Frankenstein\\'s monster, and Dracula one \"last\" time.<br /><br />I say desparate, because in the previous film, \"House of Frankenstein,\" both Dracula and the Wolf Man are killed according to how the vampire and werewolf legends say they should be (Dracula by the sunlight, and the wolf man by a silver bullet). Yet somehow they return in House of Dracula with no explanation. This movie could have played as a kind of prequel to House of Frankenstein if the Frankenstein monster plot wouldn\\'t be continuing chronologically into House of Dracula from House of Frankenstein, and if the wolf man didn\\'t get cured. Then there\\'d be no plot holes. But since this is not the case, the plots of Dracula and the Wolf Man make no sense.<br /><br />However, ignoring these plot holes, House of Dracula is a classic atmospheric horror film that\\'s fun to watch. It has many high points. Especially seeing the wolf man get cured. I know I just said that this shouldn\\'t have been included, but it was nice to actually see him get cured after all this time. And the scene with the lady playing \"Moonlight Senada,\" on the piano then all of a sudden playing a haunting melody when under Dracula\\'s spell was very eerie. Dr. Edleman\\'s transformation into the \"Dr. Jekyl/Mr. Hyde\" type character was also done very well.<br /><br />And it\\'s great to see Dracula, Frankenstein, and the Wolf Man together, one \"last\" time.<br /><br />*** out of ****'"
            ]
          },
          "metadata": {},
          "execution_count": 143
        }
      ]
    },
    {
      "cell_type": "code",
      "source": [
        "mismatches['Review'].values.tolist()[1]"
      ],
      "metadata": {
        "colab": {
          "base_uri": "https://localhost:8080/",
          "height": 141
        },
        "id": "pWvXBoCJb3MC",
        "outputId": "1ac9b0da-0915-4dcd-a08e-8b3025f6230b"
      },
      "execution_count": 145,
      "outputs": [
        {
          "output_type": "execute_result",
          "data": {
            "application/vnd.google.colaboratory.intrinsic+json": {
              "type": "string"
            },
            "text/plain": [
              "'No, \"Lifeforce\" is not a great movie.<br /><br />It\\'s not a good movie.<br /><br />It is, however, an average movie with some good effects and a compelling storyline (and, of course, Mathilda May). It may actually be one of my favorite SF/horror flicks for the very simple reason that they try to reason their way through the science of the space vampires. How often do you see that? Not even in \"Alien\" (the SF/horror flick of all time) does science come into the story at all. In \"Lifeforce\" they are trying to make reason of an unreasonable world.<br /><br />Now, do I think it\\'s successful? No. I think the movie has the issue of a massive ensemble cast that Hooper is straining to keep collected and on track and that the viewers have to focus on more than one \\'villian\\' and there are one too many road trips.<br /><br />To be honest, the movie is eye candy and fun to watch. but there is great potential here for a superior remake to take a hold of what Hooper was trying to do and really create a strong, scary, SF/horror movie.<br /><br />If the remake does happen, however, I demand that Mathilda May have a cameo.'"
            ]
          },
          "metadata": {},
          "execution_count": 145
        }
      ]
    },
    {
      "cell_type": "code",
      "source": [
        "mismatches['Review'].values.tolist()[3]"
      ],
      "metadata": {
        "colab": {
          "base_uri": "https://localhost:8080/",
          "height": 141
        },
        "id": "sRayJ1X0dOwW",
        "outputId": "7a7aee74-e158-4429-8a19-2c5ba4c20b96"
      },
      "execution_count": 147,
      "outputs": [
        {
          "output_type": "execute_result",
          "data": {
            "application/vnd.google.colaboratory.intrinsic+json": {
              "type": "string"
            },
            "text/plain": [
              "'All right, I\\'ll grant you that some of the science in \"Doppelganger\" (or \"Journey To The Far Side Of The Sun\") is kind of dopey.The idea of an entire planet existing undetected (because we can\\'t see it on the other side of our sun) doesn\\'t hold up at all - any Astronomy 101 student knows that another planet the size of Earth would cause gravitational perturbances in the motions of other planets. That\\'s how astronomers deduced the existence of Pluto, after all, and that\\'s how they find comets and asteroids and moons on a regular basis.<br /><br />And the idea that a mirror image Earth somehow evolved in almost perfect parallel to our Earth, down to English speaking scientists and human counterparts for each human born on our Earth...that takes things out of \\'hard science\\' fiction and into \"Twilight Zone\" territory. That\\'s not necessarily a bad thing, but it requires a major suspension of critical thinking to accept and enjoy. <br /><br />But man, this movie knocked my socks off as an adolescent. I was still used to fairly cheerful, upbeat science fiction films when the hero won through in the end - even \"2001\" could be interpreted as having an \\'upbeat\\' ending. <br /><br />But in this case: Thinnes attempted to dock with his orbiting mothership so he could return to his own Earth, only to be bounced back out of his docking berth (Something about \\'the polarities not being reversed because his \\'doppelganger\\' wasn\\'t doing the same thing. Apparently Thinnes\\' \\'doppelganger\\' had decided he was happy in his new home.) Thinnes\\' ship started the descent back to the CounterEarth launch site, and I was certain that he would somehow get the damaged craft to land safely and try again, armed with the new info that would let him and his backers succeed. He was The Hero after all, and the Hero always wins through in the end. <br /><br />Instead, Thinnes couldn\\'t maintain control of the crippled craft, and the ship\\'s subsequent crash into the launch site was so horrible and devastating that it killed everyone (except for the chief project leader) and destroyed all records of the project and Thinnes\\' existence. Thinnes never got to go home, and he perished uselessly, his secrets never revealed. <br /><br />Except for the Planet Of the Apes series, I had never seen such a sad and downbeat ending, and it always stuck in my mind - especially the ferocious devastation of the crash scene near the beginning of the move (you knew that spaceship was NEVER going to fly again!) and the one at the very end. <br /><br />I\\'d love to see this movie again, and see how well it held up over the years.'"
            ]
          },
          "metadata": {},
          "execution_count": 147
        }
      ]
    },
    {
      "cell_type": "markdown",
      "metadata": {
        "id": "s_Xsu687v-oy"
      },
      "source": [
        "**Answer**:\n",
        "\n",
        ">>>EXPRESS YOUR OWN OPINION ON THESE EXAMPLES<<<"
      ]
    },
    {
      "cell_type": "markdown",
      "metadata": {
        "id": "vzLQvzyiU_xN"
      },
      "source": [
        "#### d. (2 points) Manually create 3 examples that conform to the pattern you observed, and run inference on them using the model. What did you find?"
      ]
    },
    {
      "cell_type": "code",
      "metadata": {
        "id": "pFldA0lzwB0E"
      },
      "source": [
        "################## YOUR CODE HERE ##################\n",
        "# Inference on your own examples\n",
        "####################################################"
      ],
      "execution_count": null,
      "outputs": []
    },
    {
      "cell_type": "code",
      "source": [
        "custom_review1 = \"The spider man movie is a work of fiction which is both good and bad. Overall the acting by tom holland is okay however nothing compared to what the actors of 60s. Those guys were the masters of their skill and showed real class. It's hard to find such talent today but I guess spider man is watchable \" \n",
        "label_1 = 1\n",
        "\n",
        "custom_review2 = \"There is a special place reserved for people who think they make the world work. The policies established by these great coutries are funny. Even my dog, alfie makes good policies than the greatest leaders I know. But I believe these are my opinion only :)\"\n",
        "labels_2 = 0\n",
        "\n",
        "custom_review3 = \"Alright, so I'll admit this movies got a lot of bad reviews and it more or less flopped at the box offices when it first came out but that doesn't mean it's total garbage. In fact I'd go one further and say that Pluto Nash is the perfect movie to watch after eating on some golden teachers, you'll begin to explore at length the intricacies of the plot as the special effects take you to the next level and beyond. I'm proud to say that I not only own a copy of this movie but that I was probably one of the few people to repeated purchase this movie when it was available on Direct TV, way, way back in the day. For this reason Pluto Nash packs a good amount of nostalgia which is something I throughly enjoy and actively look for. Eddie Murphys films have usually stood the test of time and with his recent reemergence back into the Hollywood spotlight you can be sure that there will be people going back to watch his Coming to America Life  or even Vampire in Brooklyn movies with enjoyment, so why not make Pluto Nash one of those must see films on your list.\"\n",
        "labels_3 = 0\n",
        "\n",
        "reviews = [custom_review1, custom_review2, custom_review3]\n",
        "labels = [label_1, labels_2, labels_3]\n",
        "\n",
        "custom_examples = pd.DataFrame(list(zip(reviews, labels)), columns = ['reviews','ground_truth'])"
      ],
      "metadata": {
        "id": "Va9o27nsuKxv"
      },
      "execution_count": 173,
      "outputs": []
    },
    {
      "cell_type": "code",
      "source": [
        "def make_predictions_custom_data(data):\n",
        "  sample_testData_encodings = tokenizer(data['reviews'].to_list(), truncation=True, padding = \"max_length\")\n",
        "  sample_testDataset = my_Dataset(sample_testData_encodings, data['ground_truth'].to_list())\n",
        "  predictions_sample=trainer.predict(sample_testDataset)\n",
        "  y_pred = list(predictions_sample.label_ids)\n",
        "  predictions_tensor = torch.from_numpy(predictions_sample.predictions)\n",
        "  #predictions_tensor = torch.from_numpy(predictions_sample.predictions)\n",
        "  predictions = torch.nn.functional.softmax(predictions_tensor, dim=-1)\n",
        "  predictions = predictions.cpu().detach().numpy()\n",
        "  resulting_probabilities = pd.DataFrame(predictions)\n",
        "  class1_probabilities = list(predictions[:,1])\n",
        "  class1_labels = [1 if item > 0.5 else 0 for item in class1_probabilities]\n",
        "  result_sample_test = pd.DataFrame(list(zip(class1_probabilities,class1_labels)), columns = ['Probabilities','Labels'])\n",
        "  return result_sample_test"
      ],
      "metadata": {
        "id": "-_rfdo5Uvnwn"
      },
      "execution_count": 174,
      "outputs": []
    },
    {
      "cell_type": "code",
      "source": [
        "result_custom_examples = make_predictions_custom_data(custom_examples)"
      ],
      "metadata": {
        "colab": {
          "base_uri": "https://localhost:8080/",
          "height": 90
        },
        "id": "JX3YrAbDvrKW",
        "outputId": "59690d55-5bae-4f96-f6d5-e164c2981c57"
      },
      "execution_count": 175,
      "outputs": [
        {
          "output_type": "stream",
          "name": "stderr",
          "text": [
            "***** Running Prediction *****\n",
            "  Num examples = 3\n",
            "  Batch size = 4\n"
          ]
        },
        {
          "output_type": "display_data",
          "data": {
            "text/html": [
              "\n",
              "    <div>\n",
              "      \n",
              "      <progress value='8005' max='1250' style='width:300px; height:20px; vertical-align: middle;'></progress>\n",
              "      [1250/1250 27:16]\n",
              "    </div>\n",
              "    "
            ],
            "text/plain": [
              "<IPython.core.display.HTML object>"
            ]
          },
          "metadata": {}
        }
      ]
    },
    {
      "cell_type": "code",
      "source": [
        "result_custom_sample = pd.concat([result_custom_examples, custom_examples], axis = 1)\n",
        "result_custom_sample"
      ],
      "metadata": {
        "colab": {
          "base_uri": "https://localhost:8080/",
          "height": 143
        },
        "id": "tuY-dKDAvyo4",
        "outputId": "1fb76c12-1bcd-4e1d-929d-8cff53ca2431"
      },
      "execution_count": 176,
      "outputs": [
        {
          "output_type": "execute_result",
          "data": {
            "text/html": [
              "\n",
              "  <div id=\"df-002c7f74-0d38-4d81-af0f-8362674514ea\">\n",
              "    <div class=\"colab-df-container\">\n",
              "      <div>\n",
              "<style scoped>\n",
              "    .dataframe tbody tr th:only-of-type {\n",
              "        vertical-align: middle;\n",
              "    }\n",
              "\n",
              "    .dataframe tbody tr th {\n",
              "        vertical-align: top;\n",
              "    }\n",
              "\n",
              "    .dataframe thead th {\n",
              "        text-align: right;\n",
              "    }\n",
              "</style>\n",
              "<table border=\"1\" class=\"dataframe\">\n",
              "  <thead>\n",
              "    <tr style=\"text-align: right;\">\n",
              "      <th></th>\n",
              "      <th>Probabilities</th>\n",
              "      <th>Labels</th>\n",
              "      <th>reviews</th>\n",
              "      <th>ground_truth</th>\n",
              "    </tr>\n",
              "  </thead>\n",
              "  <tbody>\n",
              "    <tr>\n",
              "      <th>0</th>\n",
              "      <td>0.002789</td>\n",
              "      <td>0</td>\n",
              "      <td>The spider man movie is a work of fiction whic...</td>\n",
              "      <td>1</td>\n",
              "    </tr>\n",
              "    <tr>\n",
              "      <th>1</th>\n",
              "      <td>0.999353</td>\n",
              "      <td>1</td>\n",
              "      <td>There is a special place reserved for people w...</td>\n",
              "      <td>0</td>\n",
              "    </tr>\n",
              "    <tr>\n",
              "      <th>2</th>\n",
              "      <td>0.998855</td>\n",
              "      <td>1</td>\n",
              "      <td>Alright, so I'll admit this movies got a lot o...</td>\n",
              "      <td>0</td>\n",
              "    </tr>\n",
              "  </tbody>\n",
              "</table>\n",
              "</div>\n",
              "      <button class=\"colab-df-convert\" onclick=\"convertToInteractive('df-002c7f74-0d38-4d81-af0f-8362674514ea')\"\n",
              "              title=\"Convert this dataframe to an interactive table.\"\n",
              "              style=\"display:none;\">\n",
              "        \n",
              "  <svg xmlns=\"http://www.w3.org/2000/svg\" height=\"24px\"viewBox=\"0 0 24 24\"\n",
              "       width=\"24px\">\n",
              "    <path d=\"M0 0h24v24H0V0z\" fill=\"none\"/>\n",
              "    <path d=\"M18.56 5.44l.94 2.06.94-2.06 2.06-.94-2.06-.94-.94-2.06-.94 2.06-2.06.94zm-11 1L8.5 8.5l.94-2.06 2.06-.94-2.06-.94L8.5 2.5l-.94 2.06-2.06.94zm10 10l.94 2.06.94-2.06 2.06-.94-2.06-.94-.94-2.06-.94 2.06-2.06.94z\"/><path d=\"M17.41 7.96l-1.37-1.37c-.4-.4-.92-.59-1.43-.59-.52 0-1.04.2-1.43.59L10.3 9.45l-7.72 7.72c-.78.78-.78 2.05 0 2.83L4 21.41c.39.39.9.59 1.41.59.51 0 1.02-.2 1.41-.59l7.78-7.78 2.81-2.81c.8-.78.8-2.07 0-2.86zM5.41 20L4 18.59l7.72-7.72 1.47 1.35L5.41 20z\"/>\n",
              "  </svg>\n",
              "      </button>\n",
              "      \n",
              "  <style>\n",
              "    .colab-df-container {\n",
              "      display:flex;\n",
              "      flex-wrap:wrap;\n",
              "      gap: 12px;\n",
              "    }\n",
              "\n",
              "    .colab-df-convert {\n",
              "      background-color: #E8F0FE;\n",
              "      border: none;\n",
              "      border-radius: 50%;\n",
              "      cursor: pointer;\n",
              "      display: none;\n",
              "      fill: #1967D2;\n",
              "      height: 32px;\n",
              "      padding: 0 0 0 0;\n",
              "      width: 32px;\n",
              "    }\n",
              "\n",
              "    .colab-df-convert:hover {\n",
              "      background-color: #E2EBFA;\n",
              "      box-shadow: 0px 1px 2px rgba(60, 64, 67, 0.3), 0px 1px 3px 1px rgba(60, 64, 67, 0.15);\n",
              "      fill: #174EA6;\n",
              "    }\n",
              "\n",
              "    [theme=dark] .colab-df-convert {\n",
              "      background-color: #3B4455;\n",
              "      fill: #D2E3FC;\n",
              "    }\n",
              "\n",
              "    [theme=dark] .colab-df-convert:hover {\n",
              "      background-color: #434B5C;\n",
              "      box-shadow: 0px 1px 3px 1px rgba(0, 0, 0, 0.15);\n",
              "      filter: drop-shadow(0px 1px 2px rgba(0, 0, 0, 0.3));\n",
              "      fill: #FFFFFF;\n",
              "    }\n",
              "  </style>\n",
              "\n",
              "      <script>\n",
              "        const buttonEl =\n",
              "          document.querySelector('#df-002c7f74-0d38-4d81-af0f-8362674514ea button.colab-df-convert');\n",
              "        buttonEl.style.display =\n",
              "          google.colab.kernel.accessAllowed ? 'block' : 'none';\n",
              "\n",
              "        async function convertToInteractive(key) {\n",
              "          const element = document.querySelector('#df-002c7f74-0d38-4d81-af0f-8362674514ea');\n",
              "          const dataTable =\n",
              "            await google.colab.kernel.invokeFunction('convertToInteractive',\n",
              "                                                     [key], {});\n",
              "          if (!dataTable) return;\n",
              "\n",
              "          const docLinkHtml = 'Like what you see? Visit the ' +\n",
              "            '<a target=\"_blank\" href=https://colab.research.google.com/notebooks/data_table.ipynb>data table notebook</a>'\n",
              "            + ' to learn more about interactive tables.';\n",
              "          element.innerHTML = '';\n",
              "          dataTable['output_type'] = 'display_data';\n",
              "          await google.colab.output.renderOutput(dataTable, element);\n",
              "          const docLink = document.createElement('div');\n",
              "          docLink.innerHTML = docLinkHtml;\n",
              "          element.appendChild(docLink);\n",
              "        }\n",
              "      </script>\n",
              "    </div>\n",
              "  </div>\n",
              "  "
            ],
            "text/plain": [
              "   Probabilities  ...  ground_truth\n",
              "0       0.002789  ...             1\n",
              "1       0.999353  ...             0\n",
              "2       0.998855  ...             0\n",
              "\n",
              "[3 rows x 4 columns]"
            ]
          },
          "metadata": {},
          "execution_count": 176
        }
      ]
    },
    {
      "cell_type": "markdown",
      "metadata": {
        "id": "Ao21-dAFwANW"
      },
      "source": [
        "**Answer**:\n",
        "\n",
        "In these examples I found that expressing opinions by comparing the work done by one actor with actors of another era and making a positive comment about the movie as a whole, along with making comments with a tone of sarcasm and the sense of using words like 'funny' and avoiding negative connotations words by using 'opposite of logical' (which would ideally translate to illogical) are not understood by the model , i.e. the context of the words, and thus the sentences are missclassified."
      ]
    },
    {
      "cell_type": "markdown",
      "metadata": {
        "id": "XxaviDJkVF7F"
      },
      "source": [
        "#### e. (2 points) Suggest what steps we might take to address this error bucket.\n"
      ]
    },
    {
      "cell_type": "markdown",
      "metadata": {
        "id": "M0_n5JC1wEu2"
      },
      "source": [
        "**Answer**:\n",
        "\n",
        "In my opinion, to truly classify the labels correctly, the model needs to also understand the context in which words are being written. While Sarcasm can be subtle, yet the relative placement of words can also be used by the model as a feature to understand the true intent behind a review/comment. An ideal way to approach this would be to gather a stack of target words that display sentiment shifts (sarcastic words) based on context; And with an objective word given an expression, to then identify whether the objective word is used in an exact or sarcastic sense. This information can be collected by the use of an information retrieval system.\n",
        "\n",
        "\n",
        "References :\n",
        "\n",
        "https://www.sciencedirect.com/science/article/pii/S2214785320368164"
      ]
    },
    {
      "cell_type": "markdown",
      "metadata": {
        "id": "8JulVmjPVK7g"
      },
      "source": [
        "### 2.4 Pertubation Analysis [10 points]\n",
        "\n",
        "Inputs, especially inputs by users, might contain a lot of noise (e.g. misspelling, repeated chaaaaaaaaracter, missing punctuation, etc.). You want to see how well your models perform on input with noises."
      ]
    },
    {
      "cell_type": "markdown",
      "metadata": {
        "id": "WrS6IzqqV2E8"
      },
      "source": [
        "#### a. (2 points) Write a function to randomly add noise to an input while preserving its label. Here are some ideas to consider (you can combine them too, e.g. 10% of the time do this, 20% of the time do this):\n",
        "\n",
        "- Randomly remove a character\n",
        "- Randomly repeat a character or a phrase\n",
        "- Replace a word with a similar word \n"
      ]
    },
    {
      "cell_type": "code",
      "metadata": {
        "id": "N7pfxmyCwLKI"
      },
      "source": [
        "################## YOUR CODE HERE ##################\n",
        "# def add_random_noice(sentence):\n",
        "# \n",
        "####################################################"
      ],
      "execution_count": null,
      "outputs": []
    },
    {
      "cell_type": "code",
      "source": [
        "import string\n",
        "import re\n",
        "from os import listdir\n",
        "import nltk\n",
        "nltk.download('stopwords')\n",
        "from nltk.corpus import stopwords\n",
        "from pickle import dump"
      ],
      "metadata": {
        "colab": {
          "base_uri": "https://localhost:8080/",
          "height": 0
        },
        "id": "O3bFOBS9xVr1",
        "outputId": "4393844c-2d02-4a92-9fe0-28fc787023dd"
      },
      "execution_count": 177,
      "outputs": [
        {
          "output_type": "stream",
          "name": "stdout",
          "text": [
            "[nltk_data] Downloading package stopwords to /root/nltk_data...\n",
            "[nltk_data]   Unzipping corpora/stopwords.zip.\n"
          ]
        }
      ]
    },
    {
      "cell_type": "code",
      "source": [
        "\n",
        "def add_random_noice(sentence):\n",
        "\n",
        "  # repeat characters\n",
        "  for i in range(10):\n",
        "    sentence = sentence.split()\n",
        "    string_variable = random.choice(sentence)\n",
        "    new_string = string_variable + string_variable[-1] * len(string_variable)\n",
        "    sentence = ' '.join(sentence)\n",
        "    sentence = sentence.replace(string_variable, new_string)\n",
        "\n",
        "  # remoeve punctuations from the sentence\n",
        "  sentence = sentence.split()\n",
        "  re_punc = re.compile('[%s]' % re.escape(string.punctuation))\n",
        "  # remove punctuation from each word\n",
        "  tokens = [re_punc.sub('', w) for w in sentence]\n",
        "  # remove remaining tokens that are not alphabetic\n",
        "  sentence = ' '.join(tokens)\n",
        "\n",
        "\n",
        "\n",
        "  return sentence"
      ],
      "metadata": {
        "id": "3HyBtTHIxjbD"
      },
      "execution_count": 213,
      "outputs": []
    },
    {
      "cell_type": "markdown",
      "metadata": {
        "id": "GHGaFeHtZpjL"
      },
      "source": [
        "#### b. (1 point) Apply this function to 500 samples in your test split.\n"
      ]
    },
    {
      "cell_type": "code",
      "metadata": {
        "id": "8eLL4WbNwUVD"
      },
      "source": [
        "################## YOUR CODE HERE ##################\n",
        "\n",
        "####################################################\n",
        "\n",
        "# load the test.pkl file \n"
      ],
      "execution_count": null,
      "outputs": []
    },
    {
      "cell_type": "code",
      "source": [
        "sample_percentage = 500 / test.shape[0]\n",
        "sample_testData = test.sample(frac= sample_percentage, replace=True, random_state=412)\n",
        "sample_testData['reviews'] = sample_testData['reviews'].apply(lambda x : add_random_noice(x)) "
      ],
      "metadata": {
        "id": "3h4o1tZNxmUU"
      },
      "execution_count": 228,
      "outputs": []
    },
    {
      "cell_type": "code",
      "source": [
        "sample_testData"
      ],
      "metadata": {
        "colab": {
          "base_uri": "https://localhost:8080/",
          "height": 423
        },
        "id": "qcdNHZn5yFja",
        "outputId": "b9a4c817-320c-432c-89cc-bb6fa9fbf9c1"
      },
      "execution_count": 229,
      "outputs": [
        {
          "output_type": "execute_result",
          "data": {
            "text/html": [
              "\n",
              "  <div id=\"df-c5e776cb-7419-45ab-938d-3ad1317d9331\">\n",
              "    <div class=\"colab-df-container\">\n",
              "      <div>\n",
              "<style scoped>\n",
              "    .dataframe tbody tr th:only-of-type {\n",
              "        vertical-align: middle;\n",
              "    }\n",
              "\n",
              "    .dataframe tbody tr th {\n",
              "        vertical-align: top;\n",
              "    }\n",
              "\n",
              "    .dataframe thead th {\n",
              "        text-align: right;\n",
              "    }\n",
              "</style>\n",
              "<table border=\"1\" class=\"dataframe\">\n",
              "  <thead>\n",
              "    <tr style=\"text-align: right;\">\n",
              "      <th></th>\n",
              "      <th>reviews</th>\n",
              "      <th>labels</th>\n",
              "    </tr>\n",
              "  </thead>\n",
              "  <tbody>\n",
              "    <tr>\n",
              "      <th>24562</th>\n",
              "      <td>I would think that this was one of those films...</td>\n",
              "      <td>0</td>\n",
              "    </tr>\n",
              "    <tr>\n",
              "      <th>12172</th>\n",
              "      <td>For sheer qualityyyyyyyy offf performance and ...</td>\n",
              "      <td>1</td>\n",
              "    </tr>\n",
              "    <tr>\n",
              "      <th>9061</th>\n",
              "      <td>Why isssssss it better Because its true to the...</td>\n",
              "      <td>1</td>\n",
              "    </tr>\n",
              "    <tr>\n",
              "      <th>20130</th>\n",
              "      <td>The beginning of theeee movie wasss confusing ...</td>\n",
              "      <td>0</td>\n",
              "    </tr>\n",
              "    <tr>\n",
              "      <th>13530</th>\n",
              "      <td>Here is a rundownnnn offf a typical Rachael Ra...</td>\n",
              "      <td>0</td>\n",
              "    </tr>\n",
              "    <tr>\n",
              "      <th>...</th>\n",
              "      <td>...</td>\n",
              "      <td>...</td>\n",
              "    </tr>\n",
              "    <tr>\n",
              "      <th>2568</th>\n",
              "      <td>A greaat movie aabout triumph over aall the na...</td>\n",
              "      <td>1</td>\n",
              "    </tr>\n",
              "    <tr>\n",
              "      <th>21980</th>\n",
              "      <td>I felt as though the two hours I spent watchin...</td>\n",
              "      <td>0</td>\n",
              "    </tr>\n",
              "    <tr>\n",
              "      <th>19545</th>\n",
              "      <td>Unlike one of theeee reviewers below I dont th...</td>\n",
              "      <td>0</td>\n",
              "    </tr>\n",
              "    <tr>\n",
              "      <th>12431</th>\n",
              "      <td>Greaaaaaaaat music greaaaaaaaattttttt daaaaaaa...</td>\n",
              "      <td>1</td>\n",
              "    </tr>\n",
              "    <tr>\n",
              "      <th>12672</th>\n",
              "      <td>Thisssss movieeeeee is one of the worse moviee...</td>\n",
              "      <td>0</td>\n",
              "    </tr>\n",
              "  </tbody>\n",
              "</table>\n",
              "<p>500 rows × 2 columns</p>\n",
              "</div>\n",
              "      <button class=\"colab-df-convert\" onclick=\"convertToInteractive('df-c5e776cb-7419-45ab-938d-3ad1317d9331')\"\n",
              "              title=\"Convert this dataframe to an interactive table.\"\n",
              "              style=\"display:none;\">\n",
              "        \n",
              "  <svg xmlns=\"http://www.w3.org/2000/svg\" height=\"24px\"viewBox=\"0 0 24 24\"\n",
              "       width=\"24px\">\n",
              "    <path d=\"M0 0h24v24H0V0z\" fill=\"none\"/>\n",
              "    <path d=\"M18.56 5.44l.94 2.06.94-2.06 2.06-.94-2.06-.94-.94-2.06-.94 2.06-2.06.94zm-11 1L8.5 8.5l.94-2.06 2.06-.94-2.06-.94L8.5 2.5l-.94 2.06-2.06.94zm10 10l.94 2.06.94-2.06 2.06-.94-2.06-.94-.94-2.06-.94 2.06-2.06.94z\"/><path d=\"M17.41 7.96l-1.37-1.37c-.4-.4-.92-.59-1.43-.59-.52 0-1.04.2-1.43.59L10.3 9.45l-7.72 7.72c-.78.78-.78 2.05 0 2.83L4 21.41c.39.39.9.59 1.41.59.51 0 1.02-.2 1.41-.59l7.78-7.78 2.81-2.81c.8-.78.8-2.07 0-2.86zM5.41 20L4 18.59l7.72-7.72 1.47 1.35L5.41 20z\"/>\n",
              "  </svg>\n",
              "      </button>\n",
              "      \n",
              "  <style>\n",
              "    .colab-df-container {\n",
              "      display:flex;\n",
              "      flex-wrap:wrap;\n",
              "      gap: 12px;\n",
              "    }\n",
              "\n",
              "    .colab-df-convert {\n",
              "      background-color: #E8F0FE;\n",
              "      border: none;\n",
              "      border-radius: 50%;\n",
              "      cursor: pointer;\n",
              "      display: none;\n",
              "      fill: #1967D2;\n",
              "      height: 32px;\n",
              "      padding: 0 0 0 0;\n",
              "      width: 32px;\n",
              "    }\n",
              "\n",
              "    .colab-df-convert:hover {\n",
              "      background-color: #E2EBFA;\n",
              "      box-shadow: 0px 1px 2px rgba(60, 64, 67, 0.3), 0px 1px 3px 1px rgba(60, 64, 67, 0.15);\n",
              "      fill: #174EA6;\n",
              "    }\n",
              "\n",
              "    [theme=dark] .colab-df-convert {\n",
              "      background-color: #3B4455;\n",
              "      fill: #D2E3FC;\n",
              "    }\n",
              "\n",
              "    [theme=dark] .colab-df-convert:hover {\n",
              "      background-color: #434B5C;\n",
              "      box-shadow: 0px 1px 3px 1px rgba(0, 0, 0, 0.15);\n",
              "      filter: drop-shadow(0px 1px 2px rgba(0, 0, 0, 0.3));\n",
              "      fill: #FFFFFF;\n",
              "    }\n",
              "  </style>\n",
              "\n",
              "      <script>\n",
              "        const buttonEl =\n",
              "          document.querySelector('#df-c5e776cb-7419-45ab-938d-3ad1317d9331 button.colab-df-convert');\n",
              "        buttonEl.style.display =\n",
              "          google.colab.kernel.accessAllowed ? 'block' : 'none';\n",
              "\n",
              "        async function convertToInteractive(key) {\n",
              "          const element = document.querySelector('#df-c5e776cb-7419-45ab-938d-3ad1317d9331');\n",
              "          const dataTable =\n",
              "            await google.colab.kernel.invokeFunction('convertToInteractive',\n",
              "                                                     [key], {});\n",
              "          if (!dataTable) return;\n",
              "\n",
              "          const docLinkHtml = 'Like what you see? Visit the ' +\n",
              "            '<a target=\"_blank\" href=https://colab.research.google.com/notebooks/data_table.ipynb>data table notebook</a>'\n",
              "            + ' to learn more about interactive tables.';\n",
              "          element.innerHTML = '';\n",
              "          dataTable['output_type'] = 'display_data';\n",
              "          await google.colab.output.renderOutput(dataTable, element);\n",
              "          const docLink = document.createElement('div');\n",
              "          docLink.innerHTML = docLinkHtml;\n",
              "          element.appendChild(docLink);\n",
              "        }\n",
              "      </script>\n",
              "    </div>\n",
              "  </div>\n",
              "  "
            ],
            "text/plain": [
              "                                                 reviews  labels\n",
              "24562  I would think that this was one of those films...       0\n",
              "12172  For sheer qualityyyyyyyy offf performance and ...       1\n",
              "9061   Why isssssss it better Because its true to the...       1\n",
              "20130  The beginning of theeee movie wasss confusing ...       0\n",
              "13530  Here is a rundownnnn offf a typical Rachael Ra...       0\n",
              "...                                                  ...     ...\n",
              "2568   A greaat movie aabout triumph over aall the na...       1\n",
              "21980  I felt as though the two hours I spent watchin...       0\n",
              "19545  Unlike one of theeee reviewers below I dont th...       0\n",
              "12431  Greaaaaaaaat music greaaaaaaaattttttt daaaaaaa...       1\n",
              "12672  Thisssss movieeeeee is one of the worse moviee...       0\n",
              "\n",
              "[500 rows x 2 columns]"
            ]
          },
          "metadata": {},
          "execution_count": 229
        }
      ]
    },
    {
      "cell_type": "markdown",
      "metadata": {
        "id": "10TRENSZZvBJ"
      },
      "source": [
        "#### c. (2 points) Use your model to make predictions on these noisy examples and output predicted labels and associated probabilities."
      ]
    },
    {
      "cell_type": "code",
      "source": [
        "predictions_noisy_sample_probabilities = custom_model.predict_proba(sample_testData['reviews'].values)"
      ],
      "metadata": {
        "id": "0nz0kRV2x-Dg"
      },
      "execution_count": 230,
      "outputs": []
    },
    {
      "cell_type": "code",
      "source": [
        "sample_probabilities = list(predictions_noisy_sample_probabilities[:,1])\n",
        "predictions_labels_sample = [1 if item >= 0.5 else 0 for item in sample_probabilities] \n",
        "sample_predictions = pd.DataFrame(sample_probabilities, columns = ['Probabilities'])\n",
        "sample_predictions['Labels'] = predictions_labels_sample"
      ],
      "metadata": {
        "id": "Y8wtulY4yMuB"
      },
      "execution_count": 231,
      "outputs": []
    },
    {
      "cell_type": "code",
      "source": [
        "sample_predictions"
      ],
      "metadata": {
        "colab": {
          "base_uri": "https://localhost:8080/",
          "height": 423
        },
        "id": "wOiMJReny1oT",
        "outputId": "ccde8742-bd41-4e0c-9c2c-4b1be7786c23"
      },
      "execution_count": 232,
      "outputs": [
        {
          "output_type": "execute_result",
          "data": {
            "text/html": [
              "\n",
              "  <div id=\"df-45eb2d14-6187-449e-ba0e-a46304374a3d\">\n",
              "    <div class=\"colab-df-container\">\n",
              "      <div>\n",
              "<style scoped>\n",
              "    .dataframe tbody tr th:only-of-type {\n",
              "        vertical-align: middle;\n",
              "    }\n",
              "\n",
              "    .dataframe tbody tr th {\n",
              "        vertical-align: top;\n",
              "    }\n",
              "\n",
              "    .dataframe thead th {\n",
              "        text-align: right;\n",
              "    }\n",
              "</style>\n",
              "<table border=\"1\" class=\"dataframe\">\n",
              "  <thead>\n",
              "    <tr style=\"text-align: right;\">\n",
              "      <th></th>\n",
              "      <th>Probabilities</th>\n",
              "      <th>Labels</th>\n",
              "    </tr>\n",
              "  </thead>\n",
              "  <tbody>\n",
              "    <tr>\n",
              "      <th>0</th>\n",
              "      <td>0.279210</td>\n",
              "      <td>0</td>\n",
              "    </tr>\n",
              "    <tr>\n",
              "      <th>1</th>\n",
              "      <td>0.472669</td>\n",
              "      <td>0</td>\n",
              "    </tr>\n",
              "    <tr>\n",
              "      <th>2</th>\n",
              "      <td>0.883975</td>\n",
              "      <td>1</td>\n",
              "    </tr>\n",
              "    <tr>\n",
              "      <th>3</th>\n",
              "      <td>0.230014</td>\n",
              "      <td>0</td>\n",
              "    </tr>\n",
              "    <tr>\n",
              "      <th>4</th>\n",
              "      <td>0.143551</td>\n",
              "      <td>0</td>\n",
              "    </tr>\n",
              "    <tr>\n",
              "      <th>...</th>\n",
              "      <td>...</td>\n",
              "      <td>...</td>\n",
              "    </tr>\n",
              "    <tr>\n",
              "      <th>495</th>\n",
              "      <td>0.703604</td>\n",
              "      <td>1</td>\n",
              "    </tr>\n",
              "    <tr>\n",
              "      <th>496</th>\n",
              "      <td>0.107981</td>\n",
              "      <td>0</td>\n",
              "    </tr>\n",
              "    <tr>\n",
              "      <th>497</th>\n",
              "      <td>0.241325</td>\n",
              "      <td>0</td>\n",
              "    </tr>\n",
              "    <tr>\n",
              "      <th>498</th>\n",
              "      <td>0.911046</td>\n",
              "      <td>1</td>\n",
              "    </tr>\n",
              "    <tr>\n",
              "      <th>499</th>\n",
              "      <td>0.199728</td>\n",
              "      <td>0</td>\n",
              "    </tr>\n",
              "  </tbody>\n",
              "</table>\n",
              "<p>500 rows × 2 columns</p>\n",
              "</div>\n",
              "      <button class=\"colab-df-convert\" onclick=\"convertToInteractive('df-45eb2d14-6187-449e-ba0e-a46304374a3d')\"\n",
              "              title=\"Convert this dataframe to an interactive table.\"\n",
              "              style=\"display:none;\">\n",
              "        \n",
              "  <svg xmlns=\"http://www.w3.org/2000/svg\" height=\"24px\"viewBox=\"0 0 24 24\"\n",
              "       width=\"24px\">\n",
              "    <path d=\"M0 0h24v24H0V0z\" fill=\"none\"/>\n",
              "    <path d=\"M18.56 5.44l.94 2.06.94-2.06 2.06-.94-2.06-.94-.94-2.06-.94 2.06-2.06.94zm-11 1L8.5 8.5l.94-2.06 2.06-.94-2.06-.94L8.5 2.5l-.94 2.06-2.06.94zm10 10l.94 2.06.94-2.06 2.06-.94-2.06-.94-.94-2.06-.94 2.06-2.06.94z\"/><path d=\"M17.41 7.96l-1.37-1.37c-.4-.4-.92-.59-1.43-.59-.52 0-1.04.2-1.43.59L10.3 9.45l-7.72 7.72c-.78.78-.78 2.05 0 2.83L4 21.41c.39.39.9.59 1.41.59.51 0 1.02-.2 1.41-.59l7.78-7.78 2.81-2.81c.8-.78.8-2.07 0-2.86zM5.41 20L4 18.59l7.72-7.72 1.47 1.35L5.41 20z\"/>\n",
              "  </svg>\n",
              "      </button>\n",
              "      \n",
              "  <style>\n",
              "    .colab-df-container {\n",
              "      display:flex;\n",
              "      flex-wrap:wrap;\n",
              "      gap: 12px;\n",
              "    }\n",
              "\n",
              "    .colab-df-convert {\n",
              "      background-color: #E8F0FE;\n",
              "      border: none;\n",
              "      border-radius: 50%;\n",
              "      cursor: pointer;\n",
              "      display: none;\n",
              "      fill: #1967D2;\n",
              "      height: 32px;\n",
              "      padding: 0 0 0 0;\n",
              "      width: 32px;\n",
              "    }\n",
              "\n",
              "    .colab-df-convert:hover {\n",
              "      background-color: #E2EBFA;\n",
              "      box-shadow: 0px 1px 2px rgba(60, 64, 67, 0.3), 0px 1px 3px 1px rgba(60, 64, 67, 0.15);\n",
              "      fill: #174EA6;\n",
              "    }\n",
              "\n",
              "    [theme=dark] .colab-df-convert {\n",
              "      background-color: #3B4455;\n",
              "      fill: #D2E3FC;\n",
              "    }\n",
              "\n",
              "    [theme=dark] .colab-df-convert:hover {\n",
              "      background-color: #434B5C;\n",
              "      box-shadow: 0px 1px 3px 1px rgba(0, 0, 0, 0.15);\n",
              "      filter: drop-shadow(0px 1px 2px rgba(0, 0, 0, 0.3));\n",
              "      fill: #FFFFFF;\n",
              "    }\n",
              "  </style>\n",
              "\n",
              "      <script>\n",
              "        const buttonEl =\n",
              "          document.querySelector('#df-45eb2d14-6187-449e-ba0e-a46304374a3d button.colab-df-convert');\n",
              "        buttonEl.style.display =\n",
              "          google.colab.kernel.accessAllowed ? 'block' : 'none';\n",
              "\n",
              "        async function convertToInteractive(key) {\n",
              "          const element = document.querySelector('#df-45eb2d14-6187-449e-ba0e-a46304374a3d');\n",
              "          const dataTable =\n",
              "            await google.colab.kernel.invokeFunction('convertToInteractive',\n",
              "                                                     [key], {});\n",
              "          if (!dataTable) return;\n",
              "\n",
              "          const docLinkHtml = 'Like what you see? Visit the ' +\n",
              "            '<a target=\"_blank\" href=https://colab.research.google.com/notebooks/data_table.ipynb>data table notebook</a>'\n",
              "            + ' to learn more about interactive tables.';\n",
              "          element.innerHTML = '';\n",
              "          dataTable['output_type'] = 'display_data';\n",
              "          await google.colab.output.renderOutput(dataTable, element);\n",
              "          const docLink = document.createElement('div');\n",
              "          docLink.innerHTML = docLinkHtml;\n",
              "          element.appendChild(docLink);\n",
              "        }\n",
              "      </script>\n",
              "    </div>\n",
              "  </div>\n",
              "  "
            ],
            "text/plain": [
              "     Probabilities  Labels\n",
              "0         0.279210       0\n",
              "1         0.472669       0\n",
              "2         0.883975       1\n",
              "3         0.230014       0\n",
              "4         0.143551       0\n",
              "..             ...     ...\n",
              "495       0.703604       1\n",
              "496       0.107981       0\n",
              "497       0.241325       0\n",
              "498       0.911046       1\n",
              "499       0.199728       0\n",
              "\n",
              "[500 rows x 2 columns]"
            ]
          },
          "metadata": {},
          "execution_count": 232
        }
      ]
    },
    {
      "cell_type": "code",
      "metadata": {
        "id": "26ELRKp9wWFa"
      },
      "source": [
        "################## YOUR CODE HERE ##################\n",
        "\n",
        "####################################################"
      ],
      "execution_count": 206,
      "outputs": []
    },
    {
      "cell_type": "markdown",
      "metadata": {
        "id": "JXfxdn4EZyEm"
      },
      "source": [
        "#### d. (1 point) Evaluate your model’s performance on these noisy examples using the metric specified in 1.2 (c)."
      ]
    },
    {
      "cell_type": "code",
      "metadata": {
        "id": "wkVIpV_RwXKm"
      },
      "source": [
        "################## YOUR CODE HERE ##################\n",
        "\n",
        "####################################################"
      ],
      "execution_count": 207,
      "outputs": []
    },
    {
      "cell_type": "code",
      "source": [
        "get_model_performance(list(sample_testData['labels']), list(sample_predictions['Labels']))"
      ],
      "metadata": {
        "colab": {
          "base_uri": "https://localhost:8080/",
          "height": 0
        },
        "id": "OFItc_0-y7Hy",
        "outputId": "ab07cde5-5f2d-47b0-e4d2-afac59132fc3"
      },
      "execution_count": 233,
      "outputs": [
        {
          "output_type": "stream",
          "name": "stdout",
          "text": [
            "Model's performance on  500  samples of Test Set :  \n",
            "Accuracy :  0.896\n",
            "Precision :  0.9173228346456693\n",
            "Recall :  0.8825757575757576\n",
            "F1 :  0.8996138996138996\n"
          ]
        }
      ]
    },
    {
      "cell_type": "markdown",
      "metadata": {
        "id": "uiA0Iv3vZ1dw"
      },
      "source": [
        "#### e. (2 points) Use the fine-tuned model to make predictions on these noisy examples and output predicted labels and associated probabilities."
      ]
    },
    {
      "cell_type": "code",
      "metadata": {
        "id": "9Q3R40pHwZqn"
      },
      "source": [
        "################## YOUR CODE HERE ##################\n",
        "\n",
        "####################################################"
      ],
      "execution_count": 209,
      "outputs": []
    },
    {
      "cell_type": "code",
      "source": [
        "sample_testData_encodings = tokenizer(sample_testData['reviews'].to_list(), truncation=True, padding = \"max_length\")\n",
        "sample_testDataset = my_Dataset(sample_testData_encodings, sample_testData['labels'].to_list())\n",
        "predictions_sample=trainer.predict(sample_testDataset)\n",
        "y_pred = list(predictions_sample.label_ids)\n",
        "ground_truth = sample_testData['labels'].values.tolist()\n",
        "predictions_tensor = torch.from_numpy(predictions_sample.predictions)\n",
        "#predictions_tensor = torch.from_numpy(predictions_sample.predictions)\n",
        "predictions = torch.nn.functional.softmax(predictions_tensor, dim=-1)\n",
        "predictions = predictions.cpu().detach().numpy()\n",
        "resulting_probabilities = pd.DataFrame(predictions)\n",
        "class1_probabilities = list(predictions[:,1])\n",
        "class1_labels = [1 if item >= 0.5 else 0 for item in class1_probabilities]\n",
        "result_sample_test = pd.DataFrame(list(zip(class1_probabilities,class1_labels)), columns = ['Probabilities','Labels'])"
      ],
      "metadata": {
        "colab": {
          "base_uri": "https://localhost:8080/",
          "height": 90
        },
        "id": "dNBftCjXzVgb",
        "outputId": "ccea6d05-2bba-49d6-a04e-14d72963bcb6"
      },
      "execution_count": 234,
      "outputs": [
        {
          "output_type": "stream",
          "name": "stderr",
          "text": [
            "***** Running Prediction *****\n",
            "  Num examples = 500\n",
            "  Batch size = 4\n"
          ]
        },
        {
          "output_type": "display_data",
          "data": {
            "text/html": [
              "\n",
              "    <div>\n",
              "      \n",
              "      <progress value='8880' max='1250' style='width:300px; height:20px; vertical-align: middle;'></progress>\n",
              "      [1250/1250 41:46]\n",
              "    </div>\n",
              "    "
            ],
            "text/plain": [
              "<IPython.core.display.HTML object>"
            ]
          },
          "metadata": {}
        }
      ]
    },
    {
      "cell_type": "code",
      "source": [
        "result_sample_test"
      ],
      "metadata": {
        "colab": {
          "base_uri": "https://localhost:8080/",
          "height": 423
        },
        "id": "QRx1NMJxzYPv",
        "outputId": "ee27e8a7-ec14-41d1-a945-13ffd29ebf65"
      },
      "execution_count": 235,
      "outputs": [
        {
          "output_type": "execute_result",
          "data": {
            "text/html": [
              "\n",
              "  <div id=\"df-7543cf19-8652-4eef-a4ba-a9a3873f912e\">\n",
              "    <div class=\"colab-df-container\">\n",
              "      <div>\n",
              "<style scoped>\n",
              "    .dataframe tbody tr th:only-of-type {\n",
              "        vertical-align: middle;\n",
              "    }\n",
              "\n",
              "    .dataframe tbody tr th {\n",
              "        vertical-align: top;\n",
              "    }\n",
              "\n",
              "    .dataframe thead th {\n",
              "        text-align: right;\n",
              "    }\n",
              "</style>\n",
              "<table border=\"1\" class=\"dataframe\">\n",
              "  <thead>\n",
              "    <tr style=\"text-align: right;\">\n",
              "      <th></th>\n",
              "      <th>Probabilities</th>\n",
              "      <th>Labels</th>\n",
              "    </tr>\n",
              "  </thead>\n",
              "  <tbody>\n",
              "    <tr>\n",
              "      <th>0</th>\n",
              "      <td>0.008882</td>\n",
              "      <td>0</td>\n",
              "    </tr>\n",
              "    <tr>\n",
              "      <th>1</th>\n",
              "      <td>0.996972</td>\n",
              "      <td>1</td>\n",
              "    </tr>\n",
              "    <tr>\n",
              "      <th>2</th>\n",
              "      <td>0.999276</td>\n",
              "      <td>1</td>\n",
              "    </tr>\n",
              "    <tr>\n",
              "      <th>3</th>\n",
              "      <td>0.000431</td>\n",
              "      <td>0</td>\n",
              "    </tr>\n",
              "    <tr>\n",
              "      <th>4</th>\n",
              "      <td>0.000444</td>\n",
              "      <td>0</td>\n",
              "    </tr>\n",
              "    <tr>\n",
              "      <th>...</th>\n",
              "      <td>...</td>\n",
              "      <td>...</td>\n",
              "    </tr>\n",
              "    <tr>\n",
              "      <th>495</th>\n",
              "      <td>0.998118</td>\n",
              "      <td>1</td>\n",
              "    </tr>\n",
              "    <tr>\n",
              "      <th>496</th>\n",
              "      <td>0.000365</td>\n",
              "      <td>0</td>\n",
              "    </tr>\n",
              "    <tr>\n",
              "      <th>497</th>\n",
              "      <td>0.000795</td>\n",
              "      <td>0</td>\n",
              "    </tr>\n",
              "    <tr>\n",
              "      <th>498</th>\n",
              "      <td>0.976107</td>\n",
              "      <td>1</td>\n",
              "    </tr>\n",
              "    <tr>\n",
              "      <th>499</th>\n",
              "      <td>0.000409</td>\n",
              "      <td>0</td>\n",
              "    </tr>\n",
              "  </tbody>\n",
              "</table>\n",
              "<p>500 rows × 2 columns</p>\n",
              "</div>\n",
              "      <button class=\"colab-df-convert\" onclick=\"convertToInteractive('df-7543cf19-8652-4eef-a4ba-a9a3873f912e')\"\n",
              "              title=\"Convert this dataframe to an interactive table.\"\n",
              "              style=\"display:none;\">\n",
              "        \n",
              "  <svg xmlns=\"http://www.w3.org/2000/svg\" height=\"24px\"viewBox=\"0 0 24 24\"\n",
              "       width=\"24px\">\n",
              "    <path d=\"M0 0h24v24H0V0z\" fill=\"none\"/>\n",
              "    <path d=\"M18.56 5.44l.94 2.06.94-2.06 2.06-.94-2.06-.94-.94-2.06-.94 2.06-2.06.94zm-11 1L8.5 8.5l.94-2.06 2.06-.94-2.06-.94L8.5 2.5l-.94 2.06-2.06.94zm10 10l.94 2.06.94-2.06 2.06-.94-2.06-.94-.94-2.06-.94 2.06-2.06.94z\"/><path d=\"M17.41 7.96l-1.37-1.37c-.4-.4-.92-.59-1.43-.59-.52 0-1.04.2-1.43.59L10.3 9.45l-7.72 7.72c-.78.78-.78 2.05 0 2.83L4 21.41c.39.39.9.59 1.41.59.51 0 1.02-.2 1.41-.59l7.78-7.78 2.81-2.81c.8-.78.8-2.07 0-2.86zM5.41 20L4 18.59l7.72-7.72 1.47 1.35L5.41 20z\"/>\n",
              "  </svg>\n",
              "      </button>\n",
              "      \n",
              "  <style>\n",
              "    .colab-df-container {\n",
              "      display:flex;\n",
              "      flex-wrap:wrap;\n",
              "      gap: 12px;\n",
              "    }\n",
              "\n",
              "    .colab-df-convert {\n",
              "      background-color: #E8F0FE;\n",
              "      border: none;\n",
              "      border-radius: 50%;\n",
              "      cursor: pointer;\n",
              "      display: none;\n",
              "      fill: #1967D2;\n",
              "      height: 32px;\n",
              "      padding: 0 0 0 0;\n",
              "      width: 32px;\n",
              "    }\n",
              "\n",
              "    .colab-df-convert:hover {\n",
              "      background-color: #E2EBFA;\n",
              "      box-shadow: 0px 1px 2px rgba(60, 64, 67, 0.3), 0px 1px 3px 1px rgba(60, 64, 67, 0.15);\n",
              "      fill: #174EA6;\n",
              "    }\n",
              "\n",
              "    [theme=dark] .colab-df-convert {\n",
              "      background-color: #3B4455;\n",
              "      fill: #D2E3FC;\n",
              "    }\n",
              "\n",
              "    [theme=dark] .colab-df-convert:hover {\n",
              "      background-color: #434B5C;\n",
              "      box-shadow: 0px 1px 3px 1px rgba(0, 0, 0, 0.15);\n",
              "      filter: drop-shadow(0px 1px 2px rgba(0, 0, 0, 0.3));\n",
              "      fill: #FFFFFF;\n",
              "    }\n",
              "  </style>\n",
              "\n",
              "      <script>\n",
              "        const buttonEl =\n",
              "          document.querySelector('#df-7543cf19-8652-4eef-a4ba-a9a3873f912e button.colab-df-convert');\n",
              "        buttonEl.style.display =\n",
              "          google.colab.kernel.accessAllowed ? 'block' : 'none';\n",
              "\n",
              "        async function convertToInteractive(key) {\n",
              "          const element = document.querySelector('#df-7543cf19-8652-4eef-a4ba-a9a3873f912e');\n",
              "          const dataTable =\n",
              "            await google.colab.kernel.invokeFunction('convertToInteractive',\n",
              "                                                     [key], {});\n",
              "          if (!dataTable) return;\n",
              "\n",
              "          const docLinkHtml = 'Like what you see? Visit the ' +\n",
              "            '<a target=\"_blank\" href=https://colab.research.google.com/notebooks/data_table.ipynb>data table notebook</a>'\n",
              "            + ' to learn more about interactive tables.';\n",
              "          element.innerHTML = '';\n",
              "          dataTable['output_type'] = 'display_data';\n",
              "          await google.colab.output.renderOutput(dataTable, element);\n",
              "          const docLink = document.createElement('div');\n",
              "          docLink.innerHTML = docLinkHtml;\n",
              "          element.appendChild(docLink);\n",
              "        }\n",
              "      </script>\n",
              "    </div>\n",
              "  </div>\n",
              "  "
            ],
            "text/plain": [
              "     Probabilities  Labels\n",
              "0         0.008882       0\n",
              "1         0.996972       1\n",
              "2         0.999276       1\n",
              "3         0.000431       0\n",
              "4         0.000444       0\n",
              "..             ...     ...\n",
              "495       0.998118       1\n",
              "496       0.000365       0\n",
              "497       0.000795       0\n",
              "498       0.976107       1\n",
              "499       0.000409       0\n",
              "\n",
              "[500 rows x 2 columns]"
            ]
          },
          "metadata": {},
          "execution_count": 235
        }
      ]
    },
    {
      "cell_type": "markdown",
      "metadata": {
        "id": "Ti5yTl7AZ5iP"
      },
      "source": [
        "#### f. (1 point) Evaluate the fine-tuned model’s performance on these noisy examples using the metric specified in 1.2 (c)."
      ]
    },
    {
      "cell_type": "code",
      "metadata": {
        "id": "ojBDjlIGwaTW"
      },
      "source": [
        "################## YOUR CODE HERE ##################\n",
        "\n",
        "####################################################"
      ],
      "execution_count": 226,
      "outputs": []
    },
    {
      "cell_type": "code",
      "source": [
        "get_model_performance(list(sample_testData['labels']), list(result_sample_test['Labels']))"
      ],
      "metadata": {
        "colab": {
          "base_uri": "https://localhost:8080/",
          "height": 0
        },
        "id": "oHhylE6Pzasy",
        "outputId": "3ef220b5-e90f-46b7-c5c0-ae989494cddc"
      },
      "execution_count": 236,
      "outputs": [
        {
          "output_type": "stream",
          "name": "stdout",
          "text": [
            "Model's performance on  500  samples of Test Set :  \n",
            "Accuracy :  0.866\n",
            "Precision :  0.937007874015748\n",
            "Recall :  0.8235294117647058\n",
            "F1 :  0.8766114180478821\n"
          ]
        }
      ]
    },
    {
      "cell_type": "markdown",
      "metadata": {
        "id": "sY4pGgtSZ-bW"
      },
      "source": [
        "#### g. (1 point) Compare the performance of your model and the fine-tuned model on these noisy samples.\n"
      ]
    },
    {
      "cell_type": "markdown",
      "source": [
        "**Answer:**\n",
        "\n",
        "\n",
        "The performance of the custom model in comparison to the fine-tuned model is as follows:\n",
        "\n",
        "Custom-Model:\n",
        "\n",
        "\n",
        "*   Accuracy :  0.896\n",
        "*   Precision :  0.9173228346456693\n",
        "*   Recall :  0.8825757575757576\n",
        "*   F1 :  0.8996138996138996\n",
        "\n",
        "\n",
        "\n",
        "\n",
        "Fine-Tuned Model:\n",
        "\n",
        "*   Accuracy :  0.866\n",
        "*   Precision :  0.937007874015748\n",
        "*   Recall :  0.8235294117647058\n",
        "*   F1 :  0.8766114180478821\n",
        "\n"
      ],
      "metadata": {
        "id": "AGltGpWG0bpN"
      }
    },
    {
      "cell_type": "markdown",
      "metadata": {
        "id": "8pCEHok3ant4"
      },
      "source": [
        "### 2.5 Slice-based analysis [10 points]\n",
        "\n",
        "We’ve been evaluating both models on a coarse-grained metric. Let’s take a deeper look into how we can evaluate them on different slices.\n",
        "\n",
        "Play around with the test split of IMDB -- slice it into different subgroups. Some ideas for slicing your test split:\n",
        "\n",
        "- By **input lengths** (e.g. maybe your model will perform well on inputs of less than 10 characters but horribly for inputs of more than 1000 characters).\n",
        "- By **movie names** (can you figure out how to extract movie names from reviews?).\n",
        "- By **the number of punctuations** in each review.\n",
        "- etc. Play around with your data!\n",
        "\n",
        "Choose two slices of data on which your model’s performances are non-trivially different. Each slice should have at least 100 samples.\n",
        "\n",
        "\n",
        "\n"
      ]
    },
    {
      "cell_type": "code",
      "metadata": {
        "id": "QeNj67wbbZF0"
      },
      "source": [
        "# Cell for you to play around with your data. (not graded)"
      ],
      "execution_count": null,
      "outputs": []
    },
    {
      "cell_type": "markdown",
      "metadata": {
        "id": "pWFhVdGQbesS"
      },
      "source": [
        "#### a. (5 points) Describe your reason for choosing these two slices. Explain why the model might perform differently on them."
      ]
    },
    {
      "cell_type": "markdown",
      "source": [
        "Punctuation"
      ],
      "metadata": {
        "id": "OiYWAqJr1qmF"
      }
    },
    {
      "cell_type": "code",
      "source": [
        "count = lambda l1,l2: sum([1 for x in l1 if x in l2])\n",
        "test['punctuations'] = test['reviews'].apply(lambda x : count(x,set(string.punctuation))   )\n",
        "test['punctuations'].hist()"
      ],
      "metadata": {
        "colab": {
          "base_uri": "https://localhost:8080/",
          "height": 283
        },
        "id": "xubUP6iW1n6v",
        "outputId": "4bbe8041-1e87-4faa-8188-4ce6c6abe8b7"
      },
      "execution_count": 239,
      "outputs": [
        {
          "output_type": "execute_result",
          "data": {
            "text/plain": [
              "<matplotlib.axes._subplots.AxesSubplot at 0x7f760a5d1210>"
            ]
          },
          "metadata": {},
          "execution_count": 239
        },
        {
          "output_type": "display_data",
          "data": {
            "image/png": "[encoded data removed]",
            "text/plain": [
              "<Figure size 432x288 with 1 Axes>"
            ]
          },
          "metadata": {
            "needs_background": "light"
          }
        }
      ]
    },
    {
      "cell_type": "code",
      "source": [
        "split1_length_0_50 = test[test['punctuations'] <= 50]\n",
        "split2_length_50_max = test[test['punctuations'] > 50]"
      ],
      "metadata": {
        "id": "6xgpfyvd18T5"
      },
      "execution_count": 240,
      "outputs": []
    },
    {
      "cell_type": "markdown",
      "source": [
        "**Length Of Review**"
      ],
      "metadata": {
        "id": "1xrlHpQy11OZ"
      }
    },
    {
      "cell_type": "code",
      "source": [
        "test['input_length'] = test['reviews'].apply(lambda x : len(x))\n",
        "test['input_length'].hist()"
      ],
      "metadata": {
        "colab": {
          "base_uri": "https://localhost:8080/",
          "height": 283
        },
        "id": "dpuxtFtr2B3f",
        "outputId": "7a47a18e-5595-4374-dd4f-1fa40a899f73"
      },
      "execution_count": 241,
      "outputs": [
        {
          "output_type": "execute_result",
          "data": {
            "text/plain": [
              "<matplotlib.axes._subplots.AxesSubplot at 0x7f760a61ae10>"
            ]
          },
          "metadata": {},
          "execution_count": 241
        },
        {
          "output_type": "display_data",
          "data": {
            "image/png": "[encoded data removed]",
            "text/plain": [
              "<Figure size 432x288 with 1 Axes>"
            ]
          },
          "metadata": {
            "needs_background": "light"
          }
        }
      ]
    },
    {
      "cell_type": "code",
      "source": [
        "split1_length_0_2000 = test[test['input_length'] <= 2000]\n",
        "split2_length_2000_max = test[test['input_length'] > 2000]"
      ],
      "metadata": {
        "id": "0dr_8lqs2EGT"
      },
      "execution_count": 242,
      "outputs": []
    },
    {
      "cell_type": "markdown",
      "source": [
        "**Number Of Entities**"
      ],
      "metadata": {
        "id": "ARgI-rr02LUg"
      }
    },
    {
      "cell_type": "code",
      "source": [
        "import spacy\n",
        "!python -m spacy download en_core_web_sm\n",
        "nlp = spacy.load(\"en_core_web_sm\")"
      ],
      "metadata": {
        "colab": {
          "base_uri": "https://localhost:8080/"
        },
        "id": "EvJ4Jz5t2P69",
        "outputId": "a383ec3d-eef4-462f-a266-67a3cd25b0b3"
      },
      "execution_count": 243,
      "outputs": [
        {
          "output_type": "stream",
          "name": "stdout",
          "text": [
            "Collecting en_core_web_sm==2.2.5\n",
            "  Downloading https://github.com/explosion/spacy-models/releases/download/en_core_web_sm-2.2.5/en_core_web_sm-2.2.5.tar.gz (12.0 MB)\n",
            "\u001b[K     |████████████████████████████████| 12.0 MB 4.2 MB/s \n",
            "\u001b[?25hRequirement already satisfied: spacy>=2.2.2 in /usr/local/lib/python3.7/dist-packages (from en_core_web_sm==2.2.5) (2.2.4)\n",
            "Requirement already satisfied: preshed<3.1.0,>=3.0.2 in /usr/local/lib/python3.7/dist-packages (from spacy>=2.2.2->en_core_web_sm==2.2.5) (3.0.6)\n",
            "Requirement already satisfied: srsly<1.1.0,>=1.0.2 in /usr/local/lib/python3.7/dist-packages (from spacy>=2.2.2->en_core_web_sm==2.2.5) (1.0.5)\n",
            "Requirement already satisfied: numpy>=1.15.0 in /usr/local/lib/python3.7/dist-packages (from spacy>=2.2.2->en_core_web_sm==2.2.5) (1.21.5)\n",
            "Requirement already satisfied: tqdm<5.0.0,>=4.38.0 in /usr/local/lib/python3.7/dist-packages (from spacy>=2.2.2->en_core_web_sm==2.2.5) (4.62.3)\n",
            "Requirement already satisfied: cymem<2.1.0,>=2.0.2 in /usr/local/lib/python3.7/dist-packages (from spacy>=2.2.2->en_core_web_sm==2.2.5) (2.0.6)\n",
            "Requirement already satisfied: requests<3.0.0,>=2.13.0 in /usr/local/lib/python3.7/dist-packages (from spacy>=2.2.2->en_core_web_sm==2.2.5) (2.23.0)\n",
            "Requirement already satisfied: plac<1.2.0,>=0.9.6 in /usr/local/lib/python3.7/dist-packages (from spacy>=2.2.2->en_core_web_sm==2.2.5) (1.1.3)\n",
            "Requirement already satisfied: murmurhash<1.1.0,>=0.28.0 in /usr/local/lib/python3.7/dist-packages (from spacy>=2.2.2->en_core_web_sm==2.2.5) (1.0.6)\n",
            "Requirement already satisfied: wasabi<1.1.0,>=0.4.0 in /usr/local/lib/python3.7/dist-packages (from spacy>=2.2.2->en_core_web_sm==2.2.5) (0.9.0)\n",
            "Requirement already satisfied: thinc==7.4.0 in /usr/local/lib/python3.7/dist-packages (from spacy>=2.2.2->en_core_web_sm==2.2.5) (7.4.0)\n",
            "Requirement already satisfied: catalogue<1.1.0,>=0.0.7 in /usr/local/lib/python3.7/dist-packages (from spacy>=2.2.2->en_core_web_sm==2.2.5) (1.0.0)\n",
            "Requirement already satisfied: setuptools in /usr/local/lib/python3.7/dist-packages (from spacy>=2.2.2->en_core_web_sm==2.2.5) (57.4.0)\n",
            "Requirement already satisfied: blis<0.5.0,>=0.4.0 in /usr/local/lib/python3.7/dist-packages (from spacy>=2.2.2->en_core_web_sm==2.2.5) (0.4.1)\n",
            "Requirement already satisfied: importlib-metadata>=0.20 in /usr/local/lib/python3.7/dist-packages (from catalogue<1.1.0,>=0.0.7->spacy>=2.2.2->en_core_web_sm==2.2.5) (4.11.0)\n",
            "Requirement already satisfied: typing-extensions>=3.6.4 in /usr/local/lib/python3.7/dist-packages (from importlib-metadata>=0.20->catalogue<1.1.0,>=0.0.7->spacy>=2.2.2->en_core_web_sm==2.2.5) (3.10.0.2)\n",
            "Requirement already satisfied: zipp>=0.5 in /usr/local/lib/python3.7/dist-packages (from importlib-metadata>=0.20->catalogue<1.1.0,>=0.0.7->spacy>=2.2.2->en_core_web_sm==2.2.5) (3.7.0)\n",
            "Requirement already satisfied: certifi>=2017.4.17 in /usr/local/lib/python3.7/dist-packages (from requests<3.0.0,>=2.13.0->spacy>=2.2.2->en_core_web_sm==2.2.5) (2021.10.8)\n",
            "Requirement already satisfied: chardet<4,>=3.0.2 in /usr/local/lib/python3.7/dist-packages (from requests<3.0.0,>=2.13.0->spacy>=2.2.2->en_core_web_sm==2.2.5) (3.0.4)\n",
            "Requirement already satisfied: urllib3!=1.25.0,!=1.25.1,<1.26,>=1.21.1 in /usr/local/lib/python3.7/dist-packages (from requests<3.0.0,>=2.13.0->spacy>=2.2.2->en_core_web_sm==2.2.5) (1.24.3)\n",
            "Requirement already satisfied: idna<3,>=2.5 in /usr/local/lib/python3.7/dist-packages (from requests<3.0.0,>=2.13.0->spacy>=2.2.2->en_core_web_sm==2.2.5) (2.10)\n",
            "\u001b[38;5;2m✔ Download and installation successful\u001b[0m\n",
            "You can now load the model via spacy.load('en_core_web_sm')\n"
          ]
        }
      ]
    },
    {
      "cell_type": "code",
      "source": [
        "def get_entities(text):\n",
        "  doc = nlp(text)\n",
        "  count = 0\n",
        "  for ent in doc.ents:\n",
        "      count = count + 1\n",
        "  return count"
      ],
      "metadata": {
        "id": "-1Bs_xIU2Rte"
      },
      "execution_count": 244,
      "outputs": []
    },
    {
      "cell_type": "code",
      "source": [
        "test['entities'] = test['reviews'].apply(lambda x : get_entities(x))"
      ],
      "metadata": {
        "id": "dfE7XG1v2U7F"
      },
      "execution_count": 245,
      "outputs": []
    },
    {
      "cell_type": "code",
      "source": [
        "test['entities'].hist()"
      ],
      "metadata": {
        "colab": {
          "base_uri": "https://localhost:8080/",
          "height": 283
        },
        "id": "wph8fbo22XPZ",
        "outputId": "da91625c-9a52-4882-e5d9-ae1c56e4620b"
      },
      "execution_count": 246,
      "outputs": [
        {
          "output_type": "execute_result",
          "data": {
            "text/plain": [
              "<matplotlib.axes._subplots.AxesSubplot at 0x7f773cc6bfd0>"
            ]
          },
          "metadata": {},
          "execution_count": 246
        },
        {
          "output_type": "display_data",
          "data": {
            "image/png": "[encoded data removed]",
            "text/plain": [
              "<Figure size 432x288 with 1 Axes>"
            ]
          },
          "metadata": {
            "needs_background": "light"
          }
        }
      ]
    },
    {
      "cell_type": "code",
      "source": [
        "split1_length_0_15 = test[test['entities'] <= 15]\n",
        "split2_length_15_max = test[test['entities'] > 15]"
      ],
      "metadata": {
        "id": "tocAZ00Q2ZMB"
      },
      "execution_count": 247,
      "outputs": []
    },
    {
      "cell_type": "code",
      "source": [
        "split1_length_0_15['input_length'].hist()"
      ],
      "metadata": {
        "colab": {
          "base_uri": "https://localhost:8080/",
          "height": 283
        },
        "id": "29qN2-2g2gFw",
        "outputId": "2d4fcf69-ab8a-441c-83cb-ca6378ffcf16"
      },
      "execution_count": 248,
      "outputs": [
        {
          "output_type": "execute_result",
          "data": {
            "text/plain": [
              "<matplotlib.axes._subplots.AxesSubplot at 0x7f773caf0c50>"
            ]
          },
          "metadata": {},
          "execution_count": 248
        },
        {
          "output_type": "display_data",
          "data": {
            "image/png": "[encoded data removed]",
            "text/plain": [
              "<Figure size 432x288 with 1 Axes>"
            ]
          },
          "metadata": {
            "needs_background": "light"
          }
        }
      ]
    },
    {
      "cell_type": "code",
      "source": [
        "split2_length_15_max['input_length'].hist()"
      ],
      "metadata": {
        "colab": {
          "base_uri": "https://localhost:8080/",
          "height": 283
        },
        "id": "sfore86c2h_i",
        "outputId": "00522a55-a80f-491c-aa32-6733cc1dcbcb"
      },
      "execution_count": 249,
      "outputs": [
        {
          "output_type": "execute_result",
          "data": {
            "text/plain": [
              "<matplotlib.axes._subplots.AxesSubplot at 0x7f773ca1f390>"
            ]
          },
          "metadata": {},
          "execution_count": 249
        },
        {
          "output_type": "display_data",
          "data": {
            "image/png": "[encoded data removed]",
            "text/plain": [
              "<Figure size 432x288 with 1 Axes>"
            ]
          },
          "metadata": {
            "needs_background": "light"
          }
        }
      ]
    },
    {
      "cell_type": "markdown",
      "metadata": {
        "id": "acmwnDNHbr7F"
      },
      "source": [
        "#### b. (2 points) Write code to extract these two slices from your test split.\n"
      ]
    },
    {
      "cell_type": "code",
      "metadata": {
        "id": "AxRigg0pb5Oe"
      },
      "source": [
        "################## YOUR CODE HERE ##################\n",
        "\n",
        "####################################################"
      ],
      "execution_count": null,
      "outputs": []
    },
    {
      "cell_type": "markdown",
      "source": [
        "**Slice 1 : Length of Review**"
      ],
      "metadata": {
        "id": "FgDMQPIN1R4x"
      }
    },
    {
      "cell_type": "code",
      "source": [
        "test['input_length'] = test['reviews'].apply(lambda x : len(x))\n",
        "test['input_length'].hist()"
      ],
      "metadata": {
        "colab": {
          "base_uri": "https://localhost:8080/",
          "height": 283
        },
        "id": "MvBWOs-m1Wu1",
        "outputId": "e1f0b7dc-7ab6-4d1d-c8bc-d9eba4cd9b26"
      },
      "execution_count": 250,
      "outputs": [
        {
          "output_type": "execute_result",
          "data": {
            "text/plain": [
              "<matplotlib.axes._subplots.AxesSubplot at 0x7f773c318910>"
            ]
          },
          "metadata": {},
          "execution_count": 250
        },
        {
          "output_type": "display_data",
          "data": {
            "image/png": "[encoded data removed]",
            "text/plain": [
              "<Figure size 432x288 with 1 Axes>"
            ]
          },
          "metadata": {
            "needs_background": "light"
          }
        }
      ]
    },
    {
      "cell_type": "code",
      "source": [
        "split1_length_0_2000 = test[test['input_length'] <= 2000]\n",
        "split2_length_2000_max = test[test['input_length'] > 2000]"
      ],
      "metadata": {
        "id": "4W-vCVMf1Zhd"
      },
      "execution_count": 251,
      "outputs": []
    },
    {
      "cell_type": "markdown",
      "metadata": {
        "id": "fd9zedcebtua"
      },
      "source": [
        "#### c. (1 point) Write code to report each slice’s statistics. Report the statistics. \n",
        "1. Slice size\n",
        "2. Label distribution"
      ]
    },
    {
      "cell_type": "code",
      "metadata": {
        "id": "sOKkjjxwb2U4"
      },
      "source": [
        "################## YOUR CODE HERE ##################\n",
        "\n",
        "####################################################"
      ],
      "execution_count": null,
      "outputs": []
    },
    {
      "cell_type": "code",
      "source": [
        ""
      ],
      "metadata": {
        "id": "aQw9uC69253c"
      },
      "execution_count": null,
      "outputs": []
    },
    {
      "cell_type": "markdown",
      "source": [
        "**Slice 1 - Length of Review**"
      ],
      "metadata": {
        "id": "ZWz6Gk8z26DI"
      }
    },
    {
      "cell_type": "markdown",
      "source": [
        "**Size of Slices**"
      ],
      "metadata": {
        "id": "zfFd0yHl29Ck"
      }
    },
    {
      "cell_type": "code",
      "source": [
        "print(\"The size of the slices are as follows : \\n\")\n",
        "print( \"Total rows in split1_length_0_2000 \",split1_length_0_2000.shape[0])\n",
        "print( \"Total rows in split2_length_2000_max \",split2_length_2000_max.shape[0])\n",
        "\n",
        "print(\"The percentage of split1_length_0_2000 as a percentage of all test data : \", (split1_length_0_2000.shape[0]/test.shape[0])*100)\n",
        "print(\"The percentage of split2_length_2000_max as a percentage of all test data : \", (split2_length_2000_max.shape[0]/test.shape[0])*100)"
      ],
      "metadata": {
        "colab": {
          "base_uri": "https://localhost:8080/"
        },
        "id": "MxLhSqI32_bp",
        "outputId": "575176fd-25db-4533-9db8-c765d587d284"
      },
      "execution_count": 252,
      "outputs": [
        {
          "output_type": "stream",
          "name": "stdout",
          "text": [
            "The size of the slices are as follows : \n",
            "\n",
            "Total rows in split1_length_0_2000  20909\n",
            "Total rows in split2_length_2000_max  4091\n",
            "The percentage of split1_length_0_2000 as a percentage of all test data :  83.636\n",
            "The percentage of split2_length_2000_max as a percentage of all test data :  16.364\n"
          ]
        }
      ]
    },
    {
      "cell_type": "markdown",
      "source": [
        "**Label Distribution**"
      ],
      "metadata": {
        "id": "KIwWsxkH3BWv"
      }
    },
    {
      "cell_type": "code",
      "source": [
        "print(\"Label Distribution : \\n\")\n",
        "\n",
        "print(\"Label Distribution of split1_length_0_2000:\\n\", split1_length_0_2000['labels'].value_counts())\n",
        "print(\"Label Distribution of split2_length_2000_max:\\n\", split2_length_2000_max['labels'].value_counts())"
      ],
      "metadata": {
        "colab": {
          "base_uri": "https://localhost:8080/"
        },
        "id": "3gLRlBs53FDw",
        "outputId": "59c98bc0-ce2d-4cb9-cf1f-a9934c33a35a"
      },
      "execution_count": 253,
      "outputs": [
        {
          "output_type": "stream",
          "name": "stdout",
          "text": [
            "Label Distribution : \n",
            "\n",
            "Label Distribution of split1_length_0_2000:\n",
            " 0    10507\n",
            "1    10402\n",
            "Name: labels, dtype: int64\n",
            "Label Distribution of split2_length_2000_max:\n",
            " 1    2098\n",
            "0    1993\n",
            "Name: labels, dtype: int64\n"
          ]
        }
      ]
    },
    {
      "cell_type": "markdown",
      "source": [
        "**Slice 2 - Number of Entities**"
      ],
      "metadata": {
        "id": "vYS1ThL03Hhq"
      }
    },
    {
      "cell_type": "markdown",
      "source": [
        "**Size of Slices**"
      ],
      "metadata": {
        "id": "Eu7af7Wo3J5t"
      }
    },
    {
      "cell_type": "code",
      "source": [
        "\n",
        "print(\"The size of the slices are as follows : \\n\")\n",
        "print( \"Total rows in split1_length_0_15 \",split1_length_0_15.shape[0])\n",
        "print( \"Total rows in split2_length_15_max \",split2_length_15_max.shape[0])\n",
        "\n",
        "print(\"The percentage of split1_length_0_15 as a percentage of all test data : \", (split1_length_0_15.shape[0]/test.shape[0])*100)\n",
        "print(\"The percentage of split2_length_15_max as a percentage of all test data : \", (split2_length_15_max.shape[0]/test.shape[0])*100)"
      ],
      "metadata": {
        "colab": {
          "base_uri": "https://localhost:8080/"
        },
        "id": "0O5pWXw63MRx",
        "outputId": "e1b36083-c930-43cb-e7c5-03ba2ad69bba"
      },
      "execution_count": 254,
      "outputs": [
        {
          "output_type": "stream",
          "name": "stdout",
          "text": [
            "The size of the slices are as follows : \n",
            "\n",
            "Total rows in split1_length_0_15  19153\n",
            "Total rows in split2_length_15_max  5847\n",
            "The percentage of split1_length_0_15 as a percentage of all test data :  76.61200000000001\n",
            "The percentage of split2_length_15_max as a percentage of all test data :  23.388\n"
          ]
        }
      ]
    },
    {
      "cell_type": "markdown",
      "source": [
        "**Label Distribution**"
      ],
      "metadata": {
        "id": "7vWQZggz3OlW"
      }
    },
    {
      "cell_type": "code",
      "source": [
        "print(\"Label Distribution : \\n\")\n",
        "\n",
        "print(\"Label Distribution of split1_length_0_15:\\n\", split1_length_0_15['labels'].value_counts())\n",
        "print(\"Label Distribution of split2_length_15_max:\\n\", split2_length_15_max['labels'].value_counts())"
      ],
      "metadata": {
        "colab": {
          "base_uri": "https://localhost:8080/"
        },
        "id": "Pf0YLPJq3Rex",
        "outputId": "a9d35d40-db5a-4ba5-ef91-d854fc92d00d"
      },
      "execution_count": 255,
      "outputs": [
        {
          "output_type": "stream",
          "name": "stdout",
          "text": [
            "Label Distribution : \n",
            "\n",
            "Label Distribution of split1_length_0_15:\n",
            " 0    9992\n",
            "1    9161\n",
            "Name: labels, dtype: int64\n",
            "Label Distribution of split2_length_15_max:\n",
            " 1    3339\n",
            "0    2508\n",
            "Name: labels, dtype: int64\n"
          ]
        }
      ]
    },
    {
      "cell_type": "markdown",
      "metadata": {
        "id": "NrQToE2iwth6"
      },
      "source": [
        "**Answer:**\n",
        "\n",
        "[YOUR ANSWER HERE]"
      ]
    },
    {
      "cell_type": "markdown",
      "metadata": {
        "id": "_2M6sOvGbk36"
      },
      "source": [
        "#### d. (1 point) Write code to evaluate **your model** performance on these two slices, including the metric specified in 1.2 (c) and the confusion matrix.\n",
        "- [sklearn.metrics.confusion_matrix](https://scikit-learn.org/stable/modules/generated/sklearn.metrics.confusion_matrix.html) may be useful here\n"
      ]
    },
    {
      "cell_type": "code",
      "metadata": {
        "id": "hnfK8eHncCI8"
      },
      "source": [
        "################## YOUR CODE HERE ##################\n",
        "\n",
        "####################################################"
      ],
      "execution_count": null,
      "outputs": []
    },
    {
      "cell_type": "code",
      "source": [
        "def get_performance(custom_model, data):\n",
        "  \n",
        "  predictions_sample = custom_model.predict(data.reviews.values)\n",
        "  predictions_sample = list(predictions_sample)\n",
        "  predictions_sample = pd.DataFrame(predictions_sample, columns = ['Probabilities'])\n",
        "  selected_threshold = 0.5\n",
        "  predictions_sample['Labels'] = predictions_sample['Probabilities'].apply(lambda x :  1 if x >= selected_threshold else  0)\n",
        "  get_model_performance(list(data['labels']), list(predictions_sample['Labels']))"
      ],
      "metadata": {
        "id": "SufzRT9Z3VN_"
      },
      "execution_count": 261,
      "outputs": []
    },
    {
      "cell_type": "markdown",
      "source": [
        "**Performance Evaluation : Length Of Review**"
      ],
      "metadata": {
        "id": "7jrRTqmq3gxt"
      }
    },
    {
      "cell_type": "code",
      "source": [
        "print(\"predictions for reviews with length less than 2000\")\n",
        "get_performance(custom_model, split1_length_0_2000)"
      ],
      "metadata": {
        "colab": {
          "base_uri": "https://localhost:8080/"
        },
        "id": "voWJw6NK3W8P",
        "outputId": "bb5369ed-5268-427e-dfb1-e801c86bb18a"
      },
      "execution_count": 262,
      "outputs": [
        {
          "output_type": "stream",
          "name": "stdout",
          "text": [
            "predictions for reviews with length less than 2000\n",
            "Model's performance on  20909  samples of Test Set :  \n",
            "Accuracy :  0.9118561385049501\n",
            "Precision :  0.8965451603692777\n",
            "Recall :  0.9257075471698113\n",
            "F1 :  0.9108930039162598\n"
          ]
        }
      ]
    },
    {
      "cell_type": "code",
      "source": [
        "print(\"predictions for reviews with length more than 2000\")\n",
        "get_performance(custom_model, split2_length_2000_max)"
      ],
      "metadata": {
        "colab": {
          "base_uri": "https://localhost:8080/"
        },
        "id": "fKCaXyAZ3Yp4",
        "outputId": "13a2d82a-3a8f-4b76-e55e-f1dc6dce16be"
      },
      "execution_count": 264,
      "outputs": [
        {
          "output_type": "stream",
          "name": "stdout",
          "text": [
            "predictions for reviews with length more than 2000\n",
            "Model's performance on  4091  samples of Test Set :  \n",
            "Accuracy :  0.9100464434123686\n",
            "Precision :  0.877571500250878\n",
            "Recall :  0.9337960491190603\n",
            "F1 :  0.9048111743404036\n"
          ]
        }
      ]
    },
    {
      "cell_type": "code",
      "source": [
        "print( \"Percentage Difference in Accuracy : \", (0.9118561385049501 - 0.9100464434123686) * 100)"
      ],
      "metadata": {
        "colab": {
          "base_uri": "https://localhost:8080/"
        },
        "id": "8TmhN-td3aKg",
        "outputId": "fb6784a3-e098-48c9-f651-43c7933c475f"
      },
      "execution_count": 265,
      "outputs": [
        {
          "output_type": "stream",
          "name": "stdout",
          "text": [
            "Percentage Difference in Accuracy :  0.18096950925814426\n"
          ]
        }
      ]
    },
    {
      "cell_type": "markdown",
      "source": [
        "**Performance Evaluation : Number of Entities**"
      ],
      "metadata": {
        "id": "QOrC-Zq_3czd"
      }
    },
    {
      "cell_type": "code",
      "source": [
        "get_performance(custom_model, split1_length_0_15)"
      ],
      "metadata": {
        "colab": {
          "base_uri": "https://localhost:8080/"
        },
        "id": "pxAa3PTt3oXE",
        "outputId": "435d6f5d-9de9-4b27-ae7f-507fc4f97e5a"
      },
      "execution_count": 266,
      "outputs": [
        {
          "output_type": "stream",
          "name": "stdout",
          "text": [
            "Model's performance on  19153  samples of Test Set :  \n",
            "Accuracy :  0.9146347830627056\n",
            "Precision :  0.9069255404323459\n",
            "Recall :  0.9278181632026211\n",
            "F1 :  0.9172528974138368\n"
          ]
        }
      ]
    },
    {
      "cell_type": "code",
      "source": [
        "get_performance(custom_model, split2_length_15_max)"
      ],
      "metadata": {
        "colab": {
          "base_uri": "https://localhost:8080/"
        },
        "id": "AOeJAyzE3p0g",
        "outputId": "26988612-ce6d-4ab1-a93c-1d1ad6b6b4bc"
      },
      "execution_count": 267,
      "outputs": [
        {
          "output_type": "stream",
          "name": "stdout",
          "text": [
            "Model's performance on  5847  samples of Test Set :  \n",
            "Accuracy :  0.9014879425346332\n",
            "Precision :  0.8401116427432217\n",
            "Recall :  0.9233128834355828\n",
            "F1 :  0.8797494780793319\n"
          ]
        }
      ]
    },
    {
      "cell_type": "code",
      "source": [
        "print( \"Percentage Difference in Accuracy : \", (0.9146347830627056 -  0.9014879425346332)*100)"
      ],
      "metadata": {
        "colab": {
          "base_uri": "https://localhost:8080/"
        },
        "id": "yD51rW233rtY",
        "outputId": "2bd35e5b-1c9f-49d7-f3a1-5022a61c5cae"
      },
      "execution_count": 268,
      "outputs": [
        {
          "output_type": "stream",
          "name": "stdout",
          "text": [
            "Percentage Difference in Accuracy :  1.3146840528072468\n"
          ]
        }
      ]
    },
    {
      "cell_type": "code",
      "source": [
        "# split1_length_0_50 = test[test['punctuations'] <= 50]\n",
        "# split2_length_50_max = test[test['punctuations'] > 50]\n",
        "\n",
        "get_performance(custom_model, split1_length_0_50)"
      ],
      "metadata": {
        "colab": {
          "base_uri": "https://localhost:8080/"
        },
        "id": "dbdsV7wH7Oa_",
        "outputId": "57fd25cd-31b8-4d99-eced-a9272ea216d9"
      },
      "execution_count": 269,
      "outputs": [
        {
          "output_type": "stream",
          "name": "stdout",
          "text": [
            "Model's performance on  15676  samples of Test Set :  \n",
            "Accuracy :  0.9124776728757336\n",
            "Precision :  0.8946135831381733\n",
            "Recall :  0.9244420543156763\n",
            "F1 :  0.9092832583972494\n"
          ]
        }
      ]
    },
    {
      "cell_type": "code",
      "source": [
        "get_performance(custom_model, split2_length_50_max)"
      ],
      "metadata": {
        "colab": {
          "base_uri": "https://localhost:8080/"
        },
        "id": "jlsXSo_Y7bF9",
        "outputId": "f96df0d0-f223-48ec-aefe-0378ed486035"
      },
      "execution_count": 270,
      "outputs": [
        {
          "output_type": "stream",
          "name": "stdout",
          "text": [
            "Model's performance on  9324  samples of Test Set :  \n",
            "Accuracy :  0.91001716001716\n",
            "Precision :  0.8917739925218113\n",
            "Recall :  0.9310344827586207\n",
            "F1 :  0.9109814323607426\n"
          ]
        }
      ]
    },
    {
      "cell_type": "markdown",
      "metadata": {
        "id": "WT22WTCBcENu"
      },
      "source": [
        "#### e. (1 point) Write code to evaluate the **fine-tuned model** performance on these two slices, including the metric specified in 1.2 (c) and the confusion matrix."
      ]
    },
    {
      "cell_type": "code",
      "metadata": {
        "id": "R91RMWmCcHcB"
      },
      "source": [
        "################## YOUR CODE HERE ##################\n",
        "\n",
        "####################################################"
      ],
      "execution_count": null,
      "outputs": []
    },
    {
      "cell_type": "code",
      "source": [
        "def get_performance_on_slice(data):\n",
        "  sample_testData_encodings = tokenizer(data['reviews'].to_list(), truncation=True, padding = \"max_length\")\n",
        "  sample_testDataset = my_Dataset(sample_testData_encodings, data['labels'].to_list())\n",
        "  predictions_sample=trainer.predict(sample_testDataset)\n",
        "  y_pred = list(predictions_sample.label_ids)\n",
        "  predictions_tensor = torch.from_numpy(predictions_sample.predictions)\n",
        "  #predictions_tensor = torch.from_numpy(predictions_sample.predictions)\n",
        "  predictions = torch.nn.functional.softmax(predictions_tensor, dim=-1)\n",
        "  predictions = predictions.cpu().detach().numpy()\n",
        "  resulting_probabilities = pd.DataFrame(predictions)\n",
        "  class1_probabilities = list(predictions[:,1])\n",
        "  class1_labels = [1 if item > 0.5 else 0 for item in class1_probabilities]\n",
        "  result_sample_test = pd.DataFrame(list(zip(class1_probabilities,class1_labels)), columns = ['Probabilities','Labels'])\n",
        "  get_model_performance(data['labels'], list(result_sample_test['Labels']))\n",
        "  return "
      ],
      "metadata": {
        "id": "Z84sjOnR3unJ"
      },
      "execution_count": 271,
      "outputs": []
    },
    {
      "cell_type": "code",
      "source": [
        "get_performance_on_slice(split1_length_0_2000)"
      ],
      "metadata": {
        "colab": {
          "base_uri": "https://localhost:8080/",
          "height": 179
        },
        "id": "t8gnVJkl3wQ1",
        "outputId": "5a6c5d6b-8f84-45b0-f151-ac939eed64c0"
      },
      "execution_count": 272,
      "outputs": [
        {
          "output_type": "stream",
          "name": "stderr",
          "text": [
            "***** Running Prediction *****\n",
            "  Num examples = 20909\n",
            "  Batch size = 4\n"
          ]
        },
        {
          "output_type": "display_data",
          "data": {
            "text/html": [
              "\n",
              "    <div>\n",
              "      \n",
              "      <progress value='14108' max='1250' style='width:300px; height:20px; vertical-align: middle;'></progress>\n",
              "      [1250/1250 1:16:44]\n",
              "    </div>\n",
              "    "
            ],
            "text/plain": [
              "<IPython.core.display.HTML object>"
            ]
          },
          "metadata": {}
        },
        {
          "output_type": "stream",
          "name": "stdout",
          "text": [
            "Model's performance on  20909  samples of Test Set :  \n",
            "Accuracy :  0.9328040556698073\n",
            "Precision :  0.9313790806129247\n",
            "Recall :  0.9346704871060172\n",
            "F1 :  0.9330218811078801\n"
          ]
        }
      ]
    },
    {
      "cell_type": "code",
      "source": [
        "get_performance_on_slice(split2_length_2000_max)"
      ],
      "metadata": {
        "colab": {
          "base_uri": "https://localhost:8080/",
          "height": 179
        },
        "id": "JIfOyq3K3yA5",
        "outputId": "2b42026d-c8ce-4a9b-baa3-d3b3f8db6c67"
      },
      "execution_count": 273,
      "outputs": [
        {
          "output_type": "stream",
          "name": "stderr",
          "text": [
            "***** Running Prediction *****\n",
            "  Num examples = 4091\n",
            "  Batch size = 4\n"
          ]
        },
        {
          "output_type": "display_data",
          "data": {
            "text/html": [
              "\n",
              "    <div>\n",
              "      \n",
              "      <progress value='15131' max='1250' style='width:300px; height:20px; vertical-align: middle;'></progress>\n",
              "      [1250/1250 1:17:32]\n",
              "    </div>\n",
              "    "
            ],
            "text/plain": [
              "<IPython.core.display.HTML object>"
            ]
          },
          "metadata": {}
        },
        {
          "output_type": "stream",
          "name": "stdout",
          "text": [
            "Model's performance on  4091  samples of Test Set :  \n",
            "Accuracy :  0.9022243950134441\n",
            "Precision :  0.8956347215253387\n",
            "Recall :  0.9028831562974203\n",
            "F1 :  0.8992443324937028\n"
          ]
        }
      ]
    },
    {
      "cell_type": "code",
      "source": [
        "get_performance_on_slice(split1_length_0_15)"
      ],
      "metadata": {
        "colab": {
          "base_uri": "https://localhost:8080/",
          "height": 179
        },
        "id": "B60TbdAm37gx",
        "outputId": "5629816a-0b35-46c6-ca8f-13d05716cf20"
      },
      "execution_count": 274,
      "outputs": [
        {
          "output_type": "stream",
          "name": "stderr",
          "text": [
            "***** Running Prediction *****\n",
            "  Num examples = 19153\n",
            "  Batch size = 4\n"
          ]
        },
        {
          "output_type": "display_data",
          "data": {
            "text/html": [
              "\n",
              "    <div>\n",
              "      \n",
              "      <progress value='19920' max='1250' style='width:300px; height:20px; vertical-align: middle;'></progress>\n",
              "      [1250/1250 1:21:03]\n",
              "    </div>\n",
              "    "
            ],
            "text/plain": [
              "<IPython.core.display.HTML object>"
            ]
          },
          "metadata": {}
        },
        {
          "output_type": "stream",
          "name": "stdout",
          "text": [
            "Model's performance on  19153  samples of Test Set :  \n",
            "Accuracy :  0.934161750117475\n",
            "Precision :  0.9354483586869495\n",
            "Recall :  0.9381712335641875\n",
            "F1 :  0.9368078175895765\n"
          ]
        }
      ]
    },
    {
      "cell_type": "code",
      "source": [
        "get_performance_on_slice(split2_length_15_max)"
      ],
      "metadata": {
        "colab": {
          "base_uri": "https://localhost:8080/",
          "height": 179
        },
        "id": "8CKBwFZQ39XP",
        "outputId": "d162b923-a7dc-4ebb-b519-958b82f5c5c3"
      },
      "execution_count": 275,
      "outputs": [
        {
          "output_type": "stream",
          "name": "stderr",
          "text": [
            "***** Running Prediction *****\n",
            "  Num examples = 5847\n",
            "  Batch size = 4\n"
          ]
        },
        {
          "output_type": "display_data",
          "data": {
            "text/html": [
              "\n",
              "    <div>\n",
              "      \n",
              "      <progress value='21382' max='1250' style='width:300px; height:20px; vertical-align: middle;'></progress>\n",
              "      [1250/1250 1:22:10]\n",
              "    </div>\n",
              "    "
            ],
            "text/plain": [
              "<IPython.core.display.HTML object>"
            ]
          },
          "metadata": {}
        },
        {
          "output_type": "stream",
          "name": "stdout",
          "text": [
            "Model's performance on  5847  samples of Test Set :  \n",
            "Accuracy :  0.9069608346160424\n",
            "Precision :  0.886762360446571\n",
            "Recall :  0.895330112721417\n",
            "F1 :  0.8910256410256411\n"
          ]
        }
      ]
    },
    {
      "cell_type": "markdown",
      "metadata": {
        "id": "2lpQD5EicG7c"
      },
      "source": [
        "## Problem 3. In-Distribution v.s. Out-of-Distribution\n",
        "\n",
        "In problem 2, when we evaluate the fine-tuned model on the test split that comes from the same distribution the model was fine-tuned on. In this problem, we’ll evaluate the fine-tuned model’s performance on an out-of-distribution test set.\n"
      ]
    },
    {
      "cell_type": "markdown",
      "metadata": {
        "id": "cjR-QhBZdS6P"
      },
      "source": [
        "### 3.1 Evaluate the fine-tuned model on an out-of-distribution task [4 points]\n"
      ]
    },
    {
      "cell_type": "markdown",
      "metadata": {
        "id": "P0thRp1bdWSS"
      },
      "source": [
        "#### a. (1 point) If the dataset has a test split, randomly sample 500 examples from the test split. If it doesn’t have a test split, randomly sample 500 samples from the entire dataset.\n"
      ]
    },
    {
      "cell_type": "code",
      "metadata": {
        "id": "3V1dRlPtw_ZN",
        "colab": {
          "base_uri": "https://localhost:8080/"
        },
        "outputId": "be8e1f09-5f4b-4454-c483-f386973a0303"
      },
      "source": [
        "################## YOUR CODE HERE ##################\n",
        "\n",
        "####################################################\n",
        "\n",
        "\n",
        "from datasets import list_datasets\n",
        "from datasets import load_dataset\n",
        "import pandas as pd\n",
        "datasets_list = list_datasets()\n",
        "len(datasets_list)\n",
        "print(', '.join(dataset for dataset in datasets_list))"
      ],
      "execution_count": 276,
      "outputs": [
        {
          "output_type": "stream",
          "name": "stdout",
          "text": [
            "acronym_identification, ade_corpus_v2, adversarial_qa, aeslc, afrikaans_ner_corpus, ag_news, ai2_arc, air_dialogue, ajgt_twitter_ar, allegro_reviews, allocine, alt, amazon_polarity, amazon_reviews_multi, amazon_us_reviews, ambig_qa, americas_nli, ami, amttl, anli, app_reviews, aqua_rat, aquamuse, ar_cov19, ar_res_reviews, ar_sarcasm, arabic_billion_words, arabic_pos_dialect, arabic_speech_corpus, arcd, arsentd_lev, art, arxiv_dataset, ascent_kb, aslg_pc12, asnq, asset, assin, assin2, atomic, autshumato, babi_qa, banking77, bbaw_egyptian, bbc_hindi_nli, bc2gm_corpus, beans, best2009, bianet, bible_para, big_patent, billsum, bing_coronavirus_query_set, biomrc, biosses, blbooks, blbooksgenre, blended_skill_talk, blimp, blog_authorship_corpus, bn_hate_speech, bnl_newspapers, bookcorpus, bookcorpusopen, boolq, bprec, break_data, brwac, bsd_ja_en, bswac, c3, c4, cail2018, caner, capes, casino, catalonia_independence, cats_vs_dogs, cawac, cbt, cc100, cc_news, ccaligned_multilingual, cdsc, cdt, cedr, cfq, chr_en, cifar10, cifar100, circa, civil_comments, clickbait_news_bg, climate_fever, clinc_oos, clue, cmrc2018, cmu_hinglish_dog, cnn_dailymail, coached_conv_pref, coarse_discourse, codah, code_search_net, code_x_glue_cc_clone_detection_big_clone_bench, code_x_glue_cc_clone_detection_poj104, code_x_glue_cc_cloze_testing_all, code_x_glue_cc_cloze_testing_maxmin, code_x_glue_cc_code_completion_line, code_x_glue_cc_code_completion_token, code_x_glue_cc_code_refinement, code_x_glue_cc_code_to_code_trans, code_x_glue_cc_defect_detection, code_x_glue_ct_code_to_text, code_x_glue_tc_nl_code_search_adv, code_x_glue_tc_text_to_code, code_x_glue_tt_text_to_text, com_qa, common_gen, common_language, common_voice, commonsense_qa, competition_math, compguesswhat, conceptnet5, conll2000, conll2002, conll2003, conllpp, consumer-finance-complaints, conv_ai, conv_ai_2, conv_ai_3, conv_questions, coqa, cord19, cornell_movie_dialog, cos_e, cosmos_qa, counter, covid_qa_castorini, covid_qa_deepset, covid_qa_ucsd, covid_tweets_japanese, covost2, cppe-5, craigslist_bargains, crawl_domain, crd3, crime_and_punish, crows_pairs, cryptonite, cs_restaurants, cuad, curiosity_dialogs, daily_dialog, dane, danish_political_comments, dart, datacommons_factcheck, dbpedia_14, dbrd, deal_or_no_dialog, definite_pronoun_resolution, dengue_filipino, dialog_re, diplomacy_detection, disaster_response_messages, discofuse, discovery, disfl_qa, doc2dial, docred, doqa, dream, drop, duorc, dutch_social, dyk, e2e_nlg, e2e_nlg_cleaned, ecb, ecthr_cases, eduge, ehealth_kd, eitb_parcc, electricity_load_diagrams, eli5, eli5_category, emea, emo, emotion, emotone_ar, empathetic_dialogues, enriched_web_nlg, eraser_multi_rc, esnli, eth_py150_open, ethos, eu_regulatory_ir, eurlex, euronews, europa_eac_tm, europa_ecdc_tm, europarl_bilingual, event2Mind, evidence_infer_treatment, exams, factckbr, fake_news_english, fake_news_filipino, farsi_news, fashion_mnist, fever, few_rel, financial_phrasebank, finer, flores, flue, food101, fquad, freebase_qa, gap, gem, generated_reviews_enth, generics_kb, german_legal_entity_recognition, germaner, germeval_14, giga_fren, gigaword, glucose, glue, gnad10, go_emotions, gooaq, google_wellformed_query, grail_qa, great_code, greek_legal_code, guardian_authorship, gutenberg_time, hans, hansards, hard, harem, has_part, hate_offensive, hate_speech18, hate_speech_filipino, hate_speech_offensive, hate_speech_pl, hate_speech_portuguese, hatexplain, hausa_voa_ner, hausa_voa_topics, hda_nli_hindi, head_qa, health_fact, hebrew_projectbenyehuda, hebrew_sentiment, hebrew_this_world, hellaswag, hendrycks_test, hind_encorp, hindi_discourse, hippocorpus, hkcancor, hlgd, hope_edi, hotpot_qa, hover, hrenwac_para, hrwac, humicroedit, hybrid_qa, hyperpartisan_news_detection, iapp_wiki_qa_squad, id_clickbait, id_liputan6, id_nergrit_corpus, id_newspapers_2018, id_panl_bppt, id_puisi, igbo_english_machine_translation, igbo_monolingual, igbo_ner, ilist, imdb, imdb_urdu_reviews, imppres, indic_glue, indonli, indonlu, inquisitive_qg, interpress_news_category_tr, interpress_news_category_tr_lite, irc_disentangle, isixhosa_ner_corpus, isizulu_ner_corpus, iwslt2017, jeopardy, jfleg, jigsaw_toxicity_pred, jigsaw_unintended_bias, jnlpba, journalists_questions, kan_hope, kannada_news, kd_conv, kde4, kelm, kilt_tasks, kilt_wikipedia, kinnews_kirnews, klue, kor_3i4k, kor_hate, kor_ner, kor_nli, kor_nlu, kor_qpair, kor_sae, kor_sarcasm, labr, lama, lambada, large_spanish_corpus, laroseda, lc_quad, lener_br, lex_glue, liar, librispeech_asr, librispeech_lm, limit, lince, linnaeus, liveqa, lj_speech, lm1b, lst20, m_lama, mac_morpho, makhzan, masakhaner, math_dataset, math_qa, matinf, mbpp, mc4, mc_taco, md_gender_bias, mdd, med_hop, medal, medical_dialog, medical_questions_pairs, menyo20k_mt, meta_woz, metooma, metrec, miam, mkb, mkqa, mlqa, mlsum, mnist, mocha, moroco, movie_rationales, mrqa, ms_marco, ms_terms, msr_genomics_kbcomp, msr_sqa, msr_text_compression, msr_zhen_translation_parity, msra_ner, mt_eng_vietnamese, muchocine, multi_booked, multi_eurlex, multi_news, multi_nli, multi_nli_mismatch, multi_para_crawl, multi_re_qa, multi_woz_v22, multi_x_science_sum, multidoc2dial, multilingual_librispeech, mutual_friends, mwsc, myanmar_news, narrativeqa, narrativeqa_manual, natural_questions, ncbi_disease, nchlt, ncslgr, nell, neural_code_search, news_commentary, newsgroup, newsph, newsph_nli, newspop, newsqa, newsroom, nkjp-ner, nli_tr, nlu_evaluation_data, norec, norne, norwegian_ner, nq_open, nsmc, numer_sense, numeric_fused_head, oclar, offcombr, offenseval2020_tr, offenseval_dravidian, ofis_publik, ohsumed, ollie, omp, onestop_english, onestop_qa, open_subtitles, openai_humaneval, openbookqa, openslr, openwebtext, opinosis, opus100, opus_books, opus_dgt, opus_dogc, opus_elhuyar, opus_euconst, opus_finlex, opus_fiskmo, opus_gnome, opus_infopankki, opus_memat, opus_montenegrinsubs, opus_openoffice, opus_paracrawl, opus_rf, opus_tedtalks, opus_ubuntu, opus_wikipedia, opus_xhosanavy, orange_sum, oscar, para_crawl, para_pat, parsinlu_reading_comprehension, pass, paws-x, paws, pec, peer_read, peoples_daily_ner, per_sent, persian_ner, pg19, php, piaf, pib, piqa, pn_summary, poem_sentiment, polemo2, poleval2019_cyberbullying, poleval2019_mt, polsum, polyglot_ner, prachathai67k, pragmeval, proto_qa, psc, ptb_text_only, pubmed, pubmed_qa, py_ast, qa4mre, qa_srl, qa_zre, qangaroo, qanta, qasc, qasper, qed, qed_amara, quac, quail, quarel, quartz, quora, quoref, race, re_dial, reasoning_bg, recipe_nlg, reclor, red_caps, reddit, reddit_tifu, refresd, reuters21578, riddle_sense, ro_sent, ro_sts, ro_sts_parallel, roman_urdu, ronec, ropes, rotten_tomatoes, russian_super_glue, s2orc, samsum, sanskrit_classic, saudinewsnet, sberquad, scan, scb_mt_enth_2020, scene_parse_150, schema_guided_dstc8, scicite, scielo, scientific_papers, scifact, sciq, scitail, scitldr, search_qa, sede, selqa, sem_eval_2010_task_8, sem_eval_2014_task_1, sem_eval_2018_task_1, sem_eval_2020_task_11, sent_comp, senti_lex, senti_ws, sentiment140, sepedi_ner, sesotho_ner_corpus, setimes, setswana_ner_corpus, sharc, sharc_modified, sick, silicone, simple_questions_v2, siswati_ner_corpus, smartdata, sms_spam, snips_built_in_intents, snli, snow_simplified_japanese_corpus, so_stacksample, social_bias_frames, social_i_qa, sofc_materials_articles, sogou_news, spanish_billion_words, spc, species_800, speech_commands, spider, squad, squad_adversarial, squad_es, squad_it, squad_kor_v1, squad_kor_v2, squad_v1_pt, squad_v2, squadshifts, srwac, sst, stereoset, story_cloze, stsb_mt_sv, stsb_multi_mt, style_change_detection, subjqa, super_glue, superb, svhn, swag, swahili, swahili_news, swda, swedish_medical_ner, swedish_ner_corpus, swedish_reviews, swiss_judgment_prediction, tab_fact, tamilmixsentiment, tanzil, tapaco, tashkeela, taskmaster1, taskmaster2, taskmaster3, tatoeba, ted_hrlr, ted_iwlst2013, ted_multi, ted_talks_iwslt, telugu_books, telugu_news, tep_en_fa_para, text2log, thai_toxicity_tweet, thainer, thaiqa_squad, thaisum, the_pile, the_pile_books3, the_pile_openwebtext2, the_pile_stack_exchange, tilde_model, time_dial, times_of_india_news_headlines, timit_asr, tiny_shakespeare, tlc, tmu_gfm_dataset, told-br, totto, trec, trivia_qa, tsac, ttc4900, tunizi, tuple_ie, turk, turkic_xwmt, turkish_movie_sentiment, turkish_ner, turkish_product_reviews, turkish_shrinked_ner, turku_ner_corpus, tweet_eval, tweet_qa, tweets_ar_en_parallel, tweets_hate_speech_detection, twi_text_c3, twi_wordsim353, tydiqa, ubuntu_dialogs_corpus, udhr, um005, un_ga, un_multi, un_pc, universal_dependencies, universal_morphologies, urdu_fake_news, urdu_sentiment_corpus, vctk, vivos, web_nlg, web_of_science, web_questions, weibo_ner, wi_locness, wider_face, wiki40b, wiki_asp, wiki_atomic_edits, wiki_auto, wiki_bio, wiki_dpr, wiki_hop, wiki_lingua, wiki_movies, wiki_qa, wiki_qa_ar, wiki_snippets, wiki_source, wiki_split, wiki_summary, wikiann, wikicorpus, wikihow, wikipedia, wikisql, wikitext, wikitext_tl39, wili_2018, wino_bias, winograd_wsc, winogrande, wiqa, wisesight1000, wisesight_sentiment, wmt14, wmt15, wmt16, wmt17, wmt18, wmt19, wmt20_mlqe_task1, wmt20_mlqe_task2, wmt20_mlqe_task3, wmt_t2t, wnut_17, wongnai_reviews, woz_dialogue, wrbsc, x_stance, xcopa, xcsr, xed_en_fi, xglue, xnli, xor_tydi_qa, xquad, xquad_r, xsum, xsum_factuality, xtreme, yahoo_answers_qa, yahoo_answers_topics, yelp_polarity, yelp_review_full, yoruba_bbc_topics, yoruba_gv_ner, yoruba_text_c3, yoruba_wordsim353, youtube_caption_corrections, zest, 0n1xus/codexglue, 0n1xus/pytorrent-standalone, AConsApart/anime_subtitles_DialoGPT, AHussain0418/day2_data, AHussain0418/day4data, AHussain0418/demo_data, AI-Sweden/SuperLim, AI-it/khs_service_test, AI-it/korean-hate-speech, ARKseal/YFCC14M_subset_webdataset, ARTeLab/fanpage, ARTeLab/ilpost, ARTeLab/mlsum-it, ASCCCCCCCC/amazon_zh, Abdo1Kamr/Arabic_Hadith, Abirate/code_net_dataset, Abirate/code_net_dev_dataset, Abirate/code_net_test_final_dataset, Abirate/english_quotes, Abirate/french_book_reviews, AdWeeb/DravidianMT, Adnan/Urdu_News_Headlines, AhmadSawal/qa, AhmedSSoliman/CoNaLa, Aisha/BAAD16, Aisha/BAAD6, Akila/ForgottenRealmsWikiDataset, Akshith/aa, Akshith/g_rock, Akshith/test, Alegzandra/test, AlekseyDorkin/extended_tweet_emojis, AlekseyKorshuk/comedy-scripts, AlekseyKorshuk/horror-scripts, AlexMaclean/all-deletion-compressions, AlexMaclean/wikipedia-deletion-compressions, AlexZapolskii/zapolskii-amazon, AlgoveraAI/CryptoPunks, Aliseyfi/event_token_type, Alvenir/nst-da-16khz, AndrewMcDowell/de_corpora_parliament_processed, Annabelleabbott/real-fake-news-workshop, Annielytics/DoctorsNotes, Anurag-Singh-creator/task, Anurag-Singh-creator/tasks, ApiInferenceTest/asr_dummy, Arnold/hausa_common_voice, AryanLala/autonlp-data-Scientific_Title_Generator, Avishekavi/Avi, Ayou/mobile_bert_datas, BSC-TeMU/SQAC, BSC-TeMU/ancora-ca-ner, BSC-TeMU/sts-ca, BSC-TeMU/tecla, BSC-TeMU/viquiquad, BSC-TeMU/xquad-ca, Babelscape/rebel-dataset, Babelscape/wikineural, BatuhanYilmaz/github-issues, Baybars/parla_text_corpus, BeIR/beir-corpus, BeIR/beir, Binbin/my_dataset, BlakesOrb6/Fred-Flintstone, Bosio/pacman, Bosio/pacman_descriptions, BritishLibraryLabs/EThOS-PhD-metadata, CAGER/rick, CALM/arwiki, CAiRE/ASCEND, CShorten/KerasBERT, CShorten/ZillowPrize, ChadxxxxHall/Inter-vision, Champion/vpc2020_clear_anon_speech, Check/a_re_gi, Check/region_1, Check/region_2, Check/region_3, Check/region_4, Check/region_5, Check/region_6, Check/region_7, Check/region_8, Check/region_9, Check/regions, Check/vverify, Cheranga/test, ChristophSchuhmann/MS_COCO_2017_URL_TEXT, Chun/dataset, Chuu/Vhh, CodedotAI/code-clippy-tfrecords, CodedotAI/code_clippy, Cropinky/flatearther, Cropinky/rap_lyrics_english, Cropinky/wow_fishing_bobber, Cyberfish/pos_tagger, Cyberfish/text_error_correction, DDSC/angry-tweets, DDSC/dkhate, DDSC/europarl, DDSC/lcc, DDSC/partial-danish-gigaword-no-twitter, DDSC/reddit-da-asr-preprocessed, DDSC/reddit-da, DDSC/squad-da, DDSC/twitter-sent, DELith/github-issues, DSCI511G1/COP26_Energy_Transition_Tweets, DanL/scientific-challenges-and-directions-dataset, Daniele/dante-corpus, Darren/data, Datatang/accented_english, Datatang/accented_mandarin, Datatang/chinese_dialect, Datatang/mandarin_chinese, Datatang/mixed_speech_chinese_english, Datatang/multi_language, Datatang/multi_language_conversation, Davlan/conll2003_de_noMISC, Davlan/conll2003_noMISC, Davlan/masakhanerV1, DelgadoPanadero/Pokemon, DeskDown/ALTDataset, DeskDown/ALTDataset_en-to-fil-vi-id-ms-ja-khm, DiFronzo/Human_Activity_Recognition, Dmitriy612/1, DoctorSlimm/yipee, Doohae/klue-mrc-bm25, Doohae/modern_music_re, DoyyingFace/github-embeddings-doy, DoyyingFace/github-issues-doy, DrishtiSharma/_CV8_processed, DrishtiSharma/as_opus100_processed, DrishtiSharma/bg_opus100_processed, DrishtiSharma/br_opus100_processed, DrishtiSharma/hi_opus100_processed, DrishtiSharma/kk_opus100_processed, DrishtiSharma/mr_opus100_processed, DrishtiSharma/or_opus100_processed, DrishtiSharma/sl_opus100_processed, DrishtiSharma/sr_opus100_processed, Dumiiii/common-voice-romaniarss, EMBO/biolang, EMBO/sd-nlp, ESZER/H, Emanuel/UD_Portuguese-Bosque, Emma121/testtest, Emon/sobuj, Enes3774/data, Exr0n/wiki-entity-similarity, Eymen3455/xsum_tr, FIG-Loneliness/FIG-Loneliness, FL33TW00D/test-dataset, FRTNX/cosuju, FRTNX/worldbank-projects, Felix-ML/quoteli3, Fhrozen/JTubeSpeech, Finnish-NLP/mc4_fi_cleaned, Firoj/CrisisBench, Francois/futures_es, Fraser/mnist-text-default, Fraser/mnist-text-no-spaces, Fraser/mnist-text-small, Fraser/news-category-dataset, Fraser/program-synthesis, Fraser/python-lines, Fraser/python-state-changes, Fraser/short-jokes, Fraser/wiki_sentences, GEM/ART, GEM/BiSECT, GEM/CrossWOZ, GEM/OrangeSum, GEM/RiSAWOZ, GEM/RotoWire_English-German, GEM/SIMPITIKI, GEM/SciDuet, GEM/Taskmaster, GEM/cochrane-simplification, GEM/common_gen, GEM/conversational_weather, GEM/cs_restaurants, GEM/dart, GEM/dstc10_track2_task2, GEM/e2e_nlg, GEM/indonlg, GEM/mlb_data_to_text, GEM/mlsum, GEM/opusparcus, GEM/references, GEM/schema_guided_dialog, GEM/sportsett_basketball, GEM/squad_v2, GEM/surface_realisation_st_2020, GEM/totto, GEM/turku_hockey_data2text, GEM/turku_paraphrase_corpus, GEM/viggo, GEM/web_nlg, GEM/wiki_auto_asset_turk, GEM/wiki_cat_sum, GEM/wiki_lingua, GEM/xlsum, GEM/xsum, GEM-submissions/submission-scores, GV05/shlomit_speech, Gabriel/quora_swe, Gabriel/squad_v2_sv, GalacticAI/Noirset, Gauravadlakha1509/new_one, GeoffVdr/cv8_trainval_processed, GonzaloA/fake_news, Graphcore/gqa-lxmert, Graphcore/gqa, Graphcore/vqa-lxmert, Graphcore/vqa, Graphcore/wikipedia-bert-128, Graphcore/wikipedia-bert-512, GroNLP/ik-nlp-22_pestyle, GroNLP/ik-nlp-22_slp, GroNLP/ik-nlp-22_transqe, GroNLP/ik-nlp-22_winemag, Gwangho/NCBI-Sars-Cov-2, HHousen/ParaSCI, HHousen/msrp, HHousen/quora, Halilyesilceng/autonlp-data-nameEntityRecognition, HarleyQ/WitcherDialogue, HarrisDePerceptron/sv_corpora_parliament_processed, HarrisDePerceptron/ur_corpora_pib, Harveenchadha/bol-models, HarveyBWest/mybot, Hellisotherpeople/DebateSum, Helsinki-NLP/tatoeba_mt, HenryAI/KerasAPIReference.txt, HenryAI/KerasBERTv1-Data, HenryAI/KerasCodeExamples.txt, HenryAI/KerasDeveloperGuides.txt, Husain/intent-classification-en-fr, IFSTalfredoswald/MBTI, IGESML/pubmed_neg, Iftoo95/Arabic_Sentiment_and_Topics, IlyaGusev/gazeta, IlyaGusev/headline_cause, Intel/WEC-Eng, Ishwar/Senti, Iskaj/dutch_corpora_parliament_processed, JIWON/nil_dataset, JIsanan/war-ceb-wikipedia, Jack0508/TED2020_kor, Jack0508/TED2020_vi, Jack0508/TED2020vi_kor, Jack0508/demo, Jack0508/eng_vi_demo, Jack0508/test, Jack0508/vi-ko-TED-txt, Jean-Baptiste/wikiner_fr, Jeska/autonlp-data-vaccinfaq, Jeska/vaccinchat, JesseParvess/book_snippets_asr, Jikiwa/demo1, Jikiwa/demo2, Jikiwa/demo3, Jikiwa/demo4, Jikiwa/glue-mnli-train, Jikiwa/push-to-hub, Jikiwa/pushe-to-hub, Jikiwa/pushed-to-hub, Jikiwa/pushedd-to-hub, Jikiwa/random_repo, Jikiwa/stargazers, Jikiwa/temp-repo-valid, Jikiwa/test-16336477963335, Jikiwa/test-16336478042515, Jikiwa/test-16336479967338, Jikiwa/test-16336480189315, Jikiwa/test-16336486877862, Jikiwa/test-16340052901609, Jikiwa/test-16340052972855, Jikiwa/test-16344347220590, Jikiwa/test-16344347234752, Jikiwa/test-16344349332219, Jikiwa/test-16344349440339, Jikiwa/test-16344351925697, Jikiwa/test-16344360501144, Jikiwa/test-16344361893586, Jikiwa/test-16344362261113, Jikiwa/test-16344362895458, Jikiwa/test-16344364230608, Jikiwa/test-16344364547167, Jikiwa/test-16344367190179, Jikiwa/test-16344368182003, JonathanSum/github-issues, JonathanSum/sv_corpora_parliament_processed, JustinE/Test, KBLab/overlim, KBLab/sucx3_ner, KETI-AIR/aihub, KETI-AIR/klue, KETI-AIR/kor_corpora, KETI-AIR/korquad, KETI-AIR/nikl, KTH/martin, KTH/nst, KTH/speechdat, KTH/waxholm, Karavet/ARPA-Armenian-Paraphrase-Corpus, Karavet/ILUR-news-text-classification-corpus, Karavet/pioNER-Armenian-Named-Entity, Khanoooo/autonlp-data-Corona, Khondoker/SentNoB, Kili/plastic_in_river, Kira-Asimov/gender_clinical_trial, LIAMF-USP/arc-retrieval-c4, Langame/waiting-messages, Language/Fren, Language/trans, Lenn/github-issues, LeoCordoba/CC-NEWS-ES-titles, LeoCordoba/CC-NEWS-ES, LeverageX/book-summarization, LeverageX/klue-mrc, LeverageX/klue-re, Linda/test1111, Llamacha/Monolingual-cha, Llamacha/monolingual-quechua-iic, LoganKells/amazon_product_reviews_video_games, Lucylulu/amazon, Lucylulu/imdb, LuisG07/es_corpora_parliament_processed, Lumos/yahoo_hga, MBAH/MOVIESON, MKK/Dhivehi-English, MLCommons/multilingual-spoken-words, Mahalakshmi/ta_lm_processed, Mansooreh/sharif-emotional-speech-dataset, MarianaSahagun/test, MarkusDressel/cord, Marzipan/QA4PC, Mateo/test_dataset, Mateo/testdataset, McGill-NLP/mlquestions, Mcy/random_uselesstestsequence, Melinoe/TheLabTexts, MickyMike/large_c_corpus, Motahar/github-issues, Mrleo1nid/Test_ru_dataset, Mulin/my_second_dataset, Mulin/my_third_dataset, NLPC-UOM/English-Tamil-Parallel-Corpus, NLPC-UOM/Sinhala-POS-Data, NTUYG/RAGTest, NYTK/HuCOLA, NYTK/HuCoPA, NYTK/HuRC, NYTK/HuSST, NYTK/HuWSC, NahedAbdelgaber/evaluating-student-writing, Narsil/asr_dummy, Narsil/conversational_dummy, Narsil/image_dummy, Narsil/test_data, Nathanael/NPS, Navigator/dodydard-marty, NbAiLab/NCC, NbAiLab/NCC_small_100, NbAiLab/NCC_small_divided, NbAiLab/NPSC, NbAiLab/NPSC_test, NbAiLab/NPSC_test2, NbAiLab/bokmaal_admin, NbAiLab/norec_agg, NbAiLab/norne, NbAiLab/norwegian_parliament, NikolajW/NPS_nonNormalized-Cased, NishinoTSK/leishmaniaV2, NishinoTSK/leishmaniav1, Ofrit/tmp, Omar2027/caner_replicate, OmarN121/train, PDJ107/riot-data, Paul/hatecheck, PaulLerner/viquae_dataset, PaulLerner/viquae_images, PaulLerner/viquae_wikipedia, Pengfei/asfwe, Pengfei/test, Pengfei/test1, PereLluis13/parla_text_corpus, PereLluis13/spanish_speech_text, Perkhad/corejur, PlanTL-GOB-ES/SQAC, Plim/common_voice_7_0_fr_processed, Plim/fr_corpora_parliament_processed, Plim/fr_wikipedia_processed, Plim/language_model_fr, Pongsaky/Wiki_SCG, Pratik/Gujarati_OpenSLR, Pyjay/emotion_nl, Pyke/patent_abstract, QA/abk-eng, R0bk/XFUN, RBG-AI/CoRePooL, Recognai/ag_news_corrected_labels, Recognai/corrected_labels_ag_news, Recognai/gutenberg_spacy-ner, Recognai/imdb_spacy-ner, Recognai/news, Recognai/sentiment-banking, Recognai/veganuary, Remesita/tagged_reviews, Renukswamy/Patent_sentiment_analysis, RohanAiLab/persian_blog, RohanAiLab/persian_daily_news, RohanAiLab/persian_news_dataset, RollingMuffin/test_scripts, Romrawin/mn-sim, RuudVelo/commonvoice_mt_8_processed, RuudVelo/commonvoice_nl_8_processed, RuudVelo/nl_corpora_parliament_processed, SCourthial/test, Sabokou/qg_squad_modified, Sabokou/qg_squad_modified_dev, SajjadAyoubi/persian_qa, Sam2021/Arguement_Mining_CL2017, Samip/func, SaulLu/Natural_Questions_HTML, SaulLu/Natural_Questions_HTML_Toy, SaulLu/Natural_Questions_HTML_reduced_all, SaulLu/test, SaulLu/toy_struc_dataset, SebastianS/github-issues, SergeiGKS/wikiner_fr_job, Serhii/Custom_SQuAD, SetFit/20_newsgroups, SetFit/TREC-QC, SetFit/ag_news, SetFit/amazon_counterfactual, SetFit/amazon_counterfactual_en, SetFit/amazon_polarity, SetFit/bbc-news, SetFit/emotion, SetFit/enron_spam, SetFit/ethos, SetFit/ethos_binary, SetFit/go_emotions, SetFit/hate_speech18, SetFit/hate_speech_offensive, SetFit/imdb, SetFit/insincere-questions, SetFit/sst2, SetFit/sst5, SetFit/student-question-categories, SetFit/subj, SetFit/toxic_conversations, SetFit/tweet_eval_stance, SetFit/tweet_sentiment_extraction, SetFit/yelp_review_full, Shanna/Jamaica, ShinyQ/PPKM_Pemerintah, Shushant/ContaminationQA, Shushant/NepaliSentiment, Shushant/nepali, SkelterLabsInc/JaQuAD, Smiling/webnovels-en, SoLID/shellcode_i_a32, SocialGrep/one-million-reddit-confessions, SocialGrep/one-million-reddit-jokes, SocialGrep/one-million-reddit-questions, SocialGrep/one-year-of-r-india, SocialGrep/reddit-crypto-aug-2021, SocialGrep/reddit-nonewnormal-complete, SocialGrep/reddit-wallstreetbets-aug-2021, SocialGrep/ten-million-reddit-answers, SocialGrep/the-2022-trucker-strike-on-reddit, SocialGrep/the-reddit-covid-dataset, SophieTr/reddit_clean, TRoboto/masc, TRoboto/names, TaahaKazi/FCE, Taekyoon/test_none_state, Tahsin-Mayeesha/Bengali-SQuAD, Tatyana/ru_sentiment_dataset, Terry0107/RiSAWOZ, TestCher/Testi, Tevatron/msmarco-passage-corpus, Tevatron/msmarco-passage, Tevatron/scifact-corpus, Tevatron/scifact, Tevatron/wikipedia-curated-corpus, Tevatron/wikipedia-curated, Tevatron/wikipedia-nq-corpus, Tevatron/wikipedia-nq, Tevatron/wikipedia-squad-corpus, Tevatron/wikipedia-squad, Tevatron/wikipedia-trivia-corpus, Tevatron/wikipedia-trivia, Tevatron/wikipedia-wq-corpus, Tevatron/wikipedia-wq, TheBlindBandit/SpongeNot, TimTreasure4/Test, Trainmaster9977/957, Trainmaster9977/zbakuman, TristanBehrens/js-fakes-4bars, TurkuNLP/register_mc4, TurkuNLP/register_oscar, TurkuNLP/turku_hockey_data2text, TurkuNLP/turku_paraphrase_corpus, Tyler/wikimatrix_collapsed, UMU/spanish-saticorpus-2021, Usin2705/test, VJGamer/test, VadorMazer/skyrimdialogstest, Valahaar/wsdmt, Vishnu393831/VICTORY_dataset, Vishva/UniFAQ_DataSET, Voxcroft/alffa_amharic, Voxcroft/alffa_wolof, Wiedy/be, Wiedy/wav2vec2-large-xls-r-300m-tr-colab, Wikidepia/IndoParaCrawl, Wikidepia/IndoSQuAD, Wikidepia/mc4-filter, WillFerreiraSantos/halos, Wuhu0/output, WyrdCurt/AO4W, Xenova/sponsorblock-768, Xenova/sponsorblock, XiangPan/iflytek, XiangPan/snli_break, XiangXiang/clt, Xinghua/test, Yatoro/github-issues, Yatoro/github_issues, Yeva/arm-summary, YuAnthony/tnews, Yves/fhnw_swiss_parliament, Zaid/coqa_expanded, Zaid/quac_expanded, Zoe10/ner_dataset, abhishek/autonlp-data-imdb_eval, abhishek/autonlp-data-prodigy-10, abidlabs/crowdsourced-notes, abidlabs/crowdsourced-speech-demo, abidlabs/crowdsourced-speech, abidlabs/crowdsourced-speech2, abidlabs/crowdsourced-speech3, abidlabs/crowdsourced-speech4, abidlabs/crowdsourced-speech5, abidlabs/crowdsourced-speech6, abidlabs/crowdsourced-speech7, abidlabs/test-audio-1, abidlabs/test-audio-13, abidlabs/test-image-13, abidlabs/test-image-classifier-dataset, abidlabs/test-translation-dataset, abidlabs/voice-verification-adversarial-dataset, abwicke/C-B-R, abwicke/koplo, adalbertojunior/MININER, adalbertojunior/punctuation-ptbr-light, adalbertojunior/punctuation-ptbr, adamlin/FewShotWoz, adamlin/companion, adamlin/coqa_squad, adamlin/daily_dialog, adamlin/domain_classification, adamlin/mail-classification, adamlin/multiwoz_dst, adamlin/qa_verification, adamlin/roc_story, adamlin/rs, adamlin/weibo_ner, addy88/nq-question-answeronly, addy88/sanskrit-asr-84-eval, addy88/sanskrit-asr-84, afasafen/mydataset, afasafen/newDataSet, ai4bharat/samanantar, aidystark/Yt, ajmbell/test-dataset, akhaliq/test, akumar33/manufacturing, albertvillanova/carbon_24, albertvillanova/datasets-tests-compression, albertvillanova/dummy_libri2mix, albertvillanova/legal_contracts, albertvillanova/lm_en_dummy0, albertvillanova/lm_en_dummy1, albertvillanova/lm_en_dummy2, albertvillanova/lm_en_dummy3, albertvillanova/lm_en_dummy4, albertvillanova/multilingual_spoken_words, albertvillanova/pmc_open_access, albertvillanova/sat, albertvillanova/tests-public-raw-jsonl, albertvillanova/tests-raw-jsonl, albertvillanova/tmp-tests-zip, albertvillanova/tmp-tests, alexantonov/chuvash_parallel, aliabd/crowdsourced-calculator-demo, aliabd/crowdsourced-speech4, aliabd/hello-world, alireza655/alireza655, alistvt/coqa-flat, alistvt/coqa-stories, alistvt/coqa, alittleie/mis_238, allegro/klej-allegro-reviews, allegro/klej-cbd, allegro/klej-cdsc-e, allegro/klej-cdsc-r, allegro/klej-dyk, allegro/klej-nkjp-ner, allegro/klej-polemo2-in, allegro/klej-polemo2-out, allegro/klej-psc, allegro/polish-question-passage-pairs, allegro/summarization-allegro-articles, allegro/summarization-polish-summaries-corpus, allenai/c4, allenai/scico, alperbayram/TwitterDuygu, alperiox/autonlp-data-user-review-classification, alvp/autonlp-data-alberti-stanza-names, alvp/autonlp-data-alberti-stanzas-finetuning, ami-wav2vec2/ami_multi_headset_segmented_and_chunked, ami-wav2vec2/ami_multi_headset_segmented_and_chunked_and_concatenated, ami-wav2vec2/ami_multi_headset_segmented_and_chunked_dummy, ami-wav2vec2/ami_single_headset_segmented, ami-wav2vec2/ami_single_headset_segmented_and_chunked, ami-wav2vec2/ami_single_headset_segmented_and_chunked_and_concatenated, ami-wav2vec2/ami_single_headset_segmented_and_chunked_dummy, ami-wav2vec2/ami_single_headset_segmented_dummy, aminedjebbie/Multi-Arabic-dialects, andrepreira/outros2021, anechaev/med_history, anechaev/ru_med_history, animesh/autonlp-data-peptides, antoinegk/HealthChallenge_dataset, anton-l/common_language, anton-l/common_voice_7_0_test, anton-l/superb, anton-l/superb_demo, anton-l/superb_dummy, anukaver/EstQA, anuragshas/bg_opus100_processed, anuragshas/ha_cc100_processed, anuragshas/ha_opus100_processed, anuragshas/hi_opus100_processed, anuragshas/lv_opus100_processed, anuragshas/mr_cc100_processed, anuragshas/mt_opus100_processed, anuragshas/pa_cc100_processed, anuragshas/sk_opus100_processed, anuragshas/sl_opus100_processed, anuragshas/ur_opus100_processed, anushakamath/sv_corpora_parliament_processed_v0, anzorq/kbd-ru-1.67M-temp, anzorq/kbd-ru-jsonl-tmp, anzorq/kbd-ru-temp, arch-raven/MAMI, arjunth2001/online_privacy_qna, artemis13fowl/github-issues, artyeth/Dorian, aryanpatke/github-issues, asahi417/qg_jaquad, asahi417/qg_squad, aseifert/merlin, aseifert/pie-synthetic, ashish-shrivastava/dont-know-dataset, ashraq/dhivehi-corpus, asi/wikitext_fr, asoroa/bsbasque, astarostap/antisemitic-tweets, astarostap/antisemitic_tweets, astarostap/autonlp-data-antisemitism-2, astremo/friendly_JA_corpus, astrideducation/cefr-combined-no-cefr-test, atelders/politweets, athar/QA, athivvat/thai-rap-lyrics, ausgequetschtem/jtrddfhfgh, austin/rheum_abstracts, avadesian/dddd, avanishcobaltest/datasetavanish, averyanalex/panorama, azuur/es_corpora_parliament_processed, azuur/gn_wiki_cleaned, badranx/opus_raw, batelicm/feedback-prize-2021-qa-concluding-statement, batelicm/feedback-prize-2021-qa-lead, batelicm/feedback-prize-2021-qa-ner, batelicm/feedback-prize-2021-qa-position, batelicm/feedback-prize-2021-qa, bavard/personachat_truecased, beacon/test, bemanningssitua/dplremjfjfj, benjaminbeilharz/better_daily_dialog, benjaminbeilharz/librivoxdeen, bergoliveira/pl_corpus_teste, berkergurcay/2020-10K-Reports, bertin-project/mc4-es-sampled, bertin-project/mc4-sampling, bhadresh-savani/web_split, bhavnicksm/sentihood, bhigy/buckeye_asr, bigscience/LanguageResourceCatalogue, bigscience/P3, bigscience/mc4-sampled, bigscience/open_subtitles_monolingual, bigscience-catalogue-data-dev/lm_code_github-eval_subset, bigscience-catalogue-lm-data/lm_ar_wikibooks, bigscience-catalogue-lm-data/lm_ar_wikibooks_filtered, bigscience-catalogue-lm-data/lm_ar_wikinews_filtered, bigscience-catalogue-lm-data/lm_ar_wikiquote_filtered, bigscience-catalogue-lm-data/lm_ar_wikisource, bigscience-catalogue-lm-data/lm_ar_wikisource_filtered, bigscience-catalogue-lm-data/lm_ar_wikiversity_filtered, bigscience-catalogue-lm-data/lm_ar_wiktionary_filtered, bigscience-catalogue-lm-data/lm_ca_wikibooks_filtered, bigscience-catalogue-lm-data/lm_ca_wikimedia_filtered, bigscience-catalogue-lm-data/lm_ca_wikinews_filtered, bigscience-catalogue-lm-data/lm_ca_wikiquote_filtered, bigscience-catalogue-lm-data/lm_ca_wikisource_filtered, bigscience-catalogue-lm-data/lm_ca_wiktionary_filtered, bigscience-catalogue-lm-data/lm_code_stackexchange, bigscience-catalogue-lm-data/lm_en_no_code_stackexchange, bigscience-catalogue-lm-data/lm_en_wikibooks_filtered, bigscience-catalogue-lm-data/lm_en_wikinews_filtered, bigscience-catalogue-lm-data/lm_en_wikiquote_filtered, bigscience-catalogue-lm-data/lm_en_wikiversity_filtered, bigscience-catalogue-lm-data/lm_en_wikivoyage_filtered, bigscience-catalogue-lm-data/lm_en_wiktionary_filtered, bigscience-catalogue-lm-data/lm_es_wikibooks_filtered, bigscience-catalogue-lm-data/lm_es_wikinews_filtered, bigscience-catalogue-lm-data/lm_es_wikiquote_filtered, bigscience-catalogue-lm-data/lm_es_wikisource_filtered, bigscience-catalogue-lm-data/lm_es_wikiversity_filtered, bigscience-catalogue-lm-data/lm_es_wikivoyage_filtered, bigscience-catalogue-lm-data/lm_es_wiktionary_filtered, bigscience-catalogue-lm-data/lm_eu_wikibooks_filtered, bigscience-catalogue-lm-data/lm_eu_wikiquote_filtered, bigscience-catalogue-lm-data/lm_eu_wikisource_filtered, bigscience-catalogue-lm-data/lm_eu_wiktionary, bigscience-catalogue-lm-data/lm_eu_wiktionary_filtered, bigscience-catalogue-lm-data/lm_fr_wikibooks, bigscience-catalogue-lm-data/lm_fr_wikibooks_filtered, bigscience-catalogue-lm-data/lm_fr_wikinews, bigscience-catalogue-lm-data/lm_fr_wikinews_filtered, bigscience-catalogue-lm-data/lm_fr_wikiquote, bigscience-catalogue-lm-data/lm_fr_wikiquote_filtered, bigscience-catalogue-lm-data/lm_fr_wikisource_filtered, bigscience-catalogue-lm-data/lm_fr_wikiversity_filtered, bigscience-catalogue-lm-data/lm_fr_wikivoyage, bigscience-catalogue-lm-data/lm_fr_wikivoyage_filtered, bigscience-catalogue-lm-data/lm_fr_wiktionary_filtered, bigscience-catalogue-lm-data/lm_id_wikibooks_filtered, bigscience-catalogue-lm-data/lm_id_wikimedia_filtered, bigscience-catalogue-lm-data/lm_id_wikiquote_filtered, bigscience-catalogue-lm-data/lm_id_wikisource_filtered, bigscience-catalogue-lm-data/lm_id_wiktionary_filtered, bigscience-catalogue-lm-data/lm_indic-as_wikisource_filtered, bigscience-catalogue-lm-data/lm_indic-as_wiktionary_filtered, bigscience-catalogue-lm-data/lm_indic-bn_wikibooks_filtered, bigscience-catalogue-lm-data/lm_indic-bn_wikisource_filtered, bigscience-catalogue-lm-data/lm_indic-bn_wikivoyage_filtered, bigscience-catalogue-lm-data/lm_indic-bn_wiktionary_filtered, bigscience-catalogue-lm-data/lm_indic-gu_wikiquote_filtered, bigscience-catalogue-lm-data/lm_indic-gu_wikisource_filtered, bigscience-catalogue-lm-data/lm_indic-gu_wiktionary_filtered, bigscience-catalogue-lm-data/lm_indic-hi_wikibooks_filtered, bigscience-catalogue-lm-data/lm_indic-hi_wikimedia_filtered, bigscience-catalogue-lm-data/lm_indic-hi_wikiquote_filtered, bigscience-catalogue-lm-data/lm_indic-hi_wikisource_filtered, bigscience-catalogue-lm-data/lm_indic-hi_wikiversity_filtered, bigscience-catalogue-lm-data/lm_indic-hi_wikivoyage_filtered, bigscience-catalogue-lm-data/lm_indic-hi_wiktionary_filtered, bigscience-catalogue-lm-data/lm_indic-kn_wikiquote_filtered, bigscience-catalogue-lm-data/lm_indic-kn_wikisource_filtered, bigscience-catalogue-lm-data/lm_indic-kn_wiktionary_filtered, bigscience-catalogue-lm-data/lm_indic-ml_wikibooks_filtered, bigscience-catalogue-lm-data/lm_indic-ml_wikiquote_filtered, bigscience-catalogue-lm-data/lm_indic-ml_wikisource_filtered, bigscience-catalogue-lm-data/lm_indic-ml_wiktionary_filtered, bigscience-catalogue-lm-data/lm_indic-mr_wikibooks_filtered, bigscience-catalogue-lm-data/lm_indic-mr_wikiquote_filtered, bigscience-catalogue-lm-data/lm_indic-mr_wikisource_filtered, bigscience-catalogue-lm-data/lm_indic-mr_wiktionary_filtered, bigscience-catalogue-lm-data/lm_indic-or_wikisource_filtered, bigscience-catalogue-lm-data/lm_indic-or_wiktionary_filtered, bigscience-catalogue-lm-data/lm_indic-pa_wikibooks_filtered, bigscience-catalogue-lm-data/lm_indic-pa_wikisource_filtered, bigscience-catalogue-lm-data/lm_indic-pa_wiktionary_filtered, bigscience-catalogue-lm-data/lm_indic-ta_wikibooks_filtered, bigscience-catalogue-lm-data/lm_indic-ta_wikinews_filtered, bigscience-catalogue-lm-data/lm_indic-ta_wikiquote_filtered, bigscience-catalogue-lm-data/lm_indic-ta_wikisource_filtered, bigscience-catalogue-lm-data/lm_indic-ta_wiktionary_filtered, bigscience-catalogue-lm-data/lm_indic-te_wikibooks_filtered, bigscience-catalogue-lm-data/lm_indic-te_wikiquote_filtered, bigscience-catalogue-lm-data/lm_indic-te_wikisource_filtered, bigscience-catalogue-lm-data/lm_indic-te_wiktionary_filtered, bigscience-catalogue-lm-data/lm_indic-ur_wikibooks_filtered, bigscience-catalogue-lm-data/lm_indic-ur_wikiquote_filtered, bigscience-catalogue-lm-data/lm_indic-ur_wiktionary_filtered, bigscience-catalogue-lm-data/lm_nigercongo-bm_wikibooks_filtered, bigscience-catalogue-lm-data/lm_nigercongo-ln_wiktionary_filtered, bigscience-catalogue-lm-data/lm_nigercongo-rw_wiktionary_filtered, bigscience-catalogue-lm-data/lm_nigercongo-st_wiktionary_filtered, bigscience-catalogue-lm-data/lm_nigercongo-sw_wikibooks_filtered, bigscience-catalogue-lm-data/lm_nigercongo-sw_wiktionary_filtered, bigscience-catalogue-lm-data/lm_nigercongo-tn_wiktionary_filtered, bigscience-catalogue-lm-data/lm_nigercongo-ts_wiktionary_filtered, bigscience-catalogue-lm-data/lm_nigercongo-wo_wikiquote_filtered, bigscience-catalogue-lm-data/lm_nigercongo-wo_wiktionary_filtered, bigscience-catalogue-lm-data/lm_nigercongo-zu_wiktionary_filtered, bigscience-catalogue-lm-data/lm_pt_wikibooks_filtered, bigscience-catalogue-lm-data/lm_pt_wikimedia_filtered, bigscience-catalogue-lm-data/lm_pt_wikinews_filtered, bigscience-catalogue-lm-data/lm_pt_wikiquote_filtered, bigscience-catalogue-lm-data/lm_pt_wikisource_filtered, bigscience-catalogue-lm-data/lm_pt_wikiversity_filtered, bigscience-catalogue-lm-data/lm_pt_wikivoyage_filtered, bigscience-catalogue-lm-data/lm_pt_wiktionary_filtered, bigscience-catalogue-lm-data/lm_vi_wikibooks_filtered, bigscience-catalogue-lm-data/lm_vi_wikiquote_filtered, bigscience-catalogue-lm-data/lm_vi_wikisource_filtered, bigscience-catalogue-lm-data/lm_vi_wikivoyage_filtered, bigscience-catalogue-lm-data/lm_vi_wiktionary_filtered, bigscience-catalogue-lm-data/lm_zh_wikibooks_filtered, bigscience-catalogue-lm-data/lm_zh_wikinews_filtered, bigscience-catalogue-lm-data/lm_zh_wikiquote_filtered, bigscience-catalogue-lm-data/lm_zh_wikiversity_filtered, bigscience-catalogue-lm-data/lm_zh_wikivoyage_filtered, bigscience-catalogue-lm-data/lm_zh_wiktionary_filtered, bigscience-catalogue-lm-data/lm_zu_wiktionary, bigscience-historical-texts/hipe2020, bingzhen/test2, birgermoell/sv_corpora_parliament_processed, bitmorse/kickstarter_2022-2021, biu-nlp/qa_align, biu-nlp/qa_discourse, biu-nlp/qa_srl2018, biu-nlp/qa_srl2020, biu-nlp/qamr, biu-nlp/qanom, blinoff/medical_qa_ru_data, bobbydylan/top2k, bondarchukb/autonlp-data-iab_classification, braincode/braincode, brunodorneles/ner, bryantpwhite/Medieval_Sermons_in_French, bryantpwhite/Medieval_Texts_in_French, bs-modeling-metadata/OSCAR_Entity_13_000, bs-modeling-metadata/c4_newslike_url_only, bs-modeling-metadata/website_metadata_c4, bs-modeling-metadata/wiki_dump, bsc/ancora-ca-ner, bsc/sts-ca, bsc/tecla, bsc/viquiquad, bsc/xquad-ca, bstad/github-issues, bwu2018/anime-tagging-dataset, caca/zscczs, cakiki/args_me, cakiki/arxiv-metadata, cakiki/en_wiki_quote, cakiki/paperswithcode, caltonji/harrypotter_squad_v2, caltonji/harrypotter_squad_v2_2, calvpang/github-issues, cameronbc/synthtiger, cankeles/eval-senh, canwenxu/dogwhistle, cassandra-themis/QR-AN, castorini/afriberta-corpus, castorini/mr-tydi-corpus, castorini/mr-tydi, castorini/msmarco_v1_doc_doc2query-t5_expansions, castorini/msmarco_v1_doc_segmented_doc2query-t5_expansions, castorini/msmarco_v1_passage_doc2query-t5_expansions, castorini/msmarco_v2_doc_doc2query-t5_expansions, castorini/msmarco_v2_doc_segmented_doc2query-t5_expansions, castorini/msmarco_v2_passage_doc2query-t5_expansions, castorini/nq_gar-t5_expansions, castorini/triviaqa_gar_t5_expansions, caythuoc/caoduoclieu, cbrew475/hwu66, ccccccc/hdjw_94ejrjr, ccdv/arxiv-classification, ccdv/arxiv-summarization, ccdv/cnn_dailymail, ccdv/govreport-summarization, ccdv/patent-classification, ccdv/pubmed-summarization, cdleong/piglatin-mt, cdleong/temp_africaNLP_keyword_spotting_for_african_languages, cdminix/iwslt2011, cdminix/mgb1, cem/dnm, cem/film, cemigo/taylor_vs_shakes, cemigo/test-data, cestwc/adapted-msrcomp, cestwc/adapted-paranmt5m, cestwc/adapted-sentcomp, cestwc/adapted-synonym, cestwc/adapted-wikismall, cestwc/adapted-wordnet, cestwc/asrc, cestwc/cnn_dailymail-metaeval100, cestwc/cnn_dailymail-snippets, cestwc/cnn_dailymail-test50, cestwc/conjnli, cestwc/sac-approx-1, cestwc/sac-na, cestwc/sac, cfilt/iitb-english-hindi, cgarciae/point-cloud-mnist, cgarciae/point_cloud_mnist, chau/ink_test01, chenghao/mc4_eu_dedup, chenghao/mc4_sw_dedup, chenghao/scielo_books, chenyuxuan/wikigold, cheulyop/dementiabank, cheulyop/ksponspeech, chitra/contradiction, chitra/contradictionNLI, chmanoj/ai4bharat__samanantar_processed_te, chopey/dhivehi, clarin-pl/aspectemo, clarin-pl/cst-wikinews, clarin-pl/kpwr-ner, clarin-pl/multiwiki_90k, clarin-pl/nkjp-pos, clarin-pl/polemo2-official, classla/FRENK-hate-en, classla/FRENK-hate-hr, classla/FRENK-hate-sl, classla/copa_hr, classla/hr500k, classla/janes_tag, classla/reldi_hr, classla/reldi_sr, classla/setimes_sr, classla/ssj500k, clem/autonlp-data-french_word_detection, clips/mfaq, clips/mqa, cnrcastroli/aaaa, coala/kkk, codeceejay/ng_accent, cointegrated/ru-paraphrase-NMT-Leipzig, collectivat/tv3_parla, comodoro/pscr, comodoro/vystadial2016, congpt/dstc23_asr, corypaik/coda, corypaik/prost, coyotte508/dataset, craffel/openai_lambada, crich/cider, cristinakuo/latino40, crystina-z/inlang-mrtydi-corpus, crystina-z/inlang-mrtydi, crystina-z/mbert-mrtydi-corpus, crystina-z/mbert-mrtydi, csarron/image-captions, csebuetnlp/xlsum, csebuetnlp/xnli_bn, csikasote/bemba_train_dev_sets_processed, csikasote/bemba_trainset_processed, csikasote/bembaspeech_plus_jw_processed, csikasote/sv_corpora_parliament_processed, cstrathe435/Task2Dial, ctgowrie/chessgames, ctl/ConceptualCaptions, ctu-aic/ctkfacts_nli, cyko/books, cylee/github-issues, dalle-mini/YFCC100M_OpenAI_subset, dalle-mini/wit, damlab/HIV_FLT, damlab/HIV_PI, damlab/HIV_V3_bodysite, damlab/HIV_V3_coreceptor, dansbecker/hackernews_hiring_posts, darentang/generated, darentang/sroie, darkraipro/recipe-instructions, dasago78/dasago78dataset, dataset/wikipedia_bn, davanstrien/19th-century-ads, davanstrien/ads-im-test, davanstrien/ads-test, davanstrien/crowdsourced-keywords, davanstrien/embellishments, davanstrien/hipe2020, davanstrien/hmd_newspapers, davanstrien/kitten, davanstrien/manuscript_iiif_test, davanstrien/snorkel_genre, davanstrien/test_iiif, davanstrien/test_push_to_hub_image, davanstrien/testpush, david-wb/zeshel, davidwisdom/reddit-randomness, dcfidalgo/test, debajyotidatta/biosses, debatelab/aaac, deepset/germandpr, deepset/germanquad, dennlinger/klexikon, deokgu/fooddetection, dev/untitled_imgs, dfgvhxfgv/fghghj, dfki-nlp/few-nerd, dfki-nlp/mobie, dgao/librispeech_nc_test, dgknrsln/Yorumsepeti, diiogo/annotations, diiogo/brwac-clean, diiogo/harem-seletivo, diiogo/harem-total, diiogo/ocr-galdino, diiogo/oscar, dispenst/jhghdghfd, dispix/test-dataset, diwank/silicone-merged, dk-crazydiv/huggingface-modelhub, dlb/plue, dog/friends-of-mine, dog/punks, dongpil/test, dragosnicolae555/RoITD, dram-conflict/horror-scripts, dvilasuero/ag_news_error_analysis, dvilasuero/ag_news_training_set_losses, dvilasuero/test-dataset, dweb/squad_with_cola_scores, dynabench/dynasent, dynabench/qa, eason929/test, ebrigham/asr_files, ebrigham/autonlp-data-csat_classification_fr, ebrigham/labels, ebrigham/multi_sentiment, echarlaix/gqa-lxmert, echarlaix/gqa, echarlaix/vqa-lxmert, echarlaix/vqa, edbeeching/decision_transformer_atari_dqn_replay, edbeeching/decision_transformer_gym_replay, edbeeching/github-issues, edfews/szdfcszdf, edge2992/github-issues, edge2992/rri-short, edge2992/rri_short, edsas/fgrdtgrdtdr, edsas/grttyi, ehcalabres/ravdess_speech, ejjaffe/onion_headlines_2_sources, eliza-dukim/load_klue_re, elonmuskceo/persistent-space-dataset, elonmuskceo/wordle, elricwan/bert_data, emre/Open_SLR108_Turkish_10_hours, emrecan/stsb-mt-turkish, enelpol/czywiesz, erikacardenas300/Zillow_Economics_Dataset, ervis/aaa, ervis/qqq, erwanlc/cocktails_recipe, erwanlc/cocktails_recipe_no_brand, eugenesiow/BSD100, eugenesiow/Div2k, eugenesiow/PIRM, eugenesiow/Set14, eugenesiow/Set5, eugenesiow/Urban100, evageon/IADD, ewdrtfwe/54refyghrtf, facebook/multilingual_librispeech, fatvvs/autonlp-data-entity_model_conll2003, fededeleon/CriteriosClasificacion, fengzhang/fzTestDatasets, fhamborg/news_sentiment_newsmtsc, fighterhitx/test, fihtrotuld/asu, flax-community/code_clippy_data, flax-community/conceptual-12m-mbart-50-multilingual, flax-community/conceptual-12m-multilingual-marian-128, flax-community/conceptual-12m-multilingual-marian-es, flax-community/conceptual-12m-multilingual-marian, flax-community/conceptual-captions-12, flax-community/dummy-oscar-als-32, flax-community/german-common-voice-processed, flax-community/german_common_crawl, flax-community/multilingual-vqa, flax-community/norwegian-clean-dummy, flax-community/swahili-safi, flax-sentence-embeddings/Gender_Bias_Evaluation_Set, flax-sentence-embeddings/paws-jsonl, flax-sentence-embeddings/stackexchange_math_jsonl, flax-sentence-embeddings/stackexchange_title_best_voted_answer_jsonl, flax-sentence-embeddings/stackexchange_title_body_jsonl, flax-sentence-embeddings/stackexchange_titlebody_best_and_down_voted_answer_jsonl, flax-sentence-embeddings/stackexchange_titlebody_best_voted_answer_jsonl, flax-sentence-embeddings/stackexchange_xml, flexthink/librig2p-nostress-space, flexthink/librig2p-nostress, flexthink/ljspeech, flexudy/OMQD, florianbussmann/FUNSD-vu2020revising, florianbussmann/train_tickets-yu2020pick, flxclxc/encoded_drug_reviews, formermagic/github_python_1m, formu/CVT, fractalego/QA_to_statements, frahman/github-issues, frtna/all_about_that_base, frtna/cukumicin, frtna/deneme, frtna/es_it_Results-base-OPUS_Tatoeba, frtna/gezelimgorelim, frtna/jwt300_mt, frtna/opensubtitles_mt, frtna/sabahaKKarsi, frtna/ted_mt, frtna/test, frtna/test2, fulai/DuReader, fuliucansheng/coco, fuliucansheng/minicoco, fuliucansheng/mininlp, fuliucansheng/pascal_voc, fuyun1107/clip-for-vlp, fvillena/cantemist, fvillena/spanish_diagnostics, gabella/demo_data_raw, gagan3012/fake-news, gagan3012/grover-data, gagan3012/vizwiz, gar1t/test, gayanin/pubmed-gastro-maskfilling, gayanin/pubmed-gastro-paraphrasing, gayanin/pubmed-gastro-summarisation, gcaillaut/citeseer, gcaillaut/cora, gcaillaut/frwiki_good_pages_el, gcaillaut/pubmed, geekydevu/mlquestions, geninhu/vi_opus100_processed, geninhu/vi_vivos-cv-tts-fpt_processed, german-nlp-group/german_common_crawl, gfigueroa/wikitext_processed, gfissore/arxiv-abstracts-2021, ghadeermobasher/BC5CDR-Chemical-Disease, ghadeermobasher/CRAFT-Chem, ghomasHudson/ao3_style_change, ghomasHudson/character_id, ghomasHudson/hotpotExtended, ghomasHudson/long_contra_pro, ghomasHudson/muld, ghomasHudson/vlsp, gigant/african_accented_french, gigant/m-ailabs_speech_dataset_fr, gigant/ro_corpora_parliament_processed, gigant/romanian_speech_synthesis_0_8_1, gmnlp/tico19, gorkemgoknar/tr_ted_talk_translated, gpt3mix/rt20, gpt3mix/sst2, gsarti/change_it, gsarti/clean_mc4_it, gsarti/flores_101, gsarti/itacola, gsarti/wmt_vat, guoqiang/cuge, gusu/mymodel1, habu24/fdz, happifyhealth/twitter_pnn, hartzeer/kdfjdshfje, henrychess/gutenberg-fulltext-dirty-locc, herbievore/test, hf-internal-testing/cats_vs_dogs_sample, hf-internal-testing/fixtures_ade20k, hf-internal-testing/fixtures_docvqa, hf-internal-testing/fixtures_image_utils, hf-internal-testing/fixtures_nlvr2, hf-internal-testing/fixtures_ocr, hf-internal-testing/fixtures_sintel, hf-internal-testing/librispeech_asr_demo, hf-internal-testing/librispeech_asr_dummy, hf-internal-testing/test-dataset, hf-internal-testing/transformers-metadata, hf-test/sv_corpora_parliament_processed, hfface/poopi, holodata/sensai, holylovenia/recam, hong/autonlp-data-zoo_test, honghungle/dataset, howardmiddleton382/esuyertusutr, howardmiddleton382/wgweagwege, huggingFaceUser02/air21_grp13_inference_results, huggingFaceUser02/air21_grp13_tokenized_results, huggingartists/100-gecs, huggingartists/21-savage, huggingartists/25-17, huggingartists/50-cent, huggingartists/5nizza, huggingartists/5opka, huggingartists/6ix9ine, huggingartists/aaron-watson, huggingartists/abba, huggingartists/adele, huggingartists/agata-christie, huggingartists/aikko, huggingartists/aimer, huggingartists/ajr, huggingartists/alan-walker, huggingartists/andre-3000, huggingartists/arash, huggingartists/architects, huggingartists/arctic-monkeys, huggingartists/ariana-grande, huggingartists/ariya, huggingartists/armin-van-buuren, huggingartists/as-i-lay-dying, huggingartists/asdfgfa, huggingartists/asper-x, huggingartists/baklan, huggingartists/big-baby-tape, huggingartists/big-russian-boss, huggingartists/bill-wurtz, huggingartists/billie-eilish, huggingartists/billy-talent, huggingartists/bladee, huggingartists/bob-dylan, huggingartists/bones, huggingartists/booker, huggingartists/boris-grebenshikov, huggingartists/braii, huggingartists/bring-me-the-horizon, huggingartists/bruce-springsteen, huggingartists/bryan-adams, huggingartists/burzum, huggingartists/bushido-zho, huggingartists/cardi-b, huggingartists/chester-bennington, huggingartists/chief-keef, huggingartists/cocomelon, huggingartists/coin, huggingartists/coldplay, huggingartists/dababy, huggingartists/david-bowie, huggingartists/ddt, huggingartists/death-grips, huggingartists/deep-purple, huggingartists/denderty, huggingartists/dermot-kennedy, huggingartists/dj-artem-artemov, huggingartists/doja-cat, huggingartists/drake, huggingartists/dua-lipa, huggingartists/duran-duran, huggingartists/dzhizus, huggingartists/ed-sheeran, huggingartists/egor-kreed, huggingartists/egor-letov, huggingartists/elton-john, huggingartists/eminem, huggingartists/enigma, huggingartists/enya, huggingartists/epic-rap-battles-of-history, huggingartists/face, huggingartists/fascinoma, huggingartists/fear-factory, huggingartists/florence-the-machine, huggingartists/freddie-dredd, huggingartists/freelancer, huggingartists/galenskaparna-and-after-shave, huggingartists/ghost, huggingartists/ghostemane, huggingartists/ghostmane, huggingartists/gizmo, huggingartists/gorillaz, huggingartists/green-day, huggingartists/grigory-leps, huggingartists/grimes, huggingartists/gspd, huggingartists/gunna, huggingartists/hillsong-worship, huggingartists/hyuna, huggingartists/i-dont-know-how-but-they-found-me, huggingartists/idktime, huggingartists/imagine-dragons, huggingartists/jah-khalib, huggingartists/jim-morrison, huggingartists/john-k-samson, huggingartists/john-lennon, huggingartists/joji, huggingartists/joni-mitchell, huggingartists/justin-bieber, huggingartists/kanye-west, huggingartists/kasta, huggingartists/katy-perry, huggingartists/kehlani, huggingartists/kendrick-lamar, huggingartists/kesha, huggingartists/king-krule, huggingartists/kipelov, huggingartists/kishlak, huggingartists/kizaru, huggingartists/kojey-radical, huggingartists/krechet, huggingartists/krept-and-konan-bugzy-malone-sl-morisson-abra-cadabra-rv-and-snap-capone, huggingartists/kurt-cobain, huggingartists/lady-gaga, huggingartists/lazy-jay, huggingartists/led-zeppelin, huggingartists/lil-baby, huggingartists/lil-nas-x, huggingartists/lil-peep, huggingartists/lil-skies, huggingartists/lil-uzi-vert, huggingartists/linkin-park, huggingartists/little-big, huggingartists/lizer, huggingartists/logic, huggingartists/lorde, huggingartists/loud-luxury, huggingartists/loverance, huggingartists/lovv66, huggingartists/lumen, huggingartists/lyapis-trubetskoy, huggingartists/macan, huggingartists/machine-gun-kelly, huggingartists/madonna, huggingartists/marillion, huggingartists/maroon-5, huggingartists/mashina-vremeni, huggingartists/mating-ritual, huggingartists/max-korzh, huggingartists/mayot, huggingartists/mc-ride, huggingartists/melanie-martinez, huggingartists/metallica, huggingartists/mf-doom, huggingartists/michael-jackson, huggingartists/mikhail-gorshenev, huggingartists/mikhail-krug, huggingartists/miyagi, huggingartists/mnogoznaal, huggingartists/morgenshtern, huggingartists/mumiy-troll, huggingartists/muse, huggingartists/nautilus-pompilius, huggingartists/nervy, huggingartists/nicki-minaj, huggingartists/nirvana, huggingartists/noize-mc, huggingartists/oasis, huggingartists/obladaet, huggingartists/og-buda, huggingartists/ot-rus, huggingartists/our-last-night, huggingartists/oxxxymiron, huggingartists/peter-paul-and-mary, huggingartists/pharaoh, huggingartists/phish, huggingartists/pink-floyd, huggingartists/placebo, huggingartists/platina, huggingartists/pop-smoke, huggingartists/post-malone, huggingartists/pyrokinesis, huggingartists/queen, huggingartists/radiohead, huggingartists/rage-against-the-machine, huggingartists/ramil, huggingartists/rammstein, huggingartists/red-hot-chili-peppers, huggingartists/rex-orange-county, huggingartists/rihanna, huggingartists/rocket, huggingartists/sam-kim, huggingartists/scriptonite, huggingartists/sektor-gaza, huggingartists/selena-gomez, huggingartists/sergei-letov, huggingartists/shadowraze, huggingartists/sia, huggingartists/sid-sriram, huggingartists/skillet, huggingartists/slava-kpss, huggingartists/slava-marlow, huggingartists/snoop-dogg, huggingartists/sqwore, huggingartists/sugar-ray, huggingartists/suicideoscope, huggingartists/sum-41, huggingartists/sundara-karma, huggingartists/system-of-a-down, huggingartists/t-fest, huggingartists/tanzy-minus, huggingartists/taylor-swift, huggingartists/tedeschi-trucks-band, huggingartists/the-69-eyes, huggingartists/the-avalanches, huggingartists/the-beatles, huggingartists/the-gazette, huggingartists/the-grateful-dead, huggingartists/the-king-and-the-jester, huggingartists/the-notorious-big, huggingartists/the-sugarcubes, huggingartists/the-the-pigs, huggingartists/the-velvet-underground, huggingartists/the-weeknd, huggingartists/tiamat, huggingartists/till-lindemann, huggingartists/tom-waits, huggingartists/tony-raut-and-garry-topor, huggingartists/tool, huggingartists/totpoc, huggingartists/travis-scott, huggingartists/twenty-one-pilots, huggingartists/tyler-the-creator, huggingartists/upsahl, huggingartists/v-x-v-prince, huggingartists/van-morrison, huggingartists/veggietales, huggingartists/viktor-tsoi, huggingartists/vladimir-vysotsky, huggingartists/xxxtentacion, huggingartists/young-thug, huggingartists/yung-lean, huggingartists/yung-plague, huggingartists/zemfira, huggingface/DataMeasurementsFiles, huggingface/cats-image, huggingface/documentation-images, huggingface/label-files, huggingface/task-page-images, huggingface/transformers-metadata, huggingface-course/codeparrot-ds-train, huggingface-course/codeparrot-ds-valid, husnu/tquad-v1v2, husnu/tquad2, huyongquan/d2, hyeonduck/whiteboard_abuse_dataset, hyeonduck/your_dataset_name, ia-bentebib/conv_ai_2_fr, ia-bentebib/conv_ai_3_fr, ia-bentebib/daily_dialog_fr, ia-bentebib/diafrag, ia-bentebib/dialog_re_fr, ia-bentebib/doc2dial_fr, ia-bentebib/empathetic_dialogues_fr, iamshsdf/sssssssssss, iarfmoose/qa_evaluator, iarfmoose/question_generator, image-search-2/unsplash_lite_image_dataset, imthanhlv/binhvq_dedup, imthanhlv/binhvq_news21_raw, imvladikon/knesset_meetings_corpus, indonesian-nlp/id_personachat, iohadrubin/mtop, iohadrubin/smcalflow, ixxi/my_v1, jacobbieker/open-crab-sample, jaimin/wav2vec2-large-xlsr-gujarati-demo, jakeazcona/short-text-labeled-emotion-classification, jakeazcona/short-text-multi-labeled-emotion-classification, jakemarcus/MATH, jamescalam/climate-fever-similarity, jamol1741/test_dataset, jcmc/ga-IE_opus_dgt_train, jcmc/ga_mc4_processed, jdepoix/junit_test_completion, jeffboudier/testing3, jegorkitskerkin/dutch-snli, jel/covid, jeree/fr_corpora_parliament_processed, jfarray/TFM, jgammack/MTL-abstracts, jgammack/SAE-door-abstracts, jgammack/THESES-abstracts, jglaser/binding_affinity, jhonparra18/spanish_billion_words_clean, jhqwqq/2, jianhong/dateset1, jianhong/dateset2, jimregan/clarinpl_sejmsenat, jimregan/clarinpl_studio, jimregan/foinse, jimregan/lasid, jinmang2/KorQuADv1, jinmang2/common-sense-mrc, jinmang2/load_klue_re, jinmang2/medical-mask, jinmang2/pred, jiyoojeong/targetizer, jlh/coco, jmamou/augmented-glue-sst2, joelito/ler, joelito/sem_eval_2010_task_8, johnpaulbin/autonlp-data-asag-v2, jonfd/ICC, jozierski/ecomwebtexts-pl, jpcorb20/multidogo, jsfactory/mental_health_reddit_posts, ju-bezdek/conll2003-SK-NER, julien-c/dummy-dataset-from-colab, julien-c/persistent-space-dataset, julien-c/reactiongif, juliensimon/autonlp-data-song-lyrics-demo, juliensimon/autonlp-data-song-lyrics, juniorrios/roi_leish_test, juny116/few_glue, justinqbui/covid_fact_checked_google_api, justinqbui/covid_fact_checked_polifact, k-halid/ar, k0t1k/test, kaka10/fgfgfgfg, karinev/lanuitdudroit, kartikay/review-summarizer, katanaml/cord, katoensp/VR-OP, kaushikacharya/github-issues, kenlevine/CUAD, keshan/clean-si-mc4, keshan/large-sinhala-asr-dataset, keshan/multispeaker-tts-sinhala, keshan/wit-dataset, kevinassobo/sales_2015_dataset, kevinjesse/ManyTypes4TypeScript, kevinlu1248/personificationgen, khalidsaifullaah/detecThreats, khanbaba/online_love, khursani8/sani, kiamehr74/CoarseWSD-20, kingabzpro/Rick-bot-flags, kingabzpro/ar_corpora_parliament_processed, kingabzpro/ga_corpora_parliament_processed, kingabzpro/pan_corpora_parliament_processed, kingabzpro/savtadepth-flags, kingabzpro/tt_corpora_parliament_processed, kiyoung2/aistage-mrc, kiyoung2/temp, kleinay/qa_srl, kmfoda/booksum, kmfoda/name_finder_v1, kmyoo/klue-tc-dev, knilakshan20/wikigold, kowndinya23/bert-dataset, krandiash/beethoven, krandiash/sc09, krandiash/youtubemix, kresnik/librispeech_asr_test, kresnik/zeroth_korean, kroshan/BioASQ, kroshan/qa_evaluator, kudo-research/mustc-en-es-text-only, kyryl0s/ukbbc, laion/filtered-wit, laion/laion400m, laion/laion_100m_vqgan_f8, lara-martin/Scifi_TV_Shows, larcane/ko-WIT, laugustyniak/abusive-clauses-pl, lavis-nlp/german_legal_sentences, layboard/layboard.in, lc-col/sv_corpora_parliament_processed, leiping/jj, leiping/teeee, leoapolonio/AMI_Meeting_Corpus, lewtun/asr-preds-test, lewtun/asr_dummy, lewtun/benchmark-test, lewtun/binary_classification_dummy, lewtun/bulk-superb-s3p-superb-49606, lewtun/drug-reviews, lewtun/gem-multi-dataset-predictions, lewtun/gem-sub-03, lewtun/gem-test-predictions, lewtun/gem-test-references, lewtun/github-issues-test, lewtun/github-issues, lewtun/mnist-preds, lewtun/my-awesome-dataset, lewtun/s3prl-sd-dummy, lewtun/test, lewtun/text_classification_dummy, lgrobol/openminuscule, lhoestq/conll2003, lhoestq/custom_squad, lhoestq/demo1, lhoestq/squad, lhoestq/test, lhoestq/test2, lhoestq/test_commit_descriptions, lhoestq/test_zip_txt, lhoestq/tmp, lhoestq/wikipedia_bn, liam168/nlp_c4_sentiment, lidia/202111, lijingxin/github-issues, lijingxin/squad_zen, lijingxin/squad_zh_1, limjiayi/hateful_memes_expanded, lincoln/newsquadfr, linhd-postdata/pulpo, linhd-postdata/stanzas, liweili/c4_200m, lkarjun/Malayalam-Articles, lkiouiou/o9ui7877687, lkndsjkndgskjngkjsndkj/jsjdjsdvkjvszlhdskb, lohanna/testedjkcxkf, lorsorlah/Dadedadedam, loveguruji609/dfdfsdfsdfsdfsdfsd, lpsc-fiuba/melisa, lsb/ancient-latin-passages, lsb/million-english-numbers, lucien/sciencemission, lucien/voacantonesed, lucien/wsaderfffjjjhhh, lucio/common_voice_eval, lukasmasuch/my-test-repo-3, lukasmasuch/my-test-repo-4, lukasmasuch/test-2, lukasmasuch/test-3, lukasmasuch/test, lukesjordan/worldbank-project-documents, luofengge/mydata, luofengge/testDataset, luomingshuang/GRID_audio, luomingshuang/GRID_text, luomingshuang/grid_lip_160_80, luozhouyang/dureader, luozhouyang/kgclue-knowledge, luozhouyang/question-answering-datasets, lvwerra/codeparrot-clean-train, lvwerra/codeparrot-clean-valid, lvwerra/codeparrot-clean, lvwerra/codeparrot-valid-clean-minimal, lvwerra/codeparrot-valid, lvwerra/github-alphacode, lvwerra/github-code, lvwerra/important_dataset, lvwerra/lm_ar_wikipedia, lvwerra/lm_nigercongo-ak_wikipedia, lvwerra/red-wine, lvwerra/repo-images, lvwerra/test, lysandre/image-to-text, lysandre/my-cool-dataset, m-newhauser/dataset-isi-200, m3hrdadfi/recipe_nlg_lite, mad/IndonesiaNewsDataset, maindadwitiya/weather_dataset, maji/npo_mission_statement_ucf, majod/CleanNaturalQuestionsDataset, makanan/umich, makarios19/neurips-paper, malay-huggingface/jelapang-padi, malay-huggingface/pembalakan, mammut/mammut-corpus-venezuela-test-set, mammut/mammut-corpus-venezuela, manandey/OSCAR_Entity_Toy, manandey/entity_experiments, manifoldix/sg_testset_fhnw, manifoldix/swg_parliament_fhnw, manishk31/Demo, manu/fr_corpora_parliament_processed-lowercased, manu/fr_corpora_parliament_processed, marinone94/nst_no, marinone94/nst_sv, mariosasko/PetImages, mariosasko/dummy_test, markscrivo/OddsOn, martiwey/codesearchnet-go, martiwey/codesearchnet-java, martiwey/codesearchnet-javascript, martiwey/codesearchnet-php, martiwey/codesearchnet-python, martiwey/codesearchnet-ruby, martodaniel/terere, masked-neuron/amazon, masked-neuron/ccd, masked-neuron/qb, mattchurgin/sv_corpora_parliament_processed, matteopilotto/github-issues, maximedb/mcqa_light, maximedb/mfaq_light, maximedb/paws-x-all, maximedb/vaccinchat, maximedb/vaccinchat_retrieval, maximedb/wow, maxmoynan/SemEval2017-Task4aEnglish, mbateman/github-issues, medzaf/test, meghanabhange/chaii, meghanabhange/hilm141021, meghanabhange/hitalm141021, meghanabhange/hitalmsandbox, meghanabhange/talm141021, merty/nateraw-food101-copy, merve/coco, merve/folk-mythology-tales, merve/poetry, merve/qqp, metaeval/blimp_classification, metaeval/colors, metaeval/crowdflower, metaeval/ethics, metaeval/linguisticprobing, metaeval/recast, metalearning/kaggale-nlp-tutorial, metamong1/summarization_optimization, metopedia/autonlp-data-Multiple-Source-Language-Consensus-Reconstruction-o, michaelbenayoun/wikipedia-bert-128, microsoft/codexglue_method_generation, midas/citeulike180, midas/cstr, midas/duc2001, midas/inspec, midas/inspec_ke_tagged, midas/kdd, midas/kp20k, midas/kpcrowd, midas/kptimes, midas/krapivin, midas/ldke3k_medium, midas/ldke3k_small, midas/ldkp10k, midas/ldkp3k, midas/ldkp3k_small, midas/nus, midas/oagkx, midas/openkp, midas/pubmed, midas/semeval2010, midas/semeval2010_ke_tagged, midas/semeval2017, midas/semeval2017_ke_tagged, midas/test_ldkp, midas/www, mideind/icelandic-common-crawl-corpus-IC3, mideind/icelandic-error-corpus-IceEC, mikeee/model-z, mirari/sv_corpora_parliament_processed, mishig/sample_images, mksaad/Arabic_news, ml6team/cnn_dailymail_nl, ml6team/xsum_nl, mldmm/glass_alloy_composition, mmcquade11-test/reuters-for-summarization-two, mmm-da/rutracker_anime_torrent_titles, mnaylor/evaluating-student-writing, mnemlaghi/widdd, mohamed-illiyas/wav2vec2-base-lj-demo-colab, morganchen1007/1215, morganchen1007/1216, morganchen1007/1216_00, morganchen1007/test_1213_00, moshew/my_raft, mostol/wiktionary-ipa, moumeneb1/French_arpa_lm, moumeneb1/filtered, moumeneb1/filtered_300, moumeneb1/fr_lm_dataset, moumeneb1/large_vocabulary_dataset, moumeneb1/osc_processed_lm, moumeneb1/testing, moxi43/github-issues, mozilla-foundation/common_voice_1_0, mozilla-foundation/common_voice_2_0, mozilla-foundation/common_voice_3_0, mozilla-foundation/common_voice_4_0, mozilla-foundation/common_voice_5_0, mozilla-foundation/common_voice_5_1, mozilla-foundation/common_voice_6_0, mozilla-foundation/common_voice_6_1, mozilla-foundation/common_voice_7_0, mozilla-foundation/common_voice_8_0, mpierrau/sv_corpora_parliament_processed, mr-robot/ec, mrm8488/fake-news, mrm8488/goemotions, mrojas/abbreviation, mrojas/body, mrojas/disease, mrojas/family, mrojas/finding, mrojas/medication, mrojas/procedure, mrp/Thai-Semantic-Textual-Similarity-Benchmark, msarmi9/korean-english-multitarget-ted-talks-task, msivanes/github-issues, mswedrowski/multiwiki_90k, mtfelix/datasetdemo, mtlew/0001_Angry_test, muhtasham/autonlp-data-Doctor_DE, mulcyber/europarl-mono, munggok/mc4-id, mustafa12/db_ee, mustafa12/edaaaas, mustafa12/thors, mvarma/medwiki, nateraw/auto-cats-and-dogs, nateraw/auto-exp-2, nateraw/beans, nateraw/beans_old, nateraw/blahblah, nateraw/bulk-dummy, nateraw/cats-and-dogs, nateraw/cats_vs_dogs, nateraw/dummy-csv-dataset, nateraw/filings-10k, nateraw/food101, nateraw/food101_old, nateraw/huggingpics-data-2, nateraw/huggingpics-data, nateraw/image-folder, nateraw/imagefolder, nateraw/imagenette, nateraw/img-demo, nateraw/rock_paper_scissors, nateraw/sync_food101, nateraw/test, nateraw/wit, nathanlsl/news, naver-clova-conversation/klue-tc-dev-tsv, naver-clova-conversation/klue-tc-tsv, naver-clova-conversation-ul/klue-tc-dev, navjordj/nak_nb, ncats/EpiSet4BinaryClassification, ncats/EpiSet4NER-v1, ncats/GARD_EpiSet4TextClassification, ncduy/github-issues, ncduy/mt-en-vi, ncoop57/athena_data, ncoop57/csnc_human_judgement, ncoop57/rico_captions, neelalex/raft-predictions, newsha/PQuAD, nferruz/UR50_2021_04, nferruz/UR50_2021_04_text, ngdiana/hu_severity, ngdiana/uaspeech, ngdiana/uaspeech_severity, ngdiana/uaspeech_severity_high, ngdiana/uaspeech_severity_low, nickmuchi/fin_dataset, nickmuchi/financial-classification, nickmuchi/trade-the-event-finance, nid989/FNC-1, nielsr/FUNSD_layoutlmv2, nielsr/XFUN, nielsr/funsd, nlpaueb/test, nlpconnect/dpr-nq-reader-v2, nlpconnect/dpr-nq-reader, nlpconnect/ms_marco_subset_v2.1, nlpufg/brwac-pt, nlpufg/brwac, nlpufg/oscar-pt, nlpyeditepe/tr-qnli, nlpyeditepe/tr_rte, nntadotzip/iuQAchatbot, notional/notional-python, nouamanetazi/ar_common_voice_processed, nouamanetazi/ar_opus100_processed, nsi319/figures-dataset, ntagg/data1, nthngdy/bananas, nthngdy/ccnews_split, nthngdy/openwebtext_split, ntutexas/amazon, nucklehead/ht-voice-dataset, oelkrise/CRT, openclimatefix/eumetsat_uk_hrv, openclimatefix/gfs, openclimatefix/goes-l2, openclimatefix/goes-mrms, openclimatefix/goes, openclimatefix/hrrr, openclimatefix/mrms, openclimatefix/nimrod-uk-1km, osanseviero/codeparrot-train, osanseviero/llama_test, osanseviero/test, oscar-corpus/OSCAR-2109, ought/raft-submission, ought/raft, outman/test, papluca/language-identification, pariajm/sharif_emotional_speech_dataset, parivartanayurveda/Malesexproblemsayurvedictreatment, pasinit/scotus, pasinit/xlwic, patrickvonplaten/ami_single_headset_segmented_and_chunked, patrickvonplaten/common_voice_6_tr, patrickvonplaten/common_voice_processed_turkish, patrickvonplaten/helena_coworking, patrickvonplaten/librispeech_asr_dummy, patrickvonplaten/librispeech_local, patrickvonplaten/librispeech_local_dummy, patrickvonplaten/scientific_papers_dummy, patrickvonplaten/sensitive_data_sv, pdesoyres/test, peixian/equity_evaluation_corpus, peixian/rtGender, pelican/test_100, persiannlp/parsinlu_entailment, persiannlp/parsinlu_query_paraphrasing, persiannlp/parsinlu_reading_comprehension, persiannlp/parsinlu_sentiment, persiannlp/parsinlu_translation_en_fa, persiannlp/parsinlu_translation_fa_en, peterbonnesoeur/autonlp-data-test_text_summarization, peterhsu/github-issues, philschmid/prompted-germanquad, philschmid/test_german_squad, phoelti/squad_dev, phongdtd/VinDataVLSP, phongdtd/youtube_casual_audio, phonlab-tcd/cngv1, phonlab-tcd/corpuscrawler-ga, piEsposito/br-quad-2.0, piEsposito/br_quad_20, piEsposito/squad_20_ptbr, pierreant-p/jcvd-or-linkedin, pierreguillou/lener_br_finetuning_language_model, pierreguillou/test_datasetdict, pierresi/cord, pietrolesci/ag_news, pmc/open_access, polinaeterna/dummy_dataset, polinaeterna/ml_spoken_words, polinaeterna/test_opus, poperson1205/mrtydi-v1.1-korean-fixed, prajin/ne_corpora_parliament_processed, princeton-nlp/datasets-for-simcse, pritamdeka/cord-19-abstract, pritamdeka/cord-19-fulltext, priya3301/Graduation_admission, priya3301/tes, priya3301/test, proffttega/ILLUMINATI, proffttega/doc, proffttega/join_illuminati_to_become_rich, proffttega/persian_daily_news, project2you/asr, projecte-aina/ancora-ca-ner, projecte-aina/casum, projecte-aina/catalan_general_crawling, projecte-aina/catalan_government_crawling, projecte-aina/catalan_textual_corpus, projecte-aina/parlament_parla, projecte-aina/sts-ca, projecte-aina/teca, projecte-aina/tecla, projecte-aina/vilaquad, projecte-aina/vilasum, projecte-aina/viquiquad, projecte-aina/xquad-ca, psrpsj/stop_words, pstroe/cc100-latin, pulmo/chest_xray, qa4pc/QA4PC, qanastek/ANTILLES, qanastek/ELRC-Medical-V2, qfortier/instagram_ny, quarter100/boolq_log, quis/vnexpress-train, qwant/squad_fr, radhakri119/sv_corpora_parliament_processed, ragarwal/args-me-pairs, rahular/itihasa, rajeshradhakrishnan/malayalam_2020_wiki, rajeshradhakrishnan/malayalam_news, rajeshradhakrishnan/malayalam_wiki, ramitsurana/sanskrit, ramybaly/conll2012, ramybaly/nerd, ranim/Algerian-Arabic, ranpox/xfund, rays2pix/example, rays2pix/example_dataset, readerbench/ChatLinks, rewardsignal/reddit_writing_prompts, rgismondi/code-fill-dataset, robz/test, rocca/sims4-faces, ronaldvanos/testdata, rony/soccer-dialogues, rookieguy12/dataset, rosettarandd/rosetta_balcanica, roskoN/dailydialog, roskoN/dstc8-reddit-corpus, rubenwol/multi_news_qasrl, rubrix/cleanlab-label_errors, rubrix/gutenberg_spacy-ner, rubrix/gutenberg_spacy-ner_smaller, rubrix/imdb_spacy-ner, rubrix/news, rubrix/sentiment-banking-2, rubrix/sentiment-banking, rucyang/sales, rwebe/rwebe, s-myk/test, s3h/arabic-gec, s3h/arabic-grammar-corrections, s3h/custom-qalb-classification, s3h/customized-qalb-v2, s3h/customized-qalb, s3h/gec-arabic, s3h/gec-cleaned, s3h/gec-token-classification, s3h/poc-gec, safik/github-issues-comments, safik/github-issues, sagnikrayc/mctest, sagnikrayc/quasar, sagteam/author_profiling, sajadk/IranianCarLicencePlate, salesken/Paraphrase_category_detection, samarlune/Holy_Coran, samgin/FooReview, samgin/star_tagging, samirt8/fr_corpora_parliament_processed, samjgorman/sample, sammy786/finnish_traindata, sanyu/aw, sanyu/er, sanyu/hh, sanyu/vb, sc2qa/sc2q_commoncrawl, sc2qa/sc2q_commoncrawl_large, sc2qa/sc2qa_commoncrawl, sdfufygvjh/fgghuviugviu, sduong/genwiki, sduong/wikigraphs, seamew/ChnSentiCorp, seamew/Hotel, seamew/THUCNews, seamew/THUCNewsText, seamew/THUCNewsTitle, seamew/Weibo, seanbethard/autonlp-data-summarization_model, sebastiaan/test-cefr, sebastian-hofstaetter/tripclick-training, segments-bert/image-upload-test, segments-bert/logo_dataset, segments-bert/pets, sentence-transformers/embedding-training-data, sentence-transformers/msmarco-hard-negatives, sentence-transformers/parallel-sentences, sentence-transformers/reddit-title-body, seregadgl/test_set, sevbqewre/vebdesbdty, severo/autonlp-data-sentiment_detection-3c8bcd36, severo/dummy_gated, severo/embellishments, severo/wit, seyia92coding/steam_games_2019.csv, sh110495/klue-nli, sh110495/korquad, shahp7575/sia_pile_sample, shahp7575/sia_tp_sample, shahrukhx01/questions-vs-statements, shaina/covid19, shanya/website_metadata_c4_toy, sharejing/BiPaR, sheryylli/utr_total_reads, shibing624/python-source-code, shivam/hindi_pib_processed, shivam/marathi_pib_processed, shivam/marathi_samanantar_processed, shivam/test-translation-2, shivam/test-translation, shivam/test, shivkumarganesh/CoLA, shivmoha/squad-unanswerable, shivmoha/squad_adversarial_manual, shpotes/ms_coco, shpotes/tfcol, sia-precision-education/pile_cpp, sia-precision-education/pile_js, sia-precision-education/pile_python, sia-precision-education/sia_pile_sample, sijpapi/batch13, sijpapi/funsd, sijpapi/funsds, silentzone/test, sine/zzz, sismetanin/rureviews, smallv0221/my-test, softcatala/Europarl-catalan, softcatala/Softcatala-Web-Texts-Dataset, softcatala/Tilde-MODEL-Catalan, softcatala/ca_text_corpus, softcatala/catalan-dictionary, softcatala/open-source-english-catalan-corpus, solomonk/reddit_mental_health_posts, somaimanguyat/Genjer, somaimanguyat/Koboy, somaimanguyat/Movieonline2021, somaimanguyat/Salome, somaimanguyat/movie21, somaimanguyat/xiomay, spacemanidol/ms_marco_doc2query, spacemanidol/msmarco_passage_ranking, spasis/datasets-github-issues, spasis/github-issues, ssasaa/gghghgh, sshleifer/pseudo_bart_xsum, stas/c4-en-10k, stas/openwebtext-10k, stas/oscar-en-10k, stas/wmt14-en-de-pre-processed, stas/wmt16-en-ro-pre-processed, stevhliu/demo, stiel/skjdhjkasdhasjkd, subiksha/OwnDataset, superb/superb-data, susumu2357/squad_v2_sv, svakulenk0/qrecc, svakulenk0/spoken_kgqa, svalabs/all-nli-german-translation-wmt19, svalabs/ms-marco-german-translation-wmt19, svanhvit/iceErrorCorpus, svanhvit/icelandic-ner-MIM-GOLD-NER, tals/test, tanay/embed, tanfiona/causenet_wiki, tarudesu/UIT-ViCTSD, tasosk/airlines, tau/fs, tau/mrqa, tau/scientific_papers, tau/scrolls, tesemnikov-av/toxic_dataset_classification, tesemnikov-av/toxic_dataset_ner, testOrganization01/test05, teven/all_wikipedia_passages, teven/c4_15M, teven/github_all_lang_filtered, teven/matched_passages_wikidata, teven/mpww, teven/mpww_all_passages, teven/prompted_examples, teven/pseudo_crawl_en_seeds, teven/stackexchange, tharindu/MOLD, tharindu/SOLID, thiemowa/argumentationreviewcorpus, thiemowa/empathyreviewcorpus, thomwolf/codeparrot-train, thomwolf/codeparrot-valid, thomwolf/codeparrot, thomwolf/github-dataset, thomwolf/github-python, thomwolf/very-good-dataset, thomwolf/very-test-dataset-2, thomwolf/very-test-dataset, tianxing1994/temp, toddmorrill/github-issues, toloka/CrowdSpeech, toloka/VoxDIY-RusNews, tommy19970714/common_voice, toriving/kosimcse, toriving/talktalk-sentiment-210713-multi-singleturn-custom-multiturn, tranduyquang2205/vietnamese_dataset, transformersbook/codeparrot-train, transformersbook/codeparrot-valid, transformersbook/codeparrot, trnt/github-issues, ttj/metadata_arxiv, turingbench/TuringBench, uasoyasser/rgfes, ubamba98/ro_cv7_processed, ucberkeley-dlab/measuring-hate-speech, uit-nlp/vietnamese_students_feedback, ujjawal1612/quora, umangchaudhry/demo_data_raw, unicamp-dl/mmarco, unicamp-dl/mrobust, usc-isi/WikiConvert, uva-irlab/canard_quretec, uva-irlab/trec-cast-2019-multi-turn, uyeongjae/load_klue_re_agmented, valurank/hate-multi, valurank/offensive-multi, vanadhi/finlitqa, vannacute/AmazonReviewHelpfulness, vannora/pdata, vannynakamura/leish, vasilis/et_corpora_parliament_processed, vasudevgupta/amazon-ml-hack, vasudevgupta/bigbird-tokenized-natural-questions, vasudevgupta/data, vasudevgupta/fairseq-ljspeech, vasudevgupta/gsoc-librispeech, vasudevgupta/natural-questions-validation, vasudevgupta/prml_data_contest, vasudevgupta/temperature-distribution-2d-plate, vasudevgupta/temperature-distribution-3d-cylinder, vblagoje/lfqa, vblagoje/lfqa_support_docs, vblagoje/wikipedia_snippets_streamed, vctc92/sdsd, vctc92/test, vera-pro/ShadowLink, versae/bibles, versae/modernisa, versae/norwegian-t5-dataset-debug, versae/norwegian-t5-dataset-debug2, versae/norwegian-t5-dataset-debug3, vershasaxena91/datasets, vershasaxena91/squad_multitask, vesteinn/IC3, vesteinn/icelandic-ner-MIM-GOLD-NER, vesteinn/icelandic-qa-NQiI, vidhur2k/multilingual-hate-speech, vishnun/huggingpics-data, vivekverma239/question-generation, vkhangpham/github-issues, vs4vijay/VizDS, vumichien/common_voice_large, vumichien/common_voice_large_jsut_jsss_css10, vumichien/ja_opus100_processed, w-nicole/childes_data, w-nicole/childes_data_no_tags, w-nicole/childes_data_no_tags_, w-nicole/childes_data_with_tags, w-nicole/childes_data_with_tags_, w11wo/imdb-javanese, wanagenst/maslow-six-choices, wanagenst/maslow-stories, wanagenst/plutchik-nine-choices, wanagenst/plutchik-stories, wanagenst/reiss-stories, wanagenst/reiss-twenty-choices, wardenga/lsoie, warwickai/financial_phrasebank_mirror, webek18735/ddvoacantonesed, webek18735/dhikhscook, webimmunization/COVID-19-vaccine-attitude-tweets, webis/args_me, webis/conclugen, webis/ms-marco-anchor-text, weijieliu/senteval_cn, wesamhaddad14/testdata, wifis/ouivirtual, wikilee/ADFA_Mapping, wikimedia/wikipedia, wikimedia/wikisource, winvoker/turkish-sentiment-analysis-dataset, wisdomify/story, wmt/europarl, wmt/news-commentary, wmt/uncorpus, wmt/wikititles, wmt/wmt10, wmt/wmt13, wmt/wmt14, wmt/wmt15, wmt/wmt16, wmt/wmt17, wmt/wmt18, wmt/wmt19, wpicard/nostradamus-propheties, wza/USTT, wzkariampuzha/EpiClassifySet, wzkariampuzha/EpiExtract4GARD, wzywzy/telegram_summary, x-tech/cantonese-mandarin-translations, xiaj/ds_test, xiaj/test0919, xiaobendanyn/demo, xiaobendanyn/nyt10, xiaobendanyn/tacred, xkang/github-issues, xuyeliu/notebookCDG, yannobla/Sunshine, yazdipour/text-to-sparql-kdwd, ydshieh/coco_dataset_script, yerevann/sst2, yharyarias/tirads_tiroides, yhavinga/mc4_nl_cleaned, yluisfern/PBU, yo/devparty, yonesuke/Ising2D, yonesuke/Vicsek, yonesuke/kuramoto, ysharma/rickandmorty, ytsaig/news-12factor, yuanchuan/annotated_reference_strings, yuchenlin/OntoRock, yuvalkirstain/asset, yuvalkirstain/contract_nli-debug, yuvalkirstain/contract_nli_t5, yuvalkirstain/contract_nli_t5_lm, yuvalkirstain/qasper_t5, yuvalkirstain/qasper_t5_lm, yuvalkirstain/qmsum_t5, yuvalkirstain/qmsum_t5_lm, yuvalkirstain/quality, yuvalkirstain/quality_debug, yuvalkirstain/quality_squad, yuvalkirstain/quality_squad_debug, yuvalkirstain/quality_t5, yuvalkirstain/quality_t5_lm, yuvalkirstain/scrolls_t5, yuvalkirstain/squad_full_doc, yuvalkirstain/squad_seq2seq, yuvalkirstain/squad_t5, yuvalkirstain/summ_screen_fd_t5, yuvalkirstain/summ_screen_fd_t5_lm, yxchar/ag-tlm, yxchar/amazon-tlm, yxchar/chemprot-tlm, yxchar/citation_intent-tlm, yxchar/hyp-tlm, yxchar/imdb-tlm, yxchar/rct-20k-tlm, yxchar/sciie-tlm, z-uo/female-LJSpeech-italian, z-uo/male-LJSpeech-italian, z-uo/squad-it, zapsdcn/ag, zapsdcn/amazon, zapsdcn/chemprot, zapsdcn/citation_intent, zapsdcn/hyperpartisan_news, zapsdcn/imdb, zapsdcn/rct-20k, zapsdcn/sciie, zf-org/org_dataset, zfaB4Hmm/test, zhangruihan1/face-recognition-validation, zhangruihan1/face-recognition, zhangruihan1/fr-cfp_fp, zhoujun/hitab, zhufy/xquad_split, zj88zj/PubMed_200k_RCT, zj88zj/SCIERC, zloelias/kinopoisk-reviews-short, zloelias/kinopoisk-reviews, zloelias/lenta-ru-short, zloelias/lenta-ru, zlucia/casehold, zwang199/autonlp-data-traffic_nlp_binary, SinaRampe/fairy_tales_grimm, viktor-enzell/common_voice_sv_test_preprocessed, espejelomar/code_search_net_python_10000_examples, cahya/persona_empathetic\n"
          ]
        }
      ]
    },
    {
      "cell_type": "code",
      "source": [
        "dataset = load_dataset('amazon_us_reviews', 'Mobile_Electronics_v1_00')\n",
        "dataset = pd.DataFrame(dataset['train'][:])\n",
        "dataset[\"Sentiment\"] = dataset[\"star_rating\"].apply(lambda score: \"positive\" if score >= 3 else \"negative\")\n",
        "dataset['Sentiment'] = dataset['Sentiment'].map({'positive':1, 'negative':0})\n",
        "dataset = dataset[['review_body','Sentiment']]\n",
        "dataset.columns = ['reviews','labels']"
      ],
      "metadata": {
        "colab": {
          "base_uri": "https://localhost:8080/",
          "height": 87,
          "referenced_widgets": [
            "5c86c107abd547648bc8517738746aa4",
            "217a7c79dfcf4fa695dc2b3427206e5b",
            "3ffc60f3c2aa4ec6a8decfaabb13dc3b",
            "257af8e150bd4b3a973f8fa361f84043",
            "6713b202eb1244778b0b5b4404f52304",
            "18344ecf191d4298b8ac06d6a2b08797",
            "b8c779ee22d14cafa4a6b520a59a0baf",
            "1dc0b151369441ef8def57ffd67a3365",
            "aa9b70c8e70b42cfaf54df5338a3be1d",
            "cdb9a60246134c75ad43e7ca65826ed0",
            "470a73cf4f5c4734b68ee3b14c01ac57"
          ]
        },
        "id": "b0ZglCg14EDr",
        "outputId": "e246a939-df92-49af-981b-c7539d93869c"
      },
      "execution_count": 277,
      "outputs": [
        {
          "output_type": "stream",
          "name": "stderr",
          "text": [
            "Reusing dataset amazon_us_reviews (/root/.cache/huggingface/datasets/amazon_us_reviews/Mobile_Electronics_v1_00/0.1.0/17b2481be59723469538adeb8fd0a68b0ba363bbbdd71090e72c325ee6c7e563)\n"
          ]
        },
        {
          "output_type": "display_data",
          "data": {
            "application/vnd.jupyter.widget-view+json": {
              "model_id": "5c86c107abd547648bc8517738746aa4",
              "version_minor": 0,
              "version_major": 2
            },
            "text/plain": [
              "  0%|          | 0/1 [00:00<?, ?it/s]"
            ]
          },
          "metadata": {}
        }
      ]
    },
    {
      "cell_type": "code",
      "source": [
        "sample_percentage = 500/dataset.shape[0]\n",
        "\n",
        "out_sample_500 = dataset.sample(frac= sample_percentage, replace=True, random_state=412)"
      ],
      "metadata": {
        "id": "fp0a7kkW4GS5"
      },
      "execution_count": 278,
      "outputs": []
    },
    {
      "cell_type": "code",
      "source": [
        "out_sample_500"
      ],
      "metadata": {
        "colab": {
          "base_uri": "https://localhost:8080/",
          "height": 423
        },
        "id": "6b0uyjXJ4HxH",
        "outputId": "357d18e9-f8d1-4d68-d021-e6f864045115"
      },
      "execution_count": 279,
      "outputs": [
        {
          "output_type": "execute_result",
          "data": {
            "text/html": [
              "\n",
              "  <div id=\"df-e555f858-090b-45c3-bc2f-88ed66e166c1\">\n",
              "    <div class=\"colab-df-container\">\n",
              "      <div>\n",
              "<style scoped>\n",
              "    .dataframe tbody tr th:only-of-type {\n",
              "        vertical-align: middle;\n",
              "    }\n",
              "\n",
              "    .dataframe tbody tr th {\n",
              "        vertical-align: top;\n",
              "    }\n",
              "\n",
              "    .dataframe thead th {\n",
              "        text-align: right;\n",
              "    }\n",
              "</style>\n",
              "<table border=\"1\" class=\"dataframe\">\n",
              "  <thead>\n",
              "    <tr style=\"text-align: right;\">\n",
              "      <th></th>\n",
              "      <th>reviews</th>\n",
              "      <th>labels</th>\n",
              "    </tr>\n",
              "  </thead>\n",
              "  <tbody>\n",
              "    <tr>\n",
              "      <th>90098</th>\n",
              "      <td>This mount survived a motorcycle crash that th...</td>\n",
              "      <td>1</td>\n",
              "    </tr>\n",
              "    <tr>\n",
              "      <th>12172</th>\n",
              "      <td>Got these to use on desktop and laptop compute...</td>\n",
              "      <td>1</td>\n",
              "    </tr>\n",
              "    <tr>\n",
              "      <th>74597</th>\n",
              "      <td>I love this little guy. I actually own two of ...</td>\n",
              "      <td>1</td>\n",
              "    </tr>\n",
              "    <tr>\n",
              "      <th>29930</th>\n",
              "      <td>I bought this amp in need of something for my ...</td>\n",
              "      <td>1</td>\n",
              "    </tr>\n",
              "    <tr>\n",
              "      <th>90385</th>\n",
              "      <td>I love this ebook reader, I can change the fon...</td>\n",
              "      <td>1</td>\n",
              "    </tr>\n",
              "    <tr>\n",
              "      <th>...</th>\n",
              "      <td>...</td>\n",
              "      <td>...</td>\n",
              "    </tr>\n",
              "    <tr>\n",
              "      <th>65945</th>\n",
              "      <td>Best $20.00 I've ever spent.  Nice sound with ...</td>\n",
              "      <td>1</td>\n",
              "    </tr>\n",
              "    <tr>\n",
              "      <th>18593</th>\n",
              "      <td>The device works. The software fails to contro...</td>\n",
              "      <td>0</td>\n",
              "    </tr>\n",
              "    <tr>\n",
              "      <th>10565</th>\n",
              "      <td>Yeah bad idea to run these @ 1ohm on 3000 watt...</td>\n",
              "      <td>1</td>\n",
              "    </tr>\n",
              "    <tr>\n",
              "      <th>104162</th>\n",
              "      <td>This charger is great, it plugs directly into ...</td>\n",
              "      <td>1</td>\n",
              "    </tr>\n",
              "    <tr>\n",
              "      <th>15859</th>\n",
              "      <td>The P2030 is a replacement for an older Pionee...</td>\n",
              "      <td>1</td>\n",
              "    </tr>\n",
              "  </tbody>\n",
              "</table>\n",
              "<p>500 rows × 2 columns</p>\n",
              "</div>\n",
              "      <button class=\"colab-df-convert\" onclick=\"convertToInteractive('df-e555f858-090b-45c3-bc2f-88ed66e166c1')\"\n",
              "              title=\"Convert this dataframe to an interactive table.\"\n",
              "              style=\"display:none;\">\n",
              "        \n",
              "  <svg xmlns=\"http://www.w3.org/2000/svg\" height=\"24px\"viewBox=\"0 0 24 24\"\n",
              "       width=\"24px\">\n",
              "    <path d=\"M0 0h24v24H0V0z\" fill=\"none\"/>\n",
              "    <path d=\"M18.56 5.44l.94 2.06.94-2.06 2.06-.94-2.06-.94-.94-2.06-.94 2.06-2.06.94zm-11 1L8.5 8.5l.94-2.06 2.06-.94-2.06-.94L8.5 2.5l-.94 2.06-2.06.94zm10 10l.94 2.06.94-2.06 2.06-.94-2.06-.94-.94-2.06-.94 2.06-2.06.94z\"/><path d=\"M17.41 7.96l-1.37-1.37c-.4-.4-.92-.59-1.43-.59-.52 0-1.04.2-1.43.59L10.3 9.45l-7.72 7.72c-.78.78-.78 2.05 0 2.83L4 21.41c.39.39.9.59 1.41.59.51 0 1.02-.2 1.41-.59l7.78-7.78 2.81-2.81c.8-.78.8-2.07 0-2.86zM5.41 20L4 18.59l7.72-7.72 1.47 1.35L5.41 20z\"/>\n",
              "  </svg>\n",
              "      </button>\n",
              "      \n",
              "  <style>\n",
              "    .colab-df-container {\n",
              "      display:flex;\n",
              "      flex-wrap:wrap;\n",
              "      gap: 12px;\n",
              "    }\n",
              "\n",
              "    .colab-df-convert {\n",
              "      background-color: #E8F0FE;\n",
              "      border: none;\n",
              "      border-radius: 50%;\n",
              "      cursor: pointer;\n",
              "      display: none;\n",
              "      fill: #1967D2;\n",
              "      height: 32px;\n",
              "      padding: 0 0 0 0;\n",
              "      width: 32px;\n",
              "    }\n",
              "\n",
              "    .colab-df-convert:hover {\n",
              "      background-color: #E2EBFA;\n",
              "      box-shadow: 0px 1px 2px rgba(60, 64, 67, 0.3), 0px 1px 3px 1px rgba(60, 64, 67, 0.15);\n",
              "      fill: #174EA6;\n",
              "    }\n",
              "\n",
              "    [theme=dark] .colab-df-convert {\n",
              "      background-color: #3B4455;\n",
              "      fill: #D2E3FC;\n",
              "    }\n",
              "\n",
              "    [theme=dark] .colab-df-convert:hover {\n",
              "      background-color: #434B5C;\n",
              "      box-shadow: 0px 1px 3px 1px rgba(0, 0, 0, 0.15);\n",
              "      filter: drop-shadow(0px 1px 2px rgba(0, 0, 0, 0.3));\n",
              "      fill: #FFFFFF;\n",
              "    }\n",
              "  </style>\n",
              "\n",
              "      <script>\n",
              "        const buttonEl =\n",
              "          document.querySelector('#df-e555f858-090b-45c3-bc2f-88ed66e166c1 button.colab-df-convert');\n",
              "        buttonEl.style.display =\n",
              "          google.colab.kernel.accessAllowed ? 'block' : 'none';\n",
              "\n",
              "        async function convertToInteractive(key) {\n",
              "          const element = document.querySelector('#df-e555f858-090b-45c3-bc2f-88ed66e166c1');\n",
              "          const dataTable =\n",
              "            await google.colab.kernel.invokeFunction('convertToInteractive',\n",
              "                                                     [key], {});\n",
              "          if (!dataTable) return;\n",
              "\n",
              "          const docLinkHtml = 'Like what you see? Visit the ' +\n",
              "            '<a target=\"_blank\" href=https://colab.research.google.com/notebooks/data_table.ipynb>data table notebook</a>'\n",
              "            + ' to learn more about interactive tables.';\n",
              "          element.innerHTML = '';\n",
              "          dataTable['output_type'] = 'display_data';\n",
              "          await google.colab.output.renderOutput(dataTable, element);\n",
              "          const docLink = document.createElement('div');\n",
              "          docLink.innerHTML = docLinkHtml;\n",
              "          element.appendChild(docLink);\n",
              "        }\n",
              "      </script>\n",
              "    </div>\n",
              "  </div>\n",
              "  "
            ],
            "text/plain": [
              "                                                  reviews  labels\n",
              "90098   This mount survived a motorcycle crash that th...       1\n",
              "12172   Got these to use on desktop and laptop compute...       1\n",
              "74597   I love this little guy. I actually own two of ...       1\n",
              "29930   I bought this amp in need of something for my ...       1\n",
              "90385   I love this ebook reader, I can change the fon...       1\n",
              "...                                                   ...     ...\n",
              "65945   Best $20.00 I've ever spent.  Nice sound with ...       1\n",
              "18593   The device works. The software fails to contro...       0\n",
              "10565   Yeah bad idea to run these @ 1ohm on 3000 watt...       1\n",
              "104162  This charger is great, it plugs directly into ...       1\n",
              "15859   The P2030 is a replacement for an older Pionee...       1\n",
              "\n",
              "[500 rows x 2 columns]"
            ]
          },
          "metadata": {},
          "execution_count": 279
        }
      ]
    },
    {
      "cell_type": "markdown",
      "metadata": {
        "id": "ROwapfEHdbeD"
      },
      "source": [
        "#### b. (1 point) Use the fine-tuned model to make predictions on these examples and output predicted labels and associated probabilities.\n"
      ]
    },
    {
      "cell_type": "code",
      "metadata": {
        "id": "mSu3vZKaxDOe"
      },
      "source": [
        "################## YOUR CODE HERE ##################\n",
        "\n",
        "####################################################"
      ],
      "execution_count": null,
      "outputs": []
    },
    {
      "cell_type": "code",
      "source": [
        "def make_predictions_out_sample(data):\n",
        "  sample_testData_encodings = tokenizer(data['reviews'].to_list(), truncation=True, padding = \"max_length\")\n",
        "  sample_testDataset = my_Dataset(sample_testData_encodings, data['labels'].to_list())\n",
        "  predictions_sample=trainer.predict(sample_testDataset)\n",
        "  y_pred = list(predictions_sample.label_ids)\n",
        "  predictions_tensor = torch.from_numpy(predictions_sample.predictions)\n",
        "  #predictions_tensor = torch.from_numpy(predictions_sample.predictions)\n",
        "  predictions = torch.nn.functional.softmax(predictions_tensor, dim=-1)\n",
        "  predictions = predictions.cpu().detach().numpy()\n",
        "  resulting_probabilities = pd.DataFrame(predictions)\n",
        "  class1_probabilities = list(predictions[:,1])\n",
        "  class1_labels = [1 if item > 0.5 else 0 for item in class1_probabilities]\n",
        "  result_sample_test = pd.DataFrame(list(zip(class1_probabilities,class1_labels)), columns = ['Probabilities','Labels'])\n",
        "  return result_sample_test"
      ],
      "metadata": {
        "id": "Rl0GpYtN4KR6"
      },
      "execution_count": 280,
      "outputs": []
    },
    {
      "cell_type": "code",
      "source": [
        "out_sample_500 = out_sample_500.reset_index().iloc[:,1:]\n",
        "\n",
        "result_out_sample_test = make_predictions_out_sample(out_sample_500)"
      ],
      "metadata": {
        "colab": {
          "base_uri": "https://localhost:8080/",
          "height": 90
        },
        "id": "Y7UcFod54L98",
        "outputId": "e1a40f1e-9ba9-4d91-eff5-a65633dd18fb"
      },
      "execution_count": 437,
      "outputs": [
        {
          "output_type": "stream",
          "name": "stderr",
          "text": [
            "***** Running Prediction *****\n",
            "  Num examples = 500\n",
            "  Batch size = 4\n"
          ]
        },
        {
          "output_type": "display_data",
          "data": {
            "text/html": [
              "\n",
              "    <div>\n",
              "      \n",
              "      <progress value='21641' max='1250' style='width:300px; height:20px; vertical-align: middle;'></progress>\n",
              "      [1250/1250 2:46:34]\n",
              "    </div>\n",
              "    "
            ],
            "text/plain": [
              "<IPython.core.display.HTML object>"
            ]
          },
          "metadata": {}
        }
      ]
    },
    {
      "cell_type": "code",
      "source": [
        "out_sample_500\n",
        "result_out_sample_test"
      ],
      "metadata": {
        "colab": {
          "base_uri": "https://localhost:8080/",
          "height": 423
        },
        "id": "dtNwoSOV4N0L",
        "outputId": "7d524964-e7be-4fc4-b026-e93865966934"
      },
      "execution_count": 282,
      "outputs": [
        {
          "output_type": "execute_result",
          "data": {
            "text/html": [
              "\n",
              "  <div id=\"df-12b327be-075d-445a-978a-f8b34c6d72f2\">\n",
              "    <div class=\"colab-df-container\">\n",
              "      <div>\n",
              "<style scoped>\n",
              "    .dataframe tbody tr th:only-of-type {\n",
              "        vertical-align: middle;\n",
              "    }\n",
              "\n",
              "    .dataframe tbody tr th {\n",
              "        vertical-align: top;\n",
              "    }\n",
              "\n",
              "    .dataframe thead th {\n",
              "        text-align: right;\n",
              "    }\n",
              "</style>\n",
              "<table border=\"1\" class=\"dataframe\">\n",
              "  <thead>\n",
              "    <tr style=\"text-align: right;\">\n",
              "      <th></th>\n",
              "      <th>Probabilities</th>\n",
              "      <th>Labels</th>\n",
              "    </tr>\n",
              "  </thead>\n",
              "  <tbody>\n",
              "    <tr>\n",
              "      <th>0</th>\n",
              "      <td>0.973033</td>\n",
              "      <td>1</td>\n",
              "    </tr>\n",
              "    <tr>\n",
              "      <th>1</th>\n",
              "      <td>0.996824</td>\n",
              "      <td>1</td>\n",
              "    </tr>\n",
              "    <tr>\n",
              "      <th>2</th>\n",
              "      <td>0.999636</td>\n",
              "      <td>1</td>\n",
              "    </tr>\n",
              "    <tr>\n",
              "      <th>3</th>\n",
              "      <td>0.002618</td>\n",
              "      <td>0</td>\n",
              "    </tr>\n",
              "    <tr>\n",
              "      <th>4</th>\n",
              "      <td>0.999363</td>\n",
              "      <td>1</td>\n",
              "    </tr>\n",
              "    <tr>\n",
              "      <th>...</th>\n",
              "      <td>...</td>\n",
              "      <td>...</td>\n",
              "    </tr>\n",
              "    <tr>\n",
              "      <th>495</th>\n",
              "      <td>0.885903</td>\n",
              "      <td>1</td>\n",
              "    </tr>\n",
              "    <tr>\n",
              "      <th>496</th>\n",
              "      <td>0.000479</td>\n",
              "      <td>0</td>\n",
              "    </tr>\n",
              "    <tr>\n",
              "      <th>497</th>\n",
              "      <td>0.000470</td>\n",
              "      <td>0</td>\n",
              "    </tr>\n",
              "    <tr>\n",
              "      <th>498</th>\n",
              "      <td>0.997423</td>\n",
              "      <td>1</td>\n",
              "    </tr>\n",
              "    <tr>\n",
              "      <th>499</th>\n",
              "      <td>0.998128</td>\n",
              "      <td>1</td>\n",
              "    </tr>\n",
              "  </tbody>\n",
              "</table>\n",
              "<p>500 rows × 2 columns</p>\n",
              "</div>\n",
              "      <button class=\"colab-df-convert\" onclick=\"convertToInteractive('df-12b327be-075d-445a-978a-f8b34c6d72f2')\"\n",
              "              title=\"Convert this dataframe to an interactive table.\"\n",
              "              style=\"display:none;\">\n",
              "        \n",
              "  <svg xmlns=\"http://www.w3.org/2000/svg\" height=\"24px\"viewBox=\"0 0 24 24\"\n",
              "       width=\"24px\">\n",
              "    <path d=\"M0 0h24v24H0V0z\" fill=\"none\"/>\n",
              "    <path d=\"M18.56 5.44l.94 2.06.94-2.06 2.06-.94-2.06-.94-.94-2.06-.94 2.06-2.06.94zm-11 1L8.5 8.5l.94-2.06 2.06-.94-2.06-.94L8.5 2.5l-.94 2.06-2.06.94zm10 10l.94 2.06.94-2.06 2.06-.94-2.06-.94-.94-2.06-.94 2.06-2.06.94z\"/><path d=\"M17.41 7.96l-1.37-1.37c-.4-.4-.92-.59-1.43-.59-.52 0-1.04.2-1.43.59L10.3 9.45l-7.72 7.72c-.78.78-.78 2.05 0 2.83L4 21.41c.39.39.9.59 1.41.59.51 0 1.02-.2 1.41-.59l7.78-7.78 2.81-2.81c.8-.78.8-2.07 0-2.86zM5.41 20L4 18.59l7.72-7.72 1.47 1.35L5.41 20z\"/>\n",
              "  </svg>\n",
              "      </button>\n",
              "      \n",
              "  <style>\n",
              "    .colab-df-container {\n",
              "      display:flex;\n",
              "      flex-wrap:wrap;\n",
              "      gap: 12px;\n",
              "    }\n",
              "\n",
              "    .colab-df-convert {\n",
              "      background-color: #E8F0FE;\n",
              "      border: none;\n",
              "      border-radius: 50%;\n",
              "      cursor: pointer;\n",
              "      display: none;\n",
              "      fill: #1967D2;\n",
              "      height: 32px;\n",
              "      padding: 0 0 0 0;\n",
              "      width: 32px;\n",
              "    }\n",
              "\n",
              "    .colab-df-convert:hover {\n",
              "      background-color: #E2EBFA;\n",
              "      box-shadow: 0px 1px 2px rgba(60, 64, 67, 0.3), 0px 1px 3px 1px rgba(60, 64, 67, 0.15);\n",
              "      fill: #174EA6;\n",
              "    }\n",
              "\n",
              "    [theme=dark] .colab-df-convert {\n",
              "      background-color: #3B4455;\n",
              "      fill: #D2E3FC;\n",
              "    }\n",
              "\n",
              "    [theme=dark] .colab-df-convert:hover {\n",
              "      background-color: #434B5C;\n",
              "      box-shadow: 0px 1px 3px 1px rgba(0, 0, 0, 0.15);\n",
              "      filter: drop-shadow(0px 1px 2px rgba(0, 0, 0, 0.3));\n",
              "      fill: #FFFFFF;\n",
              "    }\n",
              "  </style>\n",
              "\n",
              "      <script>\n",
              "        const buttonEl =\n",
              "          document.querySelector('#df-12b327be-075d-445a-978a-f8b34c6d72f2 button.colab-df-convert');\n",
              "        buttonEl.style.display =\n",
              "          google.colab.kernel.accessAllowed ? 'block' : 'none';\n",
              "\n",
              "        async function convertToInteractive(key) {\n",
              "          const element = document.querySelector('#df-12b327be-075d-445a-978a-f8b34c6d72f2');\n",
              "          const dataTable =\n",
              "            await google.colab.kernel.invokeFunction('convertToInteractive',\n",
              "                                                     [key], {});\n",
              "          if (!dataTable) return;\n",
              "\n",
              "          const docLinkHtml = 'Like what you see? Visit the ' +\n",
              "            '<a target=\"_blank\" href=https://colab.research.google.com/notebooks/data_table.ipynb>data table notebook</a>'\n",
              "            + ' to learn more about interactive tables.';\n",
              "          element.innerHTML = '';\n",
              "          dataTable['output_type'] = 'display_data';\n",
              "          await google.colab.output.renderOutput(dataTable, element);\n",
              "          const docLink = document.createElement('div');\n",
              "          docLink.innerHTML = docLinkHtml;\n",
              "          element.appendChild(docLink);\n",
              "        }\n",
              "      </script>\n",
              "    </div>\n",
              "  </div>\n",
              "  "
            ],
            "text/plain": [
              "     Probabilities  Labels\n",
              "0         0.973033       1\n",
              "1         0.996824       1\n",
              "2         0.999636       1\n",
              "3         0.002618       0\n",
              "4         0.999363       1\n",
              "..             ...     ...\n",
              "495       0.885903       1\n",
              "496       0.000479       0\n",
              "497       0.000470       0\n",
              "498       0.997423       1\n",
              "499       0.998128       1\n",
              "\n",
              "[500 rows x 2 columns]"
            ]
          },
          "metadata": {},
          "execution_count": 282
        }
      ]
    },
    {
      "cell_type": "markdown",
      "metadata": {
        "id": "PFoXo2H5dcKH"
      },
      "source": [
        "#### c. (1 point) Evaluate the fine-tuned model’s performance on these 500 examples using the metric specified in 1.2 (c).\n"
      ]
    },
    {
      "cell_type": "code",
      "metadata": {
        "id": "bzGTemcVxET-"
      },
      "source": [
        "################## YOUR CODE HERE ##################\n",
        "\n",
        "####################################################"
      ],
      "execution_count": null,
      "outputs": []
    },
    {
      "cell_type": "code",
      "source": [
        "get_model_performance(list(out_sample_500['labels']), list(result_out_sample_test['Labels']))"
      ],
      "metadata": {
        "colab": {
          "base_uri": "https://localhost:8080/"
        },
        "id": "8xJYptBK4QpY",
        "outputId": "4ce7c60b-d409-4ad6-fa8e-fffd2a46581e"
      },
      "execution_count": 283,
      "outputs": [
        {
          "output_type": "stream",
          "name": "stdout",
          "text": [
            "Model's performance on  500  samples of Test Set :  \n",
            "Accuracy :  0.838\n",
            "Precision :  0.872\n",
            "Recall :  0.6264367816091954\n",
            "F1 :  0.7290969899665551\n"
          ]
        }
      ]
    },
    {
      "cell_type": "markdown",
      "metadata": {
        "id": "JmYgBCYVdfa3"
      },
      "source": [
        "#### d. (1 point) Compare the performance of the fine-tuned model on IMDB and this dataset.\n"
      ]
    },
    {
      "cell_type": "markdown",
      "metadata": {
        "id": "jvgAUhuGxIlO"
      },
      "source": [
        "**Answer:**\n",
        "\n",
        "Assumption : I am assuming that by IMDB dataset, the instructors are referring to the sample of the test set we created in 2.1 e.\n",
        "\n",
        "Model's performance on 1000 samples of Test Set :\n",
        "\n",
        "Accuracy :  0.927\n",
        "Precision :  0.9366053169734151\n",
        "Recall :  0.916\n",
        "F1 :  0.9261880687563195\n",
        "\n",
        "Model's performance on 500 samples of Test Set :\n",
        "\n",
        "Accuracy :  0.838\n",
        "Precision :  0.872\n",
        "Recall :  0.6264367816091954\n",
        "F1 :  0.7290969899665551"
      ]
    },
    {
      "cell_type": "markdown",
      "metadata": {
        "id": "iW21TCOodqRb"
      },
      "source": [
        "### 3.2 Error analysis of the fine-tuned model on out-of-distribution task [10 points]\n",
        "\n",
        "Next, do error analysis on the examples that the fine-tuned model failed to predict correctly. This is a common debugging step where buckets of errors are identified to inform how the model might be improved.\n"
      ]
    },
    {
      "cell_type": "markdown",
      "metadata": {
        "id": "9dO3_CEUd0F4"
      },
      "source": [
        "#### a. (1 point) Pull out the examples that your fine-tuned model made errors on.\n"
      ]
    },
    {
      "cell_type": "code",
      "metadata": {
        "id": "7Oe6-B0wxczb"
      },
      "source": [
        "################## YOUR CODE HERE ##################\n",
        "\n",
        "####################################################"
      ],
      "execution_count": null,
      "outputs": []
    },
    {
      "cell_type": "code",
      "source": [
        "all_predictions_gt = pd.concat([out_sample_500, result_out_sample_test], axis = 1)\n",
        "mismatches  = all_predictions_gt[all_predictions_gt['labels'] !=  all_predictions_gt['Labels']]\n",
        "matches = all_predictions_gt[all_predictions_gt['labels'] ==  all_predictions_gt['Labels']]"
      ],
      "metadata": {
        "id": "7D70kuP14Znn"
      },
      "execution_count": 284,
      "outputs": []
    },
    {
      "cell_type": "code",
      "source": [
        "# mismatches.to_csv('out-of-distribution_mismatches.csv')\n",
        "mismatches"
      ],
      "metadata": {
        "colab": {
          "base_uri": "https://localhost:8080/",
          "height": 423
        },
        "id": "jMHWdGcx4dQE",
        "outputId": "975e8009-5d59-407a-c1a7-38eba26b4f01"
      },
      "execution_count": 287,
      "outputs": [
        {
          "output_type": "execute_result",
          "data": {
            "text/html": [
              "\n",
              "  <div id=\"df-73edc207-b779-4d89-84c3-a59d80f11da5\">\n",
              "    <div class=\"colab-df-container\">\n",
              "      <div>\n",
              "<style scoped>\n",
              "    .dataframe tbody tr th:only-of-type {\n",
              "        vertical-align: middle;\n",
              "    }\n",
              "\n",
              "    .dataframe tbody tr th {\n",
              "        vertical-align: top;\n",
              "    }\n",
              "\n",
              "    .dataframe thead th {\n",
              "        text-align: right;\n",
              "    }\n",
              "</style>\n",
              "<table border=\"1\" class=\"dataframe\">\n",
              "  <thead>\n",
              "    <tr style=\"text-align: right;\">\n",
              "      <th></th>\n",
              "      <th>reviews</th>\n",
              "      <th>labels</th>\n",
              "      <th>Probabilities</th>\n",
              "      <th>Labels</th>\n",
              "    </tr>\n",
              "  </thead>\n",
              "  <tbody>\n",
              "    <tr>\n",
              "      <th>3</th>\n",
              "      <td>I bought this amp in need of something for my ...</td>\n",
              "      <td>1</td>\n",
              "      <td>0.002618</td>\n",
              "      <td>0</td>\n",
              "    </tr>\n",
              "    <tr>\n",
              "      <th>12</th>\n",
              "      <td>Well,&lt;br /&gt;I broke mine in under 48hrs, but it...</td>\n",
              "      <td>1</td>\n",
              "      <td>0.003705</td>\n",
              "      <td>0</td>\n",
              "    </tr>\n",
              "    <tr>\n",
              "      <th>15</th>\n",
              "      <td>I got this on sale and the price was right. Ho...</td>\n",
              "      <td>1</td>\n",
              "      <td>0.138816</td>\n",
              "      <td>0</td>\n",
              "    </tr>\n",
              "    <tr>\n",
              "      <th>16</th>\n",
              "      <td>This will protect your screen and help prevent...</td>\n",
              "      <td>1</td>\n",
              "      <td>0.002161</td>\n",
              "      <td>0</td>\n",
              "    </tr>\n",
              "    <tr>\n",
              "      <th>19</th>\n",
              "      <td>Portability, sound quality, battery life all w...</td>\n",
              "      <td>1</td>\n",
              "      <td>0.070896</td>\n",
              "      <td>0</td>\n",
              "    </tr>\n",
              "    <tr>\n",
              "      <th>...</th>\n",
              "      <td>...</td>\n",
              "      <td>...</td>\n",
              "      <td>...</td>\n",
              "      <td>...</td>\n",
              "    </tr>\n",
              "    <tr>\n",
              "      <th>469</th>\n",
              "      <td>For some reason I did not think fingerprints w...</td>\n",
              "      <td>0</td>\n",
              "      <td>0.993573</td>\n",
              "      <td>1</td>\n",
              "    </tr>\n",
              "    <tr>\n",
              "      <th>473</th>\n",
              "      <td>I bought this because it was cheap and didnt h...</td>\n",
              "      <td>0</td>\n",
              "      <td>0.943036</td>\n",
              "      <td>1</td>\n",
              "    </tr>\n",
              "    <tr>\n",
              "      <th>489</th>\n",
              "      <td>Bought the product for a 10&amp;#34; kicker cvr. O...</td>\n",
              "      <td>0</td>\n",
              "      <td>0.986420</td>\n",
              "      <td>1</td>\n",
              "    </tr>\n",
              "    <tr>\n",
              "      <th>490</th>\n",
              "      <td>My RDS traffic service quit working on my GPS....</td>\n",
              "      <td>1</td>\n",
              "      <td>0.009951</td>\n",
              "      <td>0</td>\n",
              "    </tr>\n",
              "    <tr>\n",
              "      <th>497</th>\n",
              "      <td>Yeah bad idea to run these @ 1ohm on 3000 watt...</td>\n",
              "      <td>1</td>\n",
              "      <td>0.000470</td>\n",
              "      <td>0</td>\n",
              "    </tr>\n",
              "  </tbody>\n",
              "</table>\n",
              "<p>81 rows × 4 columns</p>\n",
              "</div>\n",
              "      <button class=\"colab-df-convert\" onclick=\"convertToInteractive('df-73edc207-b779-4d89-84c3-a59d80f11da5')\"\n",
              "              title=\"Convert this dataframe to an interactive table.\"\n",
              "              style=\"display:none;\">\n",
              "        \n",
              "  <svg xmlns=\"http://www.w3.org/2000/svg\" height=\"24px\"viewBox=\"0 0 24 24\"\n",
              "       width=\"24px\">\n",
              "    <path d=\"M0 0h24v24H0V0z\" fill=\"none\"/>\n",
              "    <path d=\"M18.56 5.44l.94 2.06.94-2.06 2.06-.94-2.06-.94-.94-2.06-.94 2.06-2.06.94zm-11 1L8.5 8.5l.94-2.06 2.06-.94-2.06-.94L8.5 2.5l-.94 2.06-2.06.94zm10 10l.94 2.06.94-2.06 2.06-.94-2.06-.94-.94-2.06-.94 2.06-2.06.94z\"/><path d=\"M17.41 7.96l-1.37-1.37c-.4-.4-.92-.59-1.43-.59-.52 0-1.04.2-1.43.59L10.3 9.45l-7.72 7.72c-.78.78-.78 2.05 0 2.83L4 21.41c.39.39.9.59 1.41.59.51 0 1.02-.2 1.41-.59l7.78-7.78 2.81-2.81c.8-.78.8-2.07 0-2.86zM5.41 20L4 18.59l7.72-7.72 1.47 1.35L5.41 20z\"/>\n",
              "  </svg>\n",
              "      </button>\n",
              "      \n",
              "  <style>\n",
              "    .colab-df-container {\n",
              "      display:flex;\n",
              "      flex-wrap:wrap;\n",
              "      gap: 12px;\n",
              "    }\n",
              "\n",
              "    .colab-df-convert {\n",
              "      background-color: #E8F0FE;\n",
              "      border: none;\n",
              "      border-radius: 50%;\n",
              "      cursor: pointer;\n",
              "      display: none;\n",
              "      fill: #1967D2;\n",
              "      height: 32px;\n",
              "      padding: 0 0 0 0;\n",
              "      width: 32px;\n",
              "    }\n",
              "\n",
              "    .colab-df-convert:hover {\n",
              "      background-color: #E2EBFA;\n",
              "      box-shadow: 0px 1px 2px rgba(60, 64, 67, 0.3), 0px 1px 3px 1px rgba(60, 64, 67, 0.15);\n",
              "      fill: #174EA6;\n",
              "    }\n",
              "\n",
              "    [theme=dark] .colab-df-convert {\n",
              "      background-color: #3B4455;\n",
              "      fill: #D2E3FC;\n",
              "    }\n",
              "\n",
              "    [theme=dark] .colab-df-convert:hover {\n",
              "      background-color: #434B5C;\n",
              "      box-shadow: 0px 1px 3px 1px rgba(0, 0, 0, 0.15);\n",
              "      filter: drop-shadow(0px 1px 2px rgba(0, 0, 0, 0.3));\n",
              "      fill: #FFFFFF;\n",
              "    }\n",
              "  </style>\n",
              "\n",
              "      <script>\n",
              "        const buttonEl =\n",
              "          document.querySelector('#df-73edc207-b779-4d89-84c3-a59d80f11da5 button.colab-df-convert');\n",
              "        buttonEl.style.display =\n",
              "          google.colab.kernel.accessAllowed ? 'block' : 'none';\n",
              "\n",
              "        async function convertToInteractive(key) {\n",
              "          const element = document.querySelector('#df-73edc207-b779-4d89-84c3-a59d80f11da5');\n",
              "          const dataTable =\n",
              "            await google.colab.kernel.invokeFunction('convertToInteractive',\n",
              "                                                     [key], {});\n",
              "          if (!dataTable) return;\n",
              "\n",
              "          const docLinkHtml = 'Like what you see? Visit the ' +\n",
              "            '<a target=\"_blank\" href=https://colab.research.google.com/notebooks/data_table.ipynb>data table notebook</a>'\n",
              "            + ' to learn more about interactive tables.';\n",
              "          element.innerHTML = '';\n",
              "          dataTable['output_type'] = 'display_data';\n",
              "          await google.colab.output.renderOutput(dataTable, element);\n",
              "          const docLink = document.createElement('div');\n",
              "          docLink.innerHTML = docLinkHtml;\n",
              "          element.appendChild(docLink);\n",
              "        }\n",
              "      </script>\n",
              "    </div>\n",
              "  </div>\n",
              "  "
            ],
            "text/plain": [
              "                                               reviews  ...  Labels\n",
              "3    I bought this amp in need of something for my ...  ...       0\n",
              "12   Well,<br />I broke mine in under 48hrs, but it...  ...       0\n",
              "15   I got this on sale and the price was right. Ho...  ...       0\n",
              "16   This will protect your screen and help prevent...  ...       0\n",
              "19   Portability, sound quality, battery life all w...  ...       0\n",
              "..                                                 ...  ...     ...\n",
              "469  For some reason I did not think fingerprints w...  ...       1\n",
              "473  I bought this because it was cheap and didnt h...  ...       1\n",
              "489  Bought the product for a 10&#34; kicker cvr. O...  ...       1\n",
              "490  My RDS traffic service quit working on my GPS....  ...       0\n",
              "497  Yeah bad idea to run these @ 1ohm on 3000 watt...  ...       0\n",
              "\n",
              "[81 rows x 4 columns]"
            ]
          },
          "metadata": {},
          "execution_count": 287
        }
      ]
    },
    {
      "cell_type": "markdown",
      "metadata": {
        "id": "uouC3NjGd2vI"
      },
      "source": [
        "#### b. (3 points) Identify at least 1 pattern that you believe your model is missing. Include at least 3 examples from the data that support your hypothesis.\n"
      ]
    },
    {
      "cell_type": "markdown",
      "metadata": {
        "id": "ItAj4tXSxfpt"
      },
      "source": [
        "**Answer:**\n",
        "\n",
        "Answer:\n",
        "\n",
        "In my opinion,a noticeable pattern in the reivews were incorrectly classified is the unclear distinction between which side the user is taking when talking about the product in question. For reviews where the user talks both in favor and against the product are missclassified by the model.\n",
        "\n",
        "The below cells showcase reviews which had mismatches"
      ]
    },
    {
      "cell_type": "code",
      "source": [
        "mismatches.iloc[3,0]"
      ],
      "metadata": {
        "colab": {
          "base_uri": "https://localhost:8080/",
          "height": 106
        },
        "id": "Xlge4Uu_4kde",
        "outputId": "361d73f2-5498-4a1e-8805-fd87abcce6ba"
      },
      "execution_count": 291,
      "outputs": [
        {
          "output_type": "execute_result",
          "data": {
            "application/vnd.google.colaboratory.intrinsic+json": {
              "type": "string"
            },
            "text/plain": [
              "\"This will protect your screen and help prevent fingerprints from accumulating all over.  It is a matte screen protector.  That means it WILL degrade the sharpness of the screen somewhat.  If you don't want fingerprints, this is for you.  If you don't mind the fingerprints and want a protector that will preserve the clarity of the screen, get a clear protector.  You can't have it both ways.<br /><br />Also, the matte finish will make the S-pen feel sluggish while using it on the protector.  Some say that it helps them write better.  Others say you can change the S-pen tip to get a more smooth feel from it.  I haven't tried replacing the tip because the different feel of the pen doesn't bother me.\""
            ]
          },
          "metadata": {},
          "execution_count": 291
        }
      ]
    },
    {
      "cell_type": "code",
      "source": [
        "mismatches.iloc[1,0]"
      ],
      "metadata": {
        "colab": {
          "base_uri": "https://localhost:8080/",
          "height": 141
        },
        "id": "lv_90RNu4oWM",
        "outputId": "a25790a3-ab7c-42b5-9202-27e0e686fd4d"
      },
      "execution_count": 289,
      "outputs": [
        {
          "output_type": "execute_result",
          "data": {
            "application/vnd.google.colaboratory.intrinsic+json": {
              "type": "string"
            },
            "text/plain": [
              "\"Well,<br />I broke mine in under 48hrs, but it was my own doing.<br /><br />- Seller delivered as promised, so you can trust these folks.<br />- Speaker isn't very good, but using your favorite headphones will be fine.<br />- microSD card support is true.<br />- It's pretty much in english.<br /><br />Warning#1 - Don't buy this if you're overweight; your fingers won't be able use the touch-screen well because the icons are small. I have no problem with it, but I'm not overweight... anymore.<br />Warning#2 - Don't be surprised if this doesn't play your MP4s well, or at all. Example, Diggnation podcasts.<br />Warning#3 - Don't upgrade the firmware, I did... and bricked it. I almost recovered it, but it went super-brick on me(not even seen by the PC/Linux at all) so now it's really broke. And that was in less than 48hrs of owning it!<br /><br />Would I order from these guys again? Sure, as soon as I figure out what other Korean PMP thing I want.\""
            ]
          },
          "metadata": {},
          "execution_count": 289
        }
      ]
    },
    {
      "cell_type": "code",
      "source": [
        "mismatches.iloc[5,0]"
      ],
      "metadata": {
        "colab": {
          "base_uri": "https://localhost:8080/",
          "height": 53
        },
        "id": "vlNgbChN4p4V",
        "outputId": "60412b66-5ed1-4619-833d-8445b992634a"
      },
      "execution_count": 290,
      "outputs": [
        {
          "output_type": "execute_result",
          "data": {
            "application/vnd.google.colaboratory.intrinsic+json": {
              "type": "string"
            },
            "text/plain": [
              "\"I love the look of this case...It fits just fine...except for one part on the bottom..whenever I move the flap covering the charge port, it makes the black rubber on the bottom come up and out of the white plastic. it's annoying to have to constantly fix.\""
            ]
          },
          "metadata": {},
          "execution_count": 290
        }
      ]
    },
    {
      "cell_type": "markdown",
      "metadata": {
        "id": "Nl9eJgFQd4cW"
      },
      "source": [
        "#### c. (2 points) Explain why these examples might have been difficult for the fine-tuned model to correctly make predictions on.\n"
      ]
    },
    {
      "cell_type": "markdown",
      "metadata": {
        "id": "QJcUOKPZxgk2"
      },
      "source": [
        "**Answer:**\n",
        "\n",
        "\n",
        "MODIFY THIS\n",
        "\n",
        "I believe a reason for misclassification is that though reviewers are speaking in favor of the product they bought, yet the comparison they are making with other product, or discussion of shortcomings of the product in question is taken by the model in a negative light. For example:\n",
        "\n",
        "In the first example listed, the reviewer is in favor of the product and also makes the following comment : \"If you don't want fingerprints, this is for you. If you don't mind the fingerprints and want a protector that will preserve the clarity of the screen, get a clear protector.\"\n",
        "\n",
        "Next, in the second example, the reviewer is in favor of buying the product by saying the following \"Would I order from these guys again? Sure, as soon as I figure out what other Korean PMP thing I want\", but also says \"Don't buy this if you're overweight; your fingers won't be able use the touch-screen well because the icons are small.\" which is against the product in question.\n",
        "\n",
        "Lastly, in the third review, the reviewer is seemingly in favor of using the product but then also says the following \"If you are not comfortable wiring or taking apart your vehicle or you are just incompetent in general, do not try this\" which has a negative connotation to it and is thus misclassified.\n",
        "\n",
        "We could also explore the usage of punctuation marks in both matches and mismatches datasets, and look at the distribution of punctuations in the reviews present in these datasets"
      ]
    },
    {
      "cell_type": "code",
      "source": [
        "count = lambda l1,l2: sum([1 for x in l1 if x in l2])\n",
        "matches['punctuations'] = matches['reviews'].apply(lambda x : count(x,set(string.punctuation)))"
      ],
      "metadata": {
        "colab": {
          "base_uri": "https://localhost:8080/"
        },
        "id": "OXguEyDJ4zK-",
        "outputId": "defa9841-c66c-4e65-a114-bc29067f5db7"
      },
      "execution_count": 292,
      "outputs": [
        {
          "output_type": "stream",
          "name": "stderr",
          "text": [
            "/usr/local/lib/python3.7/dist-packages/ipykernel_launcher.py:2: SettingWithCopyWarning: \n",
            "A value is trying to be set on a copy of a slice from a DataFrame.\n",
            "Try using .loc[row_indexer,col_indexer] = value instead\n",
            "\n",
            "See the caveats in the documentation: https://pandas.pydata.org/pandas-docs/stable/user_guide/indexing.html#returning-a-view-versus-a-copy\n",
            "  \n"
          ]
        }
      ]
    },
    {
      "cell_type": "code",
      "source": [
        "matches['punctuations'].hist()"
      ],
      "metadata": {
        "colab": {
          "base_uri": "https://localhost:8080/",
          "height": 283
        },
        "id": "nBXNoqYR42OA",
        "outputId": "c39dc090-30e5-4cb3-9fc2-f8986b3580cd"
      },
      "execution_count": 293,
      "outputs": [
        {
          "output_type": "execute_result",
          "data": {
            "text/plain": [
              "<matplotlib.axes._subplots.AxesSubplot at 0x7f773c741fd0>"
            ]
          },
          "metadata": {},
          "execution_count": 293
        },
        {
          "output_type": "display_data",
          "data": {
            "image/png": "[encoded data removed]",
            "text/plain": [
              "<Figure size 432x288 with 1 Axes>"
            ]
          },
          "metadata": {
            "needs_background": "light"
          }
        }
      ]
    },
    {
      "cell_type": "code",
      "source": [
        "mismatches['punctuations'] = mismatches['reviews'].apply(lambda x : count(x,set(string.punctuation)))"
      ],
      "metadata": {
        "colab": {
          "base_uri": "https://localhost:8080/"
        },
        "id": "Oeh83kbD45Ij",
        "outputId": "dde9b878-8acc-4275-9e5c-94f7aa8b7a0e"
      },
      "execution_count": 294,
      "outputs": [
        {
          "output_type": "stream",
          "name": "stderr",
          "text": [
            "/usr/local/lib/python3.7/dist-packages/ipykernel_launcher.py:1: SettingWithCopyWarning: \n",
            "A value is trying to be set on a copy of a slice from a DataFrame.\n",
            "Try using .loc[row_indexer,col_indexer] = value instead\n",
            "\n",
            "See the caveats in the documentation: https://pandas.pydata.org/pandas-docs/stable/user_guide/indexing.html#returning-a-view-versus-a-copy\n",
            "  \"\"\"Entry point for launching an IPython kernel.\n"
          ]
        }
      ]
    },
    {
      "cell_type": "code",
      "source": [
        "mismatches['punctuations'].hist()"
      ],
      "metadata": {
        "colab": {
          "base_uri": "https://localhost:8080/",
          "height": 283
        },
        "id": "KTmzQWeL4603",
        "outputId": "6356c21b-e281-48af-c28c-2c2f2fb13c69"
      },
      "execution_count": 295,
      "outputs": [
        {
          "output_type": "execute_result",
          "data": {
            "text/plain": [
              "<matplotlib.axes._subplots.AxesSubplot at 0x7f75fd5c0590>"
            ]
          },
          "metadata": {},
          "execution_count": 295
        },
        {
          "output_type": "display_data",
          "data": {
            "image/png": "[encoded data removed]",
            "text/plain": [
              "<Figure size 432x288 with 1 Axes>"
            ]
          },
          "metadata": {
            "needs_background": "light"
          }
        }
      ]
    },
    {
      "cell_type": "markdown",
      "source": [
        "From the above histogram plots, we can observe that the reviews which were correctly classified (matches) actually had more punctuation marks, than the reviews having incorrect predicted labels. Therefore punctuation marks cannot be a reason for the low performance of the tuned-model on this out of sample dataset"
      ],
      "metadata": {
        "id": "_RyfzJj-49on"
      }
    },
    {
      "cell_type": "markdown",
      "metadata": {
        "id": "kBnlT6uLd6YW"
      },
      "source": [
        "#### d. (2 points) Manually write down 3 examples that conform to the pattern you observed, and run inference on them using the model. What did you find?\n"
      ]
    },
    {
      "cell_type": "code",
      "metadata": {
        "id": "sEVDg354xmOo"
      },
      "source": [
        "################## YOUR CODE HERE ##################\n",
        "# Inference on your own examples\n",
        "####################################################"
      ],
      "execution_count": null,
      "outputs": []
    },
    {
      "cell_type": "markdown",
      "metadata": {
        "id": "dRwEgbQNxhRI"
      },
      "source": [
        "**Answer:**\n",
        "\n",
        "[YOUR ANSWER HERE]"
      ]
    },
    {
      "cell_type": "code",
      "source": [
        "example1 = \"I loved the look! The knob to turn it on and off felt cheap hard to turn on and not pass FM always went to am and gently back to fm. Very cheap plastic but still super cute. I am sad it only lasted about 45 days and died if your handy you could probably take apart and solder some wires I did not attempt that just returned they kept about 5 bucks for my return. I’d love another just for the looks but don’t need if it’s gonna die quickly.\"\n",
        "label1 = 0\n",
        "example2 = \"This radio is cute and portable which is why we ordered it. We like to listen to baseball games/music out by the pool and our wireless doesn't extend that far. The first weekend this worked fine with no problems. On the second weekend, the on and off button started going wonky and only a loud noise came out, instead of music. The next weekend it seemed fine again, as long as we are gentle with the on and off button.\"\n",
        "label2 = 0\n",
        "example3 = \"Such an adorable retro radio. I took it on a trip and have moved it up and down stairs with me. However, it's nothing compared to the model we previously owened, thaat model was just phenomenal, this one is lovely but I am not sure I would recommend it other people.\"\n",
        "labels3 = 0"
      ],
      "metadata": {
        "id": "7rCNwijZ_tbp"
      },
      "execution_count": 332,
      "outputs": []
    },
    {
      "cell_type": "code",
      "source": [
        "examples = [example1, example2, example3]\n",
        "labels = [label1, label2, label3]\n",
        "sample_ooo = pd.DataFrame(list(zip(examples, labels)), columns = ['reviews','labels'])"
      ],
      "metadata": {
        "id": "J_mklnQ4_vZp"
      },
      "execution_count": 333,
      "outputs": []
    },
    {
      "cell_type": "code",
      "source": [
        "sample_ooo"
      ],
      "metadata": {
        "colab": {
          "base_uri": "https://localhost:8080/",
          "height": 143
        },
        "id": "lXg7PmS1_x60",
        "outputId": "2262abe9-a365-4402-bea3-2a70caaccf57"
      },
      "execution_count": 334,
      "outputs": [
        {
          "output_type": "execute_result",
          "data": {
            "text/html": [
              "\n",
              "  <div id=\"df-e9de7199-a904-4c68-a9c4-8f7fdc93edf7\">\n",
              "    <div class=\"colab-df-container\">\n",
              "      <div>\n",
              "<style scoped>\n",
              "    .dataframe tbody tr th:only-of-type {\n",
              "        vertical-align: middle;\n",
              "    }\n",
              "\n",
              "    .dataframe tbody tr th {\n",
              "        vertical-align: top;\n",
              "    }\n",
              "\n",
              "    .dataframe thead th {\n",
              "        text-align: right;\n",
              "    }\n",
              "</style>\n",
              "<table border=\"1\" class=\"dataframe\">\n",
              "  <thead>\n",
              "    <tr style=\"text-align: right;\">\n",
              "      <th></th>\n",
              "      <th>reviews</th>\n",
              "      <th>labels</th>\n",
              "    </tr>\n",
              "  </thead>\n",
              "  <tbody>\n",
              "    <tr>\n",
              "      <th>0</th>\n",
              "      <td>I loved the look! The knob to turn it on and o...</td>\n",
              "      <td>0</td>\n",
              "    </tr>\n",
              "    <tr>\n",
              "      <th>1</th>\n",
              "      <td>This radio is cute and portable which is why w...</td>\n",
              "      <td>0</td>\n",
              "    </tr>\n",
              "    <tr>\n",
              "      <th>2</th>\n",
              "      <td>Such an adorable retro radio. I took it on a t...</td>\n",
              "      <td>1</td>\n",
              "    </tr>\n",
              "  </tbody>\n",
              "</table>\n",
              "</div>\n",
              "      <button class=\"colab-df-convert\" onclick=\"convertToInteractive('df-e9de7199-a904-4c68-a9c4-8f7fdc93edf7')\"\n",
              "              title=\"Convert this dataframe to an interactive table.\"\n",
              "              style=\"display:none;\">\n",
              "        \n",
              "  <svg xmlns=\"http://www.w3.org/2000/svg\" height=\"24px\"viewBox=\"0 0 24 24\"\n",
              "       width=\"24px\">\n",
              "    <path d=\"M0 0h24v24H0V0z\" fill=\"none\"/>\n",
              "    <path d=\"M18.56 5.44l.94 2.06.94-2.06 2.06-.94-2.06-.94-.94-2.06-.94 2.06-2.06.94zm-11 1L8.5 8.5l.94-2.06 2.06-.94-2.06-.94L8.5 2.5l-.94 2.06-2.06.94zm10 10l.94 2.06.94-2.06 2.06-.94-2.06-.94-.94-2.06-.94 2.06-2.06.94z\"/><path d=\"M17.41 7.96l-1.37-1.37c-.4-.4-.92-.59-1.43-.59-.52 0-1.04.2-1.43.59L10.3 9.45l-7.72 7.72c-.78.78-.78 2.05 0 2.83L4 21.41c.39.39.9.59 1.41.59.51 0 1.02-.2 1.41-.59l7.78-7.78 2.81-2.81c.8-.78.8-2.07 0-2.86zM5.41 20L4 18.59l7.72-7.72 1.47 1.35L5.41 20z\"/>\n",
              "  </svg>\n",
              "      </button>\n",
              "      \n",
              "  <style>\n",
              "    .colab-df-container {\n",
              "      display:flex;\n",
              "      flex-wrap:wrap;\n",
              "      gap: 12px;\n",
              "    }\n",
              "\n",
              "    .colab-df-convert {\n",
              "      background-color: #E8F0FE;\n",
              "      border: none;\n",
              "      border-radius: 50%;\n",
              "      cursor: pointer;\n",
              "      display: none;\n",
              "      fill: #1967D2;\n",
              "      height: 32px;\n",
              "      padding: 0 0 0 0;\n",
              "      width: 32px;\n",
              "    }\n",
              "\n",
              "    .colab-df-convert:hover {\n",
              "      background-color: #E2EBFA;\n",
              "      box-shadow: 0px 1px 2px rgba(60, 64, 67, 0.3), 0px 1px 3px 1px rgba(60, 64, 67, 0.15);\n",
              "      fill: #174EA6;\n",
              "    }\n",
              "\n",
              "    [theme=dark] .colab-df-convert {\n",
              "      background-color: #3B4455;\n",
              "      fill: #D2E3FC;\n",
              "    }\n",
              "\n",
              "    [theme=dark] .colab-df-convert:hover {\n",
              "      background-color: #434B5C;\n",
              "      box-shadow: 0px 1px 3px 1px rgba(0, 0, 0, 0.15);\n",
              "      filter: drop-shadow(0px 1px 2px rgba(0, 0, 0, 0.3));\n",
              "      fill: #FFFFFF;\n",
              "    }\n",
              "  </style>\n",
              "\n",
              "      <script>\n",
              "        const buttonEl =\n",
              "          document.querySelector('#df-e9de7199-a904-4c68-a9c4-8f7fdc93edf7 button.colab-df-convert');\n",
              "        buttonEl.style.display =\n",
              "          google.colab.kernel.accessAllowed ? 'block' : 'none';\n",
              "\n",
              "        async function convertToInteractive(key) {\n",
              "          const element = document.querySelector('#df-e9de7199-a904-4c68-a9c4-8f7fdc93edf7');\n",
              "          const dataTable =\n",
              "            await google.colab.kernel.invokeFunction('convertToInteractive',\n",
              "                                                     [key], {});\n",
              "          if (!dataTable) return;\n",
              "\n",
              "          const docLinkHtml = 'Like what you see? Visit the ' +\n",
              "            '<a target=\"_blank\" href=https://colab.research.google.com/notebooks/data_table.ipynb>data table notebook</a>'\n",
              "            + ' to learn more about interactive tables.';\n",
              "          element.innerHTML = '';\n",
              "          dataTable['output_type'] = 'display_data';\n",
              "          await google.colab.output.renderOutput(dataTable, element);\n",
              "          const docLink = document.createElement('div');\n",
              "          docLink.innerHTML = docLinkHtml;\n",
              "          element.appendChild(docLink);\n",
              "        }\n",
              "      </script>\n",
              "    </div>\n",
              "  </div>\n",
              "  "
            ],
            "text/plain": [
              "                                             reviews  labels\n",
              "0  I loved the look! The knob to turn it on and o...       0\n",
              "1  This radio is cute and portable which is why w...       0\n",
              "2  Such an adorable retro radio. I took it on a t...       1"
            ]
          },
          "metadata": {},
          "execution_count": 334
        }
      ]
    },
    {
      "cell_type": "code",
      "source": [
        "result_out_sample_test_ooo = make_predictions_out_sample(sample_ooo)"
      ],
      "metadata": {
        "colab": {
          "base_uri": "https://localhost:8080/",
          "height": 90
        },
        "id": "KsI6i4aq_0o_",
        "outputId": "405a22b3-d05b-45ae-b405-affdd614ae60"
      },
      "execution_count": 435,
      "outputs": [
        {
          "output_type": "stream",
          "name": "stderr",
          "text": [
            "***** Running Prediction *****\n",
            "  Num examples = 3\n",
            "  Batch size = 4\n"
          ]
        },
        {
          "output_type": "display_data",
          "data": {
            "text/html": [
              "\n",
              "    <div>\n",
              "      \n",
              "      <progress value='21516' max='1250' style='width:300px; height:20px; vertical-align: middle;'></progress>\n",
              "      [1250/1250 2:45:56]\n",
              "    </div>\n",
              "    "
            ],
            "text/plain": [
              "<IPython.core.display.HTML object>"
            ]
          },
          "metadata": {}
        }
      ]
    },
    {
      "cell_type": "code",
      "source": [
        "result_out_sample_test_ooo"
      ],
      "metadata": {
        "colab": {
          "base_uri": "https://localhost:8080/",
          "height": 143
        },
        "id": "8OD2nsVZ_3Qz",
        "outputId": "368e3ad1-bb46-4c8b-df41-bf698fceecbc"
      },
      "execution_count": 436,
      "outputs": [
        {
          "output_type": "execute_result",
          "data": {
            "text/html": [
              "\n",
              "  <div id=\"df-13c7d43f-b52f-4399-8d11-512cd876e61c\">\n",
              "    <div class=\"colab-df-container\">\n",
              "      <div>\n",
              "<style scoped>\n",
              "    .dataframe tbody tr th:only-of-type {\n",
              "        vertical-align: middle;\n",
              "    }\n",
              "\n",
              "    .dataframe tbody tr th {\n",
              "        vertical-align: top;\n",
              "    }\n",
              "\n",
              "    .dataframe thead th {\n",
              "        text-align: right;\n",
              "    }\n",
              "</style>\n",
              "<table border=\"1\" class=\"dataframe\">\n",
              "  <thead>\n",
              "    <tr style=\"text-align: right;\">\n",
              "      <th></th>\n",
              "      <th>Probabilities</th>\n",
              "      <th>Labels</th>\n",
              "    </tr>\n",
              "  </thead>\n",
              "  <tbody>\n",
              "    <tr>\n",
              "      <th>0</th>\n",
              "      <td>0.993584</td>\n",
              "      <td>1</td>\n",
              "    </tr>\n",
              "    <tr>\n",
              "      <th>1</th>\n",
              "      <td>0.993971</td>\n",
              "      <td>1</td>\n",
              "    </tr>\n",
              "    <tr>\n",
              "      <th>2</th>\n",
              "      <td>0.994403</td>\n",
              "      <td>1</td>\n",
              "    </tr>\n",
              "  </tbody>\n",
              "</table>\n",
              "</div>\n",
              "      <button class=\"colab-df-convert\" onclick=\"convertToInteractive('df-13c7d43f-b52f-4399-8d11-512cd876e61c')\"\n",
              "              title=\"Convert this dataframe to an interactive table.\"\n",
              "              style=\"display:none;\">\n",
              "        \n",
              "  <svg xmlns=\"http://www.w3.org/2000/svg\" height=\"24px\"viewBox=\"0 0 24 24\"\n",
              "       width=\"24px\">\n",
              "    <path d=\"M0 0h24v24H0V0z\" fill=\"none\"/>\n",
              "    <path d=\"M18.56 5.44l.94 2.06.94-2.06 2.06-.94-2.06-.94-.94-2.06-.94 2.06-2.06.94zm-11 1L8.5 8.5l.94-2.06 2.06-.94-2.06-.94L8.5 2.5l-.94 2.06-2.06.94zm10 10l.94 2.06.94-2.06 2.06-.94-2.06-.94-.94-2.06-.94 2.06-2.06.94z\"/><path d=\"M17.41 7.96l-1.37-1.37c-.4-.4-.92-.59-1.43-.59-.52 0-1.04.2-1.43.59L10.3 9.45l-7.72 7.72c-.78.78-.78 2.05 0 2.83L4 21.41c.39.39.9.59 1.41.59.51 0 1.02-.2 1.41-.59l7.78-7.78 2.81-2.81c.8-.78.8-2.07 0-2.86zM5.41 20L4 18.59l7.72-7.72 1.47 1.35L5.41 20z\"/>\n",
              "  </svg>\n",
              "      </button>\n",
              "      \n",
              "  <style>\n",
              "    .colab-df-container {\n",
              "      display:flex;\n",
              "      flex-wrap:wrap;\n",
              "      gap: 12px;\n",
              "    }\n",
              "\n",
              "    .colab-df-convert {\n",
              "      background-color: #E8F0FE;\n",
              "      border: none;\n",
              "      border-radius: 50%;\n",
              "      cursor: pointer;\n",
              "      display: none;\n",
              "      fill: #1967D2;\n",
              "      height: 32px;\n",
              "      padding: 0 0 0 0;\n",
              "      width: 32px;\n",
              "    }\n",
              "\n",
              "    .colab-df-convert:hover {\n",
              "      background-color: #E2EBFA;\n",
              "      box-shadow: 0px 1px 2px rgba(60, 64, 67, 0.3), 0px 1px 3px 1px rgba(60, 64, 67, 0.15);\n",
              "      fill: #174EA6;\n",
              "    }\n",
              "\n",
              "    [theme=dark] .colab-df-convert {\n",
              "      background-color: #3B4455;\n",
              "      fill: #D2E3FC;\n",
              "    }\n",
              "\n",
              "    [theme=dark] .colab-df-convert:hover {\n",
              "      background-color: #434B5C;\n",
              "      box-shadow: 0px 1px 3px 1px rgba(0, 0, 0, 0.15);\n",
              "      filter: drop-shadow(0px 1px 2px rgba(0, 0, 0, 0.3));\n",
              "      fill: #FFFFFF;\n",
              "    }\n",
              "  </style>\n",
              "\n",
              "      <script>\n",
              "        const buttonEl =\n",
              "          document.querySelector('#df-13c7d43f-b52f-4399-8d11-512cd876e61c button.colab-df-convert');\n",
              "        buttonEl.style.display =\n",
              "          google.colab.kernel.accessAllowed ? 'block' : 'none';\n",
              "\n",
              "        async function convertToInteractive(key) {\n",
              "          const element = document.querySelector('#df-13c7d43f-b52f-4399-8d11-512cd876e61c');\n",
              "          const dataTable =\n",
              "            await google.colab.kernel.invokeFunction('convertToInteractive',\n",
              "                                                     [key], {});\n",
              "          if (!dataTable) return;\n",
              "\n",
              "          const docLinkHtml = 'Like what you see? Visit the ' +\n",
              "            '<a target=\"_blank\" href=https://colab.research.google.com/notebooks/data_table.ipynb>data table notebook</a>'\n",
              "            + ' to learn more about interactive tables.';\n",
              "          element.innerHTML = '';\n",
              "          dataTable['output_type'] = 'display_data';\n",
              "          await google.colab.output.renderOutput(dataTable, element);\n",
              "          const docLink = document.createElement('div');\n",
              "          docLink.innerHTML = docLinkHtml;\n",
              "          element.appendChild(docLink);\n",
              "        }\n",
              "      </script>\n",
              "    </div>\n",
              "  </div>\n",
              "  "
            ],
            "text/plain": [
              "   Probabilities  Labels\n",
              "0       0.993584       1\n",
              "1       0.993971       1\n",
              "2       0.994403       1"
            ]
          },
          "metadata": {},
          "execution_count": 436
        }
      ]
    },
    {
      "cell_type": "markdown",
      "metadata": {
        "id": "1_8Fh9steQAU"
      },
      "source": [
        "#### e. (2 points) Suggest what steps we might take to address this error bucket.\n"
      ]
    },
    {
      "cell_type": "markdown",
      "source": [
        "I belive all such reviews which meet the followig conditions must be addded to the dataset to finetune the performance of the model:\n",
        "\n",
        "1) More reviews with rating of 3 and above which suggest a comparison of the product in question with another product, discussing the shortcoming of the product and the overal recommendation provided by the user should be added to the dataset.\n",
        "\n",
        "2) Reviews with a rating of 2, which mostly talk about the merits of the product in question , but give an overall lower rating leading to a lable of 0 should instead be lablled as one that is a relabelling needs to be performed on such specific reviews. Though this data annotation step could be expensive, yet it would help the model pick additional signal from the features and would thus improve the performance of the model\n",
        "\n",
        "3) Lastly, another avenue which can be explored is to use a different model which aims at improving the semantic structure understanding of the modela and uses attention mechanishm along with transfer learning to improve the classification performance.\n",
        "\n",
        "References : https://link.springer.com/article/10.1007/s11227-021-04208-2"
      ],
      "metadata": {
        "id": "gW5q_geLCuAI"
      }
    },
    {
      "cell_type": "markdown",
      "metadata": {
        "id": "UwS8jntsxwZ5"
      },
      "source": [
        "**Answer:**\n",
        "\n",
        "[YOUR ANSWER HERE]"
      ]
    },
    {
      "cell_type": "markdown",
      "metadata": {
        "id": "8NQRHGXceRzU"
      },
      "source": [
        "### 3.3 Calibration [4 points]\n",
        "You will examine whether the fine-tuned model is calibrated. You might want to look into [sklearn.calibration.calibration_curve](https://scikit-learn.org/stable/modules/generated/sklearn.calibration.calibration_curve.html).\n"
      ]
    },
    {
      "cell_type": "markdown",
      "metadata": {
        "id": "7uhO5ncZetR3"
      },
      "source": [
        "#### a. (1 point) Compute the average calibration error of the fine-tuned model on IMDB.\n"
      ]
    },
    {
      "cell_type": "code",
      "metadata": {
        "id": "zr4_iyZvyFuj"
      },
      "source": [
        "################## YOUR CODE HERE ##################\n",
        "\n",
        "####################################################"
      ],
      "execution_count": null,
      "outputs": []
    },
    {
      "cell_type": "code",
      "source": [
        "# def compute_average_claibration_error(data_sample, data_result, DATASET_NAME):\n",
        "#   #data_sample = data_sample.reset_index().iloc[:,1:]\n",
        "#   #data_result = data_result.reset_index().iloc[:,1:]\n",
        "  \n"
      ],
      "metadata": {
        "id": "N38b58VkFXxU"
      },
      "execution_count": 430,
      "outputs": []
    },
    {
      "cell_type": "code",
      "metadata": {
        "id": "6sQ5SW10yHv5",
        "colab": {
          "base_uri": "https://localhost:8080/"
        },
        "outputId": "435f7969-f1db-4ed2-f261-1dca601aeef3"
      },
      "source": [
        "################## YOUR CODE HERE ##################\n",
        "\n",
        "####################################################\n",
        "\n",
        "\n",
        "\n",
        "DATASET_NAME = \"IMDB\"\n",
        "\n",
        "result_sample_test.head().columns = ['Probabilities','Labels']\n",
        "sample_testData.columns = ['reviews','ground_truth']\n",
        "calibration_measure = pd.concat([result_sample_test, sample_testData], axis = 1)\n",
        "calibration_measure = calibration_measure[['Probabilities','Labels','ground_truth']]\n",
        "\n",
        "calibration_measure['probabililty_range'] = pd.cut(calibration_measure.Probabilities, [0.0,0.25,0.5,0.75,1.0], include_lowest=True)\n",
        "\n",
        "bins_count = calibration_measure.groupby(['probabililty_range'])['Probabilities'].count().reset_index()\n",
        "bins_count.columns = ['bins','count']\n",
        "\n",
        "calibration_measure['correctly_labeled'] = [1  if item1 == item2 else 0 for item1,item2 in zip(calibration_measure['Labels'], calibration_measure['ground_truth'])]\n",
        "\n",
        "bins_correct = calibration_measure.groupby(['probabililty_range'])['correctly_labeled'].sum().reset_index()\n",
        "bins_correct.columns = ['bins','correct']\n",
        "\n",
        "bins_performance = pd.merge(bins_correct, bins_count, how = 'inner', left_on = ['bins'], right_on  = ['bins'])\n",
        "bins_performance['accuracy_bin'] = bins_performance['correct']/bins_performance['count']\n",
        "bins_performance['accuracy_bin'] = bins_performance['accuracy_bin'].fillna(0)\n",
        "bins_mean_probabilities = calibration_measure.groupby(['probabililty_range'])['Probabilities'].mean().reset_index()\n",
        "bins_mean_probabilities.columns =  ['bins','average_probability']\n",
        "bins_performance = pd.merge(bins_performance, bins_mean_probabilities, how = 'inner', left_on = ['bins'], right_on  = ['bins'])\n",
        "bins_performance['absolute_delta'] = np.abs(bins_performance['accuracy_bin'] - bins_performance['average_probability'])\n",
        "bins_performance['CE'] = bins_performance['count'] * bins_performance['absolute_delta']\n",
        "\n",
        "\n",
        "bins_performance['average_probability'] = bins_performance['average_probability'].fillna(0)\n",
        "bins_performance['absolute_delta'] = bins_performance['absolute_delta'].fillna(0)\n",
        "bins_performance['CE'] = bins_performance['CE'].fillna(0)\n",
        "\n",
        "print( \"Average Calibration Error on \" + DATASET_NAME + \" : \", sum(bins_performance['CE'])/sum(bins_performance['count']))\n",
        "#compute_average_claibration_error(sample_testData, result_sample_test, DATASET_NAME)\n"
      ],
      "execution_count": 441,
      "outputs": [
        {
          "output_type": "stream",
          "name": "stdout",
          "text": [
            "Average Calibration Error on IMDB :  0.49973499863967297\n"
          ]
        }
      ]
    },
    {
      "cell_type": "markdown",
      "metadata": {
        "id": "R3T7_YVhevT4"
      },
      "source": [
        "#### b. (1 point) Compute the average calibration error of the fine-tuned model on the out-of-distribution dataset\n"
      ]
    },
    {
      "cell_type": "code",
      "source": [
        "\n",
        "\n",
        "DATASET_NAME = \"out_of-distribution\"\n",
        "################## YOUR CODE HERE ##################\n",
        "\n",
        "####################################################\n",
        "\n",
        "\n",
        "result_out_sample_test.columns = ['Probabilities','Labels']\n",
        "out_sample_500.columns = ['reviews','ground_truth']\n",
        "calibration_measure = pd.concat([result_out_sample_test, out_sample_500], axis = 1)\n",
        "calibration_measure = calibration_measure[['Probabilities','Labels','ground_truth']]\n",
        "\n",
        "calibration_measure['probabililty_range'] = pd.cut(calibration_measure.Probabilities, [0.0,0.25,0.5,0.75,1.0], include_lowest=True)\n",
        "\n",
        "bins_count = calibration_measure.groupby(['probabililty_range'])['Probabilities'].count().reset_index()\n",
        "bins_count.columns = ['bins','count']\n",
        "\n",
        "calibration_measure['correctly_labeled'] = [1  if item1 == item2 else 0 for item1,item2 in zip(calibration_measure['Labels'], calibration_measure['ground_truth'])]\n",
        "\n",
        "bins_correct = calibration_measure.groupby(['probabililty_range'])['correctly_labeled'].sum().reset_index()\n",
        "bins_correct.columns = ['bins','correct']\n",
        "\n",
        "bins_performance = pd.merge(bins_correct, bins_count, how = 'inner', left_on = ['bins'], right_on  = ['bins'])\n",
        "bins_performance['accuracy_bin'] = bins_performance['correct']/bins_performance['count']\n",
        "bins_performance['accuracy_bin'] = bins_performance['accuracy_bin'].fillna(0)\n",
        "bins_mean_probabilities = calibration_measure.groupby(['probabililty_range'])['Probabilities'].mean().reset_index()\n",
        "bins_mean_probabilities.columns =  ['bins','average_probability']\n",
        "bins_performance = pd.merge(bins_performance, bins_mean_probabilities, how = 'inner', left_on = ['bins'], right_on  = ['bins'])\n",
        "bins_performance['absolute_delta'] = np.abs(bins_performance['accuracy_bin'] - bins_performance['average_probability'])\n",
        "bins_performance['CE'] = bins_performance['count'] * bins_performance['absolute_delta']\n",
        "\n",
        "\n",
        "bins_performance['average_probability'] = bins_performance['average_probability'].fillna(0)\n",
        "bins_performance['absolute_delta'] = bins_performance['absolute_delta'].fillna(0)\n",
        "bins_performance['CE'] = bins_performance['CE'].fillna(0)\n",
        "\n",
        "print( \"Average Calibration Error on \" + DATASET_NAME + \" : \", sum(bins_performance['CE'])/sum(bins_performance['count']))\n",
        "#compute_average_claibration_error(sample_testData, result_sample_test, DATASET_NAME)\n"
      ],
      "metadata": {
        "colab": {
          "base_uri": "https://localhost:8080/"
        },
        "id": "Hpp4Ba2YHvLr",
        "outputId": "9d7ddb74-8f92-47e3-cd83-c0088684fe69"
      },
      "execution_count": 442,
      "outputs": [
        {
          "output_type": "stream",
          "name": "stdout",
          "text": [
            "Average Calibration Error on out_of-distribution :  0.23898653195053338\n"
          ]
        }
      ]
    },
    {
      "cell_type": "markdown",
      "metadata": {
        "id": "g41sOEMfexi7"
      },
      "source": [
        "#### c. (2 points) Plot the calibration curves for the fine-tuned model on both datasets.\n"
      ]
    },
    {
      "cell_type": "code",
      "metadata": {
        "id": "C2D-dHNZyJYj"
      },
      "source": [
        "################## YOUR CODE HERE ##################\n",
        "\n",
        "####################################################"
      ],
      "execution_count": null,
      "outputs": []
    },
    {
      "cell_type": "code",
      "source": [
        "# while True:pass"
      ],
      "metadata": {
        "id": "1GaXE1rHS2zZ"
      },
      "execution_count": 445,
      "outputs": []
    },
    {
      "cell_type": "markdown",
      "metadata": {
        "id": "jjYcVsIyyMTV"
      },
      "source": [
        "**Answer:**\n",
        "\n",
        "[YOUR ANSWER HERE]"
      ]
    },
    {
      "cell_type": "markdown",
      "metadata": {
        "id": "iIEN2eFHfL5p"
      },
      "source": [
        "## Problem 4. Multilabel Tasks [20 points]\n",
        "\n",
        "Now we’ll be using our understanding of pretrained models and fine-tuned models to try to get good performance on a difficult dataset.\n",
        "\n",
        "Choose one of the following multilabel tasks:\n",
        "- Circa dataset: https://huggingface.co/datasets/circa \n",
        "- PUBHEALTH dataset: https://huggingface.co/datasets/health_fact\n",
        "- GoEmotions dataset: https://huggingface.co/datasets/go_emotions\n",
        "\n",
        "**Tip:** read the paper associated with each dataset.\n"
      ]
    },
    {
      "cell_type": "markdown",
      "source": [
        "### 4.1 Analyze a multi-label classification dataset [7 points]"
      ],
      "metadata": {
        "id": "urBCgkqNvdTV"
      }
    },
    {
      "cell_type": "markdown",
      "metadata": {
        "id": "Xcifhdl7fZhD"
      },
      "source": [
        "#### a. (2 points) Describe the train/test split distributions, the dataset’s columns, and their statistics.\n"
      ]
    },
    {
      "cell_type": "markdown",
      "metadata": {
        "id": "UXffBPHJySW5"
      },
      "source": [
        "**Answer:**\n",
        "\n",
        "[YOUR ANSWER HERE]"
      ]
    },
    {
      "cell_type": "markdown",
      "metadata": {
        "id": "vZ0fa9nYfa3q"
      },
      "source": [
        "#### b. (1 point) Plot its label distribution as a bar graph, with the labels on the x-axis and number of examples for each labels on the y-axis.\n"
      ]
    },
    {
      "cell_type": "code",
      "metadata": {
        "id": "jHSNImviyWaR"
      },
      "source": [
        "################## YOUR CODE HERE ##################\n",
        "# See https://matplotlib.org/3.3.3/api/_as_gen/matplotlib.pyplot.bar.html\n",
        "####################################################"
      ],
      "execution_count": null,
      "outputs": []
    },
    {
      "cell_type": "markdown",
      "metadata": {
        "id": "rfK77Q5PyS28"
      },
      "source": [
        "**Answer:**\n",
        "\n",
        "[YOUR ANSWER HERE]"
      ]
    },
    {
      "cell_type": "markdown",
      "metadata": {
        "id": "pQulicAaftcC"
      },
      "source": [
        "#### c. (2 points) What metric(s) would be appropriate for this dataset? Why?\n"
      ]
    },
    {
      "cell_type": "markdown",
      "metadata": {
        "id": "YMq7z3RxyUiy"
      },
      "source": [
        "**Answer:**\n",
        "\n",
        "[YOUR ANSWER HERE]"
      ]
    },
    {
      "cell_type": "markdown",
      "metadata": {
        "id": "XY4u1i8PfwHi"
      },
      "source": [
        "#### d. (2 points) Explain why you might think that this dataset is hard.\n"
      ]
    },
    {
      "cell_type": "markdown",
      "metadata": {
        "id": "nMIPdOAlyhQF"
      },
      "source": [
        "**Answer:**\n",
        "\n",
        "[YOUR ANSWER HERE]"
      ]
    },
    {
      "cell_type": "markdown",
      "source": [
        "### 4.2 Fine-tuning a model for your multi-label classification task [13 points]"
      ],
      "metadata": {
        "id": "bqgKisaChb4o"
      }
    },
    {
      "cell_type": "markdown",
      "source": [
        "#### a. (1 point) Select a pre-trained model and instantiate it with the appropriate number of classes for your task. You are free to choose any framework you'd like for this part (HuggingFace's models, PyTorch, TensorFlow, etc.) "
      ],
      "metadata": {
        "id": "Qs1MjwqIhki3"
      }
    },
    {
      "cell_type": "code",
      "source": [
        "################## YOUR CODE HERE ##################\n",
        "\n",
        "####################################################"
      ],
      "metadata": {
        "id": "jfHmHwKUhj5f"
      },
      "execution_count": null,
      "outputs": []
    },
    {
      "cell_type": "markdown",
      "source": [
        "#### b. (3 points) Pre-process the dataset for training and evaluation "
      ],
      "metadata": {
        "id": "FuwCKd6oiHB7"
      }
    },
    {
      "cell_type": "code",
      "source": [
        "################## YOUR CODE HERE ##################\n",
        "\n",
        "####################################################"
      ],
      "metadata": {
        "id": "ovq3Pf7LiFSw"
      },
      "execution_count": null,
      "outputs": []
    },
    {
      "cell_type": "markdown",
      "source": [
        "#### c. (3 points) Fine tune the model on the pre-processed dataset"
      ],
      "metadata": {
        "id": "9Q1xPhANiXyb"
      }
    },
    {
      "cell_type": "code",
      "source": [
        "################## YOUR CODE HERE ##################\n",
        "\n",
        "####################################################"
      ],
      "metadata": {
        "id": "fuLjku40lauW"
      },
      "execution_count": null,
      "outputs": []
    },
    {
      "cell_type": "markdown",
      "source": [
        "#### d. (3 points) Evaluate your model using the metrics you identified in 4.1 (c). "
      ],
      "metadata": {
        "id": "yKu9bzIRl6oV"
      }
    },
    {
      "cell_type": "code",
      "source": [
        "################## YOUR CODE HERE ##################\n",
        "\n",
        "####################################################"
      ],
      "metadata": {
        "id": "MBOc4GiamFa7"
      },
      "execution_count": null,
      "outputs": []
    },
    {
      "cell_type": "markdown",
      "source": [
        "#### e. (3 points) On what class of labels does your fine-tuned model perform particularly well? On what class of labels does your model not do well? Where might you find or how might you construct new examples of this class to supplement your model's training? \n",
        "\n",
        "For those who chose to analyze the GoEmotions dataset, a list of the emotions used in the dataset can be found [here](https://github.com/google-research/google-research/blob/master/goemotions/data/emotions.txt)"
      ],
      "metadata": {
        "id": "8lDDc40Am_Qj"
      }
    },
    {
      "cell_type": "markdown",
      "source": [
        "**Answer:**\n",
        "\n",
        "[YOUR ANSWER HERE]"
      ],
      "metadata": {
        "id": "Xg7iR40Ono6E"
      }
    }
  ]
}